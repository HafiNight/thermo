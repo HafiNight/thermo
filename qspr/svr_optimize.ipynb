{
 "cells": [
  {
   "cell_type": "code",
   "execution_count": 115,
   "id": "1b8b3e54",
   "metadata": {},
   "outputs": [],
   "source": [
    "#Import\n",
    "import pandas as pd\n",
    "import numpy as np\n",
    "\n",
    "#Data\n",
    "import pickle\n",
    "\n",
    "#Utilities\n",
    "from rdkit import Chem\n",
    "from rdkit.Chem import AllChem\n",
    "from rdkit.Chem import Descriptors\n",
    "\n",
    "# Visualization\n",
    "import matplotlib.pyplot as plt\n",
    "import seaborn as sns\n",
    "\n",
    "# Model\n",
    "from sklearn.svm import SVR\n",
    "from sklearn.preprocessing import StandardScaler\n",
    "from sklearn.model_selection import GroupShuffleSplit, GridSearchCV, train_test_split, cross_val_score, KFold, GroupKFold\n",
    "from sklearn.metrics import mean_squared_error, r2_score\n",
    "import optuna"
   ]
  },
  {
   "cell_type": "code",
   "execution_count": 116,
   "id": "94ba12ad",
   "metadata": {},
   "outputs": [],
   "source": [
    "smarts_list = [\n",
    "    '[H]',    # H atoms\n",
    "    '[C,c]',  # Carbon atoms - aliphatic or aromatic\n",
    "    '[O]' ,   # Oxygen atoms\n",
    "    '[C;R]',  # Ring carbon\n",
    "    '[c;R]',  # Aromatic carbon\n",
    "    '[O;R]',  # Oxygen in ring\n",
    "    '[*R]',  # Any atom in a ring\n",
    "    '[OX2]', # OH and ether\n",
    "    '[OX2H]', # OH\n",
    "    '[c][OX2H]', # Phenolic OH\n",
    "    '[OX2H0]', # Ether\n",
    "    '[CX3][OX1]', # Carbonyl\n",
    "    '[#6][CX3H0](=O)[#6]', #Ketone\n",
    "    '[CX3H1](=O)', # Aldehyde\n",
    "    '[CX3](=O)[OX2H]', # Carboxylic acid\n",
    "    '[CX3](=O)O[CX3](=O)', # Anhydride\n",
    "    '[CX3H0](=O)[OX2H0][#6]',  # Ester\n",
    "    '[CX4H0]' ,  # Carbon sp3 with no hydrogens\n",
    "    '[CX4H1]',  # Carbon sp3 with 1 hydrogen\n",
    "    '[CX4H2]',  # Carbon sp3 with 2 hydrogens\n",
    "    '[CX4H3]',  # Carbon sp3 with 3 hydrogens\n",
    "    '[CX3]=[CX3]', # Alkenes\n",
    "    '[#8].[#8]',  # Molecules containing two oxygen atoms\n",
    "    '[OX2H].[OX2H]', # At least 2 OH\n",
    "    '[OX2H].[OX2H].[OX2H]', # At least 3 OH\n",
    "    '[CX4][OX2H]', # Typical Alcohols\n",
    "    '[CX4H0][OX2H]', # Tertiary Alcohols\n",
    "    '[CX4H1][OX2H]', # Secondary Alcohols\n",
    "    '[CX4H2][OX2H]', # Primary Alcohols\n",
    "    '[CX3H2]=[CX3H1]',  # CH2=CH-\n",
    "    '[CX3H2]=[CX3H0]',  # CH2=C()-\n",
    "    '[CX3H1]=[CX3H1]',  # -CH=CH-\n",
    "    '[OX2H0].[OX2H0]', # At least 2 ethers\n",
    "    '[OX2H0].[OX2H0].[OX2H0]', # At least 3 ethers \n",
    "    '[c][OX2][c]', # Aromatic-Aromatic ether\n",
    "    '[c][OX2][C]' , # Aromatic-Aliphatic ether\n",
    "    '[#8][#6][#6][#8]', #1,2-diol or diether\n",
    "    '[#8][#6][#6][#6][#8]', #1,3-diol or diether\n",
    "    '[#6;R]-O-[#6;R]', #Cyclic ether\n",
    "]\n",
    "\n",
    "smarts_labels = [f'X{i+1}' for i in range(len(smarts_list))]"
   ]
  },
  {
   "cell_type": "code",
   "execution_count": 117,
   "id": "3a3c1550",
   "metadata": {},
   "outputs": [],
   "source": [
    "df = pd.read_excel(\"DIPPR.xlsx\", sheet_name=0)\n",
    "df.drop(columns=['Name', 'CAS', 'Family'], inplace=True)\n",
    "\n",
    "# Group by SMILE and T, take mean of K\n",
    "df_reduced = df.groupby(['SMILE', 'T'], as_index=False)['K'].mean()"
   ]
  },
  {
   "cell_type": "code",
   "execution_count": 118,
   "id": "9dfaec95",
   "metadata": {},
   "outputs": [],
   "source": [
    "#Polynpomial interpolation\n",
    "interpolated_dfs = []\n",
    "\n",
    "for smile, group in df_reduced.groupby('SMILE'):\n",
    "    group = group.sort_values('T')\n",
    "\n",
    "    # Reduce to at most 10 diverse points (evenly spread)\n",
    "    if len(group) > 10:\n",
    "        indices = np.linspace(0, len(group) - 1, 10, dtype=int)\n",
    "        group = group.iloc[indices].reset_index(drop=True)\n",
    "\n",
    "    # Interpolate over a denser T range if desired\n",
    "    T_new = np.linspace(group['T'].min(), group['T'].max(), num=10)\n",
    "\n",
    "    if len(group) >= 4: # Change if needed\n",
    "        # Safe to fit cubic\n",
    "        coeffs = np.polyfit(group['T'], group['K'], deg=2)\n",
    "        poly = np.poly1d(coeffs)\n",
    "        K_new = poly(T_new)\n",
    "    \n",
    "    else:\n",
    "        # Fall back to linear if not enough points\n",
    "        coeffs = np.polyfit(group['T'], group['K'], deg=1)\n",
    "        poly = np.poly1d(coeffs)\n",
    "        K_new = poly(T_new)\n",
    "\n",
    "\n",
    "    interpolated = pd.DataFrame({\n",
    "        'SMILE': smile,\n",
    "        'T': T_new,\n",
    "        'K': K_new\n",
    "    })\n",
    "    interpolated_dfs.append(interpolated)\n",
    "\n",
    "result = pd.concat(interpolated_dfs, ignore_index=True)"
   ]
  },
  {
   "cell_type": "code",
   "execution_count": 119,
   "id": "9bb7c23d",
   "metadata": {},
   "outputs": [],
   "source": [
    "# Convert SMILES to Mol objects\n",
    "result['mol'] = result['SMILE'].apply(Chem.MolFromSmiles)\n",
    "\n",
    "# Add explicit hydrogens to all molecules\n",
    "result['mol'] = result['mol'].apply(lambda mol: Chem.AddHs(mol) if mol else None)\n",
    "\n",
    "# Generate binary SMARTS descriptors\n",
    "for smarts, label in zip(smarts_list, smarts_labels):\n",
    "    pattern = Chem.MolFromSmarts(smarts)\n",
    "    result[label] = result['mol'].apply(lambda mol: len(mol.GetSubstructMatches(pattern)) if mol else 0)\n",
    "\n",
    "# Calculate molecular weight and add it to the DataFrame\n",
    "result['MolWeight'] = result['mol'].apply(lambda mol: Descriptors.MolWt(mol) if mol else None)"
   ]
  },
  {
   "cell_type": "code",
   "execution_count": 120,
   "id": "4cdf6d2b",
   "metadata": {},
   "outputs": [],
   "source": [
    "X = result.drop(columns=['SMILE', 'mol', 'K'])\n",
    "y = result['K']"
   ]
  },
  {
   "cell_type": "code",
   "execution_count": 121,
   "id": "aac39b2c",
   "metadata": {},
   "outputs": [],
   "source": [
    "# Use SMILE as the group identifier for splitting\n",
    "groups = result['SMILE']\n",
    "gss = GroupShuffleSplit(n_splits=1, test_size=0.2, random_state=42)\n",
    "train_idx, test_idx = next(gss.split(X, y, groups=groups))\n",
    "\n",
    "X_train, X_test = X.iloc[train_idx], X.iloc[test_idx]\n",
    "y_train, y_test = y.iloc[train_idx], y.iloc[test_idx]"
   ]
  },
  {
   "cell_type": "code",
   "execution_count": 122,
   "id": "05c4c4eb",
   "metadata": {},
   "outputs": [
    {
     "name": "stderr",
     "output_type": "stream",
     "text": [
      "[I 2025-07-01 16:03:22,772] A new study created in memory with name: no-name-1f84eba5-deb2-450b-882b-691eb8d94db4\n",
      "[I 2025-07-01 16:03:36,595] Trial 0 finished with value: 0.6825867474771795 and parameters: {'C': 122.64115701662915, 'epsilon': 0.004463489429846331, 'gamma': 0.0002101241095733099}. Best is trial 0 with value: 0.6825867474771795.\n",
      "[I 2025-07-01 16:03:39,830] Trial 1 finished with value: 0.6790214934328509 and parameters: {'C': 135.31595497100622, 'epsilon': 0.007688435938910573, 'gamma': 0.0005178675683097455}. Best is trial 0 with value: 0.6825867474771795.\n",
      "[I 2025-07-01 16:03:42,473] Trial 2 finished with value: 0.6828039223270191 and parameters: {'C': 215.5507116449624, 'epsilon': 0.007252518747555857, 'gamma': 0.0005194421147483017}. Best is trial 2 with value: 0.6828039223270191.\n",
      "[I 2025-07-01 16:03:42,679] Trial 3 finished with value: 0.6782551039046918 and parameters: {'C': 78.57418876096601, 'epsilon': 0.00804931618511133, 'gamma': 0.000479189157882991}. Best is trial 2 with value: 0.6828039223270191.\n",
      "[I 2025-07-01 16:03:42,895] Trial 4 finished with value: 0.6891955723861628 and parameters: {'C': 225.72412098205007, 'epsilon': 0.00701521462707959, 'gamma': 0.0004883817719237718}. Best is trial 4 with value: 0.6891955723861628.\n",
      "[I 2025-07-01 16:03:43,152] Trial 5 finished with value: 0.71381182911561 and parameters: {'C': 28.000040357877197, 'epsilon': 0.007537645216022054, 'gamma': 0.0002947366200787793}. Best is trial 5 with value: 0.71381182911561.\n",
      "[I 2025-07-01 16:03:43,573] Trial 6 finished with value: 0.7252151142821315 and parameters: {'C': 65.20022810849372, 'epsilon': 0.006133378244506568, 'gamma': 0.0002867668569919519}. Best is trial 6 with value: 0.7252151142821315.\n",
      "[I 2025-07-01 16:03:43,715] Trial 7 finished with value: 0.6584647343863678 and parameters: {'C': 41.403636565748904, 'epsilon': 0.009184072771256649, 'gamma': 0.0005632969007905856}. Best is trial 6 with value: 0.7252151142821315.\n",
      "[I 2025-07-01 16:03:43,983] Trial 8 finished with value: 0.7010809070005235 and parameters: {'C': 14.867618886918603, 'epsilon': 0.005903556956802355, 'gamma': 0.00042601105915167055}. Best is trial 6 with value: 0.7252151142821315.\n",
      "[I 2025-07-01 16:03:44,218] Trial 9 finished with value: 0.7069441994890491 and parameters: {'C': 293.4088060806781, 'epsilon': 0.007399940319067197, 'gamma': 0.00032672752223143476}. Best is trial 6 with value: 0.7252151142821315.\n",
      "[I 2025-07-01 16:03:44,512] Trial 10 finished with value: 0.6552558037490899 and parameters: {'C': 14.59323405294, 'epsilon': 0.005406430185017651, 'gamma': 0.0008871701994920099}. Best is trial 6 with value: 0.7252151142821315.\n",
      "[I 2025-07-01 16:03:44,989] Trial 11 finished with value: 0.7171961819571295 and parameters: {'C': 33.609313402345634, 'epsilon': 0.005165295002685973, 'gamma': 0.00026021758134639917}. Best is trial 6 with value: 0.7252151142821315.\n",
      "[I 2025-07-01 16:03:45,750] Trial 12 finished with value: 0.7112406098401122 and parameters: {'C': 33.158291283813746, 'epsilon': 0.0047046773082975194, 'gamma': 0.00020127076257329165}. Best is trial 6 with value: 0.7252151142821315.\n",
      "[I 2025-07-01 16:03:46,310] Trial 13 finished with value: 0.7194710112130615 and parameters: {'C': 64.45195403569134, 'epsilon': 0.005115382622389301, 'gamma': 0.0002759892493022468}. Best is trial 6 with value: 0.7252151142821315.\n",
      "[I 2025-07-01 16:03:46,682] Trial 14 finished with value: 0.7152210278576775 and parameters: {'C': 64.67403167430048, 'epsilon': 0.0062198434507053915, 'gamma': 0.00036447412431817294}. Best is trial 6 with value: 0.7252151142821315.\n",
      "[I 2025-07-01 16:03:47,721] Trial 15 finished with value: 0.7096755353407527 and parameters: {'C': 100.13359961919438, 'epsilon': 0.004004861782965886, 'gamma': 0.00027076434240984977}. Best is trial 6 with value: 0.7252151142821315.\n",
      "[I 2025-07-01 16:03:48,130] Trial 16 finished with value: 0.6739133139164146 and parameters: {'C': 58.884240946022956, 'epsilon': 0.005537334330235469, 'gamma': 0.0007103376368596986}. Best is trial 6 with value: 0.7252151142821315.\n",
      "[I 2025-07-01 16:03:48,407] Trial 17 finished with value: 0.7045629263655855 and parameters: {'C': 20.8919166569008, 'epsilon': 0.006459471859385094, 'gamma': 0.00037271911292608106}. Best is trial 6 with value: 0.7252151142821315.\n",
      "[I 2025-07-01 16:03:48,997] Trial 18 finished with value: 0.7085864138991906 and parameters: {'C': 44.49547159894272, 'epsilon': 0.004879763898686737, 'gamma': 0.0002405592029184256}. Best is trial 6 with value: 0.7252151142821315.\n",
      "[I 2025-07-01 16:03:49,384] Trial 19 finished with value: 0.7267069171772238 and parameters: {'C': 160.4830372284981, 'epsilon': 0.006463083569207417, 'gamma': 0.00031773442408903127}. Best is trial 19 with value: 0.7267069171772238.\n",
      "[I 2025-07-01 16:03:49,577] Trial 20 finished with value: 0.6983214946348937 and parameters: {'C': 163.49333260907216, 'epsilon': 0.009090797446494646, 'gamma': 0.00033492381666424474}. Best is trial 19 with value: 0.7267069171772238.\n",
      "[I 2025-07-01 16:03:50,040] Trial 21 finished with value: 0.7250920263349293 and parameters: {'C': 85.0768537645513, 'epsilon': 0.006587794613161496, 'gamma': 0.00023537444157269608}. Best is trial 19 with value: 0.7267069171772238.\n",
      "[I 2025-07-01 16:03:50,474] Trial 22 finished with value: 0.7262960178482676 and parameters: {'C': 83.6159490488399, 'epsilon': 0.006655780607907307, 'gamma': 0.00023041675241668042}. Best is trial 19 with value: 0.7267069171772238.\n",
      "[I 2025-07-01 16:03:50,816] Trial 23 finished with value: 0.7121614948178723 and parameters: {'C': 105.17802285627413, 'epsilon': 0.00603093305241939, 'gamma': 0.0004060849594460691}. Best is trial 19 with value: 0.7267069171772238.\n",
      "[I 2025-07-01 16:03:51,050] Trial 24 finished with value: 0.7079311021288028 and parameters: {'C': 159.53016404766797, 'epsilon': 0.008347048345514934, 'gamma': 0.0003064142687828521}. Best is trial 19 with value: 0.7267069171772238.\n",
      "[I 2025-07-01 16:03:51,517] Trial 25 finished with value: 0.7315946413962665 and parameters: {'C': 80.9824156052551, 'epsilon': 0.006818312679171593, 'gamma': 0.00023085190198397326}. Best is trial 25 with value: 0.7315946413962665.\n",
      "[I 2025-07-01 16:03:51,915] Trial 26 finished with value: 0.7356131345603728 and parameters: {'C': 187.71737720488906, 'epsilon': 0.006832212878379377, 'gamma': 0.0002288200663988097}. Best is trial 26 with value: 0.7356131345603728.\n",
      "[I 2025-07-01 16:03:52,369] Trial 27 finished with value: 0.7427288205675355 and parameters: {'C': 216.24870682135546, 'epsilon': 0.006929778874315691, 'gamma': 0.0002199943803107065}. Best is trial 27 with value: 0.7427288205675355.\n",
      "[I 2025-07-01 16:03:52,657] Trial 28 finished with value: 0.7252920844078508 and parameters: {'C': 246.48111567235784, 'epsilon': 0.008451860521886493, 'gamma': 0.00022472733730126621}. Best is trial 27 with value: 0.7427288205675355.\n",
      "[I 2025-07-01 16:03:53,173] Trial 29 finished with value: 0.7415862072038879 and parameters: {'C': 193.1903721801716, 'epsilon': 0.006921543691757355, 'gamma': 0.0002147543195398966}. Best is trial 27 with value: 0.7427288205675355.\n",
      "[I 2025-07-01 16:03:53,909] Trial 30 finished with value: 0.7194384204729489 and parameters: {'C': 284.3930459282138, 'epsilon': 0.005796087451993219, 'gamma': 0.00021320168637618415}. Best is trial 27 with value: 0.7427288205675355.\n",
      "[I 2025-07-01 16:03:54,448] Trial 31 finished with value: 0.7366539711974329 and parameters: {'C': 178.09310225279646, 'epsilon': 0.006852683598475366, 'gamma': 0.00020213156172007964}. Best is trial 27 with value: 0.7427288205675355.\n",
      "[I 2025-07-01 16:03:54,785] Trial 32 finished with value: 0.7272091235875099 and parameters: {'C': 190.25580429276383, 'epsilon': 0.007910902717973897, 'gamma': 0.00020057913454410122}. Best is trial 27 with value: 0.7427288205675355.\n",
      "[I 2025-07-01 16:03:55,071] Trial 33 finished with value: 0.7240870916488242 and parameters: {'C': 124.69281736863695, 'epsilon': 0.0070895172888898565, 'gamma': 0.00025243212872353327}. Best is trial 27 with value: 0.7427288205675355.\n",
      "[I 2025-07-01 16:03:55,285] Trial 34 finished with value: 0.7107727124612536 and parameters: {'C': 199.86347016506295, 'epsilon': 0.009772220884267905, 'gamma': 0.00021192445996900974}. Best is trial 27 with value: 0.7427288205675355.\n",
      "[I 2025-07-01 16:03:55,623] Trial 35 finished with value: 0.7229665725160588 and parameters: {'C': 134.37264748757977, 'epsilon': 0.007154890744448327, 'gamma': 0.00025507194145796454}. Best is trial 27 with value: 0.7427288205675355.\n",
      "[I 2025-07-01 16:03:55,996] Trial 36 finished with value: 0.7290800704089586 and parameters: {'C': 229.07548405440417, 'epsilon': 0.007661440571938074, 'gamma': 0.00021522918523592067}. Best is trial 27 with value: 0.7427288205675355.\n",
      "[I 2025-07-01 16:03:56,211] Trial 37 finished with value: 0.6775540676214358 and parameters: {'C': 175.1151252970634, 'epsilon': 0.0069571905279988645, 'gamma': 0.0005959330851783814}. Best is trial 27 with value: 0.7427288205675355.\n",
      "[I 2025-07-01 16:03:56,465] Trial 38 finished with value: 0.7237470114742524 and parameters: {'C': 108.06024302868974, 'epsilon': 0.008058944378393967, 'gamma': 0.0002422515653583404}. Best is trial 27 with value: 0.7427288205675355.\n",
      "[I 2025-07-01 16:03:56,700] Trial 39 finished with value: 0.7131890915296107 and parameters: {'C': 10.40204878010611, 'epsilon': 0.00730710984833396, 'gamma': 0.0002884460966270678}. Best is trial 27 with value: 0.7427288205675355.\n",
      "[I 2025-07-01 16:03:57,490] Trial 40 finished with value: 0.714607132531494 and parameters: {'C': 246.1447338992123, 'epsilon': 0.005645776325299578, 'gamma': 0.00021977023375961745}. Best is trial 27 with value: 0.7427288205675355.\n",
      "[I 2025-07-01 16:03:57,852] Trial 41 finished with value: 0.7318606128899016 and parameters: {'C': 149.62968099145402, 'epsilon': 0.007009510819377805, 'gamma': 0.00023119537801601106}. Best is trial 27 with value: 0.7427288205675355.\n",
      "[I 2025-07-01 16:03:58,323] Trial 42 finished with value: 0.7309563433590911 and parameters: {'C': 135.46337607764124, 'epsilon': 0.006803347149902118, 'gamma': 0.00020076549926730124}. Best is trial 27 with value: 0.7427288205675355.\n",
      "[I 2025-07-01 16:03:58,759] Trial 43 finished with value: 0.7330743565904532 and parameters: {'C': 204.43367381357245, 'epsilon': 0.006335212398470254, 'gamma': 0.00026367757707565937}. Best is trial 27 with value: 0.7427288205675355.\n",
      "[I 2025-07-01 16:03:59,314] Trial 44 finished with value: 0.7336677894019445 and parameters: {'C': 206.49759465226165, 'epsilon': 0.006119122667112374, 'gamma': 0.00026623173016008357}. Best is trial 27 with value: 0.7427288205675355.\n",
      "[I 2025-07-01 16:03:59,592] Trial 45 finished with value: 0.7231601842648397 and parameters: {'C': 294.07286293407657, 'epsilon': 0.007392499188002334, 'gamma': 0.0002482548092561033}. Best is trial 27 with value: 0.7427288205675355.\n",
      "[I 2025-07-01 16:04:00,129] Trial 46 finished with value: 0.7380377520567167 and parameters: {'C': 253.8603133671333, 'epsilon': 0.006135816554627984, 'gamma': 0.0002882579189766268}. Best is trial 27 with value: 0.7427288205675355.\n",
      "[I 2025-07-01 16:04:00,761] Trial 47 finished with value: 0.7343066849816757 and parameters: {'C': 254.73062619872803, 'epsilon': 0.005812476008462797, 'gamma': 0.0002945562768891577}. Best is trial 27 with value: 0.7427288205675355.\n",
      "[I 2025-07-01 16:04:00,933] Trial 48 finished with value: 0.6223894489752453 and parameters: {'C': 183.12570159285218, 'epsilon': 0.007634395319216205, 'gamma': 0.0009210788171314215}. Best is trial 27 with value: 0.7427288205675355.\n",
      "[I 2025-07-01 16:04:01,319] Trial 49 finished with value: 0.7170902331957972 and parameters: {'C': 223.29833109590513, 'epsilon': 0.006679092348465185, 'gamma': 0.0003536973005390862}. Best is trial 27 with value: 0.7427288205675355.\n",
      "[I 2025-07-01 16:04:01,897] Trial 50 finished with value: 0.7210677285983811 and parameters: {'C': 142.3170979762128, 'epsilon': 0.006166740789856112, 'gamma': 0.0002160925916511339}. Best is trial 27 with value: 0.7427288205675355.\n",
      "[I 2025-07-01 16:04:02,536] Trial 51 finished with value: 0.7357000421133996 and parameters: {'C': 270.741404794237, 'epsilon': 0.005841755853926552, 'gamma': 0.0002982163376842015}. Best is trial 27 with value: 0.7427288205675355.\n",
      "[I 2025-07-01 16:04:02,957] Trial 52 finished with value: 0.7347025099945987 and parameters: {'C': 270.96537745981055, 'epsilon': 0.006430955964756553, 'gamma': 0.00028052986384105984}. Best is trial 27 with value: 0.7427288205675355.\n",
      "[I 2025-07-01 16:04:03,778] Trial 53 finished with value: 0.7283305580428684 and parameters: {'C': 226.2254919939635, 'epsilon': 0.005185570260689481, 'gamma': 0.00024646922495473895}. Best is trial 27 with value: 0.7427288205675355.\n",
      "[I 2025-07-01 16:04:04,252] Trial 54 finished with value: 0.71621273248473 and parameters: {'C': 180.92608700208345, 'epsilon': 0.00558064281871225, 'gamma': 0.00040709428738855755}. Best is trial 27 with value: 0.7427288205675355.\n",
      "[I 2025-07-01 16:04:04,860] Trial 55 finished with value: 0.7067136125616771 and parameters: {'C': 296.1894052122666, 'epsilon': 0.005972539232287899, 'gamma': 0.000480057632176083}. Best is trial 27 with value: 0.7427288205675355.\n",
      "[I 2025-07-01 16:04:05,399] Trial 56 finished with value: 0.727397708156712 and parameters: {'C': 118.35325186949159, 'epsilon': 0.005405281197822781, 'gamma': 0.00032671726583222334}. Best is trial 27 with value: 0.7427288205675355.\n",
      "[I 2025-07-01 16:04:05,728] Trial 57 finished with value: 0.7259963382313922 and parameters: {'C': 253.34505071555625, 'epsilon': 0.006825584472440785, 'gamma': 0.00030618202739184086}. Best is trial 27 with value: 0.7427288205675355.\n",
      "[I 2025-07-01 16:04:06,214] Trial 58 finished with value: 0.735923708646735 and parameters: {'C': 221.62789141533008, 'epsilon': 0.006311123775404108, 'gamma': 0.00027303684948875234}. Best is trial 27 with value: 0.7427288205675355.\n",
      "[I 2025-07-01 16:04:06,700] Trial 59 finished with value: 0.7214347964734573 and parameters: {'C': 159.43812361143068, 'epsilon': 0.00625700936087461, 'gamma': 0.00034331904822772625}. Best is trial 27 with value: 0.7427288205675355.\n",
      "[I 2025-07-01 16:04:07,083] Trial 60 finished with value: 0.7119850341892601 and parameters: {'C': 214.98435829555135, 'epsilon': 0.006575750218271501, 'gamma': 0.00038657293637498163}. Best is trial 27 with value: 0.7427288205675355.\n",
      "[I 2025-07-01 16:04:07,484] Trial 61 finished with value: 0.7308336622075193 and parameters: {'C': 180.69720632590702, 'epsilon': 0.006363930963074765, 'gamma': 0.00027412391260611327}. Best is trial 27 with value: 0.7427288205675355.\n",
      "[I 2025-07-01 16:04:08,580] Trial 62 finished with value: 0.7216867314106656 and parameters: {'C': 242.66496628953152, 'epsilon': 0.0058433318649660105, 'gamma': 0.0002251515744629614}. Best is trial 27 with value: 0.7427288205675355.\n",
      "[I 2025-07-01 16:04:08,951] Trial 63 finished with value: 0.7279661883803035 and parameters: {'C': 270.5798665076279, 'epsilon': 0.007359109128533118, 'gamma': 0.00020685141993107388}. Best is trial 27 with value: 0.7427288205675355.\n",
      "[I 2025-07-01 16:04:09,344] Trial 64 finished with value: 0.7042380633673355 and parameters: {'C': 201.51218256076652, 'epsilon': 0.0066510872875408, 'gamma': 0.0004474586190633308}. Best is trial 27 with value: 0.7427288205675355.\n",
      "[I 2025-07-01 16:04:10,108] Trial 65 finished with value: 0.7175685754658263 and parameters: {'C': 24.01429577474702, 'epsilon': 0.005372694089654743, 'gamma': 0.00023886809534498285}. Best is trial 27 with value: 0.7427288205675355.\n",
      "[I 2025-07-01 16:04:10,293] Trial 66 finished with value: 0.6490094178774672 and parameters: {'C': 172.9645143794406, 'epsilon': 0.007025396934493788, 'gamma': 0.0007876619089264457}. Best is trial 27 with value: 0.7427288205675355.\n",
      "[I 2025-07-01 16:04:10,724] Trial 67 finished with value: 0.7299439549346827 and parameters: {'C': 155.21055792845405, 'epsilon': 0.006057355162512397, 'gamma': 0.000304120853101199}. Best is trial 27 with value: 0.7427288205675355.\n",
      "[I 2025-07-01 16:04:11,555] Trial 68 finished with value: 0.7298878106546425 and parameters: {'C': 225.94065948276784, 'epsilon': 0.005685816861805076, 'gamma': 0.00026207688211960233}. Best is trial 27 with value: 0.7427288205675355.\n",
      "[I 2025-07-01 16:04:11,827] Trial 69 finished with value: 0.7356349296228359 and parameters: {'C': 40.6050905801211, 'epsilon': 0.007933366588598915, 'gamma': 0.0002260371052042619}. Best is trial 27 with value: 0.7427288205675355.\n",
      "[I 2025-07-01 16:04:12,076] Trial 70 finished with value: 0.7308502464176762 and parameters: {'C': 34.44299463719704, 'epsilon': 0.008664216907732678, 'gamma': 0.00020785911019891503}. Best is trial 27 with value: 0.7427288205675355.\n",
      "[I 2025-07-01 16:04:12,583] Trial 71 finished with value: 0.7375419944670949 and parameters: {'C': 47.6614620878355, 'epsilon': 0.0072267557812765145, 'gamma': 0.00022298114121290563}. Best is trial 27 with value: 0.7427288205675355.\n",
      "[I 2025-07-01 16:04:13,058] Trial 72 finished with value: 0.7385932032240559 and parameters: {'C': 50.49903073735282, 'epsilon': 0.007221903058649122, 'gamma': 0.00021765494580362266}. Best is trial 27 with value: 0.7427288205675355.\n",
      "[I 2025-07-01 16:04:13,479] Trial 73 finished with value: 0.7324357556346992 and parameters: {'C': 52.786170459945595, 'epsilon': 0.007183427837226162, 'gamma': 0.0002373877750476388}. Best is trial 27 with value: 0.7427288205675355.\n",
      "[I 2025-07-01 16:04:14,006] Trial 74 finished with value: 0.7352669438025075 and parameters: {'C': 50.25634881174313, 'epsilon': 0.0074822071104089245, 'gamma': 0.00020869350065967854}. Best is trial 27 with value: 0.7427288205675355.\n",
      "[I 2025-07-01 16:04:14,839] Trial 75 finished with value: 0.704950878251464 and parameters: {'C': 59.2365307807734, 'epsilon': 0.00422804428670479, 'gamma': 0.00025536260362753514}. Best is trial 27 with value: 0.7427288205675355.\n",
      "[I 2025-07-01 16:04:15,311] Trial 76 finished with value: 0.7281389892701845 and parameters: {'C': 75.35895654202793, 'epsilon': 0.006487456472196157, 'gamma': 0.00021794089787552677}. Best is trial 27 with value: 0.7427288205675355.\n",
      "[I 2025-07-01 16:04:15,912] Trial 77 finished with value: 0.7328462929488269 and parameters: {'C': 46.42467431550031, 'epsilon': 0.006911329529901963, 'gamma': 0.0002488297994909996}. Best is trial 27 with value: 0.7427288205675355.\n",
      "[I 2025-07-01 16:04:16,231] Trial 78 finished with value: 0.7196035722724762 and parameters: {'C': 35.61533243568336, 'epsilon': 0.007182325964218155, 'gamma': 0.0002843929913801189}. Best is trial 27 with value: 0.7427288205675355.\n",
      "[I 2025-07-01 16:04:16,601] Trial 79 finished with value: 0.73578918966312 and parameters: {'C': 39.91938061629879, 'epsilon': 0.0075553935859817975, 'gamma': 0.00020035048510670046}. Best is trial 27 with value: 0.7427288205675355.\n",
      "[I 2025-07-01 16:04:17,124] Trial 80 finished with value: 0.7363396630837377 and parameters: {'C': 38.16087508649765, 'epsilon': 0.007772961585443168, 'gamma': 0.00020036600016066}. Best is trial 27 with value: 0.7427288205675355.\n",
      "[I 2025-07-01 16:04:17,413] Trial 81 finished with value: 0.736699236248813 and parameters: {'C': 29.652318224150417, 'epsilon': 0.008117050585475115, 'gamma': 0.00020675018204744145}. Best is trial 27 with value: 0.7427288205675355.\n",
      "[I 2025-07-01 16:04:17,744] Trial 82 finished with value: 0.7362522338929917 and parameters: {'C': 28.09835342931812, 'epsilon': 0.008197234646575189, 'gamma': 0.0002206120666349735}. Best is trial 27 with value: 0.7427288205675355.\n",
      "[I 2025-07-01 16:04:18,713] Trial 83 finished with value: 0.7339452114444784 and parameters: {'C': 29.68143068401291, 'epsilon': 0.008312890643637346, 'gamma': 0.00022057251083469634}. Best is trial 27 with value: 0.7427288205675355.\n",
      "[I 2025-07-01 16:04:18,958] Trial 84 finished with value: 0.7284435454736152 and parameters: {'C': 23.081257277150552, 'epsilon': 0.008920862690307486, 'gamma': 0.0002101657297109263}. Best is trial 27 with value: 0.7427288205675355.\n",
      "[I 2025-07-01 16:04:19,267] Trial 85 finished with value: 0.7337666990952542 and parameters: {'C': 27.608087603415385, 'epsilon': 0.007761365892548807, 'gamma': 0.00023257129954626688}. Best is trial 27 with value: 0.7427288205675355.\n",
      "[I 2025-07-01 16:04:19,700] Trial 86 finished with value: 0.6716028605682575 and parameters: {'C': 28.231464192129735, 'epsilon': 0.008145035697656315, 'gamma': 0.0005449709202164758}. Best is trial 27 with value: 0.7427288205675355.\n",
      "[I 2025-07-01 16:04:19,948] Trial 87 finished with value: 0.7334040643528985 and parameters: {'C': 19.8526986636605, 'epsilon': 0.00782176761425586, 'gamma': 0.00022099736541603558}. Best is trial 27 with value: 0.7427288205675355.\n",
      "[I 2025-07-01 16:04:20,196] Trial 88 finished with value: 0.7288651668555353 and parameters: {'C': 45.53034234358879, 'epsilon': 0.008788399390895986, 'gamma': 0.00020708648769556513}. Best is trial 27 with value: 0.7427288205675355.\n",
      "[I 2025-07-01 16:04:20,661] Trial 89 finished with value: 0.7290204219842185 and parameters: {'C': 69.53061985974163, 'epsilon': 0.00817631827313625, 'gamma': 0.00020091140615830668}. Best is trial 27 with value: 0.7427288205675355.\n",
      "[I 2025-07-01 16:04:20,918] Trial 90 finished with value: 0.71127431328185 and parameters: {'C': 58.40532624604173, 'epsilon': 0.009317375352821674, 'gamma': 0.00023551807719105643}. Best is trial 27 with value: 0.7427288205675355.\n",
      "[I 2025-07-01 16:04:21,215] Trial 91 finished with value: 0.7370520859560633 and parameters: {'C': 30.612888296134223, 'epsilon': 0.007458046407408876, 'gamma': 0.00021608045151137712}. Best is trial 27 with value: 0.7427288205675355.\n",
      "[I 2025-07-01 16:04:21,676] Trial 92 finished with value: 0.7332311183930299 and parameters: {'C': 37.23408931844671, 'epsilon': 0.00851389102159144, 'gamma': 0.00021473376589636704}. Best is trial 27 with value: 0.7427288205675355.\n",
      "[I 2025-07-01 16:04:22,018] Trial 93 finished with value: 0.7370223952625133 and parameters: {'C': 31.451350496354728, 'epsilon': 0.00729069685531704, 'gamma': 0.00022613854398537814}. Best is trial 27 with value: 0.7427288205675355.\n",
      "[I 2025-07-01 16:04:22,362] Trial 94 finished with value: 0.7310423485422586 and parameters: {'C': 30.673781224635785, 'epsilon': 0.007288926488776025, 'gamma': 0.00024311873524990527}. Best is trial 27 with value: 0.7427288205675355.\n",
      "[I 2025-07-01 16:04:22,914] Trial 95 finished with value: 0.7366395584916374 and parameters: {'C': 25.386411785178048, 'epsilon': 0.007405225170490209, 'gamma': 0.00022801194236548553}. Best is trial 27 with value: 0.7427288205675355.\n",
      "[I 2025-07-01 16:04:23,214] Trial 96 finished with value: 0.7332874706743193 and parameters: {'C': 19.330451889959605, 'epsilon': 0.007445705658624997, 'gamma': 0.00022682471603607801}. Best is trial 27 with value: 0.7427288205675355.\n",
      "[I 2025-07-01 16:04:23,495] Trial 97 finished with value: 0.7265223186341148 and parameters: {'C': 18.23873139296784, 'epsilon': 0.006793452583398891, 'gamma': 0.0002547676369252273}. Best is trial 27 with value: 0.7427288205675355.\n",
      "[I 2025-07-01 16:04:24,012] Trial 98 finished with value: 0.7381982244504602 and parameters: {'C': 25.19152533054813, 'epsilon': 0.007561121895883801, 'gamma': 0.00021307997867941827}. Best is trial 27 with value: 0.7427288205675355.\n",
      "[I 2025-07-01 16:04:24,303] Trial 99 finished with value: 0.7334591034118383 and parameters: {'C': 17.0276906511904, 'epsilon': 0.007106045788970108, 'gamma': 0.000209335909354485}. Best is trial 27 with value: 0.7427288205675355.\n",
      "[I 2025-07-01 16:04:24,492] Trial 100 finished with value: 0.6642930837583203 and parameters: {'C': 32.20780877179439, 'epsilon': 0.007988063542867326, 'gamma': 0.0006276736281795959}. Best is trial 27 with value: 0.7427288205675355.\n",
      "[I 2025-07-01 16:04:24,968] Trial 101 finished with value: 0.7351419375834819 and parameters: {'C': 25.39443594736231, 'epsilon': 0.0076273173228675025, 'gamma': 0.00022915292878728606}. Best is trial 27 with value: 0.7427288205675355.\n",
      "[I 2025-07-01 16:04:25,298] Trial 102 finished with value: 0.7376549034165517 and parameters: {'C': 21.99402115848509, 'epsilon': 0.007326035193029537, 'gamma': 0.00021435667839185107}. Best is trial 27 with value: 0.7427288205675355.\n",
      "[I 2025-07-01 16:04:25,731] Trial 103 finished with value: 0.7409669552047828 and parameters: {'C': 23.760267148233225, 'epsilon': 0.006942396608171182, 'gamma': 0.00021850069313839214}. Best is trial 27 with value: 0.7427288205675355.\n",
      "[I 2025-07-01 16:04:26,338] Trial 104 finished with value: 0.7399214310992321 and parameters: {'C': 21.750070986333668, 'epsilon': 0.007039227003121325, 'gamma': 0.00021698888045927606}. Best is trial 27 with value: 0.7427288205675355.\n",
      "[I 2025-07-01 16:04:26,626] Trial 105 finished with value: 0.7341208199343642 and parameters: {'C': 21.323097001299164, 'epsilon': 0.006975041520153489, 'gamma': 0.00024231166847248672}. Best is trial 27 with value: 0.7427288205675355.\n",
      "[I 2025-07-01 16:04:26,982] Trial 106 finished with value: 0.7300499698629205 and parameters: {'C': 15.726776594906568, 'epsilon': 0.006726471423795306, 'gamma': 0.000214493797473412}. Best is trial 27 with value: 0.7427288205675355.\n",
      "[I 2025-07-01 16:04:27,498] Trial 107 finished with value: 0.7257400245416792 and parameters: {'C': 13.563257635560674, 'epsilon': 0.007262813894392096, 'gamma': 0.00023523728536158973}. Best is trial 27 with value: 0.7427288205675355.\n",
      "[I 2025-07-01 16:04:27,860] Trial 108 finished with value: 0.7304379964545313 and parameters: {'C': 21.82717951709416, 'epsilon': 0.006548452432214084, 'gamma': 0.00021986506649767146}. Best is trial 27 with value: 0.7427288205675355.\n",
      "[I 2025-07-01 16:04:28,129] Trial 109 finished with value: 0.725446234904466 and parameters: {'C': 26.43120688415516, 'epsilon': 0.007135296315584789, 'gamma': 0.0002668175065787496}. Best is trial 27 with value: 0.7427288205675355.\n",
      "[I 2025-07-01 16:04:28,601] Trial 110 finished with value: 0.728613515299113 and parameters: {'C': 23.20852045776901, 'epsilon': 0.007552358708375666, 'gamma': 0.00024670785311205516}. Best is trial 27 with value: 0.7427288205675355.\n",
      "[I 2025-07-01 16:04:28,963] Trial 111 finished with value: 0.742458047025689 and parameters: {'C': 31.362796015189794, 'epsilon': 0.006968778083808514, 'gamma': 0.00021473528378491305}. Best is trial 27 with value: 0.7427288205675355.\n",
      "[I 2025-07-01 16:04:29,344] Trial 112 finished with value: 0.742825922796557 and parameters: {'C': 31.753969874535358, 'epsilon': 0.007009481968802414, 'gamma': 0.00021562012217918306}. Best is trial 112 with value: 0.742825922796557.\n",
      "[I 2025-07-01 16:04:29,921] Trial 113 finished with value: 0.7398739104037121 and parameters: {'C': 49.52629507160275, 'epsilon': 0.006966149463590223, 'gamma': 0.00021349599959696774}. Best is trial 112 with value: 0.742825922796557.\n",
      "[I 2025-07-01 16:04:30,372] Trial 114 finished with value: 0.7411413001669664 and parameters: {'C': 51.46009220497312, 'epsilon': 0.006959474230089826, 'gamma': 0.00021170379052337955}. Best is trial 112 with value: 0.742825922796557.\n",
      "[I 2025-07-01 16:04:30,786] Trial 115 finished with value: 0.7402074377042205 and parameters: {'C': 42.2146149762682, 'epsilon': 0.006933190180869518, 'gamma': 0.00021242647856350484}. Best is trial 112 with value: 0.742825922796557.\n",
      "[I 2025-07-01 16:04:31,316] Trial 116 finished with value: 0.7351273342115292 and parameters: {'C': 43.83251520587062, 'epsilon': 0.007039830326070547, 'gamma': 0.00023499224788359958}. Best is trial 112 with value: 0.742825922796557.\n",
      "[I 2025-07-01 16:04:31,792] Trial 117 finished with value: 0.7408970436191553 and parameters: {'C': 53.05691648712571, 'epsilon': 0.006912691723836578, 'gamma': 0.00020897445622547643}. Best is trial 112 with value: 0.742825922796557.\n",
      "[I 2025-07-01 16:04:32,205] Trial 118 finished with value: 0.7397470168024365 and parameters: {'C': 55.02356746725819, 'epsilon': 0.006902169760222087, 'gamma': 0.00020434757030148758}. Best is trial 112 with value: 0.742825922796557.\n",
      "[I 2025-07-01 16:04:32,795] Trial 119 finished with value: 0.7402431170728859 and parameters: {'C': 52.4213085003052, 'epsilon': 0.006892866809855011, 'gamma': 0.0002049669550516574}. Best is trial 112 with value: 0.742825922796557.\n",
      "[I 2025-07-01 16:04:33,279] Trial 120 finished with value: 0.7343512412262654 and parameters: {'C': 61.14890330109361, 'epsilon': 0.006703735513530208, 'gamma': 0.00020733396141630594}. Best is trial 112 with value: 0.742825922796557.\n",
      "[I 2025-07-01 16:04:33,746] Trial 121 finished with value: 0.7395678493593831 and parameters: {'C': 52.89633283012078, 'epsilon': 0.006864491720941491, 'gamma': 0.0002052929421103505}. Best is trial 112 with value: 0.742825922796557.\n",
      "[I 2025-07-01 16:04:34,368] Trial 122 finished with value: 0.7398976693468009 and parameters: {'C': 53.460549778976656, 'epsilon': 0.0069039110240788374, 'gamma': 0.0002047402979155003}. Best is trial 112 with value: 0.742825922796557.\n",
      "[I 2025-07-01 16:04:34,867] Trial 123 finished with value: 0.7387759452391913 and parameters: {'C': 55.14301714822815, 'epsilon': 0.006935081527574869, 'gamma': 0.0002005912934707855}. Best is trial 112 with value: 0.742825922796557.\n",
      "[I 2025-07-01 16:04:35,322] Trial 124 finished with value: 0.7274605622490476 and parameters: {'C': 89.95958919346583, 'epsilon': 0.006604880021536223, 'gamma': 0.00021100522807456886}. Best is trial 112 with value: 0.742825922796557.\n",
      "[I 2025-07-01 16:04:35,906] Trial 125 finished with value: 0.7329993839885078 and parameters: {'C': 67.46016663399251, 'epsilon': 0.006723764073300943, 'gamma': 0.00022474161430690708}. Best is trial 112 with value: 0.742825922796557.\n",
      "[I 2025-07-01 16:04:36,423] Trial 126 finished with value: 0.7299069588668914 and parameters: {'C': 41.62182265133116, 'epsilon': 0.00643097666207699, 'gamma': 0.0002041731487875609}. Best is trial 112 with value: 0.742825922796557.\n",
      "[I 2025-07-01 16:04:36,858] Trial 127 finished with value: 0.7410715226855723 and parameters: {'C': 56.554707941297465, 'epsilon': 0.0070394968974738315, 'gamma': 0.00021126472558156035}. Best is trial 112 with value: 0.742825922796557.\n",
      "[I 2025-07-01 16:04:37,436] Trial 128 finished with value: 0.7373775882754907 and parameters: {'C': 48.51458028585841, 'epsilon': 0.0069631779704251665, 'gamma': 0.00023195193852858646}. Best is trial 112 with value: 0.742825922796557.\n",
      "[I 2025-07-01 16:04:37,865] Trial 129 finished with value: 0.7414938200541343 and parameters: {'C': 43.23008355919633, 'epsilon': 0.007058553599398565, 'gamma': 0.00021929183149019154}. Best is trial 112 with value: 0.742825922796557.\n",
      "[I 2025-07-01 16:04:38,044] Trial 130 finished with value: 0.622011997433084 and parameters: {'C': 43.0763636353835, 'epsilon': 0.007064051347712286, 'gamma': 0.0009829793007252307}. Best is trial 112 with value: 0.742825922796557.\n",
      "[I 2025-07-01 16:04:38,649] Trial 131 finished with value: 0.7353138888446112 and parameters: {'C': 38.45302241671012, 'epsilon': 0.0067607718374883986, 'gamma': 0.00021812970326044566}. Best is trial 112 with value: 0.742825922796557.\n",
      "[I 2025-07-01 16:04:39,104] Trial 132 finished with value: 0.7328917346484604 and parameters: {'C': 63.18255687453788, 'epsilon': 0.006599572464304721, 'gamma': 0.0002121438880493301}. Best is trial 112 with value: 0.742825922796557.\n",
      "[I 2025-07-01 16:04:39,483] Trial 133 finished with value: 0.7416385026220345 and parameters: {'C': 35.55596016589491, 'epsilon': 0.007098277240941473, 'gamma': 0.00022116469539747464}. Best is trial 112 with value: 0.742825922796557.\n",
      "[I 2025-07-01 16:04:40,036] Trial 134 finished with value: 0.741513524473336 and parameters: {'C': 33.73084168650056, 'epsilon': 0.00712705469191034, 'gamma': 0.00022417500290584463}. Best is trial 112 with value: 0.742825922796557.\n",
      "[I 2025-07-01 16:04:40,355] Trial 135 finished with value: 0.7402158258929303 and parameters: {'C': 32.79886482526865, 'epsilon': 0.007166948786762801, 'gamma': 0.00022236232833019773}. Best is trial 112 with value: 0.742825922796557.\n",
      "[I 2025-07-01 16:04:40,707] Trial 136 finished with value: 0.7387297367385578 and parameters: {'C': 33.4855711905517, 'epsilon': 0.007129956084572821, 'gamma': 0.0002260053539764193}. Best is trial 112 with value: 0.742825922796557.\n",
      "[I 2025-07-01 16:04:41,340] Trial 137 finished with value: 0.731214711379421 and parameters: {'C': 36.278686055345005, 'epsilon': 0.006804051523125818, 'gamma': 0.0002397465806946761}. Best is trial 112 with value: 0.742825922796557.\n",
      "[I 2025-07-01 16:04:41,659] Trial 138 finished with value: 0.7385390460797386 and parameters: {'C': 34.22698062102293, 'epsilon': 0.007169014008747112, 'gamma': 0.00022274568511062423}. Best is trial 112 with value: 0.742825922796557.\n",
      "[I 2025-07-01 16:04:42,043] Trial 139 finished with value: 0.7308346762132901 and parameters: {'C': 38.89837165114771, 'epsilon': 0.006660305477393128, 'gamma': 0.0002323259171953148}. Best is trial 112 with value: 0.742825922796557.\n",
      "[I 2025-07-01 16:04:42,561] Trial 140 finished with value: 0.7288645265969693 and parameters: {'C': 42.145836362673684, 'epsilon': 0.007369302058965349, 'gamma': 0.0002489461392404754}. Best is trial 112 with value: 0.742825922796557.\n",
      "[I 2025-07-01 16:04:42,927] Trial 141 finished with value: 0.7419129463233324 and parameters: {'C': 35.88736949068655, 'epsilon': 0.0071061381152795694, 'gamma': 0.00022008601872615532}. Best is trial 112 with value: 0.742825922796557.\n",
      "[I 2025-07-01 16:04:43,323] Trial 142 finished with value: 0.740970652517993 and parameters: {'C': 36.22099178973647, 'epsilon': 0.007099590454346682, 'gamma': 0.00022247594752889869}. Best is trial 112 with value: 0.742825922796557.\n",
      "[I 2025-07-01 16:04:43,862] Trial 143 finished with value: 0.7375805901364991 and parameters: {'C': 35.80579234061976, 'epsilon': 0.007214303823426391, 'gamma': 0.00022418102585891112}. Best is trial 112 with value: 0.742825922796557.\n",
      "[I 2025-07-01 16:04:44,212] Trial 144 finished with value: 0.7334943561573766 and parameters: {'C': 31.53414044354098, 'epsilon': 0.0070862476856673375, 'gamma': 0.00023999761134665826}. Best is trial 112 with value: 0.742825922796557.\n",
      "[I 2025-07-01 16:04:44,525] Trial 145 finished with value: 0.7353087528049154 and parameters: {'C': 28.384979490605453, 'epsilon': 0.006821354336539284, 'gamma': 0.00023080107335835443}. Best is trial 112 with value: 0.742825922796557.\n",
      "[I 2025-07-01 16:04:45,153] Trial 146 finished with value: 0.7315035473701166 and parameters: {'C': 33.4083786847058, 'epsilon': 0.006499674089819599, 'gamma': 0.00022010337199918068}. Best is trial 112 with value: 0.742825922796557.\n",
      "[I 2025-07-01 16:04:45,563] Trial 147 finished with value: 0.7363013749151089 and parameters: {'C': 45.050458040792165, 'epsilon': 0.007356182095771519, 'gamma': 0.00021077403112194283}. Best is trial 112 with value: 0.742825922796557.\n",
      "[I 2025-07-01 16:04:45,947] Trial 148 finished with value: 0.7415833169866668 and parameters: {'C': 37.13775633436736, 'epsilon': 0.0070651842786619646, 'gamma': 0.00020056713949859645}. Best is trial 112 with value: 0.742825922796557.\n",
      "[I 2025-07-01 16:04:46,628] Trial 149 finished with value: 0.7405294850519288 and parameters: {'C': 40.31136965777986, 'epsilon': 0.007048818645374112, 'gamma': 0.00020733613090198033}. Best is trial 112 with value: 0.742825922796557.\n",
      "[I 2025-07-01 16:04:47,048] Trial 150 finished with value: 0.7404693663257488 and parameters: {'C': 37.51710279785999, 'epsilon': 0.007059358635128993, 'gamma': 0.00020106293368285784}. Best is trial 112 with value: 0.742825922796557.\n",
      "[I 2025-07-01 16:04:47,461] Trial 151 finished with value: 0.7398752583122485 and parameters: {'C': 37.0098096546369, 'epsilon': 0.007038277180897481, 'gamma': 0.00020073453828620277}. Best is trial 112 with value: 0.742825922796557.\n",
      "[I 2025-07-01 16:04:48,001] Trial 152 finished with value: 0.736431228274458 and parameters: {'C': 40.01150984911704, 'epsilon': 0.007292509204073642, 'gamma': 0.000210291815208864}. Best is trial 112 with value: 0.742825922796557.\n",
      "[I 2025-07-01 16:04:48,406] Trial 153 finished with value: 0.7355680853098476 and parameters: {'C': 35.202909006887666, 'epsilon': 0.00675586345212417, 'gamma': 0.00021746825365440145}. Best is trial 112 with value: 0.742825922796557.\n",
      "[I 2025-07-01 16:04:48,844] Trial 154 finished with value: 0.7429106955103002 and parameters: {'C': 46.005954268681045, 'epsilon': 0.007068699205434721, 'gamma': 0.00020948505324060396}. Best is trial 154 with value: 0.7429106955103002.\n",
      "[I 2025-07-01 16:04:49,337] Trial 155 finished with value: 0.7356604189992993 and parameters: {'C': 47.029851599124605, 'epsilon': 0.007484750449267174, 'gamma': 0.00022874123590560993}. Best is trial 154 with value: 0.7429106955103002.\n",
      "[I 2025-07-01 16:04:49,553] Trial 156 finished with value: 0.6898274144567582 and parameters: {'C': 40.13185262334461, 'epsilon': 0.00716203133364168, 'gamma': 0.0004485690540888026}. Best is trial 154 with value: 0.7429106955103002.\n",
      "[I 2025-07-01 16:04:49,967] Trial 157 finished with value: 0.7405570774512217 and parameters: {'C': 46.09207164658656, 'epsilon': 0.0070059077453205445, 'gamma': 0.00021813088775206026}. Best is trial 154 with value: 0.7429106955103002.\n",
      "[I 2025-07-01 16:04:50,591] Trial 158 finished with value: 0.7282776266228782 and parameters: {'C': 43.30924516193694, 'epsilon': 0.006667732000008735, 'gamma': 0.0002370341749475764}. Best is trial 154 with value: 0.7429106955103002.\n",
      "[I 2025-07-01 16:04:50,982] Trial 159 finished with value: 0.7380432714511174 and parameters: {'C': 45.68123351335965, 'epsilon': 0.006862391902716276, 'gamma': 0.0002177871146662972}. Best is trial 154 with value: 0.7429106955103002.\n",
      "[I 2025-07-01 16:04:51,312] Trial 160 finished with value: 0.7322702394977878 and parameters: {'C': 73.19437150510325, 'epsilon': 0.007270788585386312, 'gamma': 0.000224637622818949}. Best is trial 154 with value: 0.7429106955103002.\n",
      "[I 2025-07-01 16:04:51,882] Trial 161 finished with value: 0.7415374966247619 and parameters: {'C': 57.864709572703724, 'epsilon': 0.007051733806687152, 'gamma': 0.000209576057615846}. Best is trial 154 with value: 0.7429106955103002.\n",
      "[I 2025-07-01 16:04:52,285] Trial 162 finished with value: 0.7421663674615759 and parameters: {'C': 29.812693572491593, 'epsilon': 0.006988623228031414, 'gamma': 0.0002114552942568869}. Best is trial 154 with value: 0.7429106955103002.\n",
      "[I 2025-07-01 16:04:52,709] Trial 163 finished with value: 0.7376186409248016 and parameters: {'C': 56.65057675309931, 'epsilon': 0.006831826125718588, 'gamma': 0.00020977882536410292}. Best is trial 154 with value: 0.7429106955103002.\n",
      "[I 2025-07-01 16:04:53,227] Trial 164 finished with value: 0.7382034520991203 and parameters: {'C': 29.16876559963171, 'epsilon': 0.007435584851098732, 'gamma': 0.00021451313390516503}. Best is trial 154 with value: 0.7429106955103002.\n",
      "[I 2025-07-01 16:04:53,568] Trial 165 finished with value: 0.7360745464713154 and parameters: {'C': 26.34662676592022, 'epsilon': 0.007179394536871356, 'gamma': 0.00023054858880286016}. Best is trial 154 with value: 0.7429106955103002.\n",
      "[I 2025-07-01 16:04:53,934] Trial 166 finished with value: 0.7421157953102615 and parameters: {'C': 30.152101959783757, 'epsilon': 0.006910555603815726, 'gamma': 0.00020041836040811509}. Best is trial 154 with value: 0.7429106955103002.\n",
      "[I 2025-07-01 16:04:54,575] Trial 167 finished with value: 0.7344705216126955 and parameters: {'C': 32.238011023982594, 'epsilon': 0.006566141247854617, 'gamma': 0.00020000773234097872}. Best is trial 154 with value: 0.7429106955103002.\n",
      "[I 2025-07-01 16:04:54,973] Trial 168 finished with value: 0.7367056098766565 and parameters: {'C': 30.374107304740665, 'epsilon': 0.006736447887308993, 'gamma': 0.00022075523446729296}. Best is trial 154 with value: 0.7429106955103002.\n",
      "[I 2025-07-01 16:04:55,349] Trial 169 finished with value: 0.7425260980494206 and parameters: {'C': 27.239867386479638, 'epsilon': 0.007000685837787087, 'gamma': 0.00021121087018662095}. Best is trial 154 with value: 0.7429106955103002.\n",
      "[I 2025-07-01 16:04:55,855] Trial 170 finished with value: 0.6803445019710366 and parameters: {'C': 27.101773096291698, 'epsilon': 0.007627382526685334, 'gamma': 0.0005087063074673781}. Best is trial 154 with value: 0.7429106955103002.\n",
      "[I 2025-07-01 16:04:56,226] Trial 171 finished with value: 0.7418469396965489 and parameters: {'C': 34.85177006061914, 'epsilon': 0.007005944744780816, 'gamma': 0.00020914764101844183}. Best is trial 154 with value: 0.7429106955103002.\n",
      "[I 2025-07-01 16:04:56,685] Trial 172 finished with value: 0.7419591040083968 and parameters: {'C': 35.44265380541534, 'epsilon': 0.007083229546962788, 'gamma': 0.0002085018291845598}. Best is trial 154 with value: 0.7429106955103002.\n",
      "[I 2025-07-01 16:04:57,229] Trial 173 finished with value: 0.7374694337007259 and parameters: {'C': 33.756242533406784, 'epsilon': 0.0072188859568084185, 'gamma': 0.00020783264368627586}. Best is trial 154 with value: 0.7429106955103002.\n",
      "[I 2025-07-01 16:04:57,601] Trial 174 finished with value: 0.7416589134944405 and parameters: {'C': 30.17856456843843, 'epsilon': 0.006954021354377136, 'gamma': 0.00021139685827696136}. Best is trial 154 with value: 0.7429106955103002.\n",
      "[I 2025-07-01 16:04:58,312] Trial 175 finished with value: 0.7135516208932066 and parameters: {'C': 28.392141581378933, 'epsilon': 0.004698964670701577, 'gamma': 0.00020506511980834599}. Best is trial 154 with value: 0.7429106955103002.\n",
      "[I 2025-07-01 16:04:58,850] Trial 176 finished with value: 0.7372219686969171 and parameters: {'C': 32.54318488172629, 'epsilon': 0.007335012363053291, 'gamma': 0.00020000648620876292}. Best is trial 154 with value: 0.7429106955103002.\n",
      "[I 2025-07-01 16:04:59,224] Trial 177 finished with value: 0.7410799037330834 and parameters: {'C': 30.203132327658786, 'epsilon': 0.00694929739919264, 'gamma': 0.00021334147600653733}. Best is trial 154 with value: 0.7429106955103002.\n",
      "[I 2025-07-01 16:04:59,672] Trial 178 finished with value: 0.7383380326478676 and parameters: {'C': 34.40375966815734, 'epsilon': 0.006771132764627875, 'gamma': 0.00020764076540094427}. Best is trial 154 with value: 0.7429106955103002.\n",
      "[I 2025-07-01 16:05:00,217] Trial 179 finished with value: 0.6581938329866578 and parameters: {'C': 30.857808464867006, 'epsilon': 0.00683432970754989, 'gamma': 0.0007395776470997096}. Best is trial 154 with value: 0.7429106955103002.\n",
      "[I 2025-07-01 16:05:00,545] Trial 180 finished with value: 0.7450265844940209 and parameters: {'C': 25.083047520012443, 'epsilon': 0.007113687959490875, 'gamma': 0.00021443823870953256}. Best is trial 180 with value: 0.7450265844940209.\n",
      "[I 2025-07-01 16:05:00,891] Trial 181 finished with value: 0.7407408157826335 and parameters: {'C': 24.717068695359007, 'epsilon': 0.007132885651384045, 'gamma': 0.00021295442890163546}. Best is trial 180 with value: 0.7450265844940209.\n",
      "[I 2025-07-01 16:05:01,556] Trial 182 finished with value: 0.7416024055758561 and parameters: {'C': 27.29780690289312, 'epsilon': 0.006983609713696818, 'gamma': 0.00021617389515844819}. Best is trial 180 with value: 0.7450265844940209.\n",
      "[I 2025-07-01 16:05:01,995] Trial 183 finished with value: 0.7369969964843474 and parameters: {'C': 27.02004959414759, 'epsilon': 0.007242456688079506, 'gamma': 0.00022615495438526892}. Best is trial 180 with value: 0.7450265844940209.\n",
      "[I 2025-07-01 16:05:02,526] Trial 184 finished with value: 0.7439625392776653 and parameters: {'C': 29.069903072035327, 'epsilon': 0.007033935224441913, 'gamma': 0.0002177751461049333}. Best is trial 180 with value: 0.7450265844940209.\n",
      "[I 2025-07-01 16:05:03,159] Trial 185 finished with value: 0.7425171086176732 and parameters: {'C': 26.40907951073818, 'epsilon': 0.006981895804838599, 'gamma': 0.00020538299852315218}. Best is trial 180 with value: 0.7450265844940209.\n",
      "[I 2025-07-01 16:05:03,550] Trial 186 finished with value: 0.7419480369835476 and parameters: {'C': 28.680277853071978, 'epsilon': 0.006915014749793097, 'gamma': 0.0002065119429315039}. Best is trial 180 with value: 0.7450265844940209.\n",
      "[I 2025-07-01 16:05:03,944] Trial 187 finished with value: 0.7354734715665352 and parameters: {'C': 29.021139365448047, 'epsilon': 0.006633146411554395, 'gamma': 0.0002048011508459212}. Best is trial 180 with value: 0.7450265844940209.\n",
      "[I 2025-07-01 16:05:04,599] Trial 188 finished with value: 0.7381425708428844 and parameters: {'C': 24.847263611710595, 'epsilon': 0.006895087751912697, 'gamma': 0.00020060840903938303}. Best is trial 180 with value: 0.7450265844940209.\n",
      "[I 2025-07-01 16:05:04,942] Trial 189 finished with value: 0.7391967491450064 and parameters: {'C': 26.37975024731917, 'epsilon': 0.0067642254619230185, 'gamma': 0.00021433496595731454}. Best is trial 180 with value: 0.7450265844940209.\n",
      "[I 2025-07-01 16:05:05,310] Trial 190 finished with value: 0.7423091127808344 and parameters: {'C': 28.313613076505348, 'epsilon': 0.006943877089115708, 'gamma': 0.00020593006802754066}. Best is trial 180 with value: 0.7450265844940209.\n",
      "[I 2025-07-01 16:05:05,904] Trial 191 finished with value: 0.741629765050333 and parameters: {'C': 27.91011489784281, 'epsilon': 0.0069462454406423145, 'gamma': 0.0002067897893837539}. Best is trial 180 with value: 0.7450265844940209.\n",
      "[I 2025-07-01 16:05:06,313] Trial 192 finished with value: 0.7416968528775347 and parameters: {'C': 28.30954087880012, 'epsilon': 0.006907073504700602, 'gamma': 0.000216980258555213}. Best is trial 180 with value: 0.7450265844940209.\n",
      "[I 2025-07-01 16:05:06,675] Trial 193 finished with value: 0.7414156954760664 and parameters: {'C': 27.395207520569205, 'epsilon': 0.006916829112245081, 'gamma': 0.00021438753277020284}. Best is trial 180 with value: 0.7450265844940209.\n",
      "[I 2025-07-01 16:05:07,252] Trial 194 finished with value: 0.7351544971354206 and parameters: {'C': 23.179253874402278, 'epsilon': 0.006841098583230032, 'gamma': 0.00020656461027651434}. Best is trial 180 with value: 0.7450265844940209.\n",
      "[I 2025-07-01 16:05:07,678] Trial 195 finished with value: 0.7418349641670066 and parameters: {'C': 29.420136149884705, 'epsilon': 0.006963262927105991, 'gamma': 0.000218875238351227}. Best is trial 180 with value: 0.7450265844940209.\n",
      "[I 2025-07-01 16:05:08,024] Trial 196 finished with value: 0.7353658950041251 and parameters: {'C': 29.681967470303245, 'epsilon': 0.00735895617387371, 'gamma': 0.00023038288687827563}. Best is trial 180 with value: 0.7450265844940209.\n",
      "[I 2025-07-01 16:05:08,713] Trial 197 finished with value: 0.7367431474427131 and parameters: {'C': 25.476589000935387, 'epsilon': 0.006731291934451586, 'gamma': 0.00022077102091951097}. Best is trial 180 with value: 0.7450265844940209.\n",
      "[I 2025-07-01 16:05:09,244] Trial 198 finished with value: 0.7341123573021072 and parameters: {'C': 31.32028210280402, 'epsilon': 0.006509677421664983, 'gamma': 0.00020744245915048183}. Best is trial 180 with value: 0.7450265844940209.\n",
      "[I 2025-07-01 16:05:09,621] Trial 199 finished with value: 0.738871100490487 and parameters: {'C': 28.78717737143639, 'epsilon': 0.007209554707914632, 'gamma': 0.00020664144447807002}. Best is trial 180 with value: 0.7450265844940209.\n"
     ]
    }
   ],
   "source": [
    "cv = GroupKFold(n_splits=5)\n",
    "groups_train = groups.iloc[train_idx]\n",
    "scores = []\n",
    "\n",
    "def objectives(trial):\n",
    "    # Suggest hyperparameters\n",
    "    C = trial.suggest_float('C', 10, 300, log=True)\n",
    "    epsilon = trial.suggest_float('epsilon', 4e-3, 1e-2, log=True)\n",
    "    gamma = trial.suggest_float('gamma', 2e-4, 1e-3, log=True)\n",
    "\n",
    "    model = SVR(kernel='rbf', C=C, epsilon=epsilon, gamma=gamma)\n",
    "    scores = cross_val_score(model, X_train, y_train, cv=cv, scoring='r2', groups=groups_train, n_jobs=-1)\n",
    "    return np.mean(scores)\n",
    "\n",
    "study = optuna.create_study(direction='maximize')\n",
    "study.optimize(objectives, n_trials=200)"
   ]
  },
  {
   "cell_type": "code",
   "execution_count": 123,
   "id": "0628b7f0",
   "metadata": {},
   "outputs": [
    {
     "data": {
      "application/vnd.plotly.v1+json": {
       "config": {
        "plotlyServerURL": "https://plot.ly"
       },
       "data": [
        {
         "mode": "markers",
         "name": "Objective Value",
         "type": "scatter",
         "x": [
          0,
          1,
          2,
          3,
          4,
          5,
          6,
          7,
          8,
          9,
          10,
          11,
          12,
          13,
          14,
          15,
          16,
          17,
          18,
          19,
          20,
          21,
          22,
          23,
          24,
          25,
          26,
          27,
          28,
          29,
          30,
          31,
          32,
          33,
          34,
          35,
          36,
          37,
          38,
          39,
          40,
          41,
          42,
          43,
          44,
          45,
          46,
          47,
          48,
          49,
          50,
          51,
          52,
          53,
          54,
          55,
          56,
          57,
          58,
          59,
          60,
          61,
          62,
          63,
          64,
          65,
          66,
          67,
          68,
          69,
          70,
          71,
          72,
          73,
          74,
          75,
          76,
          77,
          78,
          79,
          80,
          81,
          82,
          83,
          84,
          85,
          86,
          87,
          88,
          89,
          90,
          91,
          92,
          93,
          94,
          95,
          96,
          97,
          98,
          99,
          100,
          101,
          102,
          103,
          104,
          105,
          106,
          107,
          108,
          109,
          110,
          111,
          112,
          113,
          114,
          115,
          116,
          117,
          118,
          119,
          120,
          121,
          122,
          123,
          124,
          125,
          126,
          127,
          128,
          129,
          130,
          131,
          132,
          133,
          134,
          135,
          136,
          137,
          138,
          139,
          140,
          141,
          142,
          143,
          144,
          145,
          146,
          147,
          148,
          149,
          150,
          151,
          152,
          153,
          154,
          155,
          156,
          157,
          158,
          159,
          160,
          161,
          162,
          163,
          164,
          165,
          166,
          167,
          168,
          169,
          170,
          171,
          172,
          173,
          174,
          175,
          176,
          177,
          178,
          179,
          180,
          181,
          182,
          183,
          184,
          185,
          186,
          187,
          188,
          189,
          190,
          191,
          192,
          193,
          194,
          195,
          196,
          197,
          198,
          199
         ],
         "y": [
          0.6825867474771795,
          0.6790214934328509,
          0.6828039223270191,
          0.6782551039046918,
          0.6891955723861628,
          0.71381182911561,
          0.7252151142821315,
          0.6584647343863678,
          0.7010809070005235,
          0.7069441994890491,
          0.6552558037490899,
          0.7171961819571295,
          0.7112406098401122,
          0.7194710112130615,
          0.7152210278576775,
          0.7096755353407527,
          0.6739133139164146,
          0.7045629263655855,
          0.7085864138991906,
          0.7267069171772238,
          0.6983214946348937,
          0.7250920263349293,
          0.7262960178482676,
          0.7121614948178723,
          0.7079311021288028,
          0.7315946413962665,
          0.7356131345603728,
          0.7427288205675355,
          0.7252920844078508,
          0.7415862072038879,
          0.7194384204729489,
          0.7366539711974329,
          0.7272091235875099,
          0.7240870916488242,
          0.7107727124612536,
          0.7229665725160588,
          0.7290800704089586,
          0.6775540676214358,
          0.7237470114742524,
          0.7131890915296107,
          0.714607132531494,
          0.7318606128899016,
          0.7309563433590911,
          0.7330743565904532,
          0.7336677894019445,
          0.7231601842648397,
          0.7380377520567167,
          0.7343066849816757,
          0.6223894489752453,
          0.7170902331957972,
          0.7210677285983811,
          0.7357000421133996,
          0.7347025099945987,
          0.7283305580428684,
          0.71621273248473,
          0.7067136125616771,
          0.727397708156712,
          0.7259963382313922,
          0.735923708646735,
          0.7214347964734573,
          0.7119850341892601,
          0.7308336622075193,
          0.7216867314106656,
          0.7279661883803035,
          0.7042380633673355,
          0.7175685754658263,
          0.6490094178774672,
          0.7299439549346827,
          0.7298878106546425,
          0.7356349296228359,
          0.7308502464176762,
          0.7375419944670949,
          0.7385932032240559,
          0.7324357556346992,
          0.7352669438025075,
          0.704950878251464,
          0.7281389892701845,
          0.7328462929488269,
          0.7196035722724762,
          0.73578918966312,
          0.7363396630837377,
          0.736699236248813,
          0.7362522338929917,
          0.7339452114444784,
          0.7284435454736152,
          0.7337666990952542,
          0.6716028605682575,
          0.7334040643528985,
          0.7288651668555353,
          0.7290204219842185,
          0.71127431328185,
          0.7370520859560633,
          0.7332311183930299,
          0.7370223952625133,
          0.7310423485422586,
          0.7366395584916374,
          0.7332874706743193,
          0.7265223186341148,
          0.7381982244504602,
          0.7334591034118383,
          0.6642930837583203,
          0.7351419375834819,
          0.7376549034165517,
          0.7409669552047828,
          0.7399214310992321,
          0.7341208199343642,
          0.7300499698629205,
          0.7257400245416792,
          0.7304379964545313,
          0.725446234904466,
          0.728613515299113,
          0.742458047025689,
          0.742825922796557,
          0.7398739104037121,
          0.7411413001669664,
          0.7402074377042205,
          0.7351273342115292,
          0.7408970436191553,
          0.7397470168024365,
          0.7402431170728859,
          0.7343512412262654,
          0.7395678493593831,
          0.7398976693468009,
          0.7387759452391913,
          0.7274605622490476,
          0.7329993839885078,
          0.7299069588668914,
          0.7410715226855723,
          0.7373775882754907,
          0.7414938200541343,
          0.622011997433084,
          0.7353138888446112,
          0.7328917346484604,
          0.7416385026220345,
          0.741513524473336,
          0.7402158258929303,
          0.7387297367385578,
          0.731214711379421,
          0.7385390460797386,
          0.7308346762132901,
          0.7288645265969693,
          0.7419129463233324,
          0.740970652517993,
          0.7375805901364991,
          0.7334943561573766,
          0.7353087528049154,
          0.7315035473701166,
          0.7363013749151089,
          0.7415833169866668,
          0.7405294850519288,
          0.7404693663257488,
          0.7398752583122485,
          0.736431228274458,
          0.7355680853098476,
          0.7429106955103002,
          0.7356604189992993,
          0.6898274144567582,
          0.7405570774512217,
          0.7282776266228782,
          0.7380432714511174,
          0.7322702394977878,
          0.7415374966247619,
          0.7421663674615759,
          0.7376186409248016,
          0.7382034520991203,
          0.7360745464713154,
          0.7421157953102615,
          0.7344705216126955,
          0.7367056098766565,
          0.7425260980494206,
          0.6803445019710366,
          0.7418469396965489,
          0.7419591040083968,
          0.7374694337007259,
          0.7416589134944405,
          0.7135516208932066,
          0.7372219686969171,
          0.7410799037330834,
          0.7383380326478676,
          0.6581938329866578,
          0.7450265844940209,
          0.7407408157826335,
          0.7416024055758561,
          0.7369969964843474,
          0.7439625392776653,
          0.7425171086176732,
          0.7419480369835476,
          0.7354734715665352,
          0.7381425708428844,
          0.7391967491450064,
          0.7423091127808344,
          0.741629765050333,
          0.7416968528775347,
          0.7414156954760664,
          0.7351544971354206,
          0.7418349641670066,
          0.7353658950041251,
          0.7367431474427131,
          0.7341123573021072,
          0.738871100490487
         ]
        },
        {
         "mode": "lines",
         "name": "Best Value",
         "type": "scatter",
         "x": [
          0,
          1,
          2,
          3,
          4,
          5,
          6,
          7,
          8,
          9,
          10,
          11,
          12,
          13,
          14,
          15,
          16,
          17,
          18,
          19,
          20,
          21,
          22,
          23,
          24,
          25,
          26,
          27,
          28,
          29,
          30,
          31,
          32,
          33,
          34,
          35,
          36,
          37,
          38,
          39,
          40,
          41,
          42,
          43,
          44,
          45,
          46,
          47,
          48,
          49,
          50,
          51,
          52,
          53,
          54,
          55,
          56,
          57,
          58,
          59,
          60,
          61,
          62,
          63,
          64,
          65,
          66,
          67,
          68,
          69,
          70,
          71,
          72,
          73,
          74,
          75,
          76,
          77,
          78,
          79,
          80,
          81,
          82,
          83,
          84,
          85,
          86,
          87,
          88,
          89,
          90,
          91,
          92,
          93,
          94,
          95,
          96,
          97,
          98,
          99,
          100,
          101,
          102,
          103,
          104,
          105,
          106,
          107,
          108,
          109,
          110,
          111,
          112,
          113,
          114,
          115,
          116,
          117,
          118,
          119,
          120,
          121,
          122,
          123,
          124,
          125,
          126,
          127,
          128,
          129,
          130,
          131,
          132,
          133,
          134,
          135,
          136,
          137,
          138,
          139,
          140,
          141,
          142,
          143,
          144,
          145,
          146,
          147,
          148,
          149,
          150,
          151,
          152,
          153,
          154,
          155,
          156,
          157,
          158,
          159,
          160,
          161,
          162,
          163,
          164,
          165,
          166,
          167,
          168,
          169,
          170,
          171,
          172,
          173,
          174,
          175,
          176,
          177,
          178,
          179,
          180,
          181,
          182,
          183,
          184,
          185,
          186,
          187,
          188,
          189,
          190,
          191,
          192,
          193,
          194,
          195,
          196,
          197,
          198,
          199
         ],
         "y": [
          0.6825867474771795,
          0.6825867474771795,
          0.6828039223270191,
          0.6828039223270191,
          0.6891955723861628,
          0.71381182911561,
          0.7252151142821315,
          0.7252151142821315,
          0.7252151142821315,
          0.7252151142821315,
          0.7252151142821315,
          0.7252151142821315,
          0.7252151142821315,
          0.7252151142821315,
          0.7252151142821315,
          0.7252151142821315,
          0.7252151142821315,
          0.7252151142821315,
          0.7252151142821315,
          0.7267069171772238,
          0.7267069171772238,
          0.7267069171772238,
          0.7267069171772238,
          0.7267069171772238,
          0.7267069171772238,
          0.7315946413962665,
          0.7356131345603728,
          0.7427288205675355,
          0.7427288205675355,
          0.7427288205675355,
          0.7427288205675355,
          0.7427288205675355,
          0.7427288205675355,
          0.7427288205675355,
          0.7427288205675355,
          0.7427288205675355,
          0.7427288205675355,
          0.7427288205675355,
          0.7427288205675355,
          0.7427288205675355,
          0.7427288205675355,
          0.7427288205675355,
          0.7427288205675355,
          0.7427288205675355,
          0.7427288205675355,
          0.7427288205675355,
          0.7427288205675355,
          0.7427288205675355,
          0.7427288205675355,
          0.7427288205675355,
          0.7427288205675355,
          0.7427288205675355,
          0.7427288205675355,
          0.7427288205675355,
          0.7427288205675355,
          0.7427288205675355,
          0.7427288205675355,
          0.7427288205675355,
          0.7427288205675355,
          0.7427288205675355,
          0.7427288205675355,
          0.7427288205675355,
          0.7427288205675355,
          0.7427288205675355,
          0.7427288205675355,
          0.7427288205675355,
          0.7427288205675355,
          0.7427288205675355,
          0.7427288205675355,
          0.7427288205675355,
          0.7427288205675355,
          0.7427288205675355,
          0.7427288205675355,
          0.7427288205675355,
          0.7427288205675355,
          0.7427288205675355,
          0.7427288205675355,
          0.7427288205675355,
          0.7427288205675355,
          0.7427288205675355,
          0.7427288205675355,
          0.7427288205675355,
          0.7427288205675355,
          0.7427288205675355,
          0.7427288205675355,
          0.7427288205675355,
          0.7427288205675355,
          0.7427288205675355,
          0.7427288205675355,
          0.7427288205675355,
          0.7427288205675355,
          0.7427288205675355,
          0.7427288205675355,
          0.7427288205675355,
          0.7427288205675355,
          0.7427288205675355,
          0.7427288205675355,
          0.7427288205675355,
          0.7427288205675355,
          0.7427288205675355,
          0.7427288205675355,
          0.7427288205675355,
          0.7427288205675355,
          0.7427288205675355,
          0.7427288205675355,
          0.7427288205675355,
          0.7427288205675355,
          0.7427288205675355,
          0.7427288205675355,
          0.7427288205675355,
          0.7427288205675355,
          0.7427288205675355,
          0.742825922796557,
          0.742825922796557,
          0.742825922796557,
          0.742825922796557,
          0.742825922796557,
          0.742825922796557,
          0.742825922796557,
          0.742825922796557,
          0.742825922796557,
          0.742825922796557,
          0.742825922796557,
          0.742825922796557,
          0.742825922796557,
          0.742825922796557,
          0.742825922796557,
          0.742825922796557,
          0.742825922796557,
          0.742825922796557,
          0.742825922796557,
          0.742825922796557,
          0.742825922796557,
          0.742825922796557,
          0.742825922796557,
          0.742825922796557,
          0.742825922796557,
          0.742825922796557,
          0.742825922796557,
          0.742825922796557,
          0.742825922796557,
          0.742825922796557,
          0.742825922796557,
          0.742825922796557,
          0.742825922796557,
          0.742825922796557,
          0.742825922796557,
          0.742825922796557,
          0.742825922796557,
          0.742825922796557,
          0.742825922796557,
          0.742825922796557,
          0.742825922796557,
          0.742825922796557,
          0.7429106955103002,
          0.7429106955103002,
          0.7429106955103002,
          0.7429106955103002,
          0.7429106955103002,
          0.7429106955103002,
          0.7429106955103002,
          0.7429106955103002,
          0.7429106955103002,
          0.7429106955103002,
          0.7429106955103002,
          0.7429106955103002,
          0.7429106955103002,
          0.7429106955103002,
          0.7429106955103002,
          0.7429106955103002,
          0.7429106955103002,
          0.7429106955103002,
          0.7429106955103002,
          0.7429106955103002,
          0.7429106955103002,
          0.7429106955103002,
          0.7429106955103002,
          0.7429106955103002,
          0.7429106955103002,
          0.7429106955103002,
          0.7450265844940209,
          0.7450265844940209,
          0.7450265844940209,
          0.7450265844940209,
          0.7450265844940209,
          0.7450265844940209,
          0.7450265844940209,
          0.7450265844940209,
          0.7450265844940209,
          0.7450265844940209,
          0.7450265844940209,
          0.7450265844940209,
          0.7450265844940209,
          0.7450265844940209,
          0.7450265844940209,
          0.7450265844940209,
          0.7450265844940209,
          0.7450265844940209,
          0.7450265844940209,
          0.7450265844940209
         ]
        },
        {
         "marker": {
          "color": "#cccccc"
         },
         "mode": "markers",
         "name": "Infeasible Trial",
         "showlegend": false,
         "type": "scatter",
         "x": [],
         "y": []
        }
       ],
       "layout": {
        "template": {
         "data": {
          "bar": [
           {
            "error_x": {
             "color": "#2a3f5f"
            },
            "error_y": {
             "color": "#2a3f5f"
            },
            "marker": {
             "line": {
              "color": "#E5ECF6",
              "width": 0.5
             },
             "pattern": {
              "fillmode": "overlay",
              "size": 10,
              "solidity": 0.2
             }
            },
            "type": "bar"
           }
          ],
          "barpolar": [
           {
            "marker": {
             "line": {
              "color": "#E5ECF6",
              "width": 0.5
             },
             "pattern": {
              "fillmode": "overlay",
              "size": 10,
              "solidity": 0.2
             }
            },
            "type": "barpolar"
           }
          ],
          "carpet": [
           {
            "aaxis": {
             "endlinecolor": "#2a3f5f",
             "gridcolor": "white",
             "linecolor": "white",
             "minorgridcolor": "white",
             "startlinecolor": "#2a3f5f"
            },
            "baxis": {
             "endlinecolor": "#2a3f5f",
             "gridcolor": "white",
             "linecolor": "white",
             "minorgridcolor": "white",
             "startlinecolor": "#2a3f5f"
            },
            "type": "carpet"
           }
          ],
          "choropleth": [
           {
            "colorbar": {
             "outlinewidth": 0,
             "ticks": ""
            },
            "type": "choropleth"
           }
          ],
          "contour": [
           {
            "colorbar": {
             "outlinewidth": 0,
             "ticks": ""
            },
            "colorscale": [
             [
              0,
              "#0d0887"
             ],
             [
              0.1111111111111111,
              "#46039f"
             ],
             [
              0.2222222222222222,
              "#7201a8"
             ],
             [
              0.3333333333333333,
              "#9c179e"
             ],
             [
              0.4444444444444444,
              "#bd3786"
             ],
             [
              0.5555555555555556,
              "#d8576b"
             ],
             [
              0.6666666666666666,
              "#ed7953"
             ],
             [
              0.7777777777777778,
              "#fb9f3a"
             ],
             [
              0.8888888888888888,
              "#fdca26"
             ],
             [
              1,
              "#f0f921"
             ]
            ],
            "type": "contour"
           }
          ],
          "contourcarpet": [
           {
            "colorbar": {
             "outlinewidth": 0,
             "ticks": ""
            },
            "type": "contourcarpet"
           }
          ],
          "heatmap": [
           {
            "colorbar": {
             "outlinewidth": 0,
             "ticks": ""
            },
            "colorscale": [
             [
              0,
              "#0d0887"
             ],
             [
              0.1111111111111111,
              "#46039f"
             ],
             [
              0.2222222222222222,
              "#7201a8"
             ],
             [
              0.3333333333333333,
              "#9c179e"
             ],
             [
              0.4444444444444444,
              "#bd3786"
             ],
             [
              0.5555555555555556,
              "#d8576b"
             ],
             [
              0.6666666666666666,
              "#ed7953"
             ],
             [
              0.7777777777777778,
              "#fb9f3a"
             ],
             [
              0.8888888888888888,
              "#fdca26"
             ],
             [
              1,
              "#f0f921"
             ]
            ],
            "type": "heatmap"
           }
          ],
          "histogram": [
           {
            "marker": {
             "pattern": {
              "fillmode": "overlay",
              "size": 10,
              "solidity": 0.2
             }
            },
            "type": "histogram"
           }
          ],
          "histogram2d": [
           {
            "colorbar": {
             "outlinewidth": 0,
             "ticks": ""
            },
            "colorscale": [
             [
              0,
              "#0d0887"
             ],
             [
              0.1111111111111111,
              "#46039f"
             ],
             [
              0.2222222222222222,
              "#7201a8"
             ],
             [
              0.3333333333333333,
              "#9c179e"
             ],
             [
              0.4444444444444444,
              "#bd3786"
             ],
             [
              0.5555555555555556,
              "#d8576b"
             ],
             [
              0.6666666666666666,
              "#ed7953"
             ],
             [
              0.7777777777777778,
              "#fb9f3a"
             ],
             [
              0.8888888888888888,
              "#fdca26"
             ],
             [
              1,
              "#f0f921"
             ]
            ],
            "type": "histogram2d"
           }
          ],
          "histogram2dcontour": [
           {
            "colorbar": {
             "outlinewidth": 0,
             "ticks": ""
            },
            "colorscale": [
             [
              0,
              "#0d0887"
             ],
             [
              0.1111111111111111,
              "#46039f"
             ],
             [
              0.2222222222222222,
              "#7201a8"
             ],
             [
              0.3333333333333333,
              "#9c179e"
             ],
             [
              0.4444444444444444,
              "#bd3786"
             ],
             [
              0.5555555555555556,
              "#d8576b"
             ],
             [
              0.6666666666666666,
              "#ed7953"
             ],
             [
              0.7777777777777778,
              "#fb9f3a"
             ],
             [
              0.8888888888888888,
              "#fdca26"
             ],
             [
              1,
              "#f0f921"
             ]
            ],
            "type": "histogram2dcontour"
           }
          ],
          "mesh3d": [
           {
            "colorbar": {
             "outlinewidth": 0,
             "ticks": ""
            },
            "type": "mesh3d"
           }
          ],
          "parcoords": [
           {
            "line": {
             "colorbar": {
              "outlinewidth": 0,
              "ticks": ""
             }
            },
            "type": "parcoords"
           }
          ],
          "pie": [
           {
            "automargin": true,
            "type": "pie"
           }
          ],
          "scatter": [
           {
            "fillpattern": {
             "fillmode": "overlay",
             "size": 10,
             "solidity": 0.2
            },
            "type": "scatter"
           }
          ],
          "scatter3d": [
           {
            "line": {
             "colorbar": {
              "outlinewidth": 0,
              "ticks": ""
             }
            },
            "marker": {
             "colorbar": {
              "outlinewidth": 0,
              "ticks": ""
             }
            },
            "type": "scatter3d"
           }
          ],
          "scattercarpet": [
           {
            "marker": {
             "colorbar": {
              "outlinewidth": 0,
              "ticks": ""
             }
            },
            "type": "scattercarpet"
           }
          ],
          "scattergeo": [
           {
            "marker": {
             "colorbar": {
              "outlinewidth": 0,
              "ticks": ""
             }
            },
            "type": "scattergeo"
           }
          ],
          "scattergl": [
           {
            "marker": {
             "colorbar": {
              "outlinewidth": 0,
              "ticks": ""
             }
            },
            "type": "scattergl"
           }
          ],
          "scattermap": [
           {
            "marker": {
             "colorbar": {
              "outlinewidth": 0,
              "ticks": ""
             }
            },
            "type": "scattermap"
           }
          ],
          "scattermapbox": [
           {
            "marker": {
             "colorbar": {
              "outlinewidth": 0,
              "ticks": ""
             }
            },
            "type": "scattermapbox"
           }
          ],
          "scatterpolar": [
           {
            "marker": {
             "colorbar": {
              "outlinewidth": 0,
              "ticks": ""
             }
            },
            "type": "scatterpolar"
           }
          ],
          "scatterpolargl": [
           {
            "marker": {
             "colorbar": {
              "outlinewidth": 0,
              "ticks": ""
             }
            },
            "type": "scatterpolargl"
           }
          ],
          "scatterternary": [
           {
            "marker": {
             "colorbar": {
              "outlinewidth": 0,
              "ticks": ""
             }
            },
            "type": "scatterternary"
           }
          ],
          "surface": [
           {
            "colorbar": {
             "outlinewidth": 0,
             "ticks": ""
            },
            "colorscale": [
             [
              0,
              "#0d0887"
             ],
             [
              0.1111111111111111,
              "#46039f"
             ],
             [
              0.2222222222222222,
              "#7201a8"
             ],
             [
              0.3333333333333333,
              "#9c179e"
             ],
             [
              0.4444444444444444,
              "#bd3786"
             ],
             [
              0.5555555555555556,
              "#d8576b"
             ],
             [
              0.6666666666666666,
              "#ed7953"
             ],
             [
              0.7777777777777778,
              "#fb9f3a"
             ],
             [
              0.8888888888888888,
              "#fdca26"
             ],
             [
              1,
              "#f0f921"
             ]
            ],
            "type": "surface"
           }
          ],
          "table": [
           {
            "cells": {
             "fill": {
              "color": "#EBF0F8"
             },
             "line": {
              "color": "white"
             }
            },
            "header": {
             "fill": {
              "color": "#C8D4E3"
             },
             "line": {
              "color": "white"
             }
            },
            "type": "table"
           }
          ]
         },
         "layout": {
          "annotationdefaults": {
           "arrowcolor": "#2a3f5f",
           "arrowhead": 0,
           "arrowwidth": 1
          },
          "autotypenumbers": "strict",
          "coloraxis": {
           "colorbar": {
            "outlinewidth": 0,
            "ticks": ""
           }
          },
          "colorscale": {
           "diverging": [
            [
             0,
             "#8e0152"
            ],
            [
             0.1,
             "#c51b7d"
            ],
            [
             0.2,
             "#de77ae"
            ],
            [
             0.3,
             "#f1b6da"
            ],
            [
             0.4,
             "#fde0ef"
            ],
            [
             0.5,
             "#f7f7f7"
            ],
            [
             0.6,
             "#e6f5d0"
            ],
            [
             0.7,
             "#b8e186"
            ],
            [
             0.8,
             "#7fbc41"
            ],
            [
             0.9,
             "#4d9221"
            ],
            [
             1,
             "#276419"
            ]
           ],
           "sequential": [
            [
             0,
             "#0d0887"
            ],
            [
             0.1111111111111111,
             "#46039f"
            ],
            [
             0.2222222222222222,
             "#7201a8"
            ],
            [
             0.3333333333333333,
             "#9c179e"
            ],
            [
             0.4444444444444444,
             "#bd3786"
            ],
            [
             0.5555555555555556,
             "#d8576b"
            ],
            [
             0.6666666666666666,
             "#ed7953"
            ],
            [
             0.7777777777777778,
             "#fb9f3a"
            ],
            [
             0.8888888888888888,
             "#fdca26"
            ],
            [
             1,
             "#f0f921"
            ]
           ],
           "sequentialminus": [
            [
             0,
             "#0d0887"
            ],
            [
             0.1111111111111111,
             "#46039f"
            ],
            [
             0.2222222222222222,
             "#7201a8"
            ],
            [
             0.3333333333333333,
             "#9c179e"
            ],
            [
             0.4444444444444444,
             "#bd3786"
            ],
            [
             0.5555555555555556,
             "#d8576b"
            ],
            [
             0.6666666666666666,
             "#ed7953"
            ],
            [
             0.7777777777777778,
             "#fb9f3a"
            ],
            [
             0.8888888888888888,
             "#fdca26"
            ],
            [
             1,
             "#f0f921"
            ]
           ]
          },
          "colorway": [
           "#636efa",
           "#EF553B",
           "#00cc96",
           "#ab63fa",
           "#FFA15A",
           "#19d3f3",
           "#FF6692",
           "#B6E880",
           "#FF97FF",
           "#FECB52"
          ],
          "font": {
           "color": "#2a3f5f"
          },
          "geo": {
           "bgcolor": "white",
           "lakecolor": "white",
           "landcolor": "#E5ECF6",
           "showlakes": true,
           "showland": true,
           "subunitcolor": "white"
          },
          "hoverlabel": {
           "align": "left"
          },
          "hovermode": "closest",
          "mapbox": {
           "style": "light"
          },
          "paper_bgcolor": "white",
          "plot_bgcolor": "#E5ECF6",
          "polar": {
           "angularaxis": {
            "gridcolor": "white",
            "linecolor": "white",
            "ticks": ""
           },
           "bgcolor": "#E5ECF6",
           "radialaxis": {
            "gridcolor": "white",
            "linecolor": "white",
            "ticks": ""
           }
          },
          "scene": {
           "xaxis": {
            "backgroundcolor": "#E5ECF6",
            "gridcolor": "white",
            "gridwidth": 2,
            "linecolor": "white",
            "showbackground": true,
            "ticks": "",
            "zerolinecolor": "white"
           },
           "yaxis": {
            "backgroundcolor": "#E5ECF6",
            "gridcolor": "white",
            "gridwidth": 2,
            "linecolor": "white",
            "showbackground": true,
            "ticks": "",
            "zerolinecolor": "white"
           },
           "zaxis": {
            "backgroundcolor": "#E5ECF6",
            "gridcolor": "white",
            "gridwidth": 2,
            "linecolor": "white",
            "showbackground": true,
            "ticks": "",
            "zerolinecolor": "white"
           }
          },
          "shapedefaults": {
           "line": {
            "color": "#2a3f5f"
           }
          },
          "ternary": {
           "aaxis": {
            "gridcolor": "white",
            "linecolor": "white",
            "ticks": ""
           },
           "baxis": {
            "gridcolor": "white",
            "linecolor": "white",
            "ticks": ""
           },
           "bgcolor": "#E5ECF6",
           "caxis": {
            "gridcolor": "white",
            "linecolor": "white",
            "ticks": ""
           }
          },
          "title": {
           "x": 0.05
          },
          "xaxis": {
           "automargin": true,
           "gridcolor": "white",
           "linecolor": "white",
           "ticks": "",
           "title": {
            "standoff": 15
           },
           "zerolinecolor": "white",
           "zerolinewidth": 2
          },
          "yaxis": {
           "automargin": true,
           "gridcolor": "white",
           "linecolor": "white",
           "ticks": "",
           "title": {
            "standoff": 15
           },
           "zerolinecolor": "white",
           "zerolinewidth": 2
          }
         }
        },
        "title": {
         "text": "Optimization History Plot"
        },
        "xaxis": {
         "title": {
          "text": "Trial"
         }
        },
        "yaxis": {
         "title": {
          "text": "Objective Value"
         }
        }
       }
      }
     },
     "metadata": {},
     "output_type": "display_data"
    }
   ],
   "source": [
    "optuna.visualization.plot_optimization_history(study).show()"
   ]
  },
  {
   "cell_type": "code",
   "execution_count": 124,
   "id": "da39fdea",
   "metadata": {},
   "outputs": [
    {
     "name": "stdout",
     "output_type": "stream",
     "text": [
      "Best parameters from Optuna: {'C': 25.083047520012443, 'epsilon': 0.007113687959490875, 'gamma': 0.00021443823870953256}\n"
     ]
    }
   ],
   "source": [
    "best_params = study.best_params\n",
    "print(\"Best parameters from Optuna:\", best_params)"
   ]
  },
  {
   "cell_type": "code",
   "execution_count": 125,
   "id": "1d33c809",
   "metadata": {},
   "outputs": [],
   "source": [
    "best_params = {'C': 45.515217222968296, 'epsilon': 0.004022852222818151, 'gamma': 0.00020233531522643092}"
   ]
  },
  {
   "cell_type": "code",
   "execution_count": 126,
   "id": "8538e1aa",
   "metadata": {},
   "outputs": [
    {
     "name": "stdout",
     "output_type": "stream",
     "text": [
      "Final Test R²: 0.949\n"
     ]
    }
   ],
   "source": [
    "final_model = SVR(**best_params)\n",
    "final_model.fit(X_train, y_train)\n",
    "y_pred = final_model.predict(X_test)\n",
    "test_r2 = r2_score(y_test, y_pred)\n",
    "print(f\"Final Test R²: {test_r2:.3f}\")"
   ]
  },
  {
   "cell_type": "markdown",
   "id": "eac38674",
   "metadata": {},
   "source": [
    "SAVE BEST MODEL"
   ]
  },
  {
   "cell_type": "code",
   "execution_count": 127,
   "id": "17c3c84d",
   "metadata": {},
   "outputs": [
    {
     "name": "stdout",
     "output_type": "stream",
     "text": [
      "Final Test R²: 0.949\n"
     ]
    }
   ],
   "source": [
    "best_params = {'C': 45.515217222968296, 'epsilon': 0.004022852222818151, 'gamma': 0.00020233531522643092}\n",
    "final_model = SVR(**best_params)\n",
    "final_model.fit(X_train, y_train)\n",
    "y_pred = final_model.predict(X_test)\n",
    "test_r2 = r2_score(y_test, y_pred)\n",
    "print(f\"Final Test R²: {test_r2:.3f}\")"
   ]
  },
  {
   "cell_type": "code",
   "execution_count": 128,
   "id": "565a1a8e",
   "metadata": {},
   "outputs": [],
   "source": [
    "# Save model to pkl\n",
    "with open('svr_model.pkl', 'wb') as f:\n",
    "    pickle.dump(final_model, f)"
   ]
  },
  {
   "cell_type": "markdown",
   "id": "b959813d",
   "metadata": {},
   "source": [
    "APPLY MODEL TO SDB"
   ]
  },
  {
   "cell_type": "code",
   "execution_count": 129,
   "id": "1a9d2ebd",
   "metadata": {},
   "outputs": [],
   "source": [
    "sdb = pd.read_excel(\"sdb1_unique_pures+predict.xlsx\", sheet_name=0)\n",
    "\n",
    "# Convert SMILES to Mol objects\n",
    "sdb['mol'] = sdb['SMILES'].apply(Chem.MolFromSmiles)\n",
    "\n",
    "# Add explicit hydrogens to all molecules\n",
    "sdb['mol'] = sdb['mol'].apply(lambda mol: Chem.AddHs(mol) if mol else None)\n",
    "\n",
    "# Generate binary SMARTS descriptors\n",
    "for smarts, label in zip(smarts_list, smarts_labels):\n",
    "    pattern = Chem.MolFromSmarts(smarts)\n",
    "    sdb[label] = sdb['mol'].apply(lambda mol: len(mol.GetSubstructMatches(pattern)) if mol else 0)\n",
    "\n",
    "# Calculate molecular weight and add it to the DataFrame\n",
    "sdb['MolWeight'] = sdb['mol'].apply(lambda mol: Descriptors.MolWt(mol) if mol else None)\n",
    "\n",
    "X = sdb.drop(columns=['Name', 'SMILES', 'mol', 'K', 'K_pred', '% difference'])\n",
    "y = sdb['K']"
   ]
  },
  {
   "cell_type": "code",
   "execution_count": 130,
   "id": "2b208491",
   "metadata": {},
   "outputs": [],
   "source": [
    "final_model = pickle.load(open('svr_model.pkl', 'rb'))"
   ]
  },
  {
   "cell_type": "code",
   "execution_count": 131,
   "id": "5a482399",
   "metadata": {},
   "outputs": [
    {
     "name": "stdout",
     "output_type": "stream",
     "text": [
      "R² for xgb predictions: 0.962\n",
      "R² for Moreno's predictions: 0.949\n"
     ]
    }
   ],
   "source": [
    "preds_svr = final_model.predict(X)\n",
    "r2_svr = r2_score(sdb['K'], preds_svr)\n",
    "r2_moreno= r2_score(sdb['K'], sdb['K_pred'])\n",
    "print(f\"R² for xgb predictions: {r2_svr:.3f}\")\n",
    "print(f\"R² for Moreno's predictions: {r2_moreno:.3f}\")"
   ]
  },
  {
   "cell_type": "code",
   "execution_count": 133,
   "id": "91e36565",
   "metadata": {},
   "outputs": [],
   "source": [
    "# Create df with columns y_test, y_pred, sdb['K'], preds_xgb\n",
    "results_df = pd.DataFrame({\n",
    "    'y_test': y_test,\n",
    "    'SVR_pred': y_pred,\n",
    "})\n",
    "\n",
    "results_df2 = pd.DataFrame({\n",
    "        'sdb_K': sdb['K'],\n",
    "    'SVR_pred_SDB1': preds_svr\n",
    "})\n",
    "\n",
    "# Save the results to an Excel file\n",
    "results_df.to_excel('placeholder.xlsx', index=False)\n",
    "results_df2.to_excel('placeholder2.xlsx', index=False)"
   ]
  },
  {
   "cell_type": "markdown",
   "id": "120249c4",
   "metadata": {},
   "source": [
    "APPLY TO ALL DB (Replace Exp)"
   ]
  },
  {
   "cell_type": "code",
   "execution_count": 104,
   "id": "017f3684",
   "metadata": {},
   "outputs": [],
   "source": [
    "db = pd.read_excel('../report/DB.xlsx', sheet_name=1)"
   ]
  },
  {
   "cell_type": "code",
   "execution_count": 106,
   "id": "9829eefc",
   "metadata": {},
   "outputs": [],
   "source": [
    "df_A = db[['SMILES_A', 'T']].copy()\n",
    "df_A.rename(columns={'SMILES_A': 'SMILES'}, inplace=True)\n",
    "df_B = db[['SMILES_B', 'T']].copy()\n",
    "df_B.rename(columns={'SMILES_B': 'SMILES'}, inplace=True)"
   ]
  },
  {
   "cell_type": "code",
   "execution_count": 108,
   "id": "8e292e4b",
   "metadata": {},
   "outputs": [],
   "source": [
    "from rdkit import Chem\n",
    "from rdkit.Chem import Descriptors\n",
    "import pandas as pd\n",
    "\n",
    "def generate_smarts_descriptors(df, smiles_column='SMILES'):\n",
    "    \"\"\"\n",
    "    Adds molecular representations, SMARTS-based substructure counts,\n",
    "    and molecular weight to a DataFrame.\n",
    "\n",
    "    Parameters:\n",
    "    - df: pandas DataFrame with a column of SMILES strings.\n",
    "    - smiles_column: name of the column containing SMILES (default: 'SMILE').\n",
    "\n",
    "    Returns:\n",
    "    - Modified DataFrame with SMARTS descriptors and MolWeight column.\n",
    "    \"\"\"\n",
    "    \n",
    "    smarts_list = [\n",
    "        '[H]', '[C,c]', '[O]', '[C;R]', '[c;R]', '[O;R]', '[*R]', '[OX2]', '[OX2H]',\n",
    "        '[c][OX2H]', '[OX2H0]', '[CX3][OX1]', '[#6][CX3H0](=O)[#6]', '[CX3H1](=O)',\n",
    "        '[CX3](=O)[OX2H]', '[CX3](=O)O[CX3](=O)', '[CX3H0](=O)[OX2H0][#6]', '[CX4H0]',\n",
    "        '[CX4H1]', '[CX4H2]', '[CX4H3]', '[CX3]=[CX3]', '[#8].[#8]', '[OX2H].[OX2H]',\n",
    "        '[OX2H].[OX2H].[OX2H]', '[CX4][OX2H]', '[CX4H0][OX2H]', '[CX4H1][OX2H]',\n",
    "        '[CX4H2][OX2H]', '[CX3H2]=[CX3H1]', '[CX3H2]=[CX3H0]', '[CX3H1]=[CX3H1]',\n",
    "        '[OX2H0].[OX2H0]', '[OX2H0].[OX2H0].[OX2H0]', '[c][OX2][c]', '[c][OX2][C]',\n",
    "        '[#8][#6][#6][#8]', '[#8][#6][#6][#6][#8]', '[#6;R]-O-[#6;R]'\n",
    "    ]\n",
    "    smarts_labels = [f'X{i+1}' for i in range(len(smarts_list))]\n",
    "\n",
    "    df = df.copy()\n",
    "    \n",
    "    # Generate RDKit Mol objects and add explicit Hs\n",
    "    df['mol'] = df[smiles_column].apply(Chem.MolFromSmiles)\n",
    "    df['mol'] = df['mol'].apply(lambda mol: Chem.AddHs(mol) if mol else None)\n",
    "\n",
    "    # Calculate SMARTS-based substructure counts\n",
    "    for smarts, label in zip(smarts_list, smarts_labels):\n",
    "        pattern = Chem.MolFromSmarts(smarts)\n",
    "        df[label] = df['mol'].apply(lambda mol: len(mol.GetSubstructMatches(pattern)) if mol else 0)\n",
    "\n",
    "    # Add molecular weight\n",
    "    df['MolWeight'] = df['mol'].apply(lambda mol: Descriptors.MolWt(mol) if mol else None)\n",
    "\n",
    "    df.drop(columns=['mol'], inplace=True)  # Optionally drop the Mol column\n",
    "    return df"
   ]
  },
  {
   "cell_type": "code",
   "execution_count": 109,
   "id": "5fd4e199",
   "metadata": {},
   "outputs": [],
   "source": [
    "df_A = generate_smarts_descriptors(df_A, smiles_column='SMILES')\n",
    "df_B = generate_smarts_descriptors(df_B, smiles_column='SMILES')"
   ]
  },
  {
   "cell_type": "code",
   "execution_count": 110,
   "id": "22e26a4d",
   "metadata": {},
   "outputs": [
    {
     "data": {
      "text/html": [
       "<div>\n",
       "<style scoped>\n",
       "    .dataframe tbody tr th:only-of-type {\n",
       "        vertical-align: middle;\n",
       "    }\n",
       "\n",
       "    .dataframe tbody tr th {\n",
       "        vertical-align: top;\n",
       "    }\n",
       "\n",
       "    .dataframe thead th {\n",
       "        text-align: right;\n",
       "    }\n",
       "</style>\n",
       "<table border=\"1\" class=\"dataframe\">\n",
       "  <thead>\n",
       "    <tr style=\"text-align: right;\">\n",
       "      <th></th>\n",
       "      <th>SMILES</th>\n",
       "      <th>T</th>\n",
       "      <th>X1</th>\n",
       "      <th>X2</th>\n",
       "      <th>X3</th>\n",
       "      <th>X4</th>\n",
       "      <th>X5</th>\n",
       "      <th>X6</th>\n",
       "      <th>X7</th>\n",
       "      <th>X8</th>\n",
       "      <th>...</th>\n",
       "      <th>X31</th>\n",
       "      <th>X32</th>\n",
       "      <th>X33</th>\n",
       "      <th>X34</th>\n",
       "      <th>X35</th>\n",
       "      <th>X36</th>\n",
       "      <th>X37</th>\n",
       "      <th>X38</th>\n",
       "      <th>X39</th>\n",
       "      <th>MolWeight</th>\n",
       "    </tr>\n",
       "  </thead>\n",
       "  <tbody>\n",
       "    <tr>\n",
       "      <th>0</th>\n",
       "      <td>CC(C)[C@@H]1CC[C@@H](C)C[C@H]1O</td>\n",
       "      <td>304.01</td>\n",
       "      <td>20</td>\n",
       "      <td>10</td>\n",
       "      <td>1</td>\n",
       "      <td>6</td>\n",
       "      <td>0</td>\n",
       "      <td>0</td>\n",
       "      <td>6</td>\n",
       "      <td>1</td>\n",
       "      <td>...</td>\n",
       "      <td>0</td>\n",
       "      <td>0</td>\n",
       "      <td>0</td>\n",
       "      <td>0</td>\n",
       "      <td>0</td>\n",
       "      <td>0</td>\n",
       "      <td>0</td>\n",
       "      <td>0</td>\n",
       "      <td>0</td>\n",
       "      <td>156.269</td>\n",
       "    </tr>\n",
       "    <tr>\n",
       "      <th>1</th>\n",
       "      <td>CC(C)[C@@H]1CC[C@@H](C)C[C@H]1O</td>\n",
       "      <td>314.00</td>\n",
       "      <td>20</td>\n",
       "      <td>10</td>\n",
       "      <td>1</td>\n",
       "      <td>6</td>\n",
       "      <td>0</td>\n",
       "      <td>0</td>\n",
       "      <td>6</td>\n",
       "      <td>1</td>\n",
       "      <td>...</td>\n",
       "      <td>0</td>\n",
       "      <td>0</td>\n",
       "      <td>0</td>\n",
       "      <td>0</td>\n",
       "      <td>0</td>\n",
       "      <td>0</td>\n",
       "      <td>0</td>\n",
       "      <td>0</td>\n",
       "      <td>0</td>\n",
       "      <td>156.269</td>\n",
       "    </tr>\n",
       "    <tr>\n",
       "      <th>2</th>\n",
       "      <td>CC(C)[C@@H]1CC[C@@H](C)C[C@H]1O</td>\n",
       "      <td>324.01</td>\n",
       "      <td>20</td>\n",
       "      <td>10</td>\n",
       "      <td>1</td>\n",
       "      <td>6</td>\n",
       "      <td>0</td>\n",
       "      <td>0</td>\n",
       "      <td>6</td>\n",
       "      <td>1</td>\n",
       "      <td>...</td>\n",
       "      <td>0</td>\n",
       "      <td>0</td>\n",
       "      <td>0</td>\n",
       "      <td>0</td>\n",
       "      <td>0</td>\n",
       "      <td>0</td>\n",
       "      <td>0</td>\n",
       "      <td>0</td>\n",
       "      <td>0</td>\n",
       "      <td>156.269</td>\n",
       "    </tr>\n",
       "    <tr>\n",
       "      <th>3</th>\n",
       "      <td>CC(C)[C@@H]1CC[C@@H](C)C[C@H]1O</td>\n",
       "      <td>333.98</td>\n",
       "      <td>20</td>\n",
       "      <td>10</td>\n",
       "      <td>1</td>\n",
       "      <td>6</td>\n",
       "      <td>0</td>\n",
       "      <td>0</td>\n",
       "      <td>6</td>\n",
       "      <td>1</td>\n",
       "      <td>...</td>\n",
       "      <td>0</td>\n",
       "      <td>0</td>\n",
       "      <td>0</td>\n",
       "      <td>0</td>\n",
       "      <td>0</td>\n",
       "      <td>0</td>\n",
       "      <td>0</td>\n",
       "      <td>0</td>\n",
       "      <td>0</td>\n",
       "      <td>156.269</td>\n",
       "    </tr>\n",
       "    <tr>\n",
       "      <th>4</th>\n",
       "      <td>CC(C)[C@@H]1CC[C@@H](C)C[C@H]1O</td>\n",
       "      <td>344.15</td>\n",
       "      <td>20</td>\n",
       "      <td>10</td>\n",
       "      <td>1</td>\n",
       "      <td>6</td>\n",
       "      <td>0</td>\n",
       "      <td>0</td>\n",
       "      <td>6</td>\n",
       "      <td>1</td>\n",
       "      <td>...</td>\n",
       "      <td>0</td>\n",
       "      <td>0</td>\n",
       "      <td>0</td>\n",
       "      <td>0</td>\n",
       "      <td>0</td>\n",
       "      <td>0</td>\n",
       "      <td>0</td>\n",
       "      <td>0</td>\n",
       "      <td>0</td>\n",
       "      <td>156.269</td>\n",
       "    </tr>\n",
       "    <tr>\n",
       "      <th>...</th>\n",
       "      <td>...</td>\n",
       "      <td>...</td>\n",
       "      <td>...</td>\n",
       "      <td>...</td>\n",
       "      <td>...</td>\n",
       "      <td>...</td>\n",
       "      <td>...</td>\n",
       "      <td>...</td>\n",
       "      <td>...</td>\n",
       "      <td>...</td>\n",
       "      <td>...</td>\n",
       "      <td>...</td>\n",
       "      <td>...</td>\n",
       "      <td>...</td>\n",
       "      <td>...</td>\n",
       "      <td>...</td>\n",
       "      <td>...</td>\n",
       "      <td>...</td>\n",
       "      <td>...</td>\n",
       "      <td>...</td>\n",
       "      <td>...</td>\n",
       "    </tr>\n",
       "    <tr>\n",
       "      <th>3048</th>\n",
       "      <td>CCCCCCCCCCC</td>\n",
       "      <td>322.02</td>\n",
       "      <td>24</td>\n",
       "      <td>11</td>\n",
       "      <td>0</td>\n",
       "      <td>0</td>\n",
       "      <td>0</td>\n",
       "      <td>0</td>\n",
       "      <td>0</td>\n",
       "      <td>0</td>\n",
       "      <td>...</td>\n",
       "      <td>0</td>\n",
       "      <td>0</td>\n",
       "      <td>0</td>\n",
       "      <td>0</td>\n",
       "      <td>0</td>\n",
       "      <td>0</td>\n",
       "      <td>0</td>\n",
       "      <td>0</td>\n",
       "      <td>0</td>\n",
       "      <td>156.313</td>\n",
       "    </tr>\n",
       "    <tr>\n",
       "      <th>3049</th>\n",
       "      <td>CCCCCCCCCCC</td>\n",
       "      <td>331.75</td>\n",
       "      <td>24</td>\n",
       "      <td>11</td>\n",
       "      <td>0</td>\n",
       "      <td>0</td>\n",
       "      <td>0</td>\n",
       "      <td>0</td>\n",
       "      <td>0</td>\n",
       "      <td>0</td>\n",
       "      <td>...</td>\n",
       "      <td>0</td>\n",
       "      <td>0</td>\n",
       "      <td>0</td>\n",
       "      <td>0</td>\n",
       "      <td>0</td>\n",
       "      <td>0</td>\n",
       "      <td>0</td>\n",
       "      <td>0</td>\n",
       "      <td>0</td>\n",
       "      <td>156.313</td>\n",
       "    </tr>\n",
       "    <tr>\n",
       "      <th>3050</th>\n",
       "      <td>CCCCCCCCCCC</td>\n",
       "      <td>341.92</td>\n",
       "      <td>24</td>\n",
       "      <td>11</td>\n",
       "      <td>0</td>\n",
       "      <td>0</td>\n",
       "      <td>0</td>\n",
       "      <td>0</td>\n",
       "      <td>0</td>\n",
       "      <td>0</td>\n",
       "      <td>...</td>\n",
       "      <td>0</td>\n",
       "      <td>0</td>\n",
       "      <td>0</td>\n",
       "      <td>0</td>\n",
       "      <td>0</td>\n",
       "      <td>0</td>\n",
       "      <td>0</td>\n",
       "      <td>0</td>\n",
       "      <td>0</td>\n",
       "      <td>156.313</td>\n",
       "    </tr>\n",
       "    <tr>\n",
       "      <th>3051</th>\n",
       "      <td>CCCCCCCCCCC</td>\n",
       "      <td>351.90</td>\n",
       "      <td>24</td>\n",
       "      <td>11</td>\n",
       "      <td>0</td>\n",
       "      <td>0</td>\n",
       "      <td>0</td>\n",
       "      <td>0</td>\n",
       "      <td>0</td>\n",
       "      <td>0</td>\n",
       "      <td>...</td>\n",
       "      <td>0</td>\n",
       "      <td>0</td>\n",
       "      <td>0</td>\n",
       "      <td>0</td>\n",
       "      <td>0</td>\n",
       "      <td>0</td>\n",
       "      <td>0</td>\n",
       "      <td>0</td>\n",
       "      <td>0</td>\n",
       "      <td>156.313</td>\n",
       "    </tr>\n",
       "    <tr>\n",
       "      <th>3052</th>\n",
       "      <td>CCCCCCCCCCC</td>\n",
       "      <td>361.94</td>\n",
       "      <td>24</td>\n",
       "      <td>11</td>\n",
       "      <td>0</td>\n",
       "      <td>0</td>\n",
       "      <td>0</td>\n",
       "      <td>0</td>\n",
       "      <td>0</td>\n",
       "      <td>0</td>\n",
       "      <td>...</td>\n",
       "      <td>0</td>\n",
       "      <td>0</td>\n",
       "      <td>0</td>\n",
       "      <td>0</td>\n",
       "      <td>0</td>\n",
       "      <td>0</td>\n",
       "      <td>0</td>\n",
       "      <td>0</td>\n",
       "      <td>0</td>\n",
       "      <td>156.313</td>\n",
       "    </tr>\n",
       "  </tbody>\n",
       "</table>\n",
       "<p>3053 rows × 42 columns</p>\n",
       "</div>"
      ],
      "text/plain": [
       "                               SMILES       T  X1  X2  X3  X4  X5  X6  X7  X8  \\\n",
       "0     CC(C)[C@@H]1CC[C@@H](C)C[C@H]1O  304.01  20  10   1   6   0   0   6   1   \n",
       "1     CC(C)[C@@H]1CC[C@@H](C)C[C@H]1O  314.00  20  10   1   6   0   0   6   1   \n",
       "2     CC(C)[C@@H]1CC[C@@H](C)C[C@H]1O  324.01  20  10   1   6   0   0   6   1   \n",
       "3     CC(C)[C@@H]1CC[C@@H](C)C[C@H]1O  333.98  20  10   1   6   0   0   6   1   \n",
       "4     CC(C)[C@@H]1CC[C@@H](C)C[C@H]1O  344.15  20  10   1   6   0   0   6   1   \n",
       "...                               ...     ...  ..  ..  ..  ..  ..  ..  ..  ..   \n",
       "3048                      CCCCCCCCCCC  322.02  24  11   0   0   0   0   0   0   \n",
       "3049                      CCCCCCCCCCC  331.75  24  11   0   0   0   0   0   0   \n",
       "3050                      CCCCCCCCCCC  341.92  24  11   0   0   0   0   0   0   \n",
       "3051                      CCCCCCCCCCC  351.90  24  11   0   0   0   0   0   0   \n",
       "3052                      CCCCCCCCCCC  361.94  24  11   0   0   0   0   0   0   \n",
       "\n",
       "      ...  X31  X32  X33  X34  X35  X36  X37  X38  X39  MolWeight  \n",
       "0     ...    0    0    0    0    0    0    0    0    0    156.269  \n",
       "1     ...    0    0    0    0    0    0    0    0    0    156.269  \n",
       "2     ...    0    0    0    0    0    0    0    0    0    156.269  \n",
       "3     ...    0    0    0    0    0    0    0    0    0    156.269  \n",
       "4     ...    0    0    0    0    0    0    0    0    0    156.269  \n",
       "...   ...  ...  ...  ...  ...  ...  ...  ...  ...  ...        ...  \n",
       "3048  ...    0    0    0    0    0    0    0    0    0    156.313  \n",
       "3049  ...    0    0    0    0    0    0    0    0    0    156.313  \n",
       "3050  ...    0    0    0    0    0    0    0    0    0    156.313  \n",
       "3051  ...    0    0    0    0    0    0    0    0    0    156.313  \n",
       "3052  ...    0    0    0    0    0    0    0    0    0    156.313  \n",
       "\n",
       "[3053 rows x 42 columns]"
      ]
     },
     "execution_count": 110,
     "metadata": {},
     "output_type": "execute_result"
    }
   ],
   "source": [
    "df_A"
   ]
  },
  {
   "cell_type": "code",
   "execution_count": 149,
   "id": "89d1af0b",
   "metadata": {},
   "outputs": [
    {
     "name": "stdout",
     "output_type": "stream",
     "text": [
      "[('X6', 'X10'), ('X6', 'X12'), ('X6', 'X14'), ('X6', 'X27'), ('X6', 'X30'), ('X6', 'X36'), ('X10', 'X12'), ('X10', 'X14'), ('X10', 'X27'), ('X10', 'X30'), ('X10', 'X36'), ('X12', 'X14'), ('X12', 'X27'), ('X12', 'X30'), ('X12', 'X36'), ('X14', 'X27'), ('X14', 'X30'), ('X14', 'X36'), ('X27', 'X30'), ('X27', 'X36'), ('X30', 'X36'), ('X35', 'X39')]\n"
     ]
    }
   ],
   "source": [
    "def find_identical_columns(df):\n",
    "    identical_columns = []\n",
    "    columns = df.columns\n",
    "    for i in range(len(columns)):\n",
    "        for j in range(i + 1, len(columns)):\n",
    "            if df[columns[i]].equals(df[columns[j]]):\n",
    "                identical_columns.append((columns[i], columns[j]))\n",
    "    return identical_columns\n",
    "\n",
    "# Example usage\n",
    "matches = find_identical_columns(df_A)\n",
    "print(matches)"
   ]
  },
  {
   "cell_type": "code",
   "execution_count": 111,
   "id": "d4c7ef1a",
   "metadata": {},
   "outputs": [
    {
     "data": {
      "text/html": [
       "<div>\n",
       "<style scoped>\n",
       "    .dataframe tbody tr th:only-of-type {\n",
       "        vertical-align: middle;\n",
       "    }\n",
       "\n",
       "    .dataframe tbody tr th {\n",
       "        vertical-align: top;\n",
       "    }\n",
       "\n",
       "    .dataframe thead th {\n",
       "        text-align: right;\n",
       "    }\n",
       "</style>\n",
       "<table border=\"1\" class=\"dataframe\">\n",
       "  <thead>\n",
       "    <tr style=\"text-align: right;\">\n",
       "      <th></th>\n",
       "      <th>SMILES</th>\n",
       "      <th>T</th>\n",
       "      <th>X1</th>\n",
       "      <th>X2</th>\n",
       "      <th>X3</th>\n",
       "      <th>X4</th>\n",
       "      <th>X5</th>\n",
       "      <th>X6</th>\n",
       "      <th>X7</th>\n",
       "      <th>X8</th>\n",
       "      <th>...</th>\n",
       "      <th>X31</th>\n",
       "      <th>X32</th>\n",
       "      <th>X33</th>\n",
       "      <th>X34</th>\n",
       "      <th>X35</th>\n",
       "      <th>X36</th>\n",
       "      <th>X37</th>\n",
       "      <th>X38</th>\n",
       "      <th>X39</th>\n",
       "      <th>MolWeight</th>\n",
       "    </tr>\n",
       "  </thead>\n",
       "  <tbody>\n",
       "    <tr>\n",
       "      <th>0</th>\n",
       "      <td>CCCCCCCCCC(O)=O</td>\n",
       "      <td>304.01</td>\n",
       "      <td>20</td>\n",
       "      <td>10</td>\n",
       "      <td>2</td>\n",
       "      <td>0</td>\n",
       "      <td>0</td>\n",
       "      <td>0</td>\n",
       "      <td>0</td>\n",
       "      <td>1</td>\n",
       "      <td>...</td>\n",
       "      <td>0</td>\n",
       "      <td>0</td>\n",
       "      <td>0</td>\n",
       "      <td>0</td>\n",
       "      <td>0</td>\n",
       "      <td>0</td>\n",
       "      <td>0</td>\n",
       "      <td>0</td>\n",
       "      <td>0</td>\n",
       "      <td>172.268</td>\n",
       "    </tr>\n",
       "    <tr>\n",
       "      <th>1</th>\n",
       "      <td>CCCCCCCCCC(O)=O</td>\n",
       "      <td>314.00</td>\n",
       "      <td>20</td>\n",
       "      <td>10</td>\n",
       "      <td>2</td>\n",
       "      <td>0</td>\n",
       "      <td>0</td>\n",
       "      <td>0</td>\n",
       "      <td>0</td>\n",
       "      <td>1</td>\n",
       "      <td>...</td>\n",
       "      <td>0</td>\n",
       "      <td>0</td>\n",
       "      <td>0</td>\n",
       "      <td>0</td>\n",
       "      <td>0</td>\n",
       "      <td>0</td>\n",
       "      <td>0</td>\n",
       "      <td>0</td>\n",
       "      <td>0</td>\n",
       "      <td>172.268</td>\n",
       "    </tr>\n",
       "    <tr>\n",
       "      <th>2</th>\n",
       "      <td>CCCCCCCCCC(O)=O</td>\n",
       "      <td>324.01</td>\n",
       "      <td>20</td>\n",
       "      <td>10</td>\n",
       "      <td>2</td>\n",
       "      <td>0</td>\n",
       "      <td>0</td>\n",
       "      <td>0</td>\n",
       "      <td>0</td>\n",
       "      <td>1</td>\n",
       "      <td>...</td>\n",
       "      <td>0</td>\n",
       "      <td>0</td>\n",
       "      <td>0</td>\n",
       "      <td>0</td>\n",
       "      <td>0</td>\n",
       "      <td>0</td>\n",
       "      <td>0</td>\n",
       "      <td>0</td>\n",
       "      <td>0</td>\n",
       "      <td>172.268</td>\n",
       "    </tr>\n",
       "    <tr>\n",
       "      <th>3</th>\n",
       "      <td>CCCCCCCCCC(O)=O</td>\n",
       "      <td>333.98</td>\n",
       "      <td>20</td>\n",
       "      <td>10</td>\n",
       "      <td>2</td>\n",
       "      <td>0</td>\n",
       "      <td>0</td>\n",
       "      <td>0</td>\n",
       "      <td>0</td>\n",
       "      <td>1</td>\n",
       "      <td>...</td>\n",
       "      <td>0</td>\n",
       "      <td>0</td>\n",
       "      <td>0</td>\n",
       "      <td>0</td>\n",
       "      <td>0</td>\n",
       "      <td>0</td>\n",
       "      <td>0</td>\n",
       "      <td>0</td>\n",
       "      <td>0</td>\n",
       "      <td>172.268</td>\n",
       "    </tr>\n",
       "    <tr>\n",
       "      <th>4</th>\n",
       "      <td>CCCCCCCCCC(O)=O</td>\n",
       "      <td>344.15</td>\n",
       "      <td>20</td>\n",
       "      <td>10</td>\n",
       "      <td>2</td>\n",
       "      <td>0</td>\n",
       "      <td>0</td>\n",
       "      <td>0</td>\n",
       "      <td>0</td>\n",
       "      <td>1</td>\n",
       "      <td>...</td>\n",
       "      <td>0</td>\n",
       "      <td>0</td>\n",
       "      <td>0</td>\n",
       "      <td>0</td>\n",
       "      <td>0</td>\n",
       "      <td>0</td>\n",
       "      <td>0</td>\n",
       "      <td>0</td>\n",
       "      <td>0</td>\n",
       "      <td>172.268</td>\n",
       "    </tr>\n",
       "    <tr>\n",
       "      <th>...</th>\n",
       "      <td>...</td>\n",
       "      <td>...</td>\n",
       "      <td>...</td>\n",
       "      <td>...</td>\n",
       "      <td>...</td>\n",
       "      <td>...</td>\n",
       "      <td>...</td>\n",
       "      <td>...</td>\n",
       "      <td>...</td>\n",
       "      <td>...</td>\n",
       "      <td>...</td>\n",
       "      <td>...</td>\n",
       "      <td>...</td>\n",
       "      <td>...</td>\n",
       "      <td>...</td>\n",
       "      <td>...</td>\n",
       "      <td>...</td>\n",
       "      <td>...</td>\n",
       "      <td>...</td>\n",
       "      <td>...</td>\n",
       "      <td>...</td>\n",
       "    </tr>\n",
       "    <tr>\n",
       "      <th>3048</th>\n",
       "      <td>CCCCCCCCCCCCCC(=O)OC</td>\n",
       "      <td>322.02</td>\n",
       "      <td>30</td>\n",
       "      <td>15</td>\n",
       "      <td>2</td>\n",
       "      <td>0</td>\n",
       "      <td>0</td>\n",
       "      <td>0</td>\n",
       "      <td>0</td>\n",
       "      <td>1</td>\n",
       "      <td>...</td>\n",
       "      <td>0</td>\n",
       "      <td>0</td>\n",
       "      <td>0</td>\n",
       "      <td>0</td>\n",
       "      <td>0</td>\n",
       "      <td>0</td>\n",
       "      <td>0</td>\n",
       "      <td>0</td>\n",
       "      <td>0</td>\n",
       "      <td>242.403</td>\n",
       "    </tr>\n",
       "    <tr>\n",
       "      <th>3049</th>\n",
       "      <td>CCCCCCCCCCCCCC(=O)OC</td>\n",
       "      <td>331.75</td>\n",
       "      <td>30</td>\n",
       "      <td>15</td>\n",
       "      <td>2</td>\n",
       "      <td>0</td>\n",
       "      <td>0</td>\n",
       "      <td>0</td>\n",
       "      <td>0</td>\n",
       "      <td>1</td>\n",
       "      <td>...</td>\n",
       "      <td>0</td>\n",
       "      <td>0</td>\n",
       "      <td>0</td>\n",
       "      <td>0</td>\n",
       "      <td>0</td>\n",
       "      <td>0</td>\n",
       "      <td>0</td>\n",
       "      <td>0</td>\n",
       "      <td>0</td>\n",
       "      <td>242.403</td>\n",
       "    </tr>\n",
       "    <tr>\n",
       "      <th>3050</th>\n",
       "      <td>CCCCCCCCCCCCCC(=O)OC</td>\n",
       "      <td>341.92</td>\n",
       "      <td>30</td>\n",
       "      <td>15</td>\n",
       "      <td>2</td>\n",
       "      <td>0</td>\n",
       "      <td>0</td>\n",
       "      <td>0</td>\n",
       "      <td>0</td>\n",
       "      <td>1</td>\n",
       "      <td>...</td>\n",
       "      <td>0</td>\n",
       "      <td>0</td>\n",
       "      <td>0</td>\n",
       "      <td>0</td>\n",
       "      <td>0</td>\n",
       "      <td>0</td>\n",
       "      <td>0</td>\n",
       "      <td>0</td>\n",
       "      <td>0</td>\n",
       "      <td>242.403</td>\n",
       "    </tr>\n",
       "    <tr>\n",
       "      <th>3051</th>\n",
       "      <td>CCCCCCCCCCCCCC(=O)OC</td>\n",
       "      <td>351.90</td>\n",
       "      <td>30</td>\n",
       "      <td>15</td>\n",
       "      <td>2</td>\n",
       "      <td>0</td>\n",
       "      <td>0</td>\n",
       "      <td>0</td>\n",
       "      <td>0</td>\n",
       "      <td>1</td>\n",
       "      <td>...</td>\n",
       "      <td>0</td>\n",
       "      <td>0</td>\n",
       "      <td>0</td>\n",
       "      <td>0</td>\n",
       "      <td>0</td>\n",
       "      <td>0</td>\n",
       "      <td>0</td>\n",
       "      <td>0</td>\n",
       "      <td>0</td>\n",
       "      <td>242.403</td>\n",
       "    </tr>\n",
       "    <tr>\n",
       "      <th>3052</th>\n",
       "      <td>CCCCCCCCCCCCCC(=O)OC</td>\n",
       "      <td>361.94</td>\n",
       "      <td>30</td>\n",
       "      <td>15</td>\n",
       "      <td>2</td>\n",
       "      <td>0</td>\n",
       "      <td>0</td>\n",
       "      <td>0</td>\n",
       "      <td>0</td>\n",
       "      <td>1</td>\n",
       "      <td>...</td>\n",
       "      <td>0</td>\n",
       "      <td>0</td>\n",
       "      <td>0</td>\n",
       "      <td>0</td>\n",
       "      <td>0</td>\n",
       "      <td>0</td>\n",
       "      <td>0</td>\n",
       "      <td>0</td>\n",
       "      <td>0</td>\n",
       "      <td>242.403</td>\n",
       "    </tr>\n",
       "  </tbody>\n",
       "</table>\n",
       "<p>3053 rows × 42 columns</p>\n",
       "</div>"
      ],
      "text/plain": [
       "                    SMILES       T  X1  X2  X3  X4  X5  X6  X7  X8  ...  X31  \\\n",
       "0          CCCCCCCCCC(O)=O  304.01  20  10   2   0   0   0   0   1  ...    0   \n",
       "1          CCCCCCCCCC(O)=O  314.00  20  10   2   0   0   0   0   1  ...    0   \n",
       "2          CCCCCCCCCC(O)=O  324.01  20  10   2   0   0   0   0   1  ...    0   \n",
       "3          CCCCCCCCCC(O)=O  333.98  20  10   2   0   0   0   0   1  ...    0   \n",
       "4          CCCCCCCCCC(O)=O  344.15  20  10   2   0   0   0   0   1  ...    0   \n",
       "...                    ...     ...  ..  ..  ..  ..  ..  ..  ..  ..  ...  ...   \n",
       "3048  CCCCCCCCCCCCCC(=O)OC  322.02  30  15   2   0   0   0   0   1  ...    0   \n",
       "3049  CCCCCCCCCCCCCC(=O)OC  331.75  30  15   2   0   0   0   0   1  ...    0   \n",
       "3050  CCCCCCCCCCCCCC(=O)OC  341.92  30  15   2   0   0   0   0   1  ...    0   \n",
       "3051  CCCCCCCCCCCCCC(=O)OC  351.90  30  15   2   0   0   0   0   1  ...    0   \n",
       "3052  CCCCCCCCCCCCCC(=O)OC  361.94  30  15   2   0   0   0   0   1  ...    0   \n",
       "\n",
       "      X32  X33  X34  X35  X36  X37  X38  X39  MolWeight  \n",
       "0       0    0    0    0    0    0    0    0    172.268  \n",
       "1       0    0    0    0    0    0    0    0    172.268  \n",
       "2       0    0    0    0    0    0    0    0    172.268  \n",
       "3       0    0    0    0    0    0    0    0    172.268  \n",
       "4       0    0    0    0    0    0    0    0    172.268  \n",
       "...   ...  ...  ...  ...  ...  ...  ...  ...        ...  \n",
       "3048    0    0    0    0    0    0    0    0    242.403  \n",
       "3049    0    0    0    0    0    0    0    0    242.403  \n",
       "3050    0    0    0    0    0    0    0    0    242.403  \n",
       "3051    0    0    0    0    0    0    0    0    242.403  \n",
       "3052    0    0    0    0    0    0    0    0    242.403  \n",
       "\n",
       "[3053 rows x 42 columns]"
      ]
     },
     "execution_count": 111,
     "metadata": {},
     "output_type": "execute_result"
    }
   ],
   "source": [
    "df_B"
   ]
  },
  {
   "cell_type": "code",
   "execution_count": 150,
   "id": "9ed1a1a2",
   "metadata": {},
   "outputs": [
    {
     "name": "stdout",
     "output_type": "stream",
     "text": [
      "[('X6', 'X39'), ('X10', 'X12'), ('X10', 'X16'), ('X10', 'X31'), ('X10', 'X32'), ('X10', 'X35'), ('X10', 'X36'), ('X12', 'X16'), ('X12', 'X31'), ('X12', 'X32'), ('X12', 'X35'), ('X12', 'X36'), ('X16', 'X31'), ('X16', 'X32'), ('X16', 'X35'), ('X16', 'X36'), ('X22', 'X30'), ('X31', 'X32'), ('X31', 'X35'), ('X31', 'X36'), ('X32', 'X35'), ('X32', 'X36'), ('X35', 'X36')]\n"
     ]
    }
   ],
   "source": [
    "matches_B = find_identical_columns(df_B)\n",
    "print(matches_B)"
   ]
  },
  {
   "cell_type": "code",
   "execution_count": 151,
   "id": "5648f729",
   "metadata": {},
   "outputs": [
    {
     "name": "stdout",
     "output_type": "stream",
     "text": [
      "Overlap between matches and matches_B: {('X10', 'X12'), ('X10', 'X36'), ('X12', 'X36')}\n"
     ]
    }
   ],
   "source": [
    "# Find overlap of match and matches_B\n",
    "overlap = set(matches) & set(matches_B)\n",
    "print(\"Overlap between matches and matches_B:\", overlap)"
   ]
  },
  {
   "cell_type": "code",
   "execution_count": 65,
   "id": "31c16f0c",
   "metadata": {},
   "outputs": [],
   "source": [
    "df_A['K'] = final_model.predict(df_A.drop(columns=['SMILES']))\n",
    "df_B['K'] = final_model.predict(df_B.drop(columns=['SMILES']))\n",
    "\n",
    "db = pd.read_excel('../report/DB.xlsx')\n",
    "db.drop(['KA', 'KB'], axis=1, inplace=True)\n",
    "db['KA'] = df_A['K']\n",
    "db['KB'] = df_B['K']\n",
    "db.to_excel('../report/DB_svr_predict_all.xlsx', index=False)"
   ]
  },
  {
   "cell_type": "markdown",
   "id": "67ca5c5c",
   "metadata": {},
   "source": [
    "APPLY TO UNIQUE DB"
   ]
  },
  {
   "cell_type": "code",
   "execution_count": 66,
   "id": "d9dcaf7b",
   "metadata": {},
   "outputs": [
    {
     "data": {
      "text/plain": [
       "<bound method BaseEstimator.get_params of SVR(C=45.515217222968296, epsilon=0.004022852222818151,\n",
       "    gamma=0.00020233531522643092)>"
      ]
     },
     "execution_count": 66,
     "metadata": {},
     "output_type": "execute_result"
    }
   ],
   "source": [
    "final_model.get_params"
   ]
  },
  {
   "cell_type": "code",
   "execution_count": 67,
   "id": "1662cb61",
   "metadata": {},
   "outputs": [],
   "source": [
    "db_unique = pd.read_excel('DB_unique.xlsx')\n",
    "db_unique = generate_smarts_descriptors(db_unique, smiles_column='SMILES')\n",
    "db_unique['K'] = final_model.predict(db_unique.drop(columns=['SMILES', 'Name']))"
   ]
  },
  {
   "cell_type": "code",
   "execution_count": 68,
   "id": "d743b2d0",
   "metadata": {},
   "outputs": [],
   "source": [
    "db_unique_saved = db_unique[['Name', 'SMILES', 'T', 'K']].copy()\n",
    "db_unique_saved.to_excel('DB_unique_svr_predictions.xlsx', index=False)"
   ]
  },
  {
   "cell_type": "markdown",
   "id": "addc4453",
   "metadata": {},
   "source": [
    "CALCULATE ADDITIONAL ANALYSIS"
   ]
  },
  {
   "cell_type": "code",
   "execution_count": 134,
   "id": "4f30e474",
   "metadata": {},
   "outputs": [
    {
     "data": {
      "text/html": [
       "<div>\n",
       "<style scoped>\n",
       "    .dataframe tbody tr th:only-of-type {\n",
       "        vertical-align: middle;\n",
       "    }\n",
       "\n",
       "    .dataframe tbody tr th {\n",
       "        vertical-align: top;\n",
       "    }\n",
       "\n",
       "    .dataframe thead th {\n",
       "        text-align: right;\n",
       "    }\n",
       "</style>\n",
       "<table border=\"1\" class=\"dataframe\">\n",
       "  <thead>\n",
       "    <tr style=\"text-align: right;\">\n",
       "      <th></th>\n",
       "      <th>test_set</th>\n",
       "      <th>XGB_pred</th>\n",
       "      <th>SVR_pred</th>\n",
       "      <th>Moreno_pred</th>\n",
       "      <th>K_SDB1</th>\n",
       "      <th>XGB_pred_SDB1</th>\n",
       "      <th>SVR_pred_SDB1</th>\n",
       "      <th>Moreno_pred_SDB1</th>\n",
       "    </tr>\n",
       "  </thead>\n",
       "  <tbody>\n",
       "    <tr>\n",
       "      <th>0</th>\n",
       "      <td>0.163539</td>\n",
       "      <td>0.161307</td>\n",
       "      <td>0.173020</td>\n",
       "      <td>0.157133</td>\n",
       "      <td>0.1538</td>\n",
       "      <td>0.150287</td>\n",
       "      <td>0.155675</td>\n",
       "      <td>0.170709</td>\n",
       "    </tr>\n",
       "    <tr>\n",
       "      <th>1</th>\n",
       "      <td>0.159778</td>\n",
       "      <td>0.160371</td>\n",
       "      <td>0.172414</td>\n",
       "      <td>0.156413</td>\n",
       "      <td>0.1473</td>\n",
       "      <td>0.143931</td>\n",
       "      <td>0.152295</td>\n",
       "      <td>0.164745</td>\n",
       "    </tr>\n",
       "    <tr>\n",
       "      <th>2</th>\n",
       "      <td>0.156518</td>\n",
       "      <td>0.161180</td>\n",
       "      <td>0.171670</td>\n",
       "      <td>0.155691</td>\n",
       "      <td>0.1257</td>\n",
       "      <td>0.136805</td>\n",
       "      <td>0.133990</td>\n",
       "      <td>0.129691</td>\n",
       "    </tr>\n",
       "    <tr>\n",
       "      <th>3</th>\n",
       "      <td>0.153759</td>\n",
       "      <td>0.160659</td>\n",
       "      <td>0.170807</td>\n",
       "      <td>0.154972</td>\n",
       "      <td>0.1249</td>\n",
       "      <td>0.128831</td>\n",
       "      <td>0.125759</td>\n",
       "      <td>0.122389</td>\n",
       "    </tr>\n",
       "    <tr>\n",
       "      <th>4</th>\n",
       "      <td>0.151500</td>\n",
       "      <td>0.161839</td>\n",
       "      <td>0.169844</td>\n",
       "      <td>0.154253</td>\n",
       "      <td>0.1355</td>\n",
       "      <td>0.141646</td>\n",
       "      <td>0.141275</td>\n",
       "      <td>0.137057</td>\n",
       "    </tr>\n",
       "    <tr>\n",
       "      <th>...</th>\n",
       "      <td>...</td>\n",
       "      <td>...</td>\n",
       "      <td>...</td>\n",
       "      <td>...</td>\n",
       "      <td>...</td>\n",
       "      <td>...</td>\n",
       "      <td>...</td>\n",
       "      <td>...</td>\n",
       "    </tr>\n",
       "    <tr>\n",
       "      <th>345</th>\n",
       "      <td>0.147769</td>\n",
       "      <td>0.135470</td>\n",
       "      <td>0.131603</td>\n",
       "      <td>0.143565</td>\n",
       "      <td>NaN</td>\n",
       "      <td>NaN</td>\n",
       "      <td>NaN</td>\n",
       "      <td>NaN</td>\n",
       "    </tr>\n",
       "    <tr>\n",
       "      <th>346</th>\n",
       "      <td>0.145699</td>\n",
       "      <td>0.133414</td>\n",
       "      <td>0.129944</td>\n",
       "      <td>0.141259</td>\n",
       "      <td>NaN</td>\n",
       "      <td>NaN</td>\n",
       "      <td>NaN</td>\n",
       "      <td>NaN</td>\n",
       "    </tr>\n",
       "    <tr>\n",
       "      <th>347</th>\n",
       "      <td>0.143544</td>\n",
       "      <td>0.131122</td>\n",
       "      <td>0.128526</td>\n",
       "      <td>0.139010</td>\n",
       "      <td>NaN</td>\n",
       "      <td>NaN</td>\n",
       "      <td>NaN</td>\n",
       "      <td>NaN</td>\n",
       "    </tr>\n",
       "    <tr>\n",
       "      <th>348</th>\n",
       "      <td>0.141305</td>\n",
       "      <td>0.130356</td>\n",
       "      <td>0.128059</td>\n",
       "      <td>0.136823</td>\n",
       "      <td>NaN</td>\n",
       "      <td>NaN</td>\n",
       "      <td>NaN</td>\n",
       "      <td>NaN</td>\n",
       "    </tr>\n",
       "    <tr>\n",
       "      <th>349</th>\n",
       "      <td>0.138980</td>\n",
       "      <td>0.123684</td>\n",
       "      <td>0.128034</td>\n",
       "      <td>0.134700</td>\n",
       "      <td>NaN</td>\n",
       "      <td>NaN</td>\n",
       "      <td>NaN</td>\n",
       "      <td>NaN</td>\n",
       "    </tr>\n",
       "  </tbody>\n",
       "</table>\n",
       "<p>350 rows × 8 columns</p>\n",
       "</div>"
      ],
      "text/plain": [
       "     test_set  XGB_pred  SVR_pred  Moreno_pred  K_SDB1  XGB_pred_SDB1  \\\n",
       "0    0.163539  0.161307  0.173020     0.157133  0.1538       0.150287   \n",
       "1    0.159778  0.160371  0.172414     0.156413  0.1473       0.143931   \n",
       "2    0.156518  0.161180  0.171670     0.155691  0.1257       0.136805   \n",
       "3    0.153759  0.160659  0.170807     0.154972  0.1249       0.128831   \n",
       "4    0.151500  0.161839  0.169844     0.154253  0.1355       0.141646   \n",
       "..        ...       ...       ...          ...     ...            ...   \n",
       "345  0.147769  0.135470  0.131603     0.143565     NaN            NaN   \n",
       "346  0.145699  0.133414  0.129944     0.141259     NaN            NaN   \n",
       "347  0.143544  0.131122  0.128526     0.139010     NaN            NaN   \n",
       "348  0.141305  0.130356  0.128059     0.136823     NaN            NaN   \n",
       "349  0.138980  0.123684  0.128034     0.134700     NaN            NaN   \n",
       "\n",
       "     SVR_pred_SDB1  Moreno_pred_SDB1  \n",
       "0         0.155675          0.170709  \n",
       "1         0.152295          0.164745  \n",
       "2         0.133990          0.129691  \n",
       "3         0.125759          0.122389  \n",
       "4         0.141275          0.137057  \n",
       "..             ...               ...  \n",
       "345            NaN               NaN  \n",
       "346            NaN               NaN  \n",
       "347            NaN               NaN  \n",
       "348            NaN               NaN  \n",
       "349            NaN               NaN  \n",
       "\n",
       "[350 rows x 8 columns]"
      ]
     },
     "execution_count": 134,
     "metadata": {},
     "output_type": "execute_result"
    }
   ],
   "source": [
    "df_analyze = pd.read_excel('../report/results.xlsx', sheet_name=1)\n",
    "df_analyze"
   ]
  },
  {
   "cell_type": "code",
   "execution_count": 147,
   "id": "fe518131",
   "metadata": {},
   "outputs": [
    {
     "name": "stdout",
     "output_type": "stream",
     "text": [
      "RMSE for XGB predictions: 0.00566648183145309\n",
      "RMSE for SVR predictions: 0.007012624376741899\n",
      "RMSE for Moreno's predictions: 0.013869422634938724\n"
     ]
    }
   ],
   "source": [
    "xgb_df = df_analyze[['test_set', 'XGB_pred']].dropna()\n",
    "rmse_xgb = np.sqrt(mean_squared_error(xgb_df['test_set'], xgb_df['XGB_pred']))\n",
    "\n",
    "svr_df = df_analyze[['test_set', 'SVR_pred']].dropna()\n",
    "rmse_svr = np.sqrt(mean_squared_error(svr_df['test_set'], svr_df['SVR_pred']))\n",
    "\n",
    "moreno_df = df_analyze[['test_set', 'Moreno_pred']].dropna()\n",
    "rmse_moreno = np.sqrt(mean_squared_error(moreno_df['test_set'], moreno_df['Moreno_pred']))\n",
    "\n",
    "print(f\"RMSE for XGB predictions: {rmse_xgb}\")\n",
    "print(f\"RMSE for SVR predictions: {rmse_svr}\")\n",
    "print(f\"RMSE for Moreno's predictions: {rmse_moreno}\")\n"
   ]
  },
  {
   "cell_type": "code",
   "execution_count": 148,
   "id": "a5e5fd36",
   "metadata": {},
   "outputs": [
    {
     "name": "stdout",
     "output_type": "stream",
     "text": [
      "MAE for XGB predictions: 0.003978275696510666\n",
      "MAE for SVR predictions: 0.005034940701970073\n",
      "MAE for Moreno's predictions: 0.006901533926826764\n"
     ]
    }
   ],
   "source": [
    "mae_xgb = np.mean(np.abs(xgb_df['test_set'] - xgb_df['XGB_pred']))\n",
    "mae_svr = np.mean(np.abs(svr_df['test_set'] - svr_df['SVR_pred']))\n",
    "mae_moreno = np.mean(np.abs(moreno_df['test_set'] - moreno_df['Moreno_pred']))\n",
    "\n",
    "print(f\"MAE for XGB predictions: {mae_xgb}\")\n",
    "print(f\"MAE for SVR predictions: {mae_svr}\")\n",
    "print(f\"MAE for Moreno's predictions: {mae_moreno}\")\n"
   ]
  },
  {
   "cell_type": "code",
   "execution_count": null,
   "id": "92567ec5",
   "metadata": {},
   "outputs": [],
   "source": []
  }
 ],
 "metadata": {
  "kernelspec": {
   "display_name": "THERMO",
   "language": "python",
   "name": "python3"
  },
  "language_info": {
   "codemirror_mode": {
    "name": "ipython",
    "version": 3
   },
   "file_extension": ".py",
   "mimetype": "text/x-python",
   "name": "python",
   "nbconvert_exporter": "python",
   "pygments_lexer": "ipython3",
   "version": "3.12.9"
  }
 },
 "nbformat": 4,
 "nbformat_minor": 5
}
