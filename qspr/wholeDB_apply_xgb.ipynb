{
 "cells": [
  {
   "cell_type": "code",
   "execution_count": 190,
   "id": "d8904825",
   "metadata": {},
   "outputs": [],
   "source": [
    "#Data\n",
    "import pandas as pd\n",
    "import numpy as np\n",
    "import sympy as sp\n",
    "import os\n",
    "import pickle\n",
    "\n",
    "#Plot\n",
    "import matplotlib.pyplot as plt\n",
    "\n",
    "#Model\n",
    "from pysr import PySRRegressor, TemplateExpressionSpec\n",
    "from sklearn.metrics import mean_squared_error, r2_score\n",
    "from sklearn.model_selection import train_test_split"
   ]
  },
  {
   "cell_type": "code",
   "execution_count": 191,
   "id": "2e363321",
   "metadata": {},
   "outputs": [],
   "source": [
    "# Load the Excel file\n",
    "df = pd.read_excel('../report/DB.xlsx')"
   ]
  },
  {
   "cell_type": "code",
   "execution_count": 192,
   "id": "d0abf85d",
   "metadata": {},
   "outputs": [
    {
     "data": {
      "text/html": [
       "<div>\n",
       "<style scoped>\n",
       "    .dataframe tbody tr th:only-of-type {\n",
       "        vertical-align: middle;\n",
       "    }\n",
       "\n",
       "    .dataframe tbody tr th {\n",
       "        vertical-align: top;\n",
       "    }\n",
       "\n",
       "    .dataframe thead th {\n",
       "        text-align: right;\n",
       "    }\n",
       "</style>\n",
       "<table border=\"1\" class=\"dataframe\">\n",
       "  <thead>\n",
       "    <tr style=\"text-align: right;\">\n",
       "      <th></th>\n",
       "      <th>compA</th>\n",
       "      <th>compB</th>\n",
       "      <th>XA</th>\n",
       "      <th>XB</th>\n",
       "      <th>T</th>\n",
       "      <th>P</th>\n",
       "      <th>K</th>\n",
       "      <th>CAS_A</th>\n",
       "      <th>SMILES_A</th>\n",
       "      <th>MW_A</th>\n",
       "      <th>CAS_B</th>\n",
       "      <th>SMILES_B</th>\n",
       "      <th>MW_B</th>\n",
       "      <th>mA</th>\n",
       "      <th>mB</th>\n",
       "      <th>KA</th>\n",
       "      <th>KB</th>\n",
       "    </tr>\n",
       "  </thead>\n",
       "  <tbody>\n",
       "    <tr>\n",
       "      <th>0</th>\n",
       "      <td>(1R-(1alpha,2beta,5alpha))-5-methyl-2-(1-methy...</td>\n",
       "      <td>decanoic acid</td>\n",
       "      <td>0.800000</td>\n",
       "      <td>0.200000</td>\n",
       "      <td>304.01</td>\n",
       "      <td>100000</td>\n",
       "      <td>0.1229</td>\n",
       "      <td>2216-51-5</td>\n",
       "      <td>CC(C)[C@@H]1CC[C@@H](C)C[C@H]1O</td>\n",
       "      <td>156.2674</td>\n",
       "      <td>334-48-5</td>\n",
       "      <td>CCCCCCCCCC(O)=O</td>\n",
       "      <td>172.2668</td>\n",
       "      <td>0.783947</td>\n",
       "      <td>0.216053</td>\n",
       "      <td>NaN</td>\n",
       "      <td>NaN</td>\n",
       "    </tr>\n",
       "    <tr>\n",
       "      <th>1</th>\n",
       "      <td>(1R-(1alpha,2beta,5alpha))-5-methyl-2-(1-methy...</td>\n",
       "      <td>decanoic acid</td>\n",
       "      <td>0.800000</td>\n",
       "      <td>0.200000</td>\n",
       "      <td>314.00</td>\n",
       "      <td>100000</td>\n",
       "      <td>0.1218</td>\n",
       "      <td>2216-51-5</td>\n",
       "      <td>CC(C)[C@@H]1CC[C@@H](C)C[C@H]1O</td>\n",
       "      <td>156.2674</td>\n",
       "      <td>334-48-5</td>\n",
       "      <td>CCCCCCCCCC(O)=O</td>\n",
       "      <td>172.2668</td>\n",
       "      <td>0.783947</td>\n",
       "      <td>0.216053</td>\n",
       "      <td>NaN</td>\n",
       "      <td>NaN</td>\n",
       "    </tr>\n",
       "    <tr>\n",
       "      <th>2</th>\n",
       "      <td>(1R-(1alpha,2beta,5alpha))-5-methyl-2-(1-methy...</td>\n",
       "      <td>decanoic acid</td>\n",
       "      <td>0.800000</td>\n",
       "      <td>0.200000</td>\n",
       "      <td>324.01</td>\n",
       "      <td>100000</td>\n",
       "      <td>0.1211</td>\n",
       "      <td>2216-51-5</td>\n",
       "      <td>CC(C)[C@@H]1CC[C@@H](C)C[C@H]1O</td>\n",
       "      <td>156.2674</td>\n",
       "      <td>334-48-5</td>\n",
       "      <td>CCCCCCCCCC(O)=O</td>\n",
       "      <td>172.2668</td>\n",
       "      <td>0.783947</td>\n",
       "      <td>0.216053</td>\n",
       "      <td>NaN</td>\n",
       "      <td>NaN</td>\n",
       "    </tr>\n",
       "    <tr>\n",
       "      <th>3</th>\n",
       "      <td>(1R-(1alpha,2beta,5alpha))-5-methyl-2-(1-methy...</td>\n",
       "      <td>decanoic acid</td>\n",
       "      <td>0.800000</td>\n",
       "      <td>0.200000</td>\n",
       "      <td>333.98</td>\n",
       "      <td>100000</td>\n",
       "      <td>0.1204</td>\n",
       "      <td>2216-51-5</td>\n",
       "      <td>CC(C)[C@@H]1CC[C@@H](C)C[C@H]1O</td>\n",
       "      <td>156.2674</td>\n",
       "      <td>334-48-5</td>\n",
       "      <td>CCCCCCCCCC(O)=O</td>\n",
       "      <td>172.2668</td>\n",
       "      <td>0.783947</td>\n",
       "      <td>0.216053</td>\n",
       "      <td>NaN</td>\n",
       "      <td>NaN</td>\n",
       "    </tr>\n",
       "    <tr>\n",
       "      <th>4</th>\n",
       "      <td>(1R-(1alpha,2beta,5alpha))-5-methyl-2-(1-methy...</td>\n",
       "      <td>decanoic acid</td>\n",
       "      <td>0.800000</td>\n",
       "      <td>0.200000</td>\n",
       "      <td>344.15</td>\n",
       "      <td>100000</td>\n",
       "      <td>0.1194</td>\n",
       "      <td>2216-51-5</td>\n",
       "      <td>CC(C)[C@@H]1CC[C@@H](C)C[C@H]1O</td>\n",
       "      <td>156.2674</td>\n",
       "      <td>334-48-5</td>\n",
       "      <td>CCCCCCCCCC(O)=O</td>\n",
       "      <td>172.2668</td>\n",
       "      <td>0.783947</td>\n",
       "      <td>0.216053</td>\n",
       "      <td>NaN</td>\n",
       "      <td>NaN</td>\n",
       "    </tr>\n",
       "    <tr>\n",
       "      <th>...</th>\n",
       "      <td>...</td>\n",
       "      <td>...</td>\n",
       "      <td>...</td>\n",
       "      <td>...</td>\n",
       "      <td>...</td>\n",
       "      <td>...</td>\n",
       "      <td>...</td>\n",
       "      <td>...</td>\n",
       "      <td>...</td>\n",
       "      <td>...</td>\n",
       "      <td>...</td>\n",
       "      <td>...</td>\n",
       "      <td>...</td>\n",
       "      <td>...</td>\n",
       "      <td>...</td>\n",
       "      <td>...</td>\n",
       "      <td>...</td>\n",
       "    </tr>\n",
       "    <tr>\n",
       "      <th>3080</th>\n",
       "      <td>undecane</td>\n",
       "      <td>tetradecanoic acid methyl ester</td>\n",
       "      <td>0.279504</td>\n",
       "      <td>0.648561</td>\n",
       "      <td>322.02</td>\n",
       "      <td>100000</td>\n",
       "      <td>0.1397</td>\n",
       "      <td>1120-21-4</td>\n",
       "      <td>CCCCCCCCCCC</td>\n",
       "      <td>156.3106</td>\n",
       "      <td>124-10-7</td>\n",
       "      <td>CCCCCCCCCCCCCC(=O)OC</td>\n",
       "      <td>242.4008</td>\n",
       "      <td>0.217467</td>\n",
       "      <td>0.782533</td>\n",
       "      <td>NaN</td>\n",
       "      <td>NaN</td>\n",
       "    </tr>\n",
       "    <tr>\n",
       "      <th>3081</th>\n",
       "      <td>undecane</td>\n",
       "      <td>tetradecanoic acid methyl ester</td>\n",
       "      <td>0.279504</td>\n",
       "      <td>0.648561</td>\n",
       "      <td>331.75</td>\n",
       "      <td>100000</td>\n",
       "      <td>0.1384</td>\n",
       "      <td>1120-21-4</td>\n",
       "      <td>CCCCCCCCCCC</td>\n",
       "      <td>156.3106</td>\n",
       "      <td>124-10-7</td>\n",
       "      <td>CCCCCCCCCCCCCC(=O)OC</td>\n",
       "      <td>242.4008</td>\n",
       "      <td>0.217467</td>\n",
       "      <td>0.782533</td>\n",
       "      <td>NaN</td>\n",
       "      <td>NaN</td>\n",
       "    </tr>\n",
       "    <tr>\n",
       "      <th>3082</th>\n",
       "      <td>undecane</td>\n",
       "      <td>tetradecanoic acid methyl ester</td>\n",
       "      <td>0.279504</td>\n",
       "      <td>0.648561</td>\n",
       "      <td>341.92</td>\n",
       "      <td>100000</td>\n",
       "      <td>0.1354</td>\n",
       "      <td>1120-21-4</td>\n",
       "      <td>CCCCCCCCCCC</td>\n",
       "      <td>156.3106</td>\n",
       "      <td>124-10-7</td>\n",
       "      <td>CCCCCCCCCCCCCC(=O)OC</td>\n",
       "      <td>242.4008</td>\n",
       "      <td>0.217467</td>\n",
       "      <td>0.782533</td>\n",
       "      <td>NaN</td>\n",
       "      <td>NaN</td>\n",
       "    </tr>\n",
       "    <tr>\n",
       "      <th>3083</th>\n",
       "      <td>undecane</td>\n",
       "      <td>tetradecanoic acid methyl ester</td>\n",
       "      <td>0.279504</td>\n",
       "      <td>0.648561</td>\n",
       "      <td>351.90</td>\n",
       "      <td>100000</td>\n",
       "      <td>0.1330</td>\n",
       "      <td>1120-21-4</td>\n",
       "      <td>CCCCCCCCCCC</td>\n",
       "      <td>156.3106</td>\n",
       "      <td>124-10-7</td>\n",
       "      <td>CCCCCCCCCCCCCC(=O)OC</td>\n",
       "      <td>242.4008</td>\n",
       "      <td>0.217467</td>\n",
       "      <td>0.782533</td>\n",
       "      <td>NaN</td>\n",
       "      <td>NaN</td>\n",
       "    </tr>\n",
       "    <tr>\n",
       "      <th>3084</th>\n",
       "      <td>undecane</td>\n",
       "      <td>tetradecanoic acid methyl ester</td>\n",
       "      <td>0.279504</td>\n",
       "      <td>0.648561</td>\n",
       "      <td>361.94</td>\n",
       "      <td>100000</td>\n",
       "      <td>0.1308</td>\n",
       "      <td>1120-21-4</td>\n",
       "      <td>CCCCCCCCCCC</td>\n",
       "      <td>156.3106</td>\n",
       "      <td>124-10-7</td>\n",
       "      <td>CCCCCCCCCCCCCC(=O)OC</td>\n",
       "      <td>242.4008</td>\n",
       "      <td>0.217467</td>\n",
       "      <td>0.782533</td>\n",
       "      <td>NaN</td>\n",
       "      <td>NaN</td>\n",
       "    </tr>\n",
       "  </tbody>\n",
       "</table>\n",
       "<p>3085 rows × 17 columns</p>\n",
       "</div>"
      ],
      "text/plain": [
       "                                                  compA  \\\n",
       "0     (1R-(1alpha,2beta,5alpha))-5-methyl-2-(1-methy...   \n",
       "1     (1R-(1alpha,2beta,5alpha))-5-methyl-2-(1-methy...   \n",
       "2     (1R-(1alpha,2beta,5alpha))-5-methyl-2-(1-methy...   \n",
       "3     (1R-(1alpha,2beta,5alpha))-5-methyl-2-(1-methy...   \n",
       "4     (1R-(1alpha,2beta,5alpha))-5-methyl-2-(1-methy...   \n",
       "...                                                 ...   \n",
       "3080                                           undecane   \n",
       "3081                                           undecane   \n",
       "3082                                           undecane   \n",
       "3083                                           undecane   \n",
       "3084                                           undecane   \n",
       "\n",
       "                                compB        XA        XB       T       P  \\\n",
       "0                       decanoic acid  0.800000  0.200000  304.01  100000   \n",
       "1                       decanoic acid  0.800000  0.200000  314.00  100000   \n",
       "2                       decanoic acid  0.800000  0.200000  324.01  100000   \n",
       "3                       decanoic acid  0.800000  0.200000  333.98  100000   \n",
       "4                       decanoic acid  0.800000  0.200000  344.15  100000   \n",
       "...                               ...       ...       ...     ...     ...   \n",
       "3080  tetradecanoic acid methyl ester  0.279504  0.648561  322.02  100000   \n",
       "3081  tetradecanoic acid methyl ester  0.279504  0.648561  331.75  100000   \n",
       "3082  tetradecanoic acid methyl ester  0.279504  0.648561  341.92  100000   \n",
       "3083  tetradecanoic acid methyl ester  0.279504  0.648561  351.90  100000   \n",
       "3084  tetradecanoic acid methyl ester  0.279504  0.648561  361.94  100000   \n",
       "\n",
       "           K      CAS_A                         SMILES_A      MW_A     CAS_B  \\\n",
       "0     0.1229  2216-51-5  CC(C)[C@@H]1CC[C@@H](C)C[C@H]1O  156.2674  334-48-5   \n",
       "1     0.1218  2216-51-5  CC(C)[C@@H]1CC[C@@H](C)C[C@H]1O  156.2674  334-48-5   \n",
       "2     0.1211  2216-51-5  CC(C)[C@@H]1CC[C@@H](C)C[C@H]1O  156.2674  334-48-5   \n",
       "3     0.1204  2216-51-5  CC(C)[C@@H]1CC[C@@H](C)C[C@H]1O  156.2674  334-48-5   \n",
       "4     0.1194  2216-51-5  CC(C)[C@@H]1CC[C@@H](C)C[C@H]1O  156.2674  334-48-5   \n",
       "...      ...        ...                              ...       ...       ...   \n",
       "3080  0.1397  1120-21-4                      CCCCCCCCCCC  156.3106  124-10-7   \n",
       "3081  0.1384  1120-21-4                      CCCCCCCCCCC  156.3106  124-10-7   \n",
       "3082  0.1354  1120-21-4                      CCCCCCCCCCC  156.3106  124-10-7   \n",
       "3083  0.1330  1120-21-4                      CCCCCCCCCCC  156.3106  124-10-7   \n",
       "3084  0.1308  1120-21-4                      CCCCCCCCCCC  156.3106  124-10-7   \n",
       "\n",
       "                  SMILES_B      MW_B        mA        mB  KA  KB  \n",
       "0          CCCCCCCCCC(O)=O  172.2668  0.783947  0.216053 NaN NaN  \n",
       "1          CCCCCCCCCC(O)=O  172.2668  0.783947  0.216053 NaN NaN  \n",
       "2          CCCCCCCCCC(O)=O  172.2668  0.783947  0.216053 NaN NaN  \n",
       "3          CCCCCCCCCC(O)=O  172.2668  0.783947  0.216053 NaN NaN  \n",
       "4          CCCCCCCCCC(O)=O  172.2668  0.783947  0.216053 NaN NaN  \n",
       "...                    ...       ...       ...       ...  ..  ..  \n",
       "3080  CCCCCCCCCCCCCC(=O)OC  242.4008  0.217467  0.782533 NaN NaN  \n",
       "3081  CCCCCCCCCCCCCC(=O)OC  242.4008  0.217467  0.782533 NaN NaN  \n",
       "3082  CCCCCCCCCCCCCC(=O)OC  242.4008  0.217467  0.782533 NaN NaN  \n",
       "3083  CCCCCCCCCCCCCC(=O)OC  242.4008  0.217467  0.782533 NaN NaN  \n",
       "3084  CCCCCCCCCCCCCC(=O)OC  242.4008  0.217467  0.782533 NaN NaN  \n",
       "\n",
       "[3085 rows x 17 columns]"
      ]
     },
     "execution_count": 192,
     "metadata": {},
     "output_type": "execute_result"
    }
   ],
   "source": [
    "df"
   ]
  },
  {
   "cell_type": "code",
   "execution_count": 193,
   "id": "ce211700",
   "metadata": {},
   "outputs": [
    {
     "name": "stdout",
     "output_type": "stream",
     "text": [
      "Empty DataFrame\n",
      "Columns: [compA, compB, XA, XB, T, P, K, CAS_A, SMILES_A, MW_A, CAS_B, SMILES_B, MW_B, mA, mB, KA, KB, K_numeric]\n",
      "Index: []\n"
     ]
    }
   ],
   "source": [
    "# Check for non-numeric values in df_merged['K']\n",
    "df['K_numeric'] = pd.to_numeric(df['K'], errors='coerce')\n",
    "\n",
    "# Get rows where the conversion resulted in NaN (meaning they had non-numeric values like '-')\n",
    "error_rows = df[df['K_numeric'].isna()]\n",
    "\n",
    "# Display those rows\n",
    "print(error_rows)"
   ]
  },
  {
   "cell_type": "code",
   "execution_count": 194,
   "id": "a9e09b39",
   "metadata": {},
   "outputs": [],
   "source": [
    "# Drop rows where 'K_numeric' is NaN (i.e., invalid values like '-')\n",
    "df_cleaned = df.dropna(subset=['K_numeric'])\n",
    "\n",
    "# Optionally, drop the 'K_numeric' column if no longer needed\n",
    "df_cleaned = df_cleaned.drop(columns=['K_numeric'])"
   ]
  },
  {
   "cell_type": "code",
   "execution_count": 195,
   "id": "693ba9a3",
   "metadata": {},
   "outputs": [],
   "source": [
    "df_A = df_cleaned[['SMILES_A', 'T']].copy()\n",
    "df_A = df_A.rename(columns={'SMILES_A': 'SMILES', 'T': 'T'})\n",
    "df_B = df_cleaned[['SMILES_B', 'T']].copy()\n",
    "df_B = df_B.rename(columns={'SMILES_B': 'SMILES', 'T': 'T'})\n",
    "\n",
    "# Save df to excel\n",
    "df_A.to_excel('../report/DB_A.xlsx', index=False)\n",
    "df_B.to_excel('../report/DB_B.xlsx', index=False)"
   ]
  },
  {
   "cell_type": "code",
   "execution_count": 196,
   "id": "ba03b8fb",
   "metadata": {},
   "outputs": [],
   "source": [
    "# # Load the Excel file\n",
    "# df_excel = pd.read_excel(\"DB_unique+predict.xlsx\")"
   ]
  },
  {
   "cell_type": "code",
   "execution_count": 197,
   "id": "a2279fe7",
   "metadata": {},
   "outputs": [],
   "source": [
    "# Load the Excel file\n",
    "df_excel = pd.read_excel(\"DB_unique_xgb_predictions.xlsx\")"
   ]
  },
  {
   "cell_type": "code",
   "execution_count": null,
   "id": "a3bce1b1",
   "metadata": {},
   "outputs": [],
   "source": [
    "# If want to keep exp values in df_cleaned\n",
    "# Rename and merge\n",
    "df_excel_A = df_excel.rename(columns={'SMILES': 'SMILES_A', 'K': 'KA_excel'})\n",
    "df_merged = pd.merge(df_cleaned, df_excel_A[['SMILES_A', 'T', 'KA_excel']], \n",
    "                     on=['SMILES_A', 'T'], how='left')\n",
    "\n",
    "# Prefer existing KA in df_cleaned if available\n",
    "df_merged['KA'] = df_merged['KA'].combine_first(df_merged['KA_excel'])\n",
    "\n",
    "# drop the temporary KA_excel column\n",
    "df_merged.drop(columns='KA_excel', inplace=True)\n",
    "\n",
    "df_excel_B = df_excel.rename(columns={'SMILES': 'SMILES_B', 'K': 'KB_excel'})\n",
    "df_merged = pd.merge(df_merged, df_excel_B[['SMILES_B', 'T', 'KB_excel']], \n",
    "                     on=['SMILES_B', 'T'], how='left')\n",
    "\n",
    "df_merged['KB'] = df_merged['KB'].combine_first(df_merged['KB_excel'])\n",
    "df_merged.drop(columns='KB_excel', inplace=True)"
   ]
  },
  {
   "cell_type": "code",
   "execution_count": null,
   "id": "b491f71f",
   "metadata": {},
   "outputs": [],
   "source": [
    "# df_cleaned = df_cleaned.drop(columns=['KA', 'KB'], errors='ignore')"
   ]
  },
  {
   "cell_type": "code",
   "execution_count": null,
   "id": "60510aa7",
   "metadata": {},
   "outputs": [],
   "source": [
    "# # Rename columns for merge\n",
    "# df_excel_A = df_excel.rename(columns={'SMILES': 'SMILES_A', 'K': 'KA'})\n",
    "# df_merged = pd.merge(df_cleaned, df_excel_A[['SMILES_A', 'T', 'KA']], on=['SMILES_A', 'T'], how='left')\n",
    "# df_excel_B = df_excel.rename(columns={'SMILES': 'SMILES_B', 'K': 'KB'})\n",
    "# df_merged = pd.merge(df_merged, df_excel_B[['SMILES_B', 'T', 'KB']], on=['SMILES_B', 'T'], how='left')"
   ]
  },
  {
   "cell_type": "code",
   "execution_count": 199,
   "id": "59c02a95",
   "metadata": {},
   "outputs": [
    {
     "data": {
      "text/html": [
       "<div>\n",
       "<style scoped>\n",
       "    .dataframe tbody tr th:only-of-type {\n",
       "        vertical-align: middle;\n",
       "    }\n",
       "\n",
       "    .dataframe tbody tr th {\n",
       "        vertical-align: top;\n",
       "    }\n",
       "\n",
       "    .dataframe thead th {\n",
       "        text-align: right;\n",
       "    }\n",
       "</style>\n",
       "<table border=\"1\" class=\"dataframe\">\n",
       "  <thead>\n",
       "    <tr style=\"text-align: right;\">\n",
       "      <th></th>\n",
       "      <th>compA</th>\n",
       "      <th>compB</th>\n",
       "      <th>XA</th>\n",
       "      <th>XB</th>\n",
       "      <th>T</th>\n",
       "      <th>P</th>\n",
       "      <th>K</th>\n",
       "      <th>CAS_A</th>\n",
       "      <th>SMILES_A</th>\n",
       "      <th>MW_A</th>\n",
       "      <th>CAS_B</th>\n",
       "      <th>SMILES_B</th>\n",
       "      <th>MW_B</th>\n",
       "      <th>mA</th>\n",
       "      <th>mB</th>\n",
       "      <th>KA</th>\n",
       "      <th>KB</th>\n",
       "    </tr>\n",
       "  </thead>\n",
       "  <tbody>\n",
       "    <tr>\n",
       "      <th>0</th>\n",
       "      <td>(1R-(1alpha,2beta,5alpha))-5-methyl-2-(1-methy...</td>\n",
       "      <td>decanoic acid</td>\n",
       "      <td>0.800000</td>\n",
       "      <td>0.200000</td>\n",
       "      <td>304.01</td>\n",
       "      <td>100000</td>\n",
       "      <td>0.1229</td>\n",
       "      <td>2216-51-5</td>\n",
       "      <td>CC(C)[C@@H]1CC[C@@H](C)C[C@H]1O</td>\n",
       "      <td>156.2674</td>\n",
       "      <td>334-48-5</td>\n",
       "      <td>CCCCCCCCCC(O)=O</td>\n",
       "      <td>172.2668</td>\n",
       "      <td>0.783947</td>\n",
       "      <td>0.216053</td>\n",
       "      <td>0.132136</td>\n",
       "      <td>0.147828</td>\n",
       "    </tr>\n",
       "    <tr>\n",
       "      <th>1</th>\n",
       "      <td>(1R-(1alpha,2beta,5alpha))-5-methyl-2-(1-methy...</td>\n",
       "      <td>decanoic acid</td>\n",
       "      <td>0.800000</td>\n",
       "      <td>0.200000</td>\n",
       "      <td>314.00</td>\n",
       "      <td>100000</td>\n",
       "      <td>0.1218</td>\n",
       "      <td>2216-51-5</td>\n",
       "      <td>CC(C)[C@@H]1CC[C@@H](C)C[C@H]1O</td>\n",
       "      <td>156.2674</td>\n",
       "      <td>334-48-5</td>\n",
       "      <td>CCCCCCCCCC(O)=O</td>\n",
       "      <td>172.2668</td>\n",
       "      <td>0.783947</td>\n",
       "      <td>0.216053</td>\n",
       "      <td>0.130615</td>\n",
       "      <td>0.144901</td>\n",
       "    </tr>\n",
       "    <tr>\n",
       "      <th>2</th>\n",
       "      <td>(1R-(1alpha,2beta,5alpha))-5-methyl-2-(1-methy...</td>\n",
       "      <td>decanoic acid</td>\n",
       "      <td>0.800000</td>\n",
       "      <td>0.200000</td>\n",
       "      <td>324.01</td>\n",
       "      <td>100000</td>\n",
       "      <td>0.1211</td>\n",
       "      <td>2216-51-5</td>\n",
       "      <td>CC(C)[C@@H]1CC[C@@H](C)C[C@H]1O</td>\n",
       "      <td>156.2674</td>\n",
       "      <td>334-48-5</td>\n",
       "      <td>CCCCCCCCCC(O)=O</td>\n",
       "      <td>172.2668</td>\n",
       "      <td>0.783947</td>\n",
       "      <td>0.216053</td>\n",
       "      <td>0.129336</td>\n",
       "      <td>0.143133</td>\n",
       "    </tr>\n",
       "    <tr>\n",
       "      <th>3</th>\n",
       "      <td>(1R-(1alpha,2beta,5alpha))-5-methyl-2-(1-methy...</td>\n",
       "      <td>decanoic acid</td>\n",
       "      <td>0.800000</td>\n",
       "      <td>0.200000</td>\n",
       "      <td>333.98</td>\n",
       "      <td>100000</td>\n",
       "      <td>0.1204</td>\n",
       "      <td>2216-51-5</td>\n",
       "      <td>CC(C)[C@@H]1CC[C@@H](C)C[C@H]1O</td>\n",
       "      <td>156.2674</td>\n",
       "      <td>334-48-5</td>\n",
       "      <td>CCCCCCCCCC(O)=O</td>\n",
       "      <td>172.2668</td>\n",
       "      <td>0.783947</td>\n",
       "      <td>0.216053</td>\n",
       "      <td>0.128770</td>\n",
       "      <td>0.142100</td>\n",
       "    </tr>\n",
       "    <tr>\n",
       "      <th>4</th>\n",
       "      <td>(1R-(1alpha,2beta,5alpha))-5-methyl-2-(1-methy...</td>\n",
       "      <td>decanoic acid</td>\n",
       "      <td>0.800000</td>\n",
       "      <td>0.200000</td>\n",
       "      <td>344.15</td>\n",
       "      <td>100000</td>\n",
       "      <td>0.1194</td>\n",
       "      <td>2216-51-5</td>\n",
       "      <td>CC(C)[C@@H]1CC[C@@H](C)C[C@H]1O</td>\n",
       "      <td>156.2674</td>\n",
       "      <td>334-48-5</td>\n",
       "      <td>CCCCCCCCCC(O)=O</td>\n",
       "      <td>172.2668</td>\n",
       "      <td>0.783947</td>\n",
       "      <td>0.216053</td>\n",
       "      <td>0.125668</td>\n",
       "      <td>0.139309</td>\n",
       "    </tr>\n",
       "    <tr>\n",
       "      <th>...</th>\n",
       "      <td>...</td>\n",
       "      <td>...</td>\n",
       "      <td>...</td>\n",
       "      <td>...</td>\n",
       "      <td>...</td>\n",
       "      <td>...</td>\n",
       "      <td>...</td>\n",
       "      <td>...</td>\n",
       "      <td>...</td>\n",
       "      <td>...</td>\n",
       "      <td>...</td>\n",
       "      <td>...</td>\n",
       "      <td>...</td>\n",
       "      <td>...</td>\n",
       "      <td>...</td>\n",
       "      <td>...</td>\n",
       "      <td>...</td>\n",
       "    </tr>\n",
       "    <tr>\n",
       "      <th>3080</th>\n",
       "      <td>undecane</td>\n",
       "      <td>tetradecanoic acid methyl ester</td>\n",
       "      <td>0.279504</td>\n",
       "      <td>0.648561</td>\n",
       "      <td>322.02</td>\n",
       "      <td>100000</td>\n",
       "      <td>0.1397</td>\n",
       "      <td>1120-21-4</td>\n",
       "      <td>CCCCCCCCCCC</td>\n",
       "      <td>156.3106</td>\n",
       "      <td>124-10-7</td>\n",
       "      <td>CCCCCCCCCCCCCC(=O)OC</td>\n",
       "      <td>242.4008</td>\n",
       "      <td>0.217467</td>\n",
       "      <td>0.782533</td>\n",
       "      <td>0.123445</td>\n",
       "      <td>0.142102</td>\n",
       "    </tr>\n",
       "    <tr>\n",
       "      <th>3081</th>\n",
       "      <td>undecane</td>\n",
       "      <td>tetradecanoic acid methyl ester</td>\n",
       "      <td>0.279504</td>\n",
       "      <td>0.648561</td>\n",
       "      <td>331.75</td>\n",
       "      <td>100000</td>\n",
       "      <td>0.1384</td>\n",
       "      <td>1120-21-4</td>\n",
       "      <td>CCCCCCCCCCC</td>\n",
       "      <td>156.3106</td>\n",
       "      <td>124-10-7</td>\n",
       "      <td>CCCCCCCCCCCCCC(=O)OC</td>\n",
       "      <td>242.4008</td>\n",
       "      <td>0.217467</td>\n",
       "      <td>0.782533</td>\n",
       "      <td>0.120640</td>\n",
       "      <td>0.139657</td>\n",
       "    </tr>\n",
       "    <tr>\n",
       "      <th>3082</th>\n",
       "      <td>undecane</td>\n",
       "      <td>tetradecanoic acid methyl ester</td>\n",
       "      <td>0.279504</td>\n",
       "      <td>0.648561</td>\n",
       "      <td>341.92</td>\n",
       "      <td>100000</td>\n",
       "      <td>0.1354</td>\n",
       "      <td>1120-21-4</td>\n",
       "      <td>CCCCCCCCCCC</td>\n",
       "      <td>156.3106</td>\n",
       "      <td>124-10-7</td>\n",
       "      <td>CCCCCCCCCCCCCC(=O)OC</td>\n",
       "      <td>242.4008</td>\n",
       "      <td>0.217467</td>\n",
       "      <td>0.782533</td>\n",
       "      <td>0.117905</td>\n",
       "      <td>0.138230</td>\n",
       "    </tr>\n",
       "    <tr>\n",
       "      <th>3083</th>\n",
       "      <td>undecane</td>\n",
       "      <td>tetradecanoic acid methyl ester</td>\n",
       "      <td>0.279504</td>\n",
       "      <td>0.648561</td>\n",
       "      <td>351.90</td>\n",
       "      <td>100000</td>\n",
       "      <td>0.1330</td>\n",
       "      <td>1120-21-4</td>\n",
       "      <td>CCCCCCCCCCC</td>\n",
       "      <td>156.3106</td>\n",
       "      <td>124-10-7</td>\n",
       "      <td>CCCCCCCCCCCCCC(=O)OC</td>\n",
       "      <td>242.4008</td>\n",
       "      <td>0.217467</td>\n",
       "      <td>0.782533</td>\n",
       "      <td>0.115874</td>\n",
       "      <td>0.140397</td>\n",
       "    </tr>\n",
       "    <tr>\n",
       "      <th>3084</th>\n",
       "      <td>undecane</td>\n",
       "      <td>tetradecanoic acid methyl ester</td>\n",
       "      <td>0.279504</td>\n",
       "      <td>0.648561</td>\n",
       "      <td>361.94</td>\n",
       "      <td>100000</td>\n",
       "      <td>0.1308</td>\n",
       "      <td>1120-21-4</td>\n",
       "      <td>CCCCCCCCCCC</td>\n",
       "      <td>156.3106</td>\n",
       "      <td>124-10-7</td>\n",
       "      <td>CCCCCCCCCCCCCC(=O)OC</td>\n",
       "      <td>242.4008</td>\n",
       "      <td>0.217467</td>\n",
       "      <td>0.782533</td>\n",
       "      <td>0.113003</td>\n",
       "      <td>0.136168</td>\n",
       "    </tr>\n",
       "  </tbody>\n",
       "</table>\n",
       "<p>3085 rows × 17 columns</p>\n",
       "</div>"
      ],
      "text/plain": [
       "                                                  compA  \\\n",
       "0     (1R-(1alpha,2beta,5alpha))-5-methyl-2-(1-methy...   \n",
       "1     (1R-(1alpha,2beta,5alpha))-5-methyl-2-(1-methy...   \n",
       "2     (1R-(1alpha,2beta,5alpha))-5-methyl-2-(1-methy...   \n",
       "3     (1R-(1alpha,2beta,5alpha))-5-methyl-2-(1-methy...   \n",
       "4     (1R-(1alpha,2beta,5alpha))-5-methyl-2-(1-methy...   \n",
       "...                                                 ...   \n",
       "3080                                           undecane   \n",
       "3081                                           undecane   \n",
       "3082                                           undecane   \n",
       "3083                                           undecane   \n",
       "3084                                           undecane   \n",
       "\n",
       "                                compB        XA        XB       T       P  \\\n",
       "0                       decanoic acid  0.800000  0.200000  304.01  100000   \n",
       "1                       decanoic acid  0.800000  0.200000  314.00  100000   \n",
       "2                       decanoic acid  0.800000  0.200000  324.01  100000   \n",
       "3                       decanoic acid  0.800000  0.200000  333.98  100000   \n",
       "4                       decanoic acid  0.800000  0.200000  344.15  100000   \n",
       "...                               ...       ...       ...     ...     ...   \n",
       "3080  tetradecanoic acid methyl ester  0.279504  0.648561  322.02  100000   \n",
       "3081  tetradecanoic acid methyl ester  0.279504  0.648561  331.75  100000   \n",
       "3082  tetradecanoic acid methyl ester  0.279504  0.648561  341.92  100000   \n",
       "3083  tetradecanoic acid methyl ester  0.279504  0.648561  351.90  100000   \n",
       "3084  tetradecanoic acid methyl ester  0.279504  0.648561  361.94  100000   \n",
       "\n",
       "           K      CAS_A                         SMILES_A      MW_A     CAS_B  \\\n",
       "0     0.1229  2216-51-5  CC(C)[C@@H]1CC[C@@H](C)C[C@H]1O  156.2674  334-48-5   \n",
       "1     0.1218  2216-51-5  CC(C)[C@@H]1CC[C@@H](C)C[C@H]1O  156.2674  334-48-5   \n",
       "2     0.1211  2216-51-5  CC(C)[C@@H]1CC[C@@H](C)C[C@H]1O  156.2674  334-48-5   \n",
       "3     0.1204  2216-51-5  CC(C)[C@@H]1CC[C@@H](C)C[C@H]1O  156.2674  334-48-5   \n",
       "4     0.1194  2216-51-5  CC(C)[C@@H]1CC[C@@H](C)C[C@H]1O  156.2674  334-48-5   \n",
       "...      ...        ...                              ...       ...       ...   \n",
       "3080  0.1397  1120-21-4                      CCCCCCCCCCC  156.3106  124-10-7   \n",
       "3081  0.1384  1120-21-4                      CCCCCCCCCCC  156.3106  124-10-7   \n",
       "3082  0.1354  1120-21-4                      CCCCCCCCCCC  156.3106  124-10-7   \n",
       "3083  0.1330  1120-21-4                      CCCCCCCCCCC  156.3106  124-10-7   \n",
       "3084  0.1308  1120-21-4                      CCCCCCCCCCC  156.3106  124-10-7   \n",
       "\n",
       "                  SMILES_B      MW_B        mA        mB        KA        KB  \n",
       "0          CCCCCCCCCC(O)=O  172.2668  0.783947  0.216053  0.132136  0.147828  \n",
       "1          CCCCCCCCCC(O)=O  172.2668  0.783947  0.216053  0.130615  0.144901  \n",
       "2          CCCCCCCCCC(O)=O  172.2668  0.783947  0.216053  0.129336  0.143133  \n",
       "3          CCCCCCCCCC(O)=O  172.2668  0.783947  0.216053  0.128770  0.142100  \n",
       "4          CCCCCCCCCC(O)=O  172.2668  0.783947  0.216053  0.125668  0.139309  \n",
       "...                    ...       ...       ...       ...       ...       ...  \n",
       "3080  CCCCCCCCCCCCCC(=O)OC  242.4008  0.217467  0.782533  0.123445  0.142102  \n",
       "3081  CCCCCCCCCCCCCC(=O)OC  242.4008  0.217467  0.782533  0.120640  0.139657  \n",
       "3082  CCCCCCCCCCCCCC(=O)OC  242.4008  0.217467  0.782533  0.117905  0.138230  \n",
       "3083  CCCCCCCCCCCCCC(=O)OC  242.4008  0.217467  0.782533  0.115874  0.140397  \n",
       "3084  CCCCCCCCCCCCCC(=O)OC  242.4008  0.217467  0.782533  0.113003  0.136168  \n",
       "\n",
       "[3085 rows x 17 columns]"
      ]
     },
     "execution_count": 199,
     "metadata": {},
     "output_type": "execute_result"
    }
   ],
   "source": [
    "df_merged"
   ]
  },
  {
   "cell_type": "code",
   "execution_count": 200,
   "id": "5c7a3ea8",
   "metadata": {},
   "outputs": [],
   "source": [
    "df_merged.to_excel('../report/DB_xgb_predict+exp.xlsx', index=False)"
   ]
  },
  {
   "cell_type": "markdown",
   "id": "fcf844f2",
   "metadata": {},
   "source": [
    "APPLY WHOLE EQUATIONS"
   ]
  },
  {
   "cell_type": "code",
   "execution_count": 184,
   "id": "f8f33861",
   "metadata": {},
   "outputs": [],
   "source": [
    "# # First, group by the combination of 'compA' and 'compB' to count occurrences\n",
    "# mixture_counts = df_merged.groupby(['compA', 'compB']).size()\n",
    "\n",
    "# # Filter out mixtures that appear 2 or fewer times\n",
    "# valid_mixtures = mixture_counts[mixture_counts > 2].index\n",
    "\n",
    "# # Now, filter your original dataframe to keep only those rows with valid mixtures\n",
    "# df_filtered = df_merged[df_merged.set_index(['compA', 'compB']).index.isin(valid_mixtures)]\n",
    "\n",
    "# # Remove rows where any column has the value '149-32-6' - has weird SMILES & value > 0.3\n",
    "# df_merged = df_filtered.loc[~df_filtered.isin(['149-32-6']).any(axis=1)]\n",
    "# # # Remove rows where any column has the value '115-77-5' - only 1 datapoint, cant guarantee methodology\n",
    "# # df_merged = df_filtered.loc[~df_filtered.isin(['115-77-5']).any(axis=1)]"
   ]
  },
  {
   "cell_type": "code",
   "execution_count": 231,
   "id": "33ec8b4f",
   "metadata": {},
   "outputs": [],
   "source": [
    "# Replace df_merged with predicted df\n",
    "df_merged = pd.read_excel('../report/DB_xgb_predict+exp.xlsx', sheet_name='DB_remove_outliers')"
   ]
  },
  {
   "cell_type": "code",
   "execution_count": 232,
   "id": "5e21880f",
   "metadata": {},
   "outputs": [
    {
     "data": {
      "text/html": [
       "<div>\n",
       "<style scoped>\n",
       "    .dataframe tbody tr th:only-of-type {\n",
       "        vertical-align: middle;\n",
       "    }\n",
       "\n",
       "    .dataframe tbody tr th {\n",
       "        vertical-align: top;\n",
       "    }\n",
       "\n",
       "    .dataframe thead th {\n",
       "        text-align: right;\n",
       "    }\n",
       "</style>\n",
       "<table border=\"1\" class=\"dataframe\">\n",
       "  <thead>\n",
       "    <tr style=\"text-align: right;\">\n",
       "      <th></th>\n",
       "      <th>compA</th>\n",
       "      <th>compB</th>\n",
       "      <th>XA</th>\n",
       "      <th>XB</th>\n",
       "      <th>T</th>\n",
       "      <th>P</th>\n",
       "      <th>K</th>\n",
       "      <th>CAS_A</th>\n",
       "      <th>SMILES_A</th>\n",
       "      <th>MW_A</th>\n",
       "      <th>CAS_B</th>\n",
       "      <th>SMILES_B</th>\n",
       "      <th>MW_B</th>\n",
       "      <th>mA</th>\n",
       "      <th>mB</th>\n",
       "      <th>KA</th>\n",
       "      <th>KB</th>\n",
       "    </tr>\n",
       "  </thead>\n",
       "  <tbody>\n",
       "    <tr>\n",
       "      <th>0</th>\n",
       "      <td>(1R-(1alpha,2beta,5alpha))-5-methyl-2-(1-methy...</td>\n",
       "      <td>decanoic acid</td>\n",
       "      <td>0.800000</td>\n",
       "      <td>0.200000</td>\n",
       "      <td>304.01</td>\n",
       "      <td>100000</td>\n",
       "      <td>0.1229</td>\n",
       "      <td>2216-51-5</td>\n",
       "      <td>CC(C)[C@@H]1CC[C@@H](C)C[C@H]1O</td>\n",
       "      <td>156.2674</td>\n",
       "      <td>334-48-5</td>\n",
       "      <td>CCCCCCCCCC(O)=O</td>\n",
       "      <td>172.2668</td>\n",
       "      <td>0.783947</td>\n",
       "      <td>0.216053</td>\n",
       "      <td>0.132136</td>\n",
       "      <td>0.147828</td>\n",
       "    </tr>\n",
       "    <tr>\n",
       "      <th>1</th>\n",
       "      <td>(1R-(1alpha,2beta,5alpha))-5-methyl-2-(1-methy...</td>\n",
       "      <td>decanoic acid</td>\n",
       "      <td>0.800000</td>\n",
       "      <td>0.200000</td>\n",
       "      <td>314.00</td>\n",
       "      <td>100000</td>\n",
       "      <td>0.1218</td>\n",
       "      <td>2216-51-5</td>\n",
       "      <td>CC(C)[C@@H]1CC[C@@H](C)C[C@H]1O</td>\n",
       "      <td>156.2674</td>\n",
       "      <td>334-48-5</td>\n",
       "      <td>CCCCCCCCCC(O)=O</td>\n",
       "      <td>172.2668</td>\n",
       "      <td>0.783947</td>\n",
       "      <td>0.216053</td>\n",
       "      <td>0.130615</td>\n",
       "      <td>0.144901</td>\n",
       "    </tr>\n",
       "    <tr>\n",
       "      <th>2</th>\n",
       "      <td>(1R-(1alpha,2beta,5alpha))-5-methyl-2-(1-methy...</td>\n",
       "      <td>decanoic acid</td>\n",
       "      <td>0.800000</td>\n",
       "      <td>0.200000</td>\n",
       "      <td>324.01</td>\n",
       "      <td>100000</td>\n",
       "      <td>0.1211</td>\n",
       "      <td>2216-51-5</td>\n",
       "      <td>CC(C)[C@@H]1CC[C@@H](C)C[C@H]1O</td>\n",
       "      <td>156.2674</td>\n",
       "      <td>334-48-5</td>\n",
       "      <td>CCCCCCCCCC(O)=O</td>\n",
       "      <td>172.2668</td>\n",
       "      <td>0.783947</td>\n",
       "      <td>0.216053</td>\n",
       "      <td>0.129336</td>\n",
       "      <td>0.143133</td>\n",
       "    </tr>\n",
       "    <tr>\n",
       "      <th>3</th>\n",
       "      <td>(1R-(1alpha,2beta,5alpha))-5-methyl-2-(1-methy...</td>\n",
       "      <td>decanoic acid</td>\n",
       "      <td>0.800000</td>\n",
       "      <td>0.200000</td>\n",
       "      <td>333.98</td>\n",
       "      <td>100000</td>\n",
       "      <td>0.1204</td>\n",
       "      <td>2216-51-5</td>\n",
       "      <td>CC(C)[C@@H]1CC[C@@H](C)C[C@H]1O</td>\n",
       "      <td>156.2674</td>\n",
       "      <td>334-48-5</td>\n",
       "      <td>CCCCCCCCCC(O)=O</td>\n",
       "      <td>172.2668</td>\n",
       "      <td>0.783947</td>\n",
       "      <td>0.216053</td>\n",
       "      <td>0.128770</td>\n",
       "      <td>0.142100</td>\n",
       "    </tr>\n",
       "    <tr>\n",
       "      <th>4</th>\n",
       "      <td>(1R-(1alpha,2beta,5alpha))-5-methyl-2-(1-methy...</td>\n",
       "      <td>decanoic acid</td>\n",
       "      <td>0.800000</td>\n",
       "      <td>0.200000</td>\n",
       "      <td>344.15</td>\n",
       "      <td>100000</td>\n",
       "      <td>0.1194</td>\n",
       "      <td>2216-51-5</td>\n",
       "      <td>CC(C)[C@@H]1CC[C@@H](C)C[C@H]1O</td>\n",
       "      <td>156.2674</td>\n",
       "      <td>334-48-5</td>\n",
       "      <td>CCCCCCCCCC(O)=O</td>\n",
       "      <td>172.2668</td>\n",
       "      <td>0.783947</td>\n",
       "      <td>0.216053</td>\n",
       "      <td>0.125668</td>\n",
       "      <td>0.139309</td>\n",
       "    </tr>\n",
       "    <tr>\n",
       "      <th>...</th>\n",
       "      <td>...</td>\n",
       "      <td>...</td>\n",
       "      <td>...</td>\n",
       "      <td>...</td>\n",
       "      <td>...</td>\n",
       "      <td>...</td>\n",
       "      <td>...</td>\n",
       "      <td>...</td>\n",
       "      <td>...</td>\n",
       "      <td>...</td>\n",
       "      <td>...</td>\n",
       "      <td>...</td>\n",
       "      <td>...</td>\n",
       "      <td>...</td>\n",
       "      <td>...</td>\n",
       "      <td>...</td>\n",
       "      <td>...</td>\n",
       "    </tr>\n",
       "    <tr>\n",
       "      <th>3073</th>\n",
       "      <td>undecane</td>\n",
       "      <td>tetradecanoic acid methyl ester</td>\n",
       "      <td>0.279504</td>\n",
       "      <td>0.648561</td>\n",
       "      <td>322.02</td>\n",
       "      <td>100000</td>\n",
       "      <td>0.1397</td>\n",
       "      <td>1120-21-4</td>\n",
       "      <td>CCCCCCCCCCC</td>\n",
       "      <td>156.3106</td>\n",
       "      <td>124-10-7</td>\n",
       "      <td>CCCCCCCCCCCCCC(=O)OC</td>\n",
       "      <td>242.4008</td>\n",
       "      <td>0.217467</td>\n",
       "      <td>0.782533</td>\n",
       "      <td>0.123445</td>\n",
       "      <td>0.142102</td>\n",
       "    </tr>\n",
       "    <tr>\n",
       "      <th>3074</th>\n",
       "      <td>undecane</td>\n",
       "      <td>tetradecanoic acid methyl ester</td>\n",
       "      <td>0.279504</td>\n",
       "      <td>0.648561</td>\n",
       "      <td>331.75</td>\n",
       "      <td>100000</td>\n",
       "      <td>0.1384</td>\n",
       "      <td>1120-21-4</td>\n",
       "      <td>CCCCCCCCCCC</td>\n",
       "      <td>156.3106</td>\n",
       "      <td>124-10-7</td>\n",
       "      <td>CCCCCCCCCCCCCC(=O)OC</td>\n",
       "      <td>242.4008</td>\n",
       "      <td>0.217467</td>\n",
       "      <td>0.782533</td>\n",
       "      <td>0.120640</td>\n",
       "      <td>0.139657</td>\n",
       "    </tr>\n",
       "    <tr>\n",
       "      <th>3075</th>\n",
       "      <td>undecane</td>\n",
       "      <td>tetradecanoic acid methyl ester</td>\n",
       "      <td>0.279504</td>\n",
       "      <td>0.648561</td>\n",
       "      <td>341.92</td>\n",
       "      <td>100000</td>\n",
       "      <td>0.1354</td>\n",
       "      <td>1120-21-4</td>\n",
       "      <td>CCCCCCCCCCC</td>\n",
       "      <td>156.3106</td>\n",
       "      <td>124-10-7</td>\n",
       "      <td>CCCCCCCCCCCCCC(=O)OC</td>\n",
       "      <td>242.4008</td>\n",
       "      <td>0.217467</td>\n",
       "      <td>0.782533</td>\n",
       "      <td>0.117905</td>\n",
       "      <td>0.138230</td>\n",
       "    </tr>\n",
       "    <tr>\n",
       "      <th>3076</th>\n",
       "      <td>undecane</td>\n",
       "      <td>tetradecanoic acid methyl ester</td>\n",
       "      <td>0.279504</td>\n",
       "      <td>0.648561</td>\n",
       "      <td>351.90</td>\n",
       "      <td>100000</td>\n",
       "      <td>0.1330</td>\n",
       "      <td>1120-21-4</td>\n",
       "      <td>CCCCCCCCCCC</td>\n",
       "      <td>156.3106</td>\n",
       "      <td>124-10-7</td>\n",
       "      <td>CCCCCCCCCCCCCC(=O)OC</td>\n",
       "      <td>242.4008</td>\n",
       "      <td>0.217467</td>\n",
       "      <td>0.782533</td>\n",
       "      <td>0.115874</td>\n",
       "      <td>0.140397</td>\n",
       "    </tr>\n",
       "    <tr>\n",
       "      <th>3077</th>\n",
       "      <td>undecane</td>\n",
       "      <td>tetradecanoic acid methyl ester</td>\n",
       "      <td>0.279504</td>\n",
       "      <td>0.648561</td>\n",
       "      <td>361.94</td>\n",
       "      <td>100000</td>\n",
       "      <td>0.1308</td>\n",
       "      <td>1120-21-4</td>\n",
       "      <td>CCCCCCCCCCC</td>\n",
       "      <td>156.3106</td>\n",
       "      <td>124-10-7</td>\n",
       "      <td>CCCCCCCCCCCCCC(=O)OC</td>\n",
       "      <td>242.4008</td>\n",
       "      <td>0.217467</td>\n",
       "      <td>0.782533</td>\n",
       "      <td>0.113003</td>\n",
       "      <td>0.136168</td>\n",
       "    </tr>\n",
       "  </tbody>\n",
       "</table>\n",
       "<p>3078 rows × 17 columns</p>\n",
       "</div>"
      ],
      "text/plain": [
       "                                                  compA  \\\n",
       "0     (1R-(1alpha,2beta,5alpha))-5-methyl-2-(1-methy...   \n",
       "1     (1R-(1alpha,2beta,5alpha))-5-methyl-2-(1-methy...   \n",
       "2     (1R-(1alpha,2beta,5alpha))-5-methyl-2-(1-methy...   \n",
       "3     (1R-(1alpha,2beta,5alpha))-5-methyl-2-(1-methy...   \n",
       "4     (1R-(1alpha,2beta,5alpha))-5-methyl-2-(1-methy...   \n",
       "...                                                 ...   \n",
       "3073                                           undecane   \n",
       "3074                                           undecane   \n",
       "3075                                           undecane   \n",
       "3076                                           undecane   \n",
       "3077                                           undecane   \n",
       "\n",
       "                                compB        XA        XB       T       P  \\\n",
       "0                       decanoic acid  0.800000  0.200000  304.01  100000   \n",
       "1                       decanoic acid  0.800000  0.200000  314.00  100000   \n",
       "2                       decanoic acid  0.800000  0.200000  324.01  100000   \n",
       "3                       decanoic acid  0.800000  0.200000  333.98  100000   \n",
       "4                       decanoic acid  0.800000  0.200000  344.15  100000   \n",
       "...                               ...       ...       ...     ...     ...   \n",
       "3073  tetradecanoic acid methyl ester  0.279504  0.648561  322.02  100000   \n",
       "3074  tetradecanoic acid methyl ester  0.279504  0.648561  331.75  100000   \n",
       "3075  tetradecanoic acid methyl ester  0.279504  0.648561  341.92  100000   \n",
       "3076  tetradecanoic acid methyl ester  0.279504  0.648561  351.90  100000   \n",
       "3077  tetradecanoic acid methyl ester  0.279504  0.648561  361.94  100000   \n",
       "\n",
       "           K      CAS_A                         SMILES_A      MW_A     CAS_B  \\\n",
       "0     0.1229  2216-51-5  CC(C)[C@@H]1CC[C@@H](C)C[C@H]1O  156.2674  334-48-5   \n",
       "1     0.1218  2216-51-5  CC(C)[C@@H]1CC[C@@H](C)C[C@H]1O  156.2674  334-48-5   \n",
       "2     0.1211  2216-51-5  CC(C)[C@@H]1CC[C@@H](C)C[C@H]1O  156.2674  334-48-5   \n",
       "3     0.1204  2216-51-5  CC(C)[C@@H]1CC[C@@H](C)C[C@H]1O  156.2674  334-48-5   \n",
       "4     0.1194  2216-51-5  CC(C)[C@@H]1CC[C@@H](C)C[C@H]1O  156.2674  334-48-5   \n",
       "...      ...        ...                              ...       ...       ...   \n",
       "3073  0.1397  1120-21-4                      CCCCCCCCCCC  156.3106  124-10-7   \n",
       "3074  0.1384  1120-21-4                      CCCCCCCCCCC  156.3106  124-10-7   \n",
       "3075  0.1354  1120-21-4                      CCCCCCCCCCC  156.3106  124-10-7   \n",
       "3076  0.1330  1120-21-4                      CCCCCCCCCCC  156.3106  124-10-7   \n",
       "3077  0.1308  1120-21-4                      CCCCCCCCCCC  156.3106  124-10-7   \n",
       "\n",
       "                  SMILES_B      MW_B        mA        mB        KA        KB  \n",
       "0          CCCCCCCCCC(O)=O  172.2668  0.783947  0.216053  0.132136  0.147828  \n",
       "1          CCCCCCCCCC(O)=O  172.2668  0.783947  0.216053  0.130615  0.144901  \n",
       "2          CCCCCCCCCC(O)=O  172.2668  0.783947  0.216053  0.129336  0.143133  \n",
       "3          CCCCCCCCCC(O)=O  172.2668  0.783947  0.216053  0.128770  0.142100  \n",
       "4          CCCCCCCCCC(O)=O  172.2668  0.783947  0.216053  0.125668  0.139309  \n",
       "...                    ...       ...       ...       ...       ...       ...  \n",
       "3073  CCCCCCCCCCCCCC(=O)OC  242.4008  0.217467  0.782533  0.123445  0.142102  \n",
       "3074  CCCCCCCCCCCCCC(=O)OC  242.4008  0.217467  0.782533  0.120640  0.139657  \n",
       "3075  CCCCCCCCCCCCCC(=O)OC  242.4008  0.217467  0.782533  0.117905  0.138230  \n",
       "3076  CCCCCCCCCCCCCC(=O)OC  242.4008  0.217467  0.782533  0.115874  0.140397  \n",
       "3077  CCCCCCCCCCCCCC(=O)OC  242.4008  0.217467  0.782533  0.113003  0.136168  \n",
       "\n",
       "[3078 rows x 17 columns]"
      ]
     },
     "execution_count": 232,
     "metadata": {},
     "output_type": "execute_result"
    }
   ],
   "source": [
    "df_merged"
   ]
  },
  {
   "cell_type": "code",
   "execution_count": 233,
   "id": "cd249580",
   "metadata": {},
   "outputs": [],
   "source": [
    "df_merged['mAKA'] = df_merged['mA'] * df_merged['KA']\n",
    "df_merged['mBKB'] = df_merged['mB'] * df_merged['KB']"
   ]
  },
  {
   "cell_type": "code",
   "execution_count": 234,
   "id": "60f0403e",
   "metadata": {},
   "outputs": [],
   "source": [
    "selected_columns = ['mA', 'mB', 'T', 'KA', 'KB', 'mAKA', 'mBKB']  # adjust as needed\n",
    "df_new = df_merged[selected_columns]\n",
    "y_true = df_merged['K']\n",
    "\n",
    "info_columns = ['compA', 'compB', 'SMILES_A', 'SMILES_B']\n",
    "df_info = df_merged[info_columns]"
   ]
  },
  {
   "cell_type": "markdown",
   "id": "b4eac73c",
   "metadata": {},
   "source": [
    "EVALUATE MODELS"
   ]
  },
  {
   "cell_type": "code",
   "execution_count": 235,
   "id": "23ccc51e",
   "metadata": {},
   "outputs": [
    {
     "name": "stdout",
     "output_type": "stream",
     "text": [
      "['../linux_outputs/10K/20250407_111454_B7bKDy', '../linux_outputs/10K/20250407_115912_M4dvpu', '../linux_outputs/10K/20250407_125503_3SEVTh', '../linux_outputs/10K/20250407_134306_L5ya7j', '../linux_outputs/10K/20250408_152854_qNpDzj', '../linux_outputs/10K/20250408_160226_7tuMuV', '../linux_outputs/10K/20250408_163850_vyfftu', '../linux_outputs/10K/20250408_171835_iJ6HKe', '../linux_outputs/10K/20250409_095336_s1iQOw', '../linux_outputs/10K/20250409_105247_yk2cuk', '../linux_outputs/10K/20250409_113752_Tc4GSi', '../linux_outputs/10K/20250409_120816_1fthha', '../linux_outputs/10K/20250410_100349_cCxrnR', '../linux_outputs/10K/20250410_142914_1Y9BD4', '../linux_outputs/10K/20250411_131629_9zMX4d', '../linux_outputs/10K/20250411_172421_Y9VWr1', '../linux_outputs/10K/20250430_161345_EP8N1d', '../linux_outputs/10K/20250430_161706_wdOpae', '../linux_outputs/10K/20250430_171549_KcqsQc', '../linux_outputs/10K/20250430_171656_5h8Eky', '../linux_outputs/10K/20250505_142752_2ftXh4', '../linux_outputs/10K/20250506_095737_xWpjxU']\n"
     ]
    }
   ],
   "source": [
    "# Path to the 'outputs' folder\n",
    "path = '../linux_outputs/10K'\n",
    "\n",
    "# Get a list of folder names inside the 'outputs' folder\n",
    "folder_names = [os.path.join(path,f).replace('\\\\', '/') for f in os.listdir(path) if os.path.isdir(os.path.join(path, f))]\n",
    "\n",
    "# Print the list of folder names\n",
    "print(folder_names)"
   ]
  },
  {
   "cell_type": "code",
   "execution_count": 236,
   "id": "b027371c",
   "metadata": {},
   "outputs": [
    {
     "name": "stderr",
     "output_type": "stream",
     "text": [
      "Attempting to load model from ..\\linux_outputs\\10K\\20250410_142914_1Y9BD4\\checkpoint.pkl...\n"
     ]
    }
   ],
   "source": [
    "folder_index = 14 - 1 #Change the first value to run number\n",
    "model = PySRRegressor.from_file(run_directory=folder_names[folder_index])"
   ]
  },
  {
   "cell_type": "code",
   "execution_count": 237,
   "id": "b0bd0e29",
   "metadata": {},
   "outputs": [],
   "source": [
    "# # Condition where KB > KA\n",
    "# swap_mask = df_new['KB'] > df_new['KA']\n",
    "\n",
    "# # Swap values where condition is met\n",
    "# df_new.loc[swap_mask, ['KA', 'KB']] = df_new.loc[swap_mask, ['KB', 'KA']].values\n",
    "# df_new.loc[swap_mask, ['mA', 'mB']] = df_new.loc[swap_mask, ['mB', 'mA']].values"
   ]
  },
  {
   "cell_type": "code",
   "execution_count": 238,
   "id": "dfa32bb7",
   "metadata": {},
   "outputs": [
    {
     "data": {
      "image/png": "[encoded data removed]",
      "text/plain": [
       "<Figure size 640x480 with 1 Axes>"
      ]
     },
     "metadata": {},
     "output_type": "display_data"
    }
   ],
   "source": [
    "# If the model is loaded, perform the calculations\n",
    "model.get_best().equation\n",
    "y_pred = model.predict(df_new)\n",
    "rmse = np.sqrt(mean_squared_error(y_true, y_pred))\n",
    "r2 = r2_score(y_true, y_pred)\n",
    "\n",
    "plt.scatter(y_true, y_pred)\n",
    "plt.xlabel('True Values')\n",
    "plt.ylabel('Predictions')\n",
    "plt.title('True vs Predicted Values')\n",
    "plt.show()"
   ]
  },
  {
   "cell_type": "code",
   "execution_count": 239,
   "id": "fa89fbee",
   "metadata": {},
   "outputs": [
    {
     "name": "stdout",
     "output_type": "stream",
     "text": [
      "RMSE: 0.0043178988958378645\n",
      "R2 Score: 0.9605102643065828\n",
      "Precentage Error: 2.18%\n"
     ]
    }
   ],
   "source": [
    "print(f\"RMSE: {rmse}\")\n",
    "print(f\"R2 Score: {r2}\")\n",
    "print(f\"Precentage Error: {np.mean(np.abs((y_true - y_pred) / y_true)) * 100:.2f}%\")"
   ]
  },
  {
   "cell_type": "code",
   "execution_count": 240,
   "id": "23d05485",
   "metadata": {},
   "outputs": [
    {
     "data": {
      "image/png": "[encoded data removed]",
      "text/plain": [
       "<Figure size 640x480 with 1 Axes>"
      ]
     },
     "metadata": {},
     "output_type": "display_data"
    }
   ],
   "source": [
    "y_pred = df_new['KB']/(df_new['mB'] + df_new['KB']*df_new['mA']/df_new['KA'])\n",
    "rmse = np.sqrt(mean_squared_error(y_true, y_pred))\n",
    "r2 = r2_score(y_true, y_pred)\n",
    "\n",
    "plt.scatter(y_true, y_pred)\n",
    "plt.xlabel('Experimental Values')\n",
    "plt.ylabel('Predictions')\n",
    "plt.title('Experimental vs Predicted Values')\n",
    "plt.show()"
   ]
  },
  {
   "cell_type": "code",
   "execution_count": 241,
   "id": "00415bfb",
   "metadata": {},
   "outputs": [],
   "source": [
    "# Export y_true and y_pred to excel\n",
    "output_df = pd.DataFrame({'Experimental Values': y_true, 'Predictions': y_pred})\n",
    "\n",
    "#Concate df_info, df_new and output_df\n",
    "output_df = pd.concat([df_info.reset_index(drop=True), df_new.reset_index(drop=True), output_df.reset_index(drop=True)], axis=1)\n",
    "output_df.to_excel('predictions_DB.xlsx', index=False)"
   ]
  },
  {
   "cell_type": "code",
   "execution_count": 242,
   "id": "02bf7099",
   "metadata": {},
   "outputs": [
    {
     "name": "stdout",
     "output_type": "stream",
     "text": [
      "RMSE: 0.004231271718442439\n",
      "R2 Score: 0.9620788831834809\n",
      "Precentage Error: 2.12%\n"
     ]
    }
   ],
   "source": [
    "print(f\"RMSE: {rmse}\")\n",
    "print(f\"R2 Score: {r2}\")\n",
    "print(f\"Precentage Error: {np.mean(np.abs((y_true - y_pred) / y_true)) * 100:.2f}%\")"
   ]
  },
  {
   "cell_type": "code",
   "execution_count": 243,
   "id": "3878bd53",
   "metadata": {},
   "outputs": [
    {
     "name": "stderr",
     "output_type": "stream",
     "text": [
      "C:\\Users\\leth\\AppData\\Local\\Temp\\ipykernel_19232\\743877693.py:3: SettingWithCopyWarning:\n",
      "\n",
      "\n",
      "A value is trying to be set on a copy of a slice from a DataFrame.\n",
      "Try using .loc[row_indexer,col_indexer] = value instead\n",
      "\n",
      "See the caveats in the documentation: https://pandas.pydata.org/pandas-docs/stable/user_guide/indexing.html#returning-a-view-versus-a-copy\n",
      "\n",
      "C:\\Users\\leth\\AppData\\Local\\Temp\\ipykernel_19232\\743877693.py:4: SettingWithCopyWarning:\n",
      "\n",
      "\n",
      "A value is trying to be set on a copy of a slice from a DataFrame.\n",
      "Try using .loc[row_indexer,col_indexer] = value instead\n",
      "\n",
      "See the caveats in the documentation: https://pandas.pydata.org/pandas-docs/stable/user_guide/indexing.html#returning-a-view-versus-a-copy\n",
      "\n"
     ]
    },
    {
     "data": {
      "application/vnd.plotly.v1+json": {
       "config": {
        "plotlyServerURL": "https://plot.ly"
       },
       "data": [
        {
         "customdata": {
          "bdata": "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",
          "dtype": "f8",
          "shape": "3078, 7"
         },
         "hovertemplate": "True Values=%{x}<br>Predictions=%{y}<br>mA=%{customdata[0]}<br>mB=%{customdata[1]}<br>T=%{customdata[2]}<br>KA=%{customdata[3]}<br>KB=%{customdata[4]}<br>mAKA=%{customdata[5]}<br>mBKB=%{customdata[6]}<extra></extra>",
         "legendgroup": "",
         "marker": {
          "color": "#636efa",
          "symbol": "circle"
         },
         "mode": "markers",
         "name": "",
         "showlegend": false,
         "type": "scattergl",
         "x": {
          "bdata": "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",
          "dtype": "f8"
         },
         "xaxis": "x",
         "y": {
          "bdata": "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",
          "dtype": "f8"
         },
         "yaxis": "y"
        }
       ],
       "layout": {
        "legend": {
         "tracegroupgap": 0
        },
        "template": {
         "data": {
          "bar": [
           {
            "error_x": {
             "color": "#2a3f5f"
            },
            "error_y": {
             "color": "#2a3f5f"
            },
            "marker": {
             "line": {
              "color": "#E5ECF6",
              "width": 0.5
             },
             "pattern": {
              "fillmode": "overlay",
              "size": 10,
              "solidity": 0.2
             }
            },
            "type": "bar"
           }
          ],
          "barpolar": [
           {
            "marker": {
             "line": {
              "color": "#E5ECF6",
              "width": 0.5
             },
             "pattern": {
              "fillmode": "overlay",
              "size": 10,
              "solidity": 0.2
             }
            },
            "type": "barpolar"
           }
          ],
          "carpet": [
           {
            "aaxis": {
             "endlinecolor": "#2a3f5f",
             "gridcolor": "white",
             "linecolor": "white",
             "minorgridcolor": "white",
             "startlinecolor": "#2a3f5f"
            },
            "baxis": {
             "endlinecolor": "#2a3f5f",
             "gridcolor": "white",
             "linecolor": "white",
             "minorgridcolor": "white",
             "startlinecolor": "#2a3f5f"
            },
            "type": "carpet"
           }
          ],
          "choropleth": [
           {
            "colorbar": {
             "outlinewidth": 0,
             "ticks": ""
            },
            "type": "choropleth"
           }
          ],
          "contour": [
           {
            "colorbar": {
             "outlinewidth": 0,
             "ticks": ""
            },
            "colorscale": [
             [
              0,
              "#0d0887"
             ],
             [
              0.1111111111111111,
              "#46039f"
             ],
             [
              0.2222222222222222,
              "#7201a8"
             ],
             [
              0.3333333333333333,
              "#9c179e"
             ],
             [
              0.4444444444444444,
              "#bd3786"
             ],
             [
              0.5555555555555556,
              "#d8576b"
             ],
             [
              0.6666666666666666,
              "#ed7953"
             ],
             [
              0.7777777777777778,
              "#fb9f3a"
             ],
             [
              0.8888888888888888,
              "#fdca26"
             ],
             [
              1,
              "#f0f921"
             ]
            ],
            "type": "contour"
           }
          ],
          "contourcarpet": [
           {
            "colorbar": {
             "outlinewidth": 0,
             "ticks": ""
            },
            "type": "contourcarpet"
           }
          ],
          "heatmap": [
           {
            "colorbar": {
             "outlinewidth": 0,
             "ticks": ""
            },
            "colorscale": [
             [
              0,
              "#0d0887"
             ],
             [
              0.1111111111111111,
              "#46039f"
             ],
             [
              0.2222222222222222,
              "#7201a8"
             ],
             [
              0.3333333333333333,
              "#9c179e"
             ],
             [
              0.4444444444444444,
              "#bd3786"
             ],
             [
              0.5555555555555556,
              "#d8576b"
             ],
             [
              0.6666666666666666,
              "#ed7953"
             ],
             [
              0.7777777777777778,
              "#fb9f3a"
             ],
             [
              0.8888888888888888,
              "#fdca26"
             ],
             [
              1,
              "#f0f921"
             ]
            ],
            "type": "heatmap"
           }
          ],
          "histogram": [
           {
            "marker": {
             "pattern": {
              "fillmode": "overlay",
              "size": 10,
              "solidity": 0.2
             }
            },
            "type": "histogram"
           }
          ],
          "histogram2d": [
           {
            "colorbar": {
             "outlinewidth": 0,
             "ticks": ""
            },
            "colorscale": [
             [
              0,
              "#0d0887"
             ],
             [
              0.1111111111111111,
              "#46039f"
             ],
             [
              0.2222222222222222,
              "#7201a8"
             ],
             [
              0.3333333333333333,
              "#9c179e"
             ],
             [
              0.4444444444444444,
              "#bd3786"
             ],
             [
              0.5555555555555556,
              "#d8576b"
             ],
             [
              0.6666666666666666,
              "#ed7953"
             ],
             [
              0.7777777777777778,
              "#fb9f3a"
             ],
             [
              0.8888888888888888,
              "#fdca26"
             ],
             [
              1,
              "#f0f921"
             ]
            ],
            "type": "histogram2d"
           }
          ],
          "histogram2dcontour": [
           {
            "colorbar": {
             "outlinewidth": 0,
             "ticks": ""
            },
            "colorscale": [
             [
              0,
              "#0d0887"
             ],
             [
              0.1111111111111111,
              "#46039f"
             ],
             [
              0.2222222222222222,
              "#7201a8"
             ],
             [
              0.3333333333333333,
              "#9c179e"
             ],
             [
              0.4444444444444444,
              "#bd3786"
             ],
             [
              0.5555555555555556,
              "#d8576b"
             ],
             [
              0.6666666666666666,
              "#ed7953"
             ],
             [
              0.7777777777777778,
              "#fb9f3a"
             ],
             [
              0.8888888888888888,
              "#fdca26"
             ],
             [
              1,
              "#f0f921"
             ]
            ],
            "type": "histogram2dcontour"
           }
          ],
          "mesh3d": [
           {
            "colorbar": {
             "outlinewidth": 0,
             "ticks": ""
            },
            "type": "mesh3d"
           }
          ],
          "parcoords": [
           {
            "line": {
             "colorbar": {
              "outlinewidth": 0,
              "ticks": ""
             }
            },
            "type": "parcoords"
           }
          ],
          "pie": [
           {
            "automargin": true,
            "type": "pie"
           }
          ],
          "scatter": [
           {
            "fillpattern": {
             "fillmode": "overlay",
             "size": 10,
             "solidity": 0.2
            },
            "type": "scatter"
           }
          ],
          "scatter3d": [
           {
            "line": {
             "colorbar": {
              "outlinewidth": 0,
              "ticks": ""
             }
            },
            "marker": {
             "colorbar": {
              "outlinewidth": 0,
              "ticks": ""
             }
            },
            "type": "scatter3d"
           }
          ],
          "scattercarpet": [
           {
            "marker": {
             "colorbar": {
              "outlinewidth": 0,
              "ticks": ""
             }
            },
            "type": "scattercarpet"
           }
          ],
          "scattergeo": [
           {
            "marker": {
             "colorbar": {
              "outlinewidth": 0,
              "ticks": ""
             }
            },
            "type": "scattergeo"
           }
          ],
          "scattergl": [
           {
            "marker": {
             "colorbar": {
              "outlinewidth": 0,
              "ticks": ""
             }
            },
            "type": "scattergl"
           }
          ],
          "scattermap": [
           {
            "marker": {
             "colorbar": {
              "outlinewidth": 0,
              "ticks": ""
             }
            },
            "type": "scattermap"
           }
          ],
          "scattermapbox": [
           {
            "marker": {
             "colorbar": {
              "outlinewidth": 0,
              "ticks": ""
             }
            },
            "type": "scattermapbox"
           }
          ],
          "scatterpolar": [
           {
            "marker": {
             "colorbar": {
              "outlinewidth": 0,
              "ticks": ""
             }
            },
            "type": "scatterpolar"
           }
          ],
          "scatterpolargl": [
           {
            "marker": {
             "colorbar": {
              "outlinewidth": 0,
              "ticks": ""
             }
            },
            "type": "scatterpolargl"
           }
          ],
          "scatterternary": [
           {
            "marker": {
             "colorbar": {
              "outlinewidth": 0,
              "ticks": ""
             }
            },
            "type": "scatterternary"
           }
          ],
          "surface": [
           {
            "colorbar": {
             "outlinewidth": 0,
             "ticks": ""
            },
            "colorscale": [
             [
              0,
              "#0d0887"
             ],
             [
              0.1111111111111111,
              "#46039f"
             ],
             [
              0.2222222222222222,
              "#7201a8"
             ],
             [
              0.3333333333333333,
              "#9c179e"
             ],
             [
              0.4444444444444444,
              "#bd3786"
             ],
             [
              0.5555555555555556,
              "#d8576b"
             ],
             [
              0.6666666666666666,
              "#ed7953"
             ],
             [
              0.7777777777777778,
              "#fb9f3a"
             ],
             [
              0.8888888888888888,
              "#fdca26"
             ],
             [
              1,
              "#f0f921"
             ]
            ],
            "type": "surface"
           }
          ],
          "table": [
           {
            "cells": {
             "fill": {
              "color": "#EBF0F8"
             },
             "line": {
              "color": "white"
             }
            },
            "header": {
             "fill": {
              "color": "#C8D4E3"
             },
             "line": {
              "color": "white"
             }
            },
            "type": "table"
           }
          ]
         },
         "layout": {
          "annotationdefaults": {
           "arrowcolor": "#2a3f5f",
           "arrowhead": 0,
           "arrowwidth": 1
          },
          "autotypenumbers": "strict",
          "coloraxis": {
           "colorbar": {
            "outlinewidth": 0,
            "ticks": ""
           }
          },
          "colorscale": {
           "diverging": [
            [
             0,
             "#8e0152"
            ],
            [
             0.1,
             "#c51b7d"
            ],
            [
             0.2,
             "#de77ae"
            ],
            [
             0.3,
             "#f1b6da"
            ],
            [
             0.4,
             "#fde0ef"
            ],
            [
             0.5,
             "#f7f7f7"
            ],
            [
             0.6,
             "#e6f5d0"
            ],
            [
             0.7,
             "#b8e186"
            ],
            [
             0.8,
             "#7fbc41"
            ],
            [
             0.9,
             "#4d9221"
            ],
            [
             1,
             "#276419"
            ]
           ],
           "sequential": [
            [
             0,
             "#0d0887"
            ],
            [
             0.1111111111111111,
             "#46039f"
            ],
            [
             0.2222222222222222,
             "#7201a8"
            ],
            [
             0.3333333333333333,
             "#9c179e"
            ],
            [
             0.4444444444444444,
             "#bd3786"
            ],
            [
             0.5555555555555556,
             "#d8576b"
            ],
            [
             0.6666666666666666,
             "#ed7953"
            ],
            [
             0.7777777777777778,
             "#fb9f3a"
            ],
            [
             0.8888888888888888,
             "#fdca26"
            ],
            [
             1,
             "#f0f921"
            ]
           ],
           "sequentialminus": [
            [
             0,
             "#0d0887"
            ],
            [
             0.1111111111111111,
             "#46039f"
            ],
            [
             0.2222222222222222,
             "#7201a8"
            ],
            [
             0.3333333333333333,
             "#9c179e"
            ],
            [
             0.4444444444444444,
             "#bd3786"
            ],
            [
             0.5555555555555556,
             "#d8576b"
            ],
            [
             0.6666666666666666,
             "#ed7953"
            ],
            [
             0.7777777777777778,
             "#fb9f3a"
            ],
            [
             0.8888888888888888,
             "#fdca26"
            ],
            [
             1,
             "#f0f921"
            ]
           ]
          },
          "colorway": [
           "#636efa",
           "#EF553B",
           "#00cc96",
           "#ab63fa",
           "#FFA15A",
           "#19d3f3",
           "#FF6692",
           "#B6E880",
           "#FF97FF",
           "#FECB52"
          ],
          "font": {
           "color": "#2a3f5f"
          },
          "geo": {
           "bgcolor": "white",
           "lakecolor": "white",
           "landcolor": "#E5ECF6",
           "showlakes": true,
           "showland": true,
           "subunitcolor": "white"
          },
          "hoverlabel": {
           "align": "left"
          },
          "hovermode": "closest",
          "mapbox": {
           "style": "light"
          },
          "paper_bgcolor": "white",
          "plot_bgcolor": "#E5ECF6",
          "polar": {
           "angularaxis": {
            "gridcolor": "white",
            "linecolor": "white",
            "ticks": ""
           },
           "bgcolor": "#E5ECF6",
           "radialaxis": {
            "gridcolor": "white",
            "linecolor": "white",
            "ticks": ""
           }
          },
          "scene": {
           "xaxis": {
            "backgroundcolor": "#E5ECF6",
            "gridcolor": "white",
            "gridwidth": 2,
            "linecolor": "white",
            "showbackground": true,
            "ticks": "",
            "zerolinecolor": "white"
           },
           "yaxis": {
            "backgroundcolor": "#E5ECF6",
            "gridcolor": "white",
            "gridwidth": 2,
            "linecolor": "white",
            "showbackground": true,
            "ticks": "",
            "zerolinecolor": "white"
           },
           "zaxis": {
            "backgroundcolor": "#E5ECF6",
            "gridcolor": "white",
            "gridwidth": 2,
            "linecolor": "white",
            "showbackground": true,
            "ticks": "",
            "zerolinecolor": "white"
           }
          },
          "shapedefaults": {
           "line": {
            "color": "#2a3f5f"
           }
          },
          "ternary": {
           "aaxis": {
            "gridcolor": "white",
            "linecolor": "white",
            "ticks": ""
           },
           "baxis": {
            "gridcolor": "white",
            "linecolor": "white",
            "ticks": ""
           },
           "bgcolor": "#E5ECF6",
           "caxis": {
            "gridcolor": "white",
            "linecolor": "white",
            "ticks": ""
           }
          },
          "title": {
           "x": 0.05
          },
          "xaxis": {
           "automargin": true,
           "gridcolor": "white",
           "linecolor": "white",
           "ticks": "",
           "title": {
            "standoff": 15
           },
           "zerolinecolor": "white",
           "zerolinewidth": 2
          },
          "yaxis": {
           "automargin": true,
           "gridcolor": "white",
           "linecolor": "white",
           "ticks": "",
           "title": {
            "standoff": 15
           },
           "zerolinecolor": "white",
           "zerolinewidth": 2
          }
         }
        },
        "title": {
         "text": "True vs Predicted Values"
        },
        "xaxis": {
         "anchor": "y",
         "domain": [
          0,
          1
         ],
         "title": {
          "text": "True Values"
         }
        },
        "yaxis": {
         "anchor": "x",
         "domain": [
          0,
          1
         ],
         "title": {
          "text": "Predictions"
         }
        }
       }
      }
     },
     "metadata": {},
     "output_type": "display_data"
    }
   ],
   "source": [
    "import plotly.express as px\n",
    "# Assuming df_new contains your dataset and y_true, y_pred are your true and predicted values\n",
    "df_new['y_true'] = y_true\n",
    "df_new['y_pred'] = y_pred\n",
    "\n",
    "# Create an interactive scatter plot\n",
    "fig = px.scatter(df_new, x='y_true', y='y_pred', title='True vs Predicted Values', \n",
    "                 labels={'y_true': 'True Values', 'y_pred': 'Predictions'},\n",
    "                 hover_data=df_new.columns)  # Hover over to see the details\n",
    "\n",
    "# Show the plot\n",
    "fig.show()"
   ]
  },
  {
   "cell_type": "markdown",
   "id": "77582cc3",
   "metadata": {},
   "source": [
    "FILLIPOV"
   ]
  },
  {
   "cell_type": "code",
   "execution_count": 244,
   "id": "778f38a2",
   "metadata": {},
   "outputs": [
    {
     "name": "stdout",
     "output_type": "stream",
     "text": [
      "RMSE: 0.005250370179530856\n",
      "R2 Score: 0.9416125997851734\n"
     ]
    }
   ],
   "source": [
    "C = 0.72\n",
    "y_pred = (C*df_new['mB']*df_new['mB'] + df_new['mB']*(1-C))*(df_new['KB']-df_new['KA'])+df_new['KA']\n",
    "rmse = np.sqrt(mean_squared_error(y_true, y_pred))\n",
    "r2 = r2_score(y_true, y_pred)\n",
    "print(f\"RMSE: {rmse}\")\n",
    "print(f\"R2 Score: {r2}\")"
   ]
  },
  {
   "cell_type": "code",
   "execution_count": 245,
   "id": "3c611eaa",
   "metadata": {},
   "outputs": [
    {
     "name": "stdout",
     "output_type": "stream",
     "text": [
      "RMSE: 0.0048192746947728965\n",
      "R2 Score: 0.9508070743895238\n"
     ]
    }
   ],
   "source": [
    "C = 0.5\n",
    "y_pred = (C*df_new['mB']*df_new['mB'] + df_new['mB']*(1-C))*(df_new['KB']-df_new['KA'])+df_new['KA']\n",
    "rmse = np.sqrt(mean_squared_error(y_true, y_pred))\n",
    "r2 = r2_score(y_true, y_pred)\n",
    "print(f\"RMSE: {rmse}\")\n",
    "print(f\"R2 Score: {r2}\")"
   ]
  },
  {
   "cell_type": "markdown",
   "id": "eb3843b4",
   "metadata": {},
   "source": [
    "Jamieson and Irving "
   ]
  },
  {
   "cell_type": "code",
   "execution_count": 246,
   "id": "855c7016",
   "metadata": {},
   "outputs": [
    {
     "name": "stdout",
     "output_type": "stream",
     "text": [
      "RMSE: 0.004355446276116873\n",
      "R2 Score: 0.9598204923075967\n"
     ]
    }
   ],
   "source": [
    "def calc_K(df):\n",
    "    if df['KA'] > df['KB']:\n",
    "        return df['KA'] * df['mA'] + df['KB'] * df['mB'] - (df['KA'] - df['KB']) * df['mA'] * (1 - np.sqrt(df['mA']))\n",
    "    else:\n",
    "        return df['KA'] * df['mA'] + df['KB'] * df['mB'] - (df['KB'] - df['KA']) * df['mB'] * (1 - np.sqrt(df['mB']))\n",
    "\n",
    "y_pred = df_new.apply(calc_K, axis=1)\n",
    "rmse = np.sqrt(mean_squared_error(y_true, y_pred))\n",
    "r2 = r2_score(y_true, y_pred)\n",
    "print(f\"RMSE: {rmse}\")\n",
    "print(f\"R2 Score: {r2}\")"
   ]
  },
  {
   "cell_type": "markdown",
   "id": "4ff551e5",
   "metadata": {},
   "source": [
    "RED EQUATIONS"
   ]
  },
  {
   "cell_type": "code",
   "execution_count": 247,
   "id": "55736b49",
   "metadata": {},
   "outputs": [],
   "source": [
    "# Path to the 'outputs' folder\n",
    "path = '../linux_outputs/10K_red'\n",
    "# Get a list of folder names inside the 'outputs' folder\n",
    "folder_names_red = [os.path.join(path,f).replace('\\\\', '/') for f in os.listdir(path) if os.path.isdir(os.path.join(path, f))]"
   ]
  },
  {
   "cell_type": "code",
   "execution_count": 248,
   "id": "0458bdb1",
   "metadata": {},
   "outputs": [
    {
     "name": "stderr",
     "output_type": "stream",
     "text": [
      "Attempting to load model from ..\\linux_outputs\\10K_red\\20250430_103309_BV4HyP\\checkpoint.pkl...\n"
     ]
    }
   ],
   "source": [
    "folder_index = 17 - 1 #Change the first value to run number\n",
    "model = PySRRegressor.from_file(run_directory=folder_names_red[folder_index])"
   ]
  },
  {
   "cell_type": "code",
   "execution_count": 249,
   "id": "ce2cb6d5",
   "metadata": {},
   "outputs": [
    {
     "data": {
      "text/plain": [
       "'(mB * mA) * ((abs((KB - KA) * (KB - 0.20966384)) / (0.20954196 - KB)) * -0.585045)'"
      ]
     },
     "execution_count": 249,
     "metadata": {},
     "output_type": "execute_result"
    }
   ],
   "source": [
    "model.get_best().equation"
   ]
  },
  {
   "cell_type": "code",
   "execution_count": 250,
   "id": "5e835d34",
   "metadata": {},
   "outputs": [
    {
     "data": {
      "image/png": "[encoded data removed]",
      "text/plain": [
       "<Figure size 640x480 with 1 Axes>"
      ]
     },
     "metadata": {},
     "output_type": "display_data"
    }
   ],
   "source": [
    "# If the model is loaded, perform the calculations\n",
    "y_pred = df_new['KA']*df_new['mA'] + df_new['KB']*df_new['mB'] - 0.585045*df_new['mB']*df_new['mA']*((abs(df_new['KB'] - df_new['KA'])*(df_new['KB']-0.20966384))/(0.20954196 - df_new['KB']))\n",
    "rmse = np.sqrt(mean_squared_error(y_true, y_pred))\n",
    "r2 = r2_score(y_true, y_pred)\n",
    "\n",
    "plt.scatter(y_true, y_pred)\n",
    "plt.xlabel('True Values')\n",
    "plt.ylabel('Predictions')\n",
    "plt.title('True vs Predicted Values')\n",
    "plt.show()"
   ]
  },
  {
   "cell_type": "markdown",
   "id": "2eabf6f4",
   "metadata": {},
   "source": [
    "ALL EQUATIONS PER CHECKPOINT"
   ]
  },
  {
   "cell_type": "code",
   "execution_count": 251,
   "id": "5a5a8505",
   "metadata": {},
   "outputs": [
    {
     "data": {
      "text/html": [
       "<div>\n",
       "<style scoped>\n",
       "    .dataframe tbody tr th:only-of-type {\n",
       "        vertical-align: middle;\n",
       "    }\n",
       "\n",
       "    .dataframe tbody tr th {\n",
       "        vertical-align: top;\n",
       "    }\n",
       "\n",
       "    .dataframe thead th {\n",
       "        text-align: right;\n",
       "    }\n",
       "</style>\n",
       "<table border=\"1\" class=\"dataframe\">\n",
       "  <thead>\n",
       "    <tr style=\"text-align: right;\">\n",
       "      <th></th>\n",
       "      <th>complexity</th>\n",
       "      <th>loss</th>\n",
       "      <th>equation</th>\n",
       "      <th>score</th>\n",
       "      <th>sympy_format</th>\n",
       "      <th>lambda_format</th>\n",
       "    </tr>\n",
       "  </thead>\n",
       "  <tbody>\n",
       "    <tr>\n",
       "      <th>0</th>\n",
       "      <td>1</td>\n",
       "      <td>0.000266</td>\n",
       "      <td>KB</td>\n",
       "      <td>0.000000e+00</td>\n",
       "      <td>KB</td>\n",
       "      <td>PySRFunction(X=&gt;KB)</td>\n",
       "    </tr>\n",
       "    <tr>\n",
       "      <th>1</th>\n",
       "      <td>3</td>\n",
       "      <td>0.000169</td>\n",
       "      <td>KB / 0.9312176</td>\n",
       "      <td>2.282955e-01</td>\n",
       "      <td>1.07386286513485*KB</td>\n",
       "      <td>PySRFunction(X=&gt;1.07386286513485*KB)</td>\n",
       "    </tr>\n",
       "    <tr>\n",
       "      <th>2</th>\n",
       "      <td>4</td>\n",
       "      <td>0.000106</td>\n",
       "      <td>sqrt(KA * KB)</td>\n",
       "      <td>4.666669e-01</td>\n",
       "      <td>sqrt(KA*KB)</td>\n",
       "      <td>PySRFunction(X=&gt;sqrt(KA*KB))</td>\n",
       "    </tr>\n",
       "    <tr>\n",
       "      <th>3</th>\n",
       "      <td>6</td>\n",
       "      <td>0.000105</td>\n",
       "      <td>sqrt(KA * (KB + -0.0018817218))</td>\n",
       "      <td>4.990314e-03</td>\n",
       "      <td>sqrt(KA*(KB - 0.0018817218))</td>\n",
       "      <td>PySRFunction(X=&gt;sqrt(KA*(KB - 0.0018817218)))</td>\n",
       "    </tr>\n",
       "    <tr>\n",
       "      <th>4</th>\n",
       "      <td>7</td>\n",
       "      <td>0.000016</td>\n",
       "      <td>KA + (mB * (KB - KA))</td>\n",
       "      <td>1.886381e+00</td>\n",
       "      <td>KA + mB*(-KA + KB)</td>\n",
       "      <td>PySRFunction(X=&gt;KA + mB*(-KA + KB))</td>\n",
       "    </tr>\n",
       "    <tr>\n",
       "      <th>5</th>\n",
       "      <td>9</td>\n",
       "      <td>0.000013</td>\n",
       "      <td>KA - ((mB + 0.058679853) * (KA - KB))</td>\n",
       "      <td>1.065685e-01</td>\n",
       "      <td>KA - (KA - KB)*(mB + 0.058679853)</td>\n",
       "      <td>PySRFunction(X=&gt;KA - (KA - KB)*(mB + 0.0586798...</td>\n",
       "    </tr>\n",
       "    <tr>\n",
       "      <th>6</th>\n",
       "      <td>10</td>\n",
       "      <td>0.000012</td>\n",
       "      <td>((mA * sqrt(mA)) * (KA - KB)) + KB</td>\n",
       "      <td>4.039084e-02</td>\n",
       "      <td>KB + mA**(3/2)*(KA - KB)</td>\n",
       "      <td>PySRFunction(X=&gt;KB + mA**(3/2)*(KA - KB))</td>\n",
       "    </tr>\n",
       "    <tr>\n",
       "      <th>7</th>\n",
       "      <td>11</td>\n",
       "      <td>0.000012</td>\n",
       "      <td>KB - ((KB + ((mB * 0.011559093) - KA)) * mA)</td>\n",
       "      <td>1.450456e-02</td>\n",
       "      <td>KB - mA*(-KA + KB + 0.011559093*mB)</td>\n",
       "      <td>PySRFunction(X=&gt;KB - mA*(-KA + KB + 0.01155909...</td>\n",
       "    </tr>\n",
       "    <tr>\n",
       "      <th>8</th>\n",
       "      <td>12</td>\n",
       "      <td>0.000011</td>\n",
       "      <td>KA - ((KA - KB) * log(1.6532625 * (mB + 0.6133...</td>\n",
       "      <td>1.073147e-01</td>\n",
       "      <td>KA - (KA - KB)*log(1.6532625*mB + 1.014065587455)</td>\n",
       "      <td>PySRFunction(X=&gt;KA - (KA - KB)*log(1.6532625*m...</td>\n",
       "    </tr>\n",
       "    <tr>\n",
       "      <th>9</th>\n",
       "      <td>14</td>\n",
       "      <td>0.000011</td>\n",
       "      <td>KA - ((log((mB * 1.6304604) + 0.99842536) * (K...</td>\n",
       "      <td>6.104769e-03</td>\n",
       "      <td>KA - (KA - KB)*log(1.6304604*mB + 0.99842536) ...</td>\n",
       "      <td>PySRFunction(X=&gt;KA - (KA - KB)*log(1.6304604*m...</td>\n",
       "    </tr>\n",
       "    <tr>\n",
       "      <th>10</th>\n",
       "      <td>15</td>\n",
       "      <td>0.000010</td>\n",
       "      <td>KA - ((KB - KA) * (mA + ((-6.626319e-5 / (0.20...</td>\n",
       "      <td>1.249214e-01</td>\n",
       "      <td>KA - (-KA + KB)*(mA - 1.0787884 - 6.626319e-5/...</td>\n",
       "      <td>PySRFunction(X=&gt;KA - (-KA + KB)*(mA - 1.078788...</td>\n",
       "    </tr>\n",
       "    <tr>\n",
       "      <th>11</th>\n",
       "      <td>16</td>\n",
       "      <td>0.000008</td>\n",
       "      <td>(((sqrt(mA) * mA) + (6.400207e-5 / (KA - 0.209...</td>\n",
       "      <td>1.227145e-01</td>\n",
       "      <td>KB + (KA - KB)*(mA**(3/2) + 6.400207e-5/(KA - ...</td>\n",
       "      <td>PySRFunction(X=&gt;KB + (KA - KB)*(mA**(3/2) + 6....</td>\n",
       "    </tr>\n",
       "    <tr>\n",
       "      <th>12</th>\n",
       "      <td>17</td>\n",
       "      <td>0.000007</td>\n",
       "      <td>(mA * ((KA - KB) * abs((0.00010162177 / (KA - ...</td>\n",
       "      <td>2.141751e-01</td>\n",
       "      <td>KB + mA*(KA - KB)*Abs(sqrt(mA) + 0.00010162177...</td>\n",
       "      <td>PySRFunction(X=&gt;KB + mA*(KA - KB)*Abs(sqrt(mA)...</td>\n",
       "    </tr>\n",
       "    <tr>\n",
       "      <th>13</th>\n",
       "      <td>19</td>\n",
       "      <td>0.000007</td>\n",
       "      <td>KB + ((mA * ((KA + -0.0003239217) - KB)) * abs...</td>\n",
       "      <td>2.178190e-03</td>\n",
       "      <td>KB + mA*(KA - KB - 0.0003239217)*Abs(sqrt(mA) ...</td>\n",
       "      <td>PySRFunction(X=&gt;KB + mA*(KA - KB - 0.000323921...</td>\n",
       "    </tr>\n",
       "    <tr>\n",
       "      <th>14</th>\n",
       "      <td>21</td>\n",
       "      <td>0.000007</td>\n",
       "      <td>KA - ((((((KA - 0.21017282) / 1.7637879) * (mA...</td>\n",
       "      <td>7.338154e-03</td>\n",
       "      <td>KA - mB*(KA - KB)*(0.566961594418467*mA*(KA - ...</td>\n",
       "      <td>PySRFunction(X=&gt;KA - mB*(KA - KB)*(0.566961594...</td>\n",
       "    </tr>\n",
       "    <tr>\n",
       "      <th>15</th>\n",
       "      <td>23</td>\n",
       "      <td>0.000006</td>\n",
       "      <td>((KA - KB) * abs((mA * (sqrt(mA) + (0.00010134...</td>\n",
       "      <td>1.458654e-02</td>\n",
       "      <td>KB + (KA - KB)*Abs(mA*(sqrt(mA) + 0.0001013414...</td>\n",
       "      <td>PySRFunction(X=&gt;KB + (KA - KB)*Abs(mA*(sqrt(mA...</td>\n",
       "    </tr>\n",
       "    <tr>\n",
       "      <th>16</th>\n",
       "      <td>24</td>\n",
       "      <td>0.000006</td>\n",
       "      <td>KB + (((mA * abs(sqrt(mA) + (0.0001013226 / (K...</td>\n",
       "      <td>2.127176e-03</td>\n",
       "      <td>KB + (KA - KB)*(mA*Abs(sqrt(mA) + 0.0001013226...</td>\n",
       "      <td>PySRFunction(X=&gt;KB + (KA - KB)*(mA*Abs(sqrt(mA...</td>\n",
       "    </tr>\n",
       "    <tr>\n",
       "      <th>17</th>\n",
       "      <td>25</td>\n",
       "      <td>0.000006</td>\n",
       "      <td>((-0.00030656243 - (KB - KA)) * abs((-0.000164...</td>\n",
       "      <td>2.296860e-03</td>\n",
       "      <td>KB + (KA - KB - 0.00030656243)*Abs(mA*(sqrt(mA...</td>\n",
       "      <td>PySRFunction(X=&gt;KB + (KA - KB - 0.00030656243)...</td>\n",
       "    </tr>\n",
       "    <tr>\n",
       "      <th>18</th>\n",
       "      <td>26</td>\n",
       "      <td>0.000006</td>\n",
       "      <td>KB + ((-0.00036347457 - (KB - KA)) * (abs(-0.0...</td>\n",
       "      <td>3.721155e-03</td>\n",
       "      <td>KB + (mA*Abs(sqrt(mA) + 0.00010132736/(KA - 0....</td>\n",
       "      <td>PySRFunction(X=&gt;KB + (mA*Abs(sqrt(mA) + 0.0001...</td>\n",
       "    </tr>\n",
       "    <tr>\n",
       "      <th>19</th>\n",
       "      <td>27</td>\n",
       "      <td>0.000006</td>\n",
       "      <td>KA - ((0.99086624 + (((0.06955903 / (-0.183256...</td>\n",
       "      <td>8.057524e-03</td>\n",
       "      <td>KA - mB*(KA - KB)*(mA*(KA - 0.21026175)*(0.069...</td>\n",
       "      <td>PySRFunction(X=&gt;KA - mB*(KA - KB)*(mA*(KA - 0....</td>\n",
       "    </tr>\n",
       "    <tr>\n",
       "      <th>20</th>\n",
       "      <td>29</td>\n",
       "      <td>0.000006</td>\n",
       "      <td>KA - (((KA - KB) * (((KA - 0.21017282) * (((0....</td>\n",
       "      <td>1.435037e-02</td>\n",
       "      <td>KA - mB*(KA - KB)*(mA*(KA - 0.21017282)*(-0.04...</td>\n",
       "      <td>PySRFunction(X=&gt;KA - mB*(KA - KB)*(mA*(KA - 0....</td>\n",
       "    </tr>\n",
       "    <tr>\n",
       "      <th>21</th>\n",
       "      <td>31</td>\n",
       "      <td>0.000006</td>\n",
       "      <td>KA - ((((mA * ((0.5914169 / (KA - 0.20905314))...</td>\n",
       "      <td>1.369931e-02</td>\n",
       "      <td>KA - mB*(KA - KB)*(mA*(KA - 0.21017274)*(-0.10...</td>\n",
       "      <td>PySRFunction(X=&gt;KA - mB*(KA - KB)*(mA*(KA - 0....</td>\n",
       "    </tr>\n",
       "    <tr>\n",
       "      <th>22</th>\n",
       "      <td>33</td>\n",
       "      <td>0.000006</td>\n",
       "      <td>KA - (((((KA - 0.21021429) * mA) * ((0.5547303...</td>\n",
       "      <td>4.658380e-03</td>\n",
       "      <td>KA - mB*(KA - KB)*(mA*(KA - 0.21021429)*(-mA*(...</td>\n",
       "      <td>PySRFunction(X=&gt;KA - mB*(KA - KB)*(mA*(KA - 0....</td>\n",
       "    </tr>\n",
       "    <tr>\n",
       "      <th>23</th>\n",
       "      <td>35</td>\n",
       "      <td>0.000006</td>\n",
       "      <td>KA - (((0.99542445 + (mA * (((0.5537447 / (KA ...</td>\n",
       "      <td>4.006681e-03</td>\n",
       "      <td>KA - mB*(KA - KB)*(mA*(KA - 0.21021429)*(-mA**...</td>\n",
       "      <td>PySRFunction(X=&gt;KA - mB*(KA - KB)*(mA*(KA - 0....</td>\n",
       "    </tr>\n",
       "    <tr>\n",
       "      <th>24</th>\n",
       "      <td>36</td>\n",
       "      <td>0.000006</td>\n",
       "      <td>KA - (mB * ((0.9955383 + (mA * (((0.55308414 /...</td>\n",
       "      <td>8.031496e-04</td>\n",
       "      <td>KA - mB*(KA - KB)*(mA*(KA - 0.21021429)*(-(4.9...</td>\n",
       "      <td>PySRFunction(X=&gt;KA - mB*(KA - KB)*(mA*(KA - 0....</td>\n",
       "    </tr>\n",
       "    <tr>\n",
       "      <th>25</th>\n",
       "      <td>37</td>\n",
       "      <td>0.000006</td>\n",
       "      <td>KA - (((mA * ((KA - 0.2102387) * ((((mA / (KA ...</td>\n",
       "      <td>1.928170e-02</td>\n",
       "      <td>KA - mB*(KA - KB)*(mA*(KA - 0.2102387)*(-0.105...</td>\n",
       "      <td>PySRFunction(X=&gt;KA - mB*(KA - KB)*(mA*(KA - 0....</td>\n",
       "    </tr>\n",
       "    <tr>\n",
       "      <th>26</th>\n",
       "      <td>39</td>\n",
       "      <td>0.000006</td>\n",
       "      <td>KA - ((KA - KB) * ((((KA - 0.21026164) * (((0....</td>\n",
       "      <td>3.131705e-03</td>\n",
       "      <td>KA - mB*(KA - KB)*(mA*(KA - 0.21026164)*(0.174...</td>\n",
       "      <td>PySRFunction(X=&gt;KA - mB*(KA - KB)*(mA*(KA - 0....</td>\n",
       "    </tr>\n",
       "    <tr>\n",
       "      <th>27</th>\n",
       "      <td>40</td>\n",
       "      <td>0.000006</td>\n",
       "      <td>KA - ((KA - KB) * (((((KA - 0.21026164) * ((0....</td>\n",
       "      <td>1.040800e-07</td>\n",
       "      <td>KA - mB*(KA - KB)*(mA*(KA - 0.21026164)*(0.174...</td>\n",
       "      <td>PySRFunction(X=&gt;KA - mB*(KA - KB)*(mA*(KA - 0....</td>\n",
       "    </tr>\n",
       "  </tbody>\n",
       "</table>\n",
       "</div>"
      ],
      "text/plain": [
       "    complexity      loss                                           equation  \\\n",
       "0            1  0.000266                                                 KB   \n",
       "1            3  0.000169                                     KB / 0.9312176   \n",
       "2            4  0.000106                                      sqrt(KA * KB)   \n",
       "3            6  0.000105                    sqrt(KA * (KB + -0.0018817218))   \n",
       "4            7  0.000016                              KA + (mB * (KB - KA))   \n",
       "5            9  0.000013              KA - ((mB + 0.058679853) * (KA - KB))   \n",
       "6           10  0.000012                 ((mA * sqrt(mA)) * (KA - KB)) + KB   \n",
       "7           11  0.000012       KB - ((KB + ((mB * 0.011559093) - KA)) * mA)   \n",
       "8           12  0.000011  KA - ((KA - KB) * log(1.6532625 * (mB + 0.6133...   \n",
       "9           14  0.000011  KA - ((log((mB * 1.6304604) + 0.99842536) * (K...   \n",
       "10          15  0.000010  KA - ((KB - KA) * (mA + ((-6.626319e-5 / (0.20...   \n",
       "11          16  0.000008  (((sqrt(mA) * mA) + (6.400207e-5 / (KA - 0.209...   \n",
       "12          17  0.000007  (mA * ((KA - KB) * abs((0.00010162177 / (KA - ...   \n",
       "13          19  0.000007  KB + ((mA * ((KA + -0.0003239217) - KB)) * abs...   \n",
       "14          21  0.000007  KA - ((((((KA - 0.21017282) / 1.7637879) * (mA...   \n",
       "15          23  0.000006  ((KA - KB) * abs((mA * (sqrt(mA) + (0.00010134...   \n",
       "16          24  0.000006  KB + (((mA * abs(sqrt(mA) + (0.0001013226 / (K...   \n",
       "17          25  0.000006  ((-0.00030656243 - (KB - KA)) * abs((-0.000164...   \n",
       "18          26  0.000006  KB + ((-0.00036347457 - (KB - KA)) * (abs(-0.0...   \n",
       "19          27  0.000006  KA - ((0.99086624 + (((0.06955903 / (-0.183256...   \n",
       "20          29  0.000006  KA - (((KA - KB) * (((KA - 0.21017282) * (((0....   \n",
       "21          31  0.000006  KA - ((((mA * ((0.5914169 / (KA - 0.20905314))...   \n",
       "22          33  0.000006  KA - (((((KA - 0.21021429) * mA) * ((0.5547303...   \n",
       "23          35  0.000006  KA - (((0.99542445 + (mA * (((0.5537447 / (KA ...   \n",
       "24          36  0.000006  KA - (mB * ((0.9955383 + (mA * (((0.55308414 /...   \n",
       "25          37  0.000006  KA - (((mA * ((KA - 0.2102387) * ((((mA / (KA ...   \n",
       "26          39  0.000006  KA - ((KA - KB) * ((((KA - 0.21026164) * (((0....   \n",
       "27          40  0.000006  KA - ((KA - KB) * (((((KA - 0.21026164) * ((0....   \n",
       "\n",
       "           score                                       sympy_format  \\\n",
       "0   0.000000e+00                                                 KB   \n",
       "1   2.282955e-01                                1.07386286513485*KB   \n",
       "2   4.666669e-01                                        sqrt(KA*KB)   \n",
       "3   4.990314e-03                       sqrt(KA*(KB - 0.0018817218))   \n",
       "4   1.886381e+00                                 KA + mB*(-KA + KB)   \n",
       "5   1.065685e-01                  KA - (KA - KB)*(mB + 0.058679853)   \n",
       "6   4.039084e-02                           KB + mA**(3/2)*(KA - KB)   \n",
       "7   1.450456e-02                KB - mA*(-KA + KB + 0.011559093*mB)   \n",
       "8   1.073147e-01  KA - (KA - KB)*log(1.6532625*mB + 1.014065587455)   \n",
       "9   6.104769e-03  KA - (KA - KB)*log(1.6304604*mB + 0.99842536) ...   \n",
       "10  1.249214e-01  KA - (-KA + KB)*(mA - 1.0787884 - 6.626319e-5/...   \n",
       "11  1.227145e-01  KB + (KA - KB)*(mA**(3/2) + 6.400207e-5/(KA - ...   \n",
       "12  2.141751e-01  KB + mA*(KA - KB)*Abs(sqrt(mA) + 0.00010162177...   \n",
       "13  2.178190e-03  KB + mA*(KA - KB - 0.0003239217)*Abs(sqrt(mA) ...   \n",
       "14  7.338154e-03  KA - mB*(KA - KB)*(0.566961594418467*mA*(KA - ...   \n",
       "15  1.458654e-02  KB + (KA - KB)*Abs(mA*(sqrt(mA) + 0.0001013414...   \n",
       "16  2.127176e-03  KB + (KA - KB)*(mA*Abs(sqrt(mA) + 0.0001013226...   \n",
       "17  2.296860e-03  KB + (KA - KB - 0.00030656243)*Abs(mA*(sqrt(mA...   \n",
       "18  3.721155e-03  KB + (mA*Abs(sqrt(mA) + 0.00010132736/(KA - 0....   \n",
       "19  8.057524e-03  KA - mB*(KA - KB)*(mA*(KA - 0.21026175)*(0.069...   \n",
       "20  1.435037e-02  KA - mB*(KA - KB)*(mA*(KA - 0.21017282)*(-0.04...   \n",
       "21  1.369931e-02  KA - mB*(KA - KB)*(mA*(KA - 0.21017274)*(-0.10...   \n",
       "22  4.658380e-03  KA - mB*(KA - KB)*(mA*(KA - 0.21021429)*(-mA*(...   \n",
       "23  4.006681e-03  KA - mB*(KA - KB)*(mA*(KA - 0.21021429)*(-mA**...   \n",
       "24  8.031496e-04  KA - mB*(KA - KB)*(mA*(KA - 0.21021429)*(-(4.9...   \n",
       "25  1.928170e-02  KA - mB*(KA - KB)*(mA*(KA - 0.2102387)*(-0.105...   \n",
       "26  3.131705e-03  KA - mB*(KA - KB)*(mA*(KA - 0.21026164)*(0.174...   \n",
       "27  1.040800e-07  KA - mB*(KA - KB)*(mA*(KA - 0.21026164)*(0.174...   \n",
       "\n",
       "                                        lambda_format  \n",
       "0                                 PySRFunction(X=>KB)  \n",
       "1                PySRFunction(X=>1.07386286513485*KB)  \n",
       "2                        PySRFunction(X=>sqrt(KA*KB))  \n",
       "3       PySRFunction(X=>sqrt(KA*(KB - 0.0018817218)))  \n",
       "4                 PySRFunction(X=>KA + mB*(-KA + KB))  \n",
       "5   PySRFunction(X=>KA - (KA - KB)*(mB + 0.0586798...  \n",
       "6           PySRFunction(X=>KB + mA**(3/2)*(KA - KB))  \n",
       "7   PySRFunction(X=>KB - mA*(-KA + KB + 0.01155909...  \n",
       "8   PySRFunction(X=>KA - (KA - KB)*log(1.6532625*m...  \n",
       "9   PySRFunction(X=>KA - (KA - KB)*log(1.6304604*m...  \n",
       "10  PySRFunction(X=>KA - (-KA + KB)*(mA - 1.078788...  \n",
       "11  PySRFunction(X=>KB + (KA - KB)*(mA**(3/2) + 6....  \n",
       "12  PySRFunction(X=>KB + mA*(KA - KB)*Abs(sqrt(mA)...  \n",
       "13  PySRFunction(X=>KB + mA*(KA - KB - 0.000323921...  \n",
       "14  PySRFunction(X=>KA - mB*(KA - KB)*(0.566961594...  \n",
       "15  PySRFunction(X=>KB + (KA - KB)*Abs(mA*(sqrt(mA...  \n",
       "16  PySRFunction(X=>KB + (KA - KB)*(mA*Abs(sqrt(mA...  \n",
       "17  PySRFunction(X=>KB + (KA - KB - 0.00030656243)...  \n",
       "18  PySRFunction(X=>KB + (mA*Abs(sqrt(mA) + 0.0001...  \n",
       "19  PySRFunction(X=>KA - mB*(KA - KB)*(mA*(KA - 0....  \n",
       "20  PySRFunction(X=>KA - mB*(KA - KB)*(mA*(KA - 0....  \n",
       "21  PySRFunction(X=>KA - mB*(KA - KB)*(mA*(KA - 0....  \n",
       "22  PySRFunction(X=>KA - mB*(KA - KB)*(mA*(KA - 0....  \n",
       "23  PySRFunction(X=>KA - mB*(KA - KB)*(mA*(KA - 0....  \n",
       "24  PySRFunction(X=>KA - mB*(KA - KB)*(mA*(KA - 0....  \n",
       "25  PySRFunction(X=>KA - mB*(KA - KB)*(mA*(KA - 0....  \n",
       "26  PySRFunction(X=>KA - mB*(KA - KB)*(mA*(KA - 0....  \n",
       "27  PySRFunction(X=>KA - mB*(KA - KB)*(mA*(KA - 0....  "
      ]
     },
     "execution_count": 251,
     "metadata": {},
     "output_type": "execute_result"
    }
   ],
   "source": [
    "with open('../linux_outputs/10K/20250506_095737_xWpjxU/checkpoint.pkl', 'rb') as f:\n",
    "     checkpoint = pickle.load(f)\n",
    "\n",
    "equations_df = checkpoint.equations_\n",
    "equations_df"
   ]
  },
  {
   "cell_type": "code",
   "execution_count": 252,
   "id": "9aa1b1a8",
   "metadata": {},
   "outputs": [],
   "source": [
    "# results = []\n",
    "\n",
    "# for i, row in equations_df.iterrows():\n",
    "#     try:\n",
    "#         # Parse the sympy expression\n",
    "#         expr = sp.sympify(row['sympy_format'])\n",
    "\n",
    "#         # Extract all the symbols used in the equation\n",
    "#         variables = sorted(expr.free_symbols, key=lambda s: str(s))  # keep it deterministic\n",
    "\n",
    "#         # Convert sympy expression into a NumPy-compatible function\n",
    "#         f_lambdified = sp.lambdify(variables, expr, modules='numpy')\n",
    "\n",
    "#         # Prepare inputs: for each variable, get its column values from X_test\n",
    "#         input_arrays = [df_new[str(var)].values for var in variables]\n",
    "\n",
    "#         # Evaluate the expression\n",
    "#         y_pred = f_lambdified(*input_arrays)\n",
    "#         y_pred = np.asarray(y_pred).flatten()\n",
    "\n",
    "#         # Compute metrics\n",
    "#         rmse = np.sqrt(mean_squared_error(y_true, y_pred))\n",
    "#         r2 = r2_score(y_true, y_pred)\n",
    "\n",
    "#         results.append({\n",
    "#             'equation': str(expr),\n",
    "#             'rmse': rmse,\n",
    "#             'r2': r2,\n",
    "#             'loss': row.get('loss', None),\n",
    "#             'complexity': row.get('complexity', None)\n",
    "#         })\n",
    "\n",
    "#     except Exception as e:\n",
    "#         print(f\"Error evaluating equation {i}: {e}\")"
   ]
  },
  {
   "cell_type": "code",
   "execution_count": 253,
   "id": "10f6debc",
   "metadata": {},
   "outputs": [],
   "source": [
    "# results_df = pd.DataFrame(results)\n",
    "# results_df.sort_values(by='rmse', inplace=True)  # or by 'r2' descending\n",
    "# results_df"
   ]
  },
  {
   "cell_type": "code",
   "execution_count": 254,
   "id": "b56ba590",
   "metadata": {},
   "outputs": [],
   "source": [
    "df_new1 = df_new.copy()"
   ]
  },
  {
   "cell_type": "code",
   "execution_count": 255,
   "id": "34c31101",
   "metadata": {},
   "outputs": [],
   "source": [
    "# # Apply to test set of SDB1 instead of whole DB\n",
    "# with open('../data/X_test_all_2.pkl', 'rb') as f:\n",
    "#     df_new1 = pickle.load(f)\n",
    "# with open('../data/y_test_all_2.pkl', 'rb') as f:\n",
    "#     y_true = pickle.load(f)"
   ]
  },
  {
   "cell_type": "code",
   "execution_count": 256,
   "id": "c4debb58",
   "metadata": {},
   "outputs": [
    {
     "name": "stdout",
     "output_type": "stream",
     "text": [
      "Error evaluating equation 18 in batch 1: 'Tr_A'\n",
      "Error evaluating equation 19 in batch 1: 'Tr_A'\n",
      "Error evaluating equation 20 in batch 1: 'Tr_A'\n",
      "Error evaluating equation 21 in batch 1: 'Tr_A'\n",
      "Error evaluating equation 22 in batch 1: 'Tr_A'\n",
      "Error evaluating equation 23 in batch 1: 'Tr_A'\n",
      "Error evaluating equation 24 in batch 1: 'Tr_A'\n",
      "Error evaluating equation 25 in batch 1: 'Tr_A'\n",
      "Error evaluating equation 26 in batch 1: 'Tr_A'\n",
      "Error evaluating equation 20 in batch 2: 'Tr_B'\n",
      "Error evaluating equation 21 in batch 2: 'Tr_B'\n",
      "Error evaluating equation 22 in batch 2: 'Tr_B'\n",
      "Error evaluating equation 23 in batch 2: 'Tr_B'\n",
      "Error evaluating equation 24 in batch 2: 'Tr_B'\n",
      "Error evaluating equation 25 in batch 2: 'Tr_B'\n",
      "Error swapping Tr values in batch 3: \"None of [Index(['Tr_B', 'Tr_A'], dtype='object')] are in the [columns]\"\n",
      "Error evaluating equation 13 in batch 3: 'Tr_B'\n",
      "Error evaluating equation 14 in batch 3: 'Tr_B'\n",
      "Error evaluating equation 15 in batch 3: 'Tr_A'\n",
      "Error evaluating equation 16 in batch 3: 'Tr_A'\n",
      "Error evaluating equation 17 in batch 3: 'Tr_A'\n",
      "Error evaluating equation 18 in batch 3: 'Tr_A'\n",
      "Error evaluating equation 19 in batch 3: 'Tr_A'\n",
      "Error evaluating equation 20 in batch 3: 'Tr_A'\n",
      "Error evaluating equation 21 in batch 3: 'Tr_A'\n",
      "Error evaluating equation 22 in batch 3: 'Tr_A'\n",
      "Error evaluating equation 23 in batch 3: 'Tr_A'\n",
      "Error evaluating equation 24 in batch 3: 'Tr_A'\n",
      "Error evaluating equation 25 in batch 3: 'Tr_A'\n",
      "Error evaluating equation 26 in batch 3: 'Tr_A'\n",
      "Error evaluating equation 21 in batch 4: 'Tr_B'\n",
      "Error evaluating equation 9 in batch 5: 'Tr_B'\n",
      "Error evaluating equation 10 in batch 5: 'Tr_B'\n",
      "Error evaluating equation 11 in batch 5: 'Tr_B'\n",
      "Error evaluating equation 12 in batch 5: 'Tr_A'\n",
      "Error evaluating equation 13 in batch 5: 'Tr_A'\n",
      "Error evaluating equation 14 in batch 5: 'Tr_A'\n",
      "Error evaluating equation 15 in batch 5: 'Tr_A'\n",
      "Error evaluating equation 16 in batch 5: 'Tr_A'\n",
      "Error evaluating equation 17 in batch 5: 'Tr_A'\n",
      "Error evaluating equation 18 in batch 5: 'Tr_A'\n",
      "Error evaluating equation 19 in batch 5: 'Tr_A'\n",
      "Error evaluating equation 20 in batch 5: 'Tr_A'\n",
      "Error evaluating equation 21 in batch 5: 'Tr_A'\n",
      "Error evaluating equation 22 in batch 5: 'Tr_A'\n",
      "Error evaluating equation 23 in batch 5: 'Tr_A'\n",
      "Error evaluating equation 24 in batch 5: 'Tr_A'\n",
      "Error evaluating equation 25 in batch 5: 'Tr_A'\n",
      "Error evaluating equation 9 in batch 6: 'Tr_B'\n",
      "Error evaluating equation 10 in batch 6: 'Tr_B'\n",
      "Error evaluating equation 11 in batch 6: 'Tr_B'\n",
      "Error evaluating equation 12 in batch 6: 'Tr_A'\n",
      "Error evaluating equation 13 in batch 6: 'Tr_A'\n",
      "Error evaluating equation 14 in batch 6: 'Tr_A'\n",
      "Error evaluating equation 15 in batch 6: 'Tr_A'\n",
      "Error evaluating equation 16 in batch 6: 'Tr_A'\n",
      "Error evaluating equation 17 in batch 6: 'Tr_A'\n",
      "Error evaluating equation 18 in batch 6: 'Tr_A'\n",
      "Error evaluating equation 19 in batch 6: 'Tr_A'\n",
      "Error evaluating equation 20 in batch 6: 'Tr_A'\n",
      "Error evaluating equation 21 in batch 6: 'Tr_A'\n",
      "Error evaluating equation 22 in batch 6: 'Tr_A'\n",
      "Error evaluating equation 23 in batch 6: 'Tr_A'\n",
      "Error evaluating equation 24 in batch 6: 'Tr_A'\n",
      "Error evaluating equation 25 in batch 6: 'Tr_A'\n",
      "Error evaluating equation 18 in batch 7: 'Tr_B'\n",
      "Error evaluating equation 19 in batch 7: 'Tr_B'\n",
      "Error evaluating equation 20 in batch 7: 'Tr_B'\n",
      "Error evaluating equation 21 in batch 7: 'Tr_B'\n",
      "Error evaluating equation 22 in batch 7: 'Tr_B'\n",
      "Error evaluating equation 23 in batch 7: 'Tr_B'\n",
      "Error evaluating equation 24 in batch 7: 'Tr_B'\n",
      "Error evaluating equation 25 in batch 7: 'Tr_B'\n",
      "Error evaluating equation 18 in batch 8: 'Tr_B'\n",
      "Error evaluating equation 21 in batch 8: 'Tr_B'\n",
      "Error evaluating equation 23 in batch 8: 'Tr_B'\n",
      "Error evaluating equation 24 in batch 8: 'Tr_B'\n",
      "Error swapping Tr values in batch 9: \"None of [Index(['Tr_B', 'Tr_A'], dtype='object')] are in the [columns]\"\n",
      "Error evaluating equation 13 in batch 9: 'Tr_B'\n",
      "Error evaluating equation 14 in batch 9: 'Tr_B'\n",
      "Error evaluating equation 15 in batch 9: 'Tr_A'\n",
      "Error evaluating equation 16 in batch 9: 'Tr_A'\n",
      "Error evaluating equation 17 in batch 9: 'Tr_A'\n",
      "Error evaluating equation 18 in batch 9: 'Tr_A'\n",
      "Error evaluating equation 19 in batch 9: 'Tr_A'\n",
      "Error evaluating equation 20 in batch 9: 'Tr_A'\n",
      "Error evaluating equation 21 in batch 9: 'Tr_A'\n",
      "Error evaluating equation 22 in batch 9: 'Tr_A'\n",
      "Error evaluating equation 23 in batch 9: 'Tr_A'\n",
      "Error evaluating equation 24 in batch 9: 'Tr_A'\n",
      "Error evaluating equation 25 in batch 9: 'Tr_A'\n",
      "Error evaluating equation 26 in batch 9: 'Tr_A'\n",
      "Error evaluating equation 27 in batch 9: 'Tr_A'\n",
      "Error evaluating equation 28 in batch 9: 'Tr_A'\n",
      "Error evaluating equation 29 in batch 9: 'Tr_A'\n",
      "Error evaluating equation 30 in batch 9: 'Tr_A'\n",
      "Error swapping Tr values in batch 10: \"None of [Index(['Tr_B', 'Tr_A'], dtype='object')] are in the [columns]\"\n",
      "Error evaluating equation 13 in batch 10: 'Tr_B'\n",
      "Error evaluating equation 17 in batch 10: 'Tr_B'\n",
      "Error evaluating equation 18 in batch 10: 'Tr_B'\n",
      "Error evaluating equation 19 in batch 10: 'Tr_B'\n",
      "Error evaluating equation 20 in batch 10: 'Tr_B'\n",
      "Error evaluating equation 21 in batch 10: 'Tr_B'\n",
      "Error evaluating equation 22 in batch 10: 'Tr_B'\n",
      "Error evaluating equation 23 in batch 10: 'Tr_A'\n",
      "Error evaluating equation 24 in batch 10: 'Tr_B'\n",
      "Error evaluating equation 25 in batch 10: 'Tr_B'\n",
      "Error evaluating equation 26 in batch 10: 'Tr_B'\n",
      "Error evaluating equation 27 in batch 10: 'Tr_A'\n",
      "Error evaluating equation 28 in batch 10: 'Tr_A'\n",
      "Error evaluating equation 8 in batch 11: 'Tr_A'\n",
      "Error evaluating equation 10 in batch 11: 'Tr_B'\n",
      "Error evaluating equation 12 in batch 11: 'Tr_B'\n",
      "Error evaluating equation 13 in batch 11: 'Tr_B'\n",
      "Error evaluating equation 14 in batch 11: 'Tr_B'\n",
      "Error evaluating equation 15 in batch 11: 'Tr_B'\n",
      "Error evaluating equation 16 in batch 11: 'Tr_A'\n",
      "Error evaluating equation 17 in batch 11: 'Tr_A'\n",
      "Error evaluating equation 18 in batch 11: 'Tr_A'\n",
      "Error evaluating equation 19 in batch 11: 'Tr_A'\n",
      "Error evaluating equation 19 in batch 12: 'Tr_B'\n",
      "Error evaluating equation 20 in batch 12: 'Tr_A'\n",
      "Error evaluating equation 21 in batch 12: 'Tr_A'\n",
      "Error evaluating equation 22 in batch 12: 'Tr_A'\n",
      "Error evaluating equation 23 in batch 12: 'Tr_A'\n",
      "Error evaluating equation 24 in batch 12: 'Tr_A'\n",
      "Error swapping Tr values in batch 15: \"None of [Index(['Tr_B', 'Tr_A'], dtype='object')] are in the [columns]\"\n",
      "Error evaluating equation 14 in batch 17: 'Tr_B'\n",
      "Error evaluating equation 16 in batch 17: 'Tr_A'\n",
      "Error evaluating equation 17 in batch 17: 'Tr_A'\n",
      "Error evaluating equation 18 in batch 17: 'Tr_A'\n",
      "Error evaluating equation 19 in batch 17: 'Tr_A'\n",
      "Error evaluating equation 20 in batch 17: 'Tr_A'\n",
      "Error evaluating equation 21 in batch 17: 'Tr_A'\n",
      "Error evaluating equation 22 in batch 17: 'Tr_A'\n",
      "Error evaluating equation 18 in batch 18: 'Tr_A'\n",
      "Error evaluating equation 19 in batch 18: 'Tr_A'\n",
      "Error evaluating equation 20 in batch 18: 'Tr_A'\n",
      "Error evaluating equation 21 in batch 18: 'Tr_A'\n",
      "Error evaluating equation 22 in batch 18: 'Tr_A'\n",
      "Error evaluating equation 23 in batch 18: 'Tr_A'\n",
      "Error evaluating equation 24 in batch 18: 'Tr_A'\n",
      "Error evaluating equation 25 in batch 18: 'Tr_A'\n",
      "Error evaluating equation 17 in batch 19: 'Tr_A'\n",
      "Error evaluating equation 18 in batch 19: 'Tr_A'\n",
      "Error evaluating equation 19 in batch 19: 'Tr_A'\n",
      "Error evaluating equation 20 in batch 19: 'Tr_A'\n",
      "Error evaluating equation 21 in batch 19: 'Tr_A'\n",
      "Error evaluating equation 22 in batch 19: 'Tr_A'\n",
      "Error evaluating equation 23 in batch 19: 'Tr_A'\n",
      "Error evaluating equation 24 in batch 19: 'Tr_A'\n",
      "Error evaluating equation 18 in batch 20: 'Tr_A'\n",
      "Error evaluating equation 19 in batch 20: 'Tr_A'\n",
      "Error evaluating equation 20 in batch 20: 'Tr_A'\n",
      "Error evaluating equation 21 in batch 20: 'Tr_A'\n",
      "Error evaluating equation 22 in batch 20: 'Tr_A'\n",
      "Error evaluating equation 23 in batch 20: 'Tr_A'\n",
      "Error evaluating equation 24 in batch 20: 'Tr_A'\n",
      "Error swapping Tr values in batch 22: \"None of [Index(['Tr_B', 'Tr_A'], dtype='object')] are in the [columns]\"\n"
     ]
    }
   ],
   "source": [
    "# Root path to folders\n",
    "base_path = '../linux_outputs/10K'\n",
    "\n",
    "# Get folder paths\n",
    "folder_paths = sorted([\n",
    "    os.path.join(base_path, f).replace('\\\\', '/')\n",
    "    for f in os.listdir(base_path)\n",
    "    if os.path.isdir(os.path.join(base_path, f))\n",
    "])\n",
    "\n",
    "# Batches where KB > KA swap is needed\n",
    "swap_batches = {3, 9, 10, 15, 22}\n",
    "\n",
    "all_results = []\n",
    "\n",
    "for batch_num, folder in enumerate(folder_paths, start=1):\n",
    "    checkpoint_path = os.path.join(folder, 'checkpoint.pkl')\n",
    "\n",
    "    if not os.path.exists(checkpoint_path):\n",
    "        print(f\"Checkpoint not found in {folder}, skipping.\")\n",
    "        continue\n",
    "\n",
    "    try:\n",
    "        with open(checkpoint_path, 'rb') as f:\n",
    "            model = pickle.load(f)\n",
    "        equations_df = model.equations_\n",
    "\n",
    "        # Make a copy of the input data\n",
    "        df_new = df_new1.copy() #Change to df_new1 if using test set\n",
    "\n",
    "        # Apply swapping conditionally\n",
    "        if batch_num in swap_batches:\n",
    "            swap_mask = df_new['KB'] > df_new['KA']\n",
    "            df_new.loc[swap_mask, ['KA', 'KB']] = df_new.loc[swap_mask, ['KB', 'KA']].values\n",
    "            df_new.loc[swap_mask, ['mA', 'mB']] = df_new.loc[swap_mask, ['mB', 'mA']].values\n",
    "            try:\n",
    "                df_new.loc[swap_mask, ['Tr_A', 'Tr_B']] = df_new.loc[swap_mask, ['Tr_B', 'Tr_A']].values\n",
    "            \n",
    "            except Exception as e:\n",
    "                print(f\"Error swapping Tr values in batch {batch_num}: {e}\")\n",
    "\n",
    "        for i, row in equations_df.iterrows():\n",
    "            try:\n",
    "                expr = sp.sympify(row['sympy_format'])\n",
    "                variables = sorted(expr.free_symbols, key=lambda s: str(s))\n",
    "                f_lambdified = sp.lambdify(variables, expr, modules='numpy')\n",
    "                input_arrays = [df_new[str(var)].values for var in variables]\n",
    "                y_pred = np.asarray(f_lambdified(*input_arrays)).flatten()\n",
    "\n",
    "                rmse = np.sqrt(mean_squared_error(y_true, y_pred))\n",
    "                r2 = r2_score(y_true, y_pred)\n",
    "                dev = np.mean(np.abs((y_true - y_pred) / y_true)) * 100\n",
    "\n",
    "                all_results.append({\n",
    "                    'batch': batch_num,\n",
    "                    'equation': str(expr),\n",
    "                    'rmse': rmse,\n",
    "                    'r2': r2,\n",
    "                    'deviation': dev,\n",
    "                    'loss': row.get('loss', None),\n",
    "                    'complexity': row.get('complexity', None),\n",
    "                    'folder': folder\n",
    "                })\n",
    "\n",
    "            except Exception as e:\n",
    "                print(f\"Error evaluating equation {i} in batch {batch_num}: {e}\")\n",
    "\n",
    "    except Exception as e:\n",
    "        print(f\"Error loading checkpoint from {folder}: {e}\")\n"
   ]
  },
  {
   "cell_type": "code",
   "execution_count": 257,
   "id": "3f112939",
   "metadata": {},
   "outputs": [
    {
     "data": {
      "text/html": [
       "<div>\n",
       "<style scoped>\n",
       "    .dataframe tbody tr th:only-of-type {\n",
       "        vertical-align: middle;\n",
       "    }\n",
       "\n",
       "    .dataframe tbody tr th {\n",
       "        vertical-align: top;\n",
       "    }\n",
       "\n",
       "    .dataframe thead th {\n",
       "        text-align: right;\n",
       "    }\n",
       "</style>\n",
       "<table border=\"1\" class=\"dataframe\">\n",
       "  <thead>\n",
       "    <tr style=\"text-align: right;\">\n",
       "      <th></th>\n",
       "      <th>batch</th>\n",
       "      <th>equation</th>\n",
       "      <th>rmse</th>\n",
       "      <th>r2</th>\n",
       "      <th>deviation</th>\n",
       "      <th>loss</th>\n",
       "      <th>complexity</th>\n",
       "      <th>folder</th>\n",
       "    </tr>\n",
       "  </thead>\n",
       "  <tbody>\n",
       "    <tr>\n",
       "      <th>413</th>\n",
       "      <td>22</td>\n",
       "      <td>KA - mB*(KA - KB)*(mA*(KA - 0.21017274)*(-0.10...</td>\n",
       "      <td>0.003950</td>\n",
       "      <td>0.966953</td>\n",
       "      <td>2.048856</td>\n",
       "      <td>0.000006</td>\n",
       "      <td>31</td>\n",
       "      <td>../linux_outputs/10K/20250506_095737_xWpjxU</td>\n",
       "    </tr>\n",
       "    <tr>\n",
       "      <th>412</th>\n",
       "      <td>22</td>\n",
       "      <td>KA - mB*(KA - KB)*(mA*(KA - 0.21017282)*(-0.04...</td>\n",
       "      <td>0.003951</td>\n",
       "      <td>0.966933</td>\n",
       "      <td>2.049763</td>\n",
       "      <td>0.000006</td>\n",
       "      <td>29</td>\n",
       "      <td>../linux_outputs/10K/20250506_095737_xWpjxU</td>\n",
       "    </tr>\n",
       "    <tr>\n",
       "      <th>414</th>\n",
       "      <td>22</td>\n",
       "      <td>KA - mB*(KA - KB)*(mA*(KA - 0.21021429)*(-mA*(...</td>\n",
       "      <td>0.003962</td>\n",
       "      <td>0.966755</td>\n",
       "      <td>2.062776</td>\n",
       "      <td>0.000006</td>\n",
       "      <td>33</td>\n",
       "      <td>../linux_outputs/10K/20250506_095737_xWpjxU</td>\n",
       "    </tr>\n",
       "    <tr>\n",
       "      <th>415</th>\n",
       "      <td>22</td>\n",
       "      <td>KA - mB*(KA - KB)*(mA*(KA - 0.21021429)*(-mA**...</td>\n",
       "      <td>0.003962</td>\n",
       "      <td>0.966748</td>\n",
       "      <td>2.060326</td>\n",
       "      <td>0.000006</td>\n",
       "      <td>35</td>\n",
       "      <td>../linux_outputs/10K/20250506_095737_xWpjxU</td>\n",
       "    </tr>\n",
       "    <tr>\n",
       "      <th>416</th>\n",
       "      <td>22</td>\n",
       "      <td>KA - mB*(KA - KB)*(mA*(KA - 0.21021429)*(-(4.9...</td>\n",
       "      <td>0.003967</td>\n",
       "      <td>0.966675</td>\n",
       "      <td>2.061280</td>\n",
       "      <td>0.000006</td>\n",
       "      <td>36</td>\n",
       "      <td>../linux_outputs/10K/20250506_095737_xWpjxU</td>\n",
       "    </tr>\n",
       "    <tr>\n",
       "      <th>...</th>\n",
       "      <td>...</td>\n",
       "      <td>...</td>\n",
       "      <td>...</td>\n",
       "      <td>...</td>\n",
       "      <td>...</td>\n",
       "      <td>...</td>\n",
       "      <td>...</td>\n",
       "      <td>...</td>\n",
       "    </tr>\n",
       "    <tr>\n",
       "      <th>217</th>\n",
       "      <td>13</td>\n",
       "      <td>Abs(mAKA + mBKB/(0.56004703*mA*(-5.828942e-5*m...</td>\n",
       "      <td>0.023260</td>\n",
       "      <td>-0.145971</td>\n",
       "      <td>2.648050</td>\n",
       "      <td>0.000005</td>\n",
       "      <td>39</td>\n",
       "      <td>../linux_outputs/10K/20250410_100349_cCxrnR</td>\n",
       "    </tr>\n",
       "    <tr>\n",
       "      <th>216</th>\n",
       "      <td>13</td>\n",
       "      <td>mAKA + mBKB/(0.56004703*mA*(-5.828942e-5*mBKB/...</td>\n",
       "      <td>0.027434</td>\n",
       "      <td>-0.594071</td>\n",
       "      <td>2.722766</td>\n",
       "      <td>0.000005</td>\n",
       "      <td>38</td>\n",
       "      <td>../linux_outputs/10K/20250410_100349_cCxrnR</td>\n",
       "    </tr>\n",
       "    <tr>\n",
       "      <th>293</th>\n",
       "      <td>16</td>\n",
       "      <td>KB*mB + mA*(KA - 0.665070762864098*(KA + KB - ...</td>\n",
       "      <td>0.028770</td>\n",
       "      <td>-0.753199</td>\n",
       "      <td>2.410642</td>\n",
       "      <td>0.000008</td>\n",
       "      <td>28</td>\n",
       "      <td>../linux_outputs/10K/20250411_172421_Y9VWr1</td>\n",
       "    </tr>\n",
       "    <tr>\n",
       "      <th>299</th>\n",
       "      <td>16</td>\n",
       "      <td>KB*mB + mA*(KA - mB*(KA + KB - 0.3878954)*(KA ...</td>\n",
       "      <td>0.059753</td>\n",
       "      <td>-6.562465</td>\n",
       "      <td>3.818335</td>\n",
       "      <td>0.000008</td>\n",
       "      <td>40</td>\n",
       "      <td>../linux_outputs/10K/20250411_172421_Y9VWr1</td>\n",
       "    </tr>\n",
       "    <tr>\n",
       "      <th>102</th>\n",
       "      <td>7</td>\n",
       "      <td>KA - mB*(KA - KB + 0.00037769604*mA/Abs(KA - 0...</td>\n",
       "      <td>0.496513</td>\n",
       "      <td>-521.157333</td>\n",
       "      <td>8.259513</td>\n",
       "      <td>0.000011</td>\n",
       "      <td>16</td>\n",
       "      <td>../linux_outputs/10K/20250408_163850_vyfftu</td>\n",
       "    </tr>\n",
       "  </tbody>\n",
       "</table>\n",
       "<p>420 rows × 8 columns</p>\n",
       "</div>"
      ],
      "text/plain": [
       "     batch                                           equation      rmse  \\\n",
       "413     22  KA - mB*(KA - KB)*(mA*(KA - 0.21017274)*(-0.10...  0.003950   \n",
       "412     22  KA - mB*(KA - KB)*(mA*(KA - 0.21017282)*(-0.04...  0.003951   \n",
       "414     22  KA - mB*(KA - KB)*(mA*(KA - 0.21021429)*(-mA*(...  0.003962   \n",
       "415     22  KA - mB*(KA - KB)*(mA*(KA - 0.21021429)*(-mA**...  0.003962   \n",
       "416     22  KA - mB*(KA - KB)*(mA*(KA - 0.21021429)*(-(4.9...  0.003967   \n",
       "..     ...                                                ...       ...   \n",
       "217     13  Abs(mAKA + mBKB/(0.56004703*mA*(-5.828942e-5*m...  0.023260   \n",
       "216     13  mAKA + mBKB/(0.56004703*mA*(-5.828942e-5*mBKB/...  0.027434   \n",
       "293     16  KB*mB + mA*(KA - 0.665070762864098*(KA + KB - ...  0.028770   \n",
       "299     16  KB*mB + mA*(KA - mB*(KA + KB - 0.3878954)*(KA ...  0.059753   \n",
       "102      7  KA - mB*(KA - KB + 0.00037769604*mA/Abs(KA - 0...  0.496513   \n",
       "\n",
       "             r2  deviation      loss  complexity  \\\n",
       "413    0.966953   2.048856  0.000006          31   \n",
       "412    0.966933   2.049763  0.000006          29   \n",
       "414    0.966755   2.062776  0.000006          33   \n",
       "415    0.966748   2.060326  0.000006          35   \n",
       "416    0.966675   2.061280  0.000006          36   \n",
       "..          ...        ...       ...         ...   \n",
       "217   -0.145971   2.648050  0.000005          39   \n",
       "216   -0.594071   2.722766  0.000005          38   \n",
       "293   -0.753199   2.410642  0.000008          28   \n",
       "299   -6.562465   3.818335  0.000008          40   \n",
       "102 -521.157333   8.259513  0.000011          16   \n",
       "\n",
       "                                          folder  \n",
       "413  ../linux_outputs/10K/20250506_095737_xWpjxU  \n",
       "412  ../linux_outputs/10K/20250506_095737_xWpjxU  \n",
       "414  ../linux_outputs/10K/20250506_095737_xWpjxU  \n",
       "415  ../linux_outputs/10K/20250506_095737_xWpjxU  \n",
       "416  ../linux_outputs/10K/20250506_095737_xWpjxU  \n",
       "..                                           ...  \n",
       "217  ../linux_outputs/10K/20250410_100349_cCxrnR  \n",
       "216  ../linux_outputs/10K/20250410_100349_cCxrnR  \n",
       "293  ../linux_outputs/10K/20250411_172421_Y9VWr1  \n",
       "299  ../linux_outputs/10K/20250411_172421_Y9VWr1  \n",
       "102  ../linux_outputs/10K/20250408_163850_vyfftu  \n",
       "\n",
       "[420 rows x 8 columns]"
      ]
     },
     "execution_count": 257,
     "metadata": {},
     "output_type": "execute_result"
    }
   ],
   "source": [
    "results_df = pd.DataFrame(all_results)\n",
    "results_df.sort_values(by=['rmse'], inplace=True)\n",
    "results_df"
   ]
  },
  {
   "cell_type": "code",
   "execution_count": 258,
   "id": "fb0249bf",
   "metadata": {},
   "outputs": [
    {
     "ename": "PermissionError",
     "evalue": "[Errno 13] Permission denied: 'equation_results_wholedb_predict+exp.xlsx'",
     "output_type": "error",
     "traceback": [
      "\u001b[1;31m---------------------------------------------------------------------------\u001b[0m",
      "\u001b[1;31mPermissionError\u001b[0m                           Traceback (most recent call last)",
      "Cell \u001b[1;32mIn[258], line 3\u001b[0m\n\u001b[0;32m      1\u001b[0m output_path \u001b[38;5;241m=\u001b[39m \u001b[38;5;124m'\u001b[39m\u001b[38;5;124mequation_results_wholedb_predict+exp.xlsx\u001b[39m\u001b[38;5;124m'\u001b[39m \n\u001b[1;32m----> 3\u001b[0m \u001b[43mresults_df\u001b[49m\u001b[38;5;241;43m.\u001b[39;49m\u001b[43mto_excel\u001b[49m\u001b[43m(\u001b[49m\u001b[43moutput_path\u001b[49m\u001b[43m,\u001b[49m\u001b[43m \u001b[49m\u001b[43mindex\u001b[49m\u001b[38;5;241;43m=\u001b[39;49m\u001b[38;5;28;43;01mFalse\u001b[39;49;00m\u001b[43m)\u001b[49m\n",
      "File \u001b[1;32mc:\\Users\\leth\\AppData\\Local\\anaconda3\\envs\\THERMO\\Lib\\site-packages\\pandas\\util\\_decorators.py:333\u001b[0m, in \u001b[0;36mdeprecate_nonkeyword_arguments.<locals>.decorate.<locals>.wrapper\u001b[1;34m(*args, **kwargs)\u001b[0m\n\u001b[0;32m    327\u001b[0m \u001b[38;5;28;01mif\u001b[39;00m \u001b[38;5;28mlen\u001b[39m(args) \u001b[38;5;241m>\u001b[39m num_allow_args:\n\u001b[0;32m    328\u001b[0m     warnings\u001b[38;5;241m.\u001b[39mwarn(\n\u001b[0;32m    329\u001b[0m         msg\u001b[38;5;241m.\u001b[39mformat(arguments\u001b[38;5;241m=\u001b[39m_format_argument_list(allow_args)),\n\u001b[0;32m    330\u001b[0m         \u001b[38;5;167;01mFutureWarning\u001b[39;00m,\n\u001b[0;32m    331\u001b[0m         stacklevel\u001b[38;5;241m=\u001b[39mfind_stack_level(),\n\u001b[0;32m    332\u001b[0m     )\n\u001b[1;32m--> 333\u001b[0m \u001b[38;5;28;01mreturn\u001b[39;00m \u001b[43mfunc\u001b[49m\u001b[43m(\u001b[49m\u001b[38;5;241;43m*\u001b[39;49m\u001b[43margs\u001b[49m\u001b[43m,\u001b[49m\u001b[43m \u001b[49m\u001b[38;5;241;43m*\u001b[39;49m\u001b[38;5;241;43m*\u001b[39;49m\u001b[43mkwargs\u001b[49m\u001b[43m)\u001b[49m\n",
      "File \u001b[1;32mc:\\Users\\leth\\AppData\\Local\\anaconda3\\envs\\THERMO\\Lib\\site-packages\\pandas\\core\\generic.py:2417\u001b[0m, in \u001b[0;36mNDFrame.to_excel\u001b[1;34m(self, excel_writer, sheet_name, na_rep, float_format, columns, header, index, index_label, startrow, startcol, engine, merge_cells, inf_rep, freeze_panes, storage_options, engine_kwargs)\u001b[0m\n\u001b[0;32m   2404\u001b[0m \u001b[38;5;28;01mfrom\u001b[39;00m\u001b[38;5;250m \u001b[39m\u001b[38;5;21;01mpandas\u001b[39;00m\u001b[38;5;21;01m.\u001b[39;00m\u001b[38;5;21;01mio\u001b[39;00m\u001b[38;5;21;01m.\u001b[39;00m\u001b[38;5;21;01mformats\u001b[39;00m\u001b[38;5;21;01m.\u001b[39;00m\u001b[38;5;21;01mexcel\u001b[39;00m\u001b[38;5;250m \u001b[39m\u001b[38;5;28;01mimport\u001b[39;00m ExcelFormatter\n\u001b[0;32m   2406\u001b[0m formatter \u001b[38;5;241m=\u001b[39m ExcelFormatter(\n\u001b[0;32m   2407\u001b[0m     df,\n\u001b[0;32m   2408\u001b[0m     na_rep\u001b[38;5;241m=\u001b[39mna_rep,\n\u001b[1;32m   (...)\u001b[0m\n\u001b[0;32m   2415\u001b[0m     inf_rep\u001b[38;5;241m=\u001b[39minf_rep,\n\u001b[0;32m   2416\u001b[0m )\n\u001b[1;32m-> 2417\u001b[0m \u001b[43mformatter\u001b[49m\u001b[38;5;241;43m.\u001b[39;49m\u001b[43mwrite\u001b[49m\u001b[43m(\u001b[49m\n\u001b[0;32m   2418\u001b[0m \u001b[43m    \u001b[49m\u001b[43mexcel_writer\u001b[49m\u001b[43m,\u001b[49m\n\u001b[0;32m   2419\u001b[0m \u001b[43m    \u001b[49m\u001b[43msheet_name\u001b[49m\u001b[38;5;241;43m=\u001b[39;49m\u001b[43msheet_name\u001b[49m\u001b[43m,\u001b[49m\n\u001b[0;32m   2420\u001b[0m \u001b[43m    \u001b[49m\u001b[43mstartrow\u001b[49m\u001b[38;5;241;43m=\u001b[39;49m\u001b[43mstartrow\u001b[49m\u001b[43m,\u001b[49m\n\u001b[0;32m   2421\u001b[0m \u001b[43m    \u001b[49m\u001b[43mstartcol\u001b[49m\u001b[38;5;241;43m=\u001b[39;49m\u001b[43mstartcol\u001b[49m\u001b[43m,\u001b[49m\n\u001b[0;32m   2422\u001b[0m \u001b[43m    \u001b[49m\u001b[43mfreeze_panes\u001b[49m\u001b[38;5;241;43m=\u001b[39;49m\u001b[43mfreeze_panes\u001b[49m\u001b[43m,\u001b[49m\n\u001b[0;32m   2423\u001b[0m \u001b[43m    \u001b[49m\u001b[43mengine\u001b[49m\u001b[38;5;241;43m=\u001b[39;49m\u001b[43mengine\u001b[49m\u001b[43m,\u001b[49m\n\u001b[0;32m   2424\u001b[0m \u001b[43m    \u001b[49m\u001b[43mstorage_options\u001b[49m\u001b[38;5;241;43m=\u001b[39;49m\u001b[43mstorage_options\u001b[49m\u001b[43m,\u001b[49m\n\u001b[0;32m   2425\u001b[0m \u001b[43m    \u001b[49m\u001b[43mengine_kwargs\u001b[49m\u001b[38;5;241;43m=\u001b[39;49m\u001b[43mengine_kwargs\u001b[49m\u001b[43m,\u001b[49m\n\u001b[0;32m   2426\u001b[0m \u001b[43m\u001b[49m\u001b[43m)\u001b[49m\n",
      "File \u001b[1;32mc:\\Users\\leth\\AppData\\Local\\anaconda3\\envs\\THERMO\\Lib\\site-packages\\pandas\\io\\formats\\excel.py:943\u001b[0m, in \u001b[0;36mExcelFormatter.write\u001b[1;34m(self, writer, sheet_name, startrow, startcol, freeze_panes, engine, storage_options, engine_kwargs)\u001b[0m\n\u001b[0;32m    941\u001b[0m     need_save \u001b[38;5;241m=\u001b[39m \u001b[38;5;28;01mFalse\u001b[39;00m\n\u001b[0;32m    942\u001b[0m \u001b[38;5;28;01melse\u001b[39;00m:\n\u001b[1;32m--> 943\u001b[0m     writer \u001b[38;5;241m=\u001b[39m \u001b[43mExcelWriter\u001b[49m\u001b[43m(\u001b[49m\n\u001b[0;32m    944\u001b[0m \u001b[43m        \u001b[49m\u001b[43mwriter\u001b[49m\u001b[43m,\u001b[49m\n\u001b[0;32m    945\u001b[0m \u001b[43m        \u001b[49m\u001b[43mengine\u001b[49m\u001b[38;5;241;43m=\u001b[39;49m\u001b[43mengine\u001b[49m\u001b[43m,\u001b[49m\n\u001b[0;32m    946\u001b[0m \u001b[43m        \u001b[49m\u001b[43mstorage_options\u001b[49m\u001b[38;5;241;43m=\u001b[39;49m\u001b[43mstorage_options\u001b[49m\u001b[43m,\u001b[49m\n\u001b[0;32m    947\u001b[0m \u001b[43m        \u001b[49m\u001b[43mengine_kwargs\u001b[49m\u001b[38;5;241;43m=\u001b[39;49m\u001b[43mengine_kwargs\u001b[49m\u001b[43m,\u001b[49m\n\u001b[0;32m    948\u001b[0m \u001b[43m    \u001b[49m\u001b[43m)\u001b[49m\n\u001b[0;32m    949\u001b[0m     need_save \u001b[38;5;241m=\u001b[39m \u001b[38;5;28;01mTrue\u001b[39;00m\n\u001b[0;32m    951\u001b[0m \u001b[38;5;28;01mtry\u001b[39;00m:\n",
      "File \u001b[1;32mc:\\Users\\leth\\AppData\\Local\\anaconda3\\envs\\THERMO\\Lib\\site-packages\\pandas\\io\\excel\\_openpyxl.py:61\u001b[0m, in \u001b[0;36mOpenpyxlWriter.__init__\u001b[1;34m(self, path, engine, date_format, datetime_format, mode, storage_options, if_sheet_exists, engine_kwargs, **kwargs)\u001b[0m\n\u001b[0;32m     57\u001b[0m \u001b[38;5;28;01mfrom\u001b[39;00m\u001b[38;5;250m \u001b[39m\u001b[38;5;21;01mopenpyxl\u001b[39;00m\u001b[38;5;21;01m.\u001b[39;00m\u001b[38;5;21;01mworkbook\u001b[39;00m\u001b[38;5;250m \u001b[39m\u001b[38;5;28;01mimport\u001b[39;00m Workbook\n\u001b[0;32m     59\u001b[0m engine_kwargs \u001b[38;5;241m=\u001b[39m combine_kwargs(engine_kwargs, kwargs)\n\u001b[1;32m---> 61\u001b[0m \u001b[38;5;28;43msuper\u001b[39;49m\u001b[43m(\u001b[49m\u001b[43m)\u001b[49m\u001b[38;5;241;43m.\u001b[39;49m\u001b[38;5;21;43m__init__\u001b[39;49m\u001b[43m(\u001b[49m\n\u001b[0;32m     62\u001b[0m \u001b[43m    \u001b[49m\u001b[43mpath\u001b[49m\u001b[43m,\u001b[49m\n\u001b[0;32m     63\u001b[0m \u001b[43m    \u001b[49m\u001b[43mmode\u001b[49m\u001b[38;5;241;43m=\u001b[39;49m\u001b[43mmode\u001b[49m\u001b[43m,\u001b[49m\n\u001b[0;32m     64\u001b[0m \u001b[43m    \u001b[49m\u001b[43mstorage_options\u001b[49m\u001b[38;5;241;43m=\u001b[39;49m\u001b[43mstorage_options\u001b[49m\u001b[43m,\u001b[49m\n\u001b[0;32m     65\u001b[0m \u001b[43m    \u001b[49m\u001b[43mif_sheet_exists\u001b[49m\u001b[38;5;241;43m=\u001b[39;49m\u001b[43mif_sheet_exists\u001b[49m\u001b[43m,\u001b[49m\n\u001b[0;32m     66\u001b[0m \u001b[43m    \u001b[49m\u001b[43mengine_kwargs\u001b[49m\u001b[38;5;241;43m=\u001b[39;49m\u001b[43mengine_kwargs\u001b[49m\u001b[43m,\u001b[49m\n\u001b[0;32m     67\u001b[0m \u001b[43m\u001b[49m\u001b[43m)\u001b[49m\n\u001b[0;32m     69\u001b[0m \u001b[38;5;66;03m# ExcelWriter replaced \"a\" by \"r+\" to allow us to first read the excel file from\u001b[39;00m\n\u001b[0;32m     70\u001b[0m \u001b[38;5;66;03m# the file and later write to it\u001b[39;00m\n\u001b[0;32m     71\u001b[0m \u001b[38;5;28;01mif\u001b[39;00m \u001b[38;5;124m\"\u001b[39m\u001b[38;5;124mr+\u001b[39m\u001b[38;5;124m\"\u001b[39m \u001b[38;5;129;01min\u001b[39;00m \u001b[38;5;28mself\u001b[39m\u001b[38;5;241m.\u001b[39m_mode:  \u001b[38;5;66;03m# Load from existing workbook\u001b[39;00m\n",
      "File \u001b[1;32mc:\\Users\\leth\\AppData\\Local\\anaconda3\\envs\\THERMO\\Lib\\site-packages\\pandas\\io\\excel\\_base.py:1246\u001b[0m, in \u001b[0;36mExcelWriter.__init__\u001b[1;34m(self, path, engine, date_format, datetime_format, mode, storage_options, if_sheet_exists, engine_kwargs)\u001b[0m\n\u001b[0;32m   1242\u001b[0m \u001b[38;5;28mself\u001b[39m\u001b[38;5;241m.\u001b[39m_handles \u001b[38;5;241m=\u001b[39m IOHandles(\n\u001b[0;32m   1243\u001b[0m     cast(IO[\u001b[38;5;28mbytes\u001b[39m], path), compression\u001b[38;5;241m=\u001b[39m{\u001b[38;5;124m\"\u001b[39m\u001b[38;5;124mcompression\u001b[39m\u001b[38;5;124m\"\u001b[39m: \u001b[38;5;28;01mNone\u001b[39;00m}\n\u001b[0;32m   1244\u001b[0m )\n\u001b[0;32m   1245\u001b[0m \u001b[38;5;28;01mif\u001b[39;00m \u001b[38;5;129;01mnot\u001b[39;00m \u001b[38;5;28misinstance\u001b[39m(path, ExcelWriter):\n\u001b[1;32m-> 1246\u001b[0m     \u001b[38;5;28mself\u001b[39m\u001b[38;5;241m.\u001b[39m_handles \u001b[38;5;241m=\u001b[39m \u001b[43mget_handle\u001b[49m\u001b[43m(\u001b[49m\n\u001b[0;32m   1247\u001b[0m \u001b[43m        \u001b[49m\u001b[43mpath\u001b[49m\u001b[43m,\u001b[49m\u001b[43m \u001b[49m\u001b[43mmode\u001b[49m\u001b[43m,\u001b[49m\u001b[43m \u001b[49m\u001b[43mstorage_options\u001b[49m\u001b[38;5;241;43m=\u001b[39;49m\u001b[43mstorage_options\u001b[49m\u001b[43m,\u001b[49m\u001b[43m \u001b[49m\u001b[43mis_text\u001b[49m\u001b[38;5;241;43m=\u001b[39;49m\u001b[38;5;28;43;01mFalse\u001b[39;49;00m\n\u001b[0;32m   1248\u001b[0m \u001b[43m    \u001b[49m\u001b[43m)\u001b[49m\n\u001b[0;32m   1249\u001b[0m \u001b[38;5;28mself\u001b[39m\u001b[38;5;241m.\u001b[39m_cur_sheet \u001b[38;5;241m=\u001b[39m \u001b[38;5;28;01mNone\u001b[39;00m\n\u001b[0;32m   1251\u001b[0m \u001b[38;5;28;01mif\u001b[39;00m date_format \u001b[38;5;129;01mis\u001b[39;00m \u001b[38;5;28;01mNone\u001b[39;00m:\n",
      "File \u001b[1;32mc:\\Users\\leth\\AppData\\Local\\anaconda3\\envs\\THERMO\\Lib\\site-packages\\pandas\\io\\common.py:882\u001b[0m, in \u001b[0;36mget_handle\u001b[1;34m(path_or_buf, mode, encoding, compression, memory_map, is_text, errors, storage_options)\u001b[0m\n\u001b[0;32m    873\u001b[0m         handle \u001b[38;5;241m=\u001b[39m \u001b[38;5;28mopen\u001b[39m(\n\u001b[0;32m    874\u001b[0m             handle,\n\u001b[0;32m    875\u001b[0m             ioargs\u001b[38;5;241m.\u001b[39mmode,\n\u001b[1;32m   (...)\u001b[0m\n\u001b[0;32m    878\u001b[0m             newline\u001b[38;5;241m=\u001b[39m\u001b[38;5;124m\"\u001b[39m\u001b[38;5;124m\"\u001b[39m,\n\u001b[0;32m    879\u001b[0m         )\n\u001b[0;32m    880\u001b[0m     \u001b[38;5;28;01melse\u001b[39;00m:\n\u001b[0;32m    881\u001b[0m         \u001b[38;5;66;03m# Binary mode\u001b[39;00m\n\u001b[1;32m--> 882\u001b[0m         handle \u001b[38;5;241m=\u001b[39m \u001b[38;5;28;43mopen\u001b[39;49m\u001b[43m(\u001b[49m\u001b[43mhandle\u001b[49m\u001b[43m,\u001b[49m\u001b[43m \u001b[49m\u001b[43mioargs\u001b[49m\u001b[38;5;241;43m.\u001b[39;49m\u001b[43mmode\u001b[49m\u001b[43m)\u001b[49m\n\u001b[0;32m    883\u001b[0m     handles\u001b[38;5;241m.\u001b[39mappend(handle)\n\u001b[0;32m    885\u001b[0m \u001b[38;5;66;03m# Convert BytesIO or file objects passed with an encoding\u001b[39;00m\n",
      "\u001b[1;31mPermissionError\u001b[0m: [Errno 13] Permission denied: 'equation_results_wholedb_predict+exp.xlsx'"
     ]
    }
   ],
   "source": [
    "output_path = 'equation_results_wholedb_predict+exp.xlsx' \n",
    "\n",
    "results_df.to_excel(output_path, index=False)"
   ]
  },
  {
   "cell_type": "code",
   "execution_count": null,
   "id": "6479762f",
   "metadata": {},
   "outputs": [],
   "source": []
  }
 ],
 "metadata": {
  "kernelspec": {
   "display_name": "THERMO",
   "language": "python",
   "name": "python3"
  },
  "language_info": {
   "codemirror_mode": {
    "name": "ipython",
    "version": 3
   },
   "file_extension": ".py",
   "mimetype": "text/x-python",
   "name": "python",
   "nbconvert_exporter": "python",
   "pygments_lexer": "ipython3",
   "version": "3.12.9"
  }
 },
 "nbformat": 4,
 "nbformat_minor": 5
}
