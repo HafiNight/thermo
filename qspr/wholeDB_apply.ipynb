{
 "cells": [
  {
   "cell_type": "code",
   "execution_count": 39,
   "id": "d8904825",
   "metadata": {},
   "outputs": [],
   "source": [
    "#Data\n",
    "import pandas as pd\n",
    "import numpy as np\n",
    "import sympy as sp\n",
    "import os\n",
    "import pickle\n",
    "\n",
    "#Plot\n",
    "import matplotlib.pyplot as plt\n",
    "\n",
    "#Model\n",
    "from pysr import PySRRegressor, TemplateExpressionSpec\n",
    "from sklearn.metrics import mean_squared_error, r2_score\n",
    "from sklearn.model_selection import train_test_split"
   ]
  },
  {
   "cell_type": "code",
   "execution_count": null,
   "id": "2e363321",
   "metadata": {},
   "outputs": [],
   "source": [
    "# Load the Excel file\n",
    "df = pd.read_excel('../report/DB.xlsx', sheet_name=1)"
   ]
  },
  {
   "cell_type": "code",
   "execution_count": 41,
   "id": "4198cf3a",
   "metadata": {},
   "outputs": [],
   "source": [
    "# # Gather data for article\n",
    "# sdb1 = df.dropna()\n",
    "# sdb1.to_excel('../report/SDB1.xlsx', index=False)\n",
    "\n",
    "# db_unique = set(df['compA'].to_list()) | set(df['compB'].to_list())\n",
    "# print(len(db_unique), 'unique compounds in the database')\n",
    "\n",
    "# unique_mixtures = set(\n",
    "#     tuple(sorted([a, b])) for a, b in zip(df['compA'], df['compB'])\n",
    "# )\n",
    "# print(len(unique_mixtures), 'unique mixtures in the database')\n",
    "\n",
    "# # Save db_unique to excel\n",
    "# db_unique_df = pd.DataFrame(list(db_unique), columns=['Unique Compounds'])\n",
    "# db_unique_df.to_excel('../report/db_unique_compounds.xlsx', index=False)\n",
    "\n",
    "# sdb1_unique = set(sdb1['compA'].to_list()) | set(sdb1['compB'].to_list())\n",
    "# print(len(sdb1_unique), 'unique compounds in the SDB1')\n",
    "\n",
    "# sdb1_unique_df = pd.DataFrame(list(sdb1_unique), columns=['Unique Compounds'])\n",
    "# sdb1_unique_df.to_excel('../report/sdb1_unique_compounds.xlsx', index=False)"
   ]
  },
  {
   "cell_type": "code",
   "execution_count": 42,
   "id": "a55998a8",
   "metadata": {},
   "outputs": [],
   "source": [
    "# # Real outputs\n",
    "# output1 = '../report/DB_moreno_predict_only.xlsx'\n",
    "# output2 = '../report/equation_results_wholedb_moreno_pred_only.xlsx' \n",
    "\n",
    "# Decoys\n",
    "output1 = '../report/deleteme.xlsx'\n",
    "output2 = output1\n",
    "output3 = '../report/deleteme.xlsx'"
   ]
  },
  {
   "cell_type": "code",
   "execution_count": 43,
   "id": "542c2297",
   "metadata": {},
   "outputs": [],
   "source": [
    "# # Load the Excel file - Moreno's data\n",
    "# df_excel = pd.read_excel(\"DB_unique+predict.xlsx\")"
   ]
  },
  {
   "cell_type": "code",
   "execution_count": 44,
   "id": "bba62ed3",
   "metadata": {},
   "outputs": [],
   "source": [
    "# # Load the Excel file\n",
    "# df_excel = pd.read_excel(\"DB_unique_xgb_predictions.xlsx\")"
   ]
  },
  {
   "cell_type": "code",
   "execution_count": 45,
   "id": "fbdca9ce",
   "metadata": {},
   "outputs": [],
   "source": [
    "# Load the Excel file\n",
    "df_excel = pd.read_excel(\"DB_unique_svr_predictions.xlsx\")"
   ]
  },
  {
   "cell_type": "code",
   "execution_count": 46,
   "id": "d0abf85d",
   "metadata": {},
   "outputs": [
    {
     "data": {
      "text/html": [
       "<div>\n",
       "<style scoped>\n",
       "    .dataframe tbody tr th:only-of-type {\n",
       "        vertical-align: middle;\n",
       "    }\n",
       "\n",
       "    .dataframe tbody tr th {\n",
       "        vertical-align: top;\n",
       "    }\n",
       "\n",
       "    .dataframe thead th {\n",
       "        text-align: right;\n",
       "    }\n",
       "</style>\n",
       "<table border=\"1\" class=\"dataframe\">\n",
       "  <thead>\n",
       "    <tr style=\"text-align: right;\">\n",
       "      <th></th>\n",
       "      <th>compA</th>\n",
       "      <th>compB</th>\n",
       "      <th>XA</th>\n",
       "      <th>XB</th>\n",
       "      <th>T</th>\n",
       "      <th>P</th>\n",
       "      <th>K</th>\n",
       "      <th>CAS_A</th>\n",
       "      <th>SMILES_A</th>\n",
       "      <th>MW_A</th>\n",
       "      <th>CAS_B</th>\n",
       "      <th>SMILES_B</th>\n",
       "      <th>MW_B</th>\n",
       "      <th>mA</th>\n",
       "      <th>mB</th>\n",
       "      <th>KA</th>\n",
       "      <th>KB</th>\n",
       "    </tr>\n",
       "  </thead>\n",
       "  <tbody>\n",
       "    <tr>\n",
       "      <th>0</th>\n",
       "      <td>(1R-(1alpha,2beta,5alpha))-5-methyl-2-(1-methy...</td>\n",
       "      <td>decanoic acid</td>\n",
       "      <td>0.800000</td>\n",
       "      <td>0.200000</td>\n",
       "      <td>304.01</td>\n",
       "      <td>100000</td>\n",
       "      <td>0.1229</td>\n",
       "      <td>2216-51-5</td>\n",
       "      <td>CC(C)[C@@H]1CC[C@@H](C)C[C@H]1O</td>\n",
       "      <td>156.2674</td>\n",
       "      <td>334-48-5</td>\n",
       "      <td>CCCCCCCCCC(O)=O</td>\n",
       "      <td>172.2668</td>\n",
       "      <td>0.783947</td>\n",
       "      <td>0.216053</td>\n",
       "      <td>NaN</td>\n",
       "      <td>NaN</td>\n",
       "    </tr>\n",
       "    <tr>\n",
       "      <th>1</th>\n",
       "      <td>(1R-(1alpha,2beta,5alpha))-5-methyl-2-(1-methy...</td>\n",
       "      <td>decanoic acid</td>\n",
       "      <td>0.800000</td>\n",
       "      <td>0.200000</td>\n",
       "      <td>314.00</td>\n",
       "      <td>100000</td>\n",
       "      <td>0.1218</td>\n",
       "      <td>2216-51-5</td>\n",
       "      <td>CC(C)[C@@H]1CC[C@@H](C)C[C@H]1O</td>\n",
       "      <td>156.2674</td>\n",
       "      <td>334-48-5</td>\n",
       "      <td>CCCCCCCCCC(O)=O</td>\n",
       "      <td>172.2668</td>\n",
       "      <td>0.783947</td>\n",
       "      <td>0.216053</td>\n",
       "      <td>NaN</td>\n",
       "      <td>NaN</td>\n",
       "    </tr>\n",
       "    <tr>\n",
       "      <th>2</th>\n",
       "      <td>(1R-(1alpha,2beta,5alpha))-5-methyl-2-(1-methy...</td>\n",
       "      <td>decanoic acid</td>\n",
       "      <td>0.800000</td>\n",
       "      <td>0.200000</td>\n",
       "      <td>324.01</td>\n",
       "      <td>100000</td>\n",
       "      <td>0.1211</td>\n",
       "      <td>2216-51-5</td>\n",
       "      <td>CC(C)[C@@H]1CC[C@@H](C)C[C@H]1O</td>\n",
       "      <td>156.2674</td>\n",
       "      <td>334-48-5</td>\n",
       "      <td>CCCCCCCCCC(O)=O</td>\n",
       "      <td>172.2668</td>\n",
       "      <td>0.783947</td>\n",
       "      <td>0.216053</td>\n",
       "      <td>NaN</td>\n",
       "      <td>NaN</td>\n",
       "    </tr>\n",
       "    <tr>\n",
       "      <th>3</th>\n",
       "      <td>(1R-(1alpha,2beta,5alpha))-5-methyl-2-(1-methy...</td>\n",
       "      <td>decanoic acid</td>\n",
       "      <td>0.800000</td>\n",
       "      <td>0.200000</td>\n",
       "      <td>333.98</td>\n",
       "      <td>100000</td>\n",
       "      <td>0.1204</td>\n",
       "      <td>2216-51-5</td>\n",
       "      <td>CC(C)[C@@H]1CC[C@@H](C)C[C@H]1O</td>\n",
       "      <td>156.2674</td>\n",
       "      <td>334-48-5</td>\n",
       "      <td>CCCCCCCCCC(O)=O</td>\n",
       "      <td>172.2668</td>\n",
       "      <td>0.783947</td>\n",
       "      <td>0.216053</td>\n",
       "      <td>NaN</td>\n",
       "      <td>NaN</td>\n",
       "    </tr>\n",
       "    <tr>\n",
       "      <th>4</th>\n",
       "      <td>(1R-(1alpha,2beta,5alpha))-5-methyl-2-(1-methy...</td>\n",
       "      <td>decanoic acid</td>\n",
       "      <td>0.800000</td>\n",
       "      <td>0.200000</td>\n",
       "      <td>344.15</td>\n",
       "      <td>100000</td>\n",
       "      <td>0.1194</td>\n",
       "      <td>2216-51-5</td>\n",
       "      <td>CC(C)[C@@H]1CC[C@@H](C)C[C@H]1O</td>\n",
       "      <td>156.2674</td>\n",
       "      <td>334-48-5</td>\n",
       "      <td>CCCCCCCCCC(O)=O</td>\n",
       "      <td>172.2668</td>\n",
       "      <td>0.783947</td>\n",
       "      <td>0.216053</td>\n",
       "      <td>NaN</td>\n",
       "      <td>NaN</td>\n",
       "    </tr>\n",
       "    <tr>\n",
       "      <th>...</th>\n",
       "      <td>...</td>\n",
       "      <td>...</td>\n",
       "      <td>...</td>\n",
       "      <td>...</td>\n",
       "      <td>...</td>\n",
       "      <td>...</td>\n",
       "      <td>...</td>\n",
       "      <td>...</td>\n",
       "      <td>...</td>\n",
       "      <td>...</td>\n",
       "      <td>...</td>\n",
       "      <td>...</td>\n",
       "      <td>...</td>\n",
       "      <td>...</td>\n",
       "      <td>...</td>\n",
       "      <td>...</td>\n",
       "      <td>...</td>\n",
       "    </tr>\n",
       "    <tr>\n",
       "      <th>3048</th>\n",
       "      <td>undecane</td>\n",
       "      <td>tetradecanoic acid methyl ester</td>\n",
       "      <td>0.279504</td>\n",
       "      <td>0.648561</td>\n",
       "      <td>322.02</td>\n",
       "      <td>100000</td>\n",
       "      <td>0.1397</td>\n",
       "      <td>1120-21-4</td>\n",
       "      <td>CCCCCCCCCCC</td>\n",
       "      <td>156.3106</td>\n",
       "      <td>124-10-7</td>\n",
       "      <td>CCCCCCCCCCCCCC(=O)OC</td>\n",
       "      <td>242.4008</td>\n",
       "      <td>0.217467</td>\n",
       "      <td>0.782533</td>\n",
       "      <td>NaN</td>\n",
       "      <td>NaN</td>\n",
       "    </tr>\n",
       "    <tr>\n",
       "      <th>3049</th>\n",
       "      <td>undecane</td>\n",
       "      <td>tetradecanoic acid methyl ester</td>\n",
       "      <td>0.279504</td>\n",
       "      <td>0.648561</td>\n",
       "      <td>331.75</td>\n",
       "      <td>100000</td>\n",
       "      <td>0.1384</td>\n",
       "      <td>1120-21-4</td>\n",
       "      <td>CCCCCCCCCCC</td>\n",
       "      <td>156.3106</td>\n",
       "      <td>124-10-7</td>\n",
       "      <td>CCCCCCCCCCCCCC(=O)OC</td>\n",
       "      <td>242.4008</td>\n",
       "      <td>0.217467</td>\n",
       "      <td>0.782533</td>\n",
       "      <td>NaN</td>\n",
       "      <td>NaN</td>\n",
       "    </tr>\n",
       "    <tr>\n",
       "      <th>3050</th>\n",
       "      <td>undecane</td>\n",
       "      <td>tetradecanoic acid methyl ester</td>\n",
       "      <td>0.279504</td>\n",
       "      <td>0.648561</td>\n",
       "      <td>341.92</td>\n",
       "      <td>100000</td>\n",
       "      <td>0.1354</td>\n",
       "      <td>1120-21-4</td>\n",
       "      <td>CCCCCCCCCCC</td>\n",
       "      <td>156.3106</td>\n",
       "      <td>124-10-7</td>\n",
       "      <td>CCCCCCCCCCCCCC(=O)OC</td>\n",
       "      <td>242.4008</td>\n",
       "      <td>0.217467</td>\n",
       "      <td>0.782533</td>\n",
       "      <td>NaN</td>\n",
       "      <td>NaN</td>\n",
       "    </tr>\n",
       "    <tr>\n",
       "      <th>3051</th>\n",
       "      <td>undecane</td>\n",
       "      <td>tetradecanoic acid methyl ester</td>\n",
       "      <td>0.279504</td>\n",
       "      <td>0.648561</td>\n",
       "      <td>351.90</td>\n",
       "      <td>100000</td>\n",
       "      <td>0.1330</td>\n",
       "      <td>1120-21-4</td>\n",
       "      <td>CCCCCCCCCCC</td>\n",
       "      <td>156.3106</td>\n",
       "      <td>124-10-7</td>\n",
       "      <td>CCCCCCCCCCCCCC(=O)OC</td>\n",
       "      <td>242.4008</td>\n",
       "      <td>0.217467</td>\n",
       "      <td>0.782533</td>\n",
       "      <td>NaN</td>\n",
       "      <td>NaN</td>\n",
       "    </tr>\n",
       "    <tr>\n",
       "      <th>3052</th>\n",
       "      <td>undecane</td>\n",
       "      <td>tetradecanoic acid methyl ester</td>\n",
       "      <td>0.279504</td>\n",
       "      <td>0.648561</td>\n",
       "      <td>361.94</td>\n",
       "      <td>100000</td>\n",
       "      <td>0.1308</td>\n",
       "      <td>1120-21-4</td>\n",
       "      <td>CCCCCCCCCCC</td>\n",
       "      <td>156.3106</td>\n",
       "      <td>124-10-7</td>\n",
       "      <td>CCCCCCCCCCCCCC(=O)OC</td>\n",
       "      <td>242.4008</td>\n",
       "      <td>0.217467</td>\n",
       "      <td>0.782533</td>\n",
       "      <td>NaN</td>\n",
       "      <td>NaN</td>\n",
       "    </tr>\n",
       "  </tbody>\n",
       "</table>\n",
       "<p>3053 rows × 17 columns</p>\n",
       "</div>"
      ],
      "text/plain": [
       "                                                  compA  \\\n",
       "0     (1R-(1alpha,2beta,5alpha))-5-methyl-2-(1-methy...   \n",
       "1     (1R-(1alpha,2beta,5alpha))-5-methyl-2-(1-methy...   \n",
       "2     (1R-(1alpha,2beta,5alpha))-5-methyl-2-(1-methy...   \n",
       "3     (1R-(1alpha,2beta,5alpha))-5-methyl-2-(1-methy...   \n",
       "4     (1R-(1alpha,2beta,5alpha))-5-methyl-2-(1-methy...   \n",
       "...                                                 ...   \n",
       "3048                                           undecane   \n",
       "3049                                           undecane   \n",
       "3050                                           undecane   \n",
       "3051                                           undecane   \n",
       "3052                                           undecane   \n",
       "\n",
       "                                compB        XA        XB       T       P  \\\n",
       "0                       decanoic acid  0.800000  0.200000  304.01  100000   \n",
       "1                       decanoic acid  0.800000  0.200000  314.00  100000   \n",
       "2                       decanoic acid  0.800000  0.200000  324.01  100000   \n",
       "3                       decanoic acid  0.800000  0.200000  333.98  100000   \n",
       "4                       decanoic acid  0.800000  0.200000  344.15  100000   \n",
       "...                               ...       ...       ...     ...     ...   \n",
       "3048  tetradecanoic acid methyl ester  0.279504  0.648561  322.02  100000   \n",
       "3049  tetradecanoic acid methyl ester  0.279504  0.648561  331.75  100000   \n",
       "3050  tetradecanoic acid methyl ester  0.279504  0.648561  341.92  100000   \n",
       "3051  tetradecanoic acid methyl ester  0.279504  0.648561  351.90  100000   \n",
       "3052  tetradecanoic acid methyl ester  0.279504  0.648561  361.94  100000   \n",
       "\n",
       "           K      CAS_A                         SMILES_A      MW_A     CAS_B  \\\n",
       "0     0.1229  2216-51-5  CC(C)[C@@H]1CC[C@@H](C)C[C@H]1O  156.2674  334-48-5   \n",
       "1     0.1218  2216-51-5  CC(C)[C@@H]1CC[C@@H](C)C[C@H]1O  156.2674  334-48-5   \n",
       "2     0.1211  2216-51-5  CC(C)[C@@H]1CC[C@@H](C)C[C@H]1O  156.2674  334-48-5   \n",
       "3     0.1204  2216-51-5  CC(C)[C@@H]1CC[C@@H](C)C[C@H]1O  156.2674  334-48-5   \n",
       "4     0.1194  2216-51-5  CC(C)[C@@H]1CC[C@@H](C)C[C@H]1O  156.2674  334-48-5   \n",
       "...      ...        ...                              ...       ...       ...   \n",
       "3048  0.1397  1120-21-4                      CCCCCCCCCCC  156.3106  124-10-7   \n",
       "3049  0.1384  1120-21-4                      CCCCCCCCCCC  156.3106  124-10-7   \n",
       "3050  0.1354  1120-21-4                      CCCCCCCCCCC  156.3106  124-10-7   \n",
       "3051  0.1330  1120-21-4                      CCCCCCCCCCC  156.3106  124-10-7   \n",
       "3052  0.1308  1120-21-4                      CCCCCCCCCCC  156.3106  124-10-7   \n",
       "\n",
       "                  SMILES_B      MW_B        mA        mB  KA  KB  \n",
       "0          CCCCCCCCCC(O)=O  172.2668  0.783947  0.216053 NaN NaN  \n",
       "1          CCCCCCCCCC(O)=O  172.2668  0.783947  0.216053 NaN NaN  \n",
       "2          CCCCCCCCCC(O)=O  172.2668  0.783947  0.216053 NaN NaN  \n",
       "3          CCCCCCCCCC(O)=O  172.2668  0.783947  0.216053 NaN NaN  \n",
       "4          CCCCCCCCCC(O)=O  172.2668  0.783947  0.216053 NaN NaN  \n",
       "...                    ...       ...       ...       ...  ..  ..  \n",
       "3048  CCCCCCCCCCCCCC(=O)OC  242.4008  0.217467  0.782533 NaN NaN  \n",
       "3049  CCCCCCCCCCCCCC(=O)OC  242.4008  0.217467  0.782533 NaN NaN  \n",
       "3050  CCCCCCCCCCCCCC(=O)OC  242.4008  0.217467  0.782533 NaN NaN  \n",
       "3051  CCCCCCCCCCCCCC(=O)OC  242.4008  0.217467  0.782533 NaN NaN  \n",
       "3052  CCCCCCCCCCCCCC(=O)OC  242.4008  0.217467  0.782533 NaN NaN  \n",
       "\n",
       "[3053 rows x 17 columns]"
      ]
     },
     "execution_count": 46,
     "metadata": {},
     "output_type": "execute_result"
    }
   ],
   "source": [
    "df"
   ]
  },
  {
   "cell_type": "code",
   "execution_count": 47,
   "id": "ce211700",
   "metadata": {},
   "outputs": [
    {
     "name": "stdout",
     "output_type": "stream",
     "text": [
      "Empty DataFrame\n",
      "Columns: [compA, compB, XA, XB, T, P, K, CAS_A, SMILES_A, MW_A, CAS_B, SMILES_B, MW_B, mA, mB, KA, KB, K_numeric]\n",
      "Index: []\n"
     ]
    }
   ],
   "source": [
    "# Check for non-numeric values in df_merged['K']\n",
    "df['K_numeric'] = pd.to_numeric(df['K'], errors='coerce')\n",
    "\n",
    "# Get rows where the conversion resulted in NaN (meaning they had non-numeric values like '-')\n",
    "error_rows = df[df['K_numeric'].isna()]\n",
    "\n",
    "# Display those rows\n",
    "print(error_rows)"
   ]
  },
  {
   "cell_type": "code",
   "execution_count": 48,
   "id": "a9e09b39",
   "metadata": {},
   "outputs": [],
   "source": [
    "# Drop rows where 'K_numeric' is NaN (i.e., invalid values like '-')\n",
    "df_cleaned = df.dropna(subset=['K_numeric'])\n",
    "\n",
    "# Optionally, drop the 'K_numeric' column if no longer needed\n",
    "df_cleaned = df_cleaned.drop(columns=['K_numeric'])"
   ]
  },
  {
   "cell_type": "code",
   "execution_count": 49,
   "id": "16c07dc0",
   "metadata": {},
   "outputs": [],
   "source": [
    "# If want to keep exp values in df_cleaned\n",
    "# Rename and merge\n",
    "df_excel_A = df_excel.rename(columns={'SMILES': 'SMILES_A', 'K': 'KA_excel'})\n",
    "df_merged = pd.merge(df_cleaned, df_excel_A[['SMILES_A', 'T', 'KA_excel']], \n",
    "                     on=['SMILES_A', 'T'], how='left')\n",
    "\n",
    "# Prefer existing KA in df_cleaned if available\n",
    "df_merged['KA'] = df_merged['KA'].combine_first(df_merged['KA_excel'])\n",
    "\n",
    "# drop the temporary KA_excel column\n",
    "df_merged.drop(columns='KA_excel', inplace=True)\n",
    "\n",
    "df_excel_B = df_excel.rename(columns={'SMILES': 'SMILES_B', 'K': 'KB_excel'})\n",
    "df_merged = pd.merge(df_merged, df_excel_B[['SMILES_B', 'T', 'KB_excel']], \n",
    "                     on=['SMILES_B', 'T'], how='left')\n",
    "\n",
    "df_merged['KB'] = df_merged['KB'].combine_first(df_merged['KB_excel'])\n",
    "df_merged.drop(columns='KB_excel', inplace=True)"
   ]
  },
  {
   "cell_type": "code",
   "execution_count": 50,
   "id": "62f68081",
   "metadata": {},
   "outputs": [],
   "source": [
    "# # If want to overwrite exp values\n",
    "# df_cleaned = df_cleaned.drop(columns=['KA', 'KB'], errors='ignore')\n",
    "\n",
    "# # Rename columns for merge\n",
    "# df_excel_A = df_excel.rename(columns={'SMILES': 'SMILES_A', 'K': 'KA'})\n",
    "# df_merged = pd.merge(df_cleaned, df_excel_A[['SMILES_A', 'T', 'KA']], on=['SMILES_A', 'T'], how='left')\n",
    "# df_excel_B = df_excel.rename(columns={'SMILES': 'SMILES_B', 'K': 'KB'})\n",
    "# df_merged = pd.merge(df_merged, df_excel_B[['SMILES_B', 'T', 'KB']], on=['SMILES_B', 'T'], how='left')"
   ]
  },
  {
   "cell_type": "code",
   "execution_count": 51,
   "id": "59c02a95",
   "metadata": {},
   "outputs": [
    {
     "data": {
      "text/html": [
       "<div>\n",
       "<style scoped>\n",
       "    .dataframe tbody tr th:only-of-type {\n",
       "        vertical-align: middle;\n",
       "    }\n",
       "\n",
       "    .dataframe tbody tr th {\n",
       "        vertical-align: top;\n",
       "    }\n",
       "\n",
       "    .dataframe thead th {\n",
       "        text-align: right;\n",
       "    }\n",
       "</style>\n",
       "<table border=\"1\" class=\"dataframe\">\n",
       "  <thead>\n",
       "    <tr style=\"text-align: right;\">\n",
       "      <th></th>\n",
       "      <th>compA</th>\n",
       "      <th>compB</th>\n",
       "      <th>XA</th>\n",
       "      <th>XB</th>\n",
       "      <th>T</th>\n",
       "      <th>P</th>\n",
       "      <th>K</th>\n",
       "      <th>CAS_A</th>\n",
       "      <th>SMILES_A</th>\n",
       "      <th>MW_A</th>\n",
       "      <th>CAS_B</th>\n",
       "      <th>SMILES_B</th>\n",
       "      <th>MW_B</th>\n",
       "      <th>mA</th>\n",
       "      <th>mB</th>\n",
       "      <th>KA</th>\n",
       "      <th>KB</th>\n",
       "    </tr>\n",
       "  </thead>\n",
       "  <tbody>\n",
       "    <tr>\n",
       "      <th>0</th>\n",
       "      <td>(1R-(1alpha,2beta,5alpha))-5-methyl-2-(1-methy...</td>\n",
       "      <td>decanoic acid</td>\n",
       "      <td>0.800000</td>\n",
       "      <td>0.200000</td>\n",
       "      <td>304.01</td>\n",
       "      <td>100000</td>\n",
       "      <td>0.1229</td>\n",
       "      <td>2216-51-5</td>\n",
       "      <td>CC(C)[C@@H]1CC[C@@H](C)C[C@H]1O</td>\n",
       "      <td>156.2674</td>\n",
       "      <td>334-48-5</td>\n",
       "      <td>CCCCCCCCCC(O)=O</td>\n",
       "      <td>172.2668</td>\n",
       "      <td>0.783947</td>\n",
       "      <td>0.216053</td>\n",
       "      <td>0.141259</td>\n",
       "      <td>0.141919</td>\n",
       "    </tr>\n",
       "    <tr>\n",
       "      <th>1</th>\n",
       "      <td>(1R-(1alpha,2beta,5alpha))-5-methyl-2-(1-methy...</td>\n",
       "      <td>decanoic acid</td>\n",
       "      <td>0.800000</td>\n",
       "      <td>0.200000</td>\n",
       "      <td>314.00</td>\n",
       "      <td>100000</td>\n",
       "      <td>0.1218</td>\n",
       "      <td>2216-51-5</td>\n",
       "      <td>CC(C)[C@@H]1CC[C@@H](C)C[C@H]1O</td>\n",
       "      <td>156.2674</td>\n",
       "      <td>334-48-5</td>\n",
       "      <td>CCCCCCCCCC(O)=O</td>\n",
       "      <td>172.2668</td>\n",
       "      <td>0.783947</td>\n",
       "      <td>0.216053</td>\n",
       "      <td>0.138925</td>\n",
       "      <td>0.140573</td>\n",
       "    </tr>\n",
       "    <tr>\n",
       "      <th>2</th>\n",
       "      <td>(1R-(1alpha,2beta,5alpha))-5-methyl-2-(1-methy...</td>\n",
       "      <td>decanoic acid</td>\n",
       "      <td>0.800000</td>\n",
       "      <td>0.200000</td>\n",
       "      <td>324.01</td>\n",
       "      <td>100000</td>\n",
       "      <td>0.1211</td>\n",
       "      <td>2216-51-5</td>\n",
       "      <td>CC(C)[C@@H]1CC[C@@H](C)C[C@H]1O</td>\n",
       "      <td>156.2674</td>\n",
       "      <td>334-48-5</td>\n",
       "      <td>CCCCCCCCCC(O)=O</td>\n",
       "      <td>172.2668</td>\n",
       "      <td>0.783947</td>\n",
       "      <td>0.216053</td>\n",
       "      <td>0.136235</td>\n",
       "      <td>0.138746</td>\n",
       "    </tr>\n",
       "    <tr>\n",
       "      <th>3</th>\n",
       "      <td>(1R-(1alpha,2beta,5alpha))-5-methyl-2-(1-methy...</td>\n",
       "      <td>decanoic acid</td>\n",
       "      <td>0.800000</td>\n",
       "      <td>0.200000</td>\n",
       "      <td>333.98</td>\n",
       "      <td>100000</td>\n",
       "      <td>0.1204</td>\n",
       "      <td>2216-51-5</td>\n",
       "      <td>CC(C)[C@@H]1CC[C@@H](C)C[C@H]1O</td>\n",
       "      <td>156.2674</td>\n",
       "      <td>334-48-5</td>\n",
       "      <td>CCCCCCCCCC(O)=O</td>\n",
       "      <td>172.2668</td>\n",
       "      <td>0.783947</td>\n",
       "      <td>0.216053</td>\n",
       "      <td>0.133638</td>\n",
       "      <td>0.136974</td>\n",
       "    </tr>\n",
       "    <tr>\n",
       "      <th>4</th>\n",
       "      <td>(1R-(1alpha,2beta,5alpha))-5-methyl-2-(1-methy...</td>\n",
       "      <td>decanoic acid</td>\n",
       "      <td>0.800000</td>\n",
       "      <td>0.200000</td>\n",
       "      <td>344.15</td>\n",
       "      <td>100000</td>\n",
       "      <td>0.1194</td>\n",
       "      <td>2216-51-5</td>\n",
       "      <td>CC(C)[C@@H]1CC[C@@H](C)C[C@H]1O</td>\n",
       "      <td>156.2674</td>\n",
       "      <td>334-48-5</td>\n",
       "      <td>CCCCCCCCCC(O)=O</td>\n",
       "      <td>172.2668</td>\n",
       "      <td>0.783947</td>\n",
       "      <td>0.216053</td>\n",
       "      <td>0.131180</td>\n",
       "      <td>0.135385</td>\n",
       "    </tr>\n",
       "    <tr>\n",
       "      <th>...</th>\n",
       "      <td>...</td>\n",
       "      <td>...</td>\n",
       "      <td>...</td>\n",
       "      <td>...</td>\n",
       "      <td>...</td>\n",
       "      <td>...</td>\n",
       "      <td>...</td>\n",
       "      <td>...</td>\n",
       "      <td>...</td>\n",
       "      <td>...</td>\n",
       "      <td>...</td>\n",
       "      <td>...</td>\n",
       "      <td>...</td>\n",
       "      <td>...</td>\n",
       "      <td>...</td>\n",
       "      <td>...</td>\n",
       "      <td>...</td>\n",
       "    </tr>\n",
       "    <tr>\n",
       "      <th>3048</th>\n",
       "      <td>undecane</td>\n",
       "      <td>tetradecanoic acid methyl ester</td>\n",
       "      <td>0.279504</td>\n",
       "      <td>0.648561</td>\n",
       "      <td>322.02</td>\n",
       "      <td>100000</td>\n",
       "      <td>0.1397</td>\n",
       "      <td>1120-21-4</td>\n",
       "      <td>CCCCCCCCCCC</td>\n",
       "      <td>156.3106</td>\n",
       "      <td>124-10-7</td>\n",
       "      <td>CCCCCCCCCCCCCC(=O)OC</td>\n",
       "      <td>242.4008</td>\n",
       "      <td>0.217467</td>\n",
       "      <td>0.782533</td>\n",
       "      <td>0.127575</td>\n",
       "      <td>0.136221</td>\n",
       "    </tr>\n",
       "    <tr>\n",
       "      <th>3049</th>\n",
       "      <td>undecane</td>\n",
       "      <td>tetradecanoic acid methyl ester</td>\n",
       "      <td>0.279504</td>\n",
       "      <td>0.648561</td>\n",
       "      <td>331.75</td>\n",
       "      <td>100000</td>\n",
       "      <td>0.1384</td>\n",
       "      <td>1120-21-4</td>\n",
       "      <td>CCCCCCCCCCC</td>\n",
       "      <td>156.3106</td>\n",
       "      <td>124-10-7</td>\n",
       "      <td>CCCCCCCCCCCCCC(=O)OC</td>\n",
       "      <td>242.4008</td>\n",
       "      <td>0.217467</td>\n",
       "      <td>0.782533</td>\n",
       "      <td>0.124880</td>\n",
       "      <td>0.136019</td>\n",
       "    </tr>\n",
       "    <tr>\n",
       "      <th>3050</th>\n",
       "      <td>undecane</td>\n",
       "      <td>tetradecanoic acid methyl ester</td>\n",
       "      <td>0.279504</td>\n",
       "      <td>0.648561</td>\n",
       "      <td>341.92</td>\n",
       "      <td>100000</td>\n",
       "      <td>0.1354</td>\n",
       "      <td>1120-21-4</td>\n",
       "      <td>CCCCCCCCCCC</td>\n",
       "      <td>156.3106</td>\n",
       "      <td>124-10-7</td>\n",
       "      <td>CCCCCCCCCCCCCC(=O)OC</td>\n",
       "      <td>242.4008</td>\n",
       "      <td>0.217467</td>\n",
       "      <td>0.782533</td>\n",
       "      <td>0.122233</td>\n",
       "      <td>0.135089</td>\n",
       "    </tr>\n",
       "    <tr>\n",
       "      <th>3051</th>\n",
       "      <td>undecane</td>\n",
       "      <td>tetradecanoic acid methyl ester</td>\n",
       "      <td>0.279504</td>\n",
       "      <td>0.648561</td>\n",
       "      <td>351.90</td>\n",
       "      <td>100000</td>\n",
       "      <td>0.1330</td>\n",
       "      <td>1120-21-4</td>\n",
       "      <td>CCCCCCCCCCC</td>\n",
       "      <td>156.3106</td>\n",
       "      <td>124-10-7</td>\n",
       "      <td>CCCCCCCCCCCCCC(=O)OC</td>\n",
       "      <td>242.4008</td>\n",
       "      <td>0.217467</td>\n",
       "      <td>0.782533</td>\n",
       "      <td>0.119316</td>\n",
       "      <td>0.133046</td>\n",
       "    </tr>\n",
       "    <tr>\n",
       "      <th>3052</th>\n",
       "      <td>undecane</td>\n",
       "      <td>tetradecanoic acid methyl ester</td>\n",
       "      <td>0.279504</td>\n",
       "      <td>0.648561</td>\n",
       "      <td>361.94</td>\n",
       "      <td>100000</td>\n",
       "      <td>0.1308</td>\n",
       "      <td>1120-21-4</td>\n",
       "      <td>CCCCCCCCCCC</td>\n",
       "      <td>156.3106</td>\n",
       "      <td>124-10-7</td>\n",
       "      <td>CCCCCCCCCCCCCC(=O)OC</td>\n",
       "      <td>242.4008</td>\n",
       "      <td>0.217467</td>\n",
       "      <td>0.782533</td>\n",
       "      <td>0.115658</td>\n",
       "      <td>0.129897</td>\n",
       "    </tr>\n",
       "  </tbody>\n",
       "</table>\n",
       "<p>3053 rows × 17 columns</p>\n",
       "</div>"
      ],
      "text/plain": [
       "                                                  compA  \\\n",
       "0     (1R-(1alpha,2beta,5alpha))-5-methyl-2-(1-methy...   \n",
       "1     (1R-(1alpha,2beta,5alpha))-5-methyl-2-(1-methy...   \n",
       "2     (1R-(1alpha,2beta,5alpha))-5-methyl-2-(1-methy...   \n",
       "3     (1R-(1alpha,2beta,5alpha))-5-methyl-2-(1-methy...   \n",
       "4     (1R-(1alpha,2beta,5alpha))-5-methyl-2-(1-methy...   \n",
       "...                                                 ...   \n",
       "3048                                           undecane   \n",
       "3049                                           undecane   \n",
       "3050                                           undecane   \n",
       "3051                                           undecane   \n",
       "3052                                           undecane   \n",
       "\n",
       "                                compB        XA        XB       T       P  \\\n",
       "0                       decanoic acid  0.800000  0.200000  304.01  100000   \n",
       "1                       decanoic acid  0.800000  0.200000  314.00  100000   \n",
       "2                       decanoic acid  0.800000  0.200000  324.01  100000   \n",
       "3                       decanoic acid  0.800000  0.200000  333.98  100000   \n",
       "4                       decanoic acid  0.800000  0.200000  344.15  100000   \n",
       "...                               ...       ...       ...     ...     ...   \n",
       "3048  tetradecanoic acid methyl ester  0.279504  0.648561  322.02  100000   \n",
       "3049  tetradecanoic acid methyl ester  0.279504  0.648561  331.75  100000   \n",
       "3050  tetradecanoic acid methyl ester  0.279504  0.648561  341.92  100000   \n",
       "3051  tetradecanoic acid methyl ester  0.279504  0.648561  351.90  100000   \n",
       "3052  tetradecanoic acid methyl ester  0.279504  0.648561  361.94  100000   \n",
       "\n",
       "           K      CAS_A                         SMILES_A      MW_A     CAS_B  \\\n",
       "0     0.1229  2216-51-5  CC(C)[C@@H]1CC[C@@H](C)C[C@H]1O  156.2674  334-48-5   \n",
       "1     0.1218  2216-51-5  CC(C)[C@@H]1CC[C@@H](C)C[C@H]1O  156.2674  334-48-5   \n",
       "2     0.1211  2216-51-5  CC(C)[C@@H]1CC[C@@H](C)C[C@H]1O  156.2674  334-48-5   \n",
       "3     0.1204  2216-51-5  CC(C)[C@@H]1CC[C@@H](C)C[C@H]1O  156.2674  334-48-5   \n",
       "4     0.1194  2216-51-5  CC(C)[C@@H]1CC[C@@H](C)C[C@H]1O  156.2674  334-48-5   \n",
       "...      ...        ...                              ...       ...       ...   \n",
       "3048  0.1397  1120-21-4                      CCCCCCCCCCC  156.3106  124-10-7   \n",
       "3049  0.1384  1120-21-4                      CCCCCCCCCCC  156.3106  124-10-7   \n",
       "3050  0.1354  1120-21-4                      CCCCCCCCCCC  156.3106  124-10-7   \n",
       "3051  0.1330  1120-21-4                      CCCCCCCCCCC  156.3106  124-10-7   \n",
       "3052  0.1308  1120-21-4                      CCCCCCCCCCC  156.3106  124-10-7   \n",
       "\n",
       "                  SMILES_B      MW_B        mA        mB        KA        KB  \n",
       "0          CCCCCCCCCC(O)=O  172.2668  0.783947  0.216053  0.141259  0.141919  \n",
       "1          CCCCCCCCCC(O)=O  172.2668  0.783947  0.216053  0.138925  0.140573  \n",
       "2          CCCCCCCCCC(O)=O  172.2668  0.783947  0.216053  0.136235  0.138746  \n",
       "3          CCCCCCCCCC(O)=O  172.2668  0.783947  0.216053  0.133638  0.136974  \n",
       "4          CCCCCCCCCC(O)=O  172.2668  0.783947  0.216053  0.131180  0.135385  \n",
       "...                    ...       ...       ...       ...       ...       ...  \n",
       "3048  CCCCCCCCCCCCCC(=O)OC  242.4008  0.217467  0.782533  0.127575  0.136221  \n",
       "3049  CCCCCCCCCCCCCC(=O)OC  242.4008  0.217467  0.782533  0.124880  0.136019  \n",
       "3050  CCCCCCCCCCCCCC(=O)OC  242.4008  0.217467  0.782533  0.122233  0.135089  \n",
       "3051  CCCCCCCCCCCCCC(=O)OC  242.4008  0.217467  0.782533  0.119316  0.133046  \n",
       "3052  CCCCCCCCCCCCCC(=O)OC  242.4008  0.217467  0.782533  0.115658  0.129897  \n",
       "\n",
       "[3053 rows x 17 columns]"
      ]
     },
     "execution_count": 51,
     "metadata": {},
     "output_type": "execute_result"
    }
   ],
   "source": [
    "df_merged"
   ]
  },
  {
   "cell_type": "code",
   "execution_count": 52,
   "id": "540f65f2",
   "metadata": {},
   "outputs": [],
   "source": [
    "df_merged.to_excel(output1, index=False)"
   ]
  },
  {
   "cell_type": "code",
   "execution_count": 53,
   "id": "25f43d49",
   "metadata": {},
   "outputs": [],
   "source": [
    "# # Replace df_merged with predicted df\n",
    "# df_merged = pd.read_excel('../report/DB_svr_predict+exp.xlsx', sheet_name='DB_remove_outliers')"
   ]
  },
  {
   "cell_type": "markdown",
   "id": "fcf844f2",
   "metadata": {},
   "source": [
    "APPLY WHOLE EQUATIONS"
   ]
  },
  {
   "cell_type": "code",
   "execution_count": 54,
   "id": "f8f33861",
   "metadata": {},
   "outputs": [],
   "source": [
    "# # First, group by the combination of 'compA' and 'compB' to count occurrences\n",
    "# mixture_counts = df_merged.groupby(['compA', 'compB']).size()\n",
    "\n",
    "# # Filter out mixtures that appear 2 or fewer times\n",
    "# valid_mixtures = mixture_counts[mixture_counts > 2].index\n",
    "\n",
    "# # Now, filter your original dataframe to keep only those rows with valid mixtures\n",
    "# df_filtered = df_merged[df_merged.set_index(['compA', 'compB']).index.isin(valid_mixtures)]\n",
    "\n",
    "# # Remove rows where any column has the value '149-32-6' - has weird SMILES & value > 0.3\n",
    "# df_merged = df_filtered.loc[~df_filtered.isin(['149-32-6']).any(axis=1)]\n",
    "# # # Remove rows where any column has the value '115-77-5' - only 1 datapoint, cant guarantee methodology\n",
    "# # df_merged = df_filtered.loc[~df_filtered.isin(['115-77-5']).any(axis=1)]"
   ]
  },
  {
   "cell_type": "code",
   "execution_count": 55,
   "id": "5e21880f",
   "metadata": {},
   "outputs": [
    {
     "data": {
      "text/html": [
       "<div>\n",
       "<style scoped>\n",
       "    .dataframe tbody tr th:only-of-type {\n",
       "        vertical-align: middle;\n",
       "    }\n",
       "\n",
       "    .dataframe tbody tr th {\n",
       "        vertical-align: top;\n",
       "    }\n",
       "\n",
       "    .dataframe thead th {\n",
       "        text-align: right;\n",
       "    }\n",
       "</style>\n",
       "<table border=\"1\" class=\"dataframe\">\n",
       "  <thead>\n",
       "    <tr style=\"text-align: right;\">\n",
       "      <th></th>\n",
       "      <th>compA</th>\n",
       "      <th>compB</th>\n",
       "      <th>XA</th>\n",
       "      <th>XB</th>\n",
       "      <th>T</th>\n",
       "      <th>P</th>\n",
       "      <th>K</th>\n",
       "      <th>CAS_A</th>\n",
       "      <th>SMILES_A</th>\n",
       "      <th>MW_A</th>\n",
       "      <th>CAS_B</th>\n",
       "      <th>SMILES_B</th>\n",
       "      <th>MW_B</th>\n",
       "      <th>mA</th>\n",
       "      <th>mB</th>\n",
       "      <th>KA</th>\n",
       "      <th>KB</th>\n",
       "    </tr>\n",
       "  </thead>\n",
       "  <tbody>\n",
       "    <tr>\n",
       "      <th>0</th>\n",
       "      <td>(1R-(1alpha,2beta,5alpha))-5-methyl-2-(1-methy...</td>\n",
       "      <td>decanoic acid</td>\n",
       "      <td>0.800000</td>\n",
       "      <td>0.200000</td>\n",
       "      <td>304.01</td>\n",
       "      <td>100000</td>\n",
       "      <td>0.1229</td>\n",
       "      <td>2216-51-5</td>\n",
       "      <td>CC(C)[C@@H]1CC[C@@H](C)C[C@H]1O</td>\n",
       "      <td>156.2674</td>\n",
       "      <td>334-48-5</td>\n",
       "      <td>CCCCCCCCCC(O)=O</td>\n",
       "      <td>172.2668</td>\n",
       "      <td>0.783947</td>\n",
       "      <td>0.216053</td>\n",
       "      <td>0.141259</td>\n",
       "      <td>0.141919</td>\n",
       "    </tr>\n",
       "    <tr>\n",
       "      <th>1</th>\n",
       "      <td>(1R-(1alpha,2beta,5alpha))-5-methyl-2-(1-methy...</td>\n",
       "      <td>decanoic acid</td>\n",
       "      <td>0.800000</td>\n",
       "      <td>0.200000</td>\n",
       "      <td>314.00</td>\n",
       "      <td>100000</td>\n",
       "      <td>0.1218</td>\n",
       "      <td>2216-51-5</td>\n",
       "      <td>CC(C)[C@@H]1CC[C@@H](C)C[C@H]1O</td>\n",
       "      <td>156.2674</td>\n",
       "      <td>334-48-5</td>\n",
       "      <td>CCCCCCCCCC(O)=O</td>\n",
       "      <td>172.2668</td>\n",
       "      <td>0.783947</td>\n",
       "      <td>0.216053</td>\n",
       "      <td>0.138925</td>\n",
       "      <td>0.140573</td>\n",
       "    </tr>\n",
       "    <tr>\n",
       "      <th>2</th>\n",
       "      <td>(1R-(1alpha,2beta,5alpha))-5-methyl-2-(1-methy...</td>\n",
       "      <td>decanoic acid</td>\n",
       "      <td>0.800000</td>\n",
       "      <td>0.200000</td>\n",
       "      <td>324.01</td>\n",
       "      <td>100000</td>\n",
       "      <td>0.1211</td>\n",
       "      <td>2216-51-5</td>\n",
       "      <td>CC(C)[C@@H]1CC[C@@H](C)C[C@H]1O</td>\n",
       "      <td>156.2674</td>\n",
       "      <td>334-48-5</td>\n",
       "      <td>CCCCCCCCCC(O)=O</td>\n",
       "      <td>172.2668</td>\n",
       "      <td>0.783947</td>\n",
       "      <td>0.216053</td>\n",
       "      <td>0.136235</td>\n",
       "      <td>0.138746</td>\n",
       "    </tr>\n",
       "    <tr>\n",
       "      <th>3</th>\n",
       "      <td>(1R-(1alpha,2beta,5alpha))-5-methyl-2-(1-methy...</td>\n",
       "      <td>decanoic acid</td>\n",
       "      <td>0.800000</td>\n",
       "      <td>0.200000</td>\n",
       "      <td>333.98</td>\n",
       "      <td>100000</td>\n",
       "      <td>0.1204</td>\n",
       "      <td>2216-51-5</td>\n",
       "      <td>CC(C)[C@@H]1CC[C@@H](C)C[C@H]1O</td>\n",
       "      <td>156.2674</td>\n",
       "      <td>334-48-5</td>\n",
       "      <td>CCCCCCCCCC(O)=O</td>\n",
       "      <td>172.2668</td>\n",
       "      <td>0.783947</td>\n",
       "      <td>0.216053</td>\n",
       "      <td>0.133638</td>\n",
       "      <td>0.136974</td>\n",
       "    </tr>\n",
       "    <tr>\n",
       "      <th>4</th>\n",
       "      <td>(1R-(1alpha,2beta,5alpha))-5-methyl-2-(1-methy...</td>\n",
       "      <td>decanoic acid</td>\n",
       "      <td>0.800000</td>\n",
       "      <td>0.200000</td>\n",
       "      <td>344.15</td>\n",
       "      <td>100000</td>\n",
       "      <td>0.1194</td>\n",
       "      <td>2216-51-5</td>\n",
       "      <td>CC(C)[C@@H]1CC[C@@H](C)C[C@H]1O</td>\n",
       "      <td>156.2674</td>\n",
       "      <td>334-48-5</td>\n",
       "      <td>CCCCCCCCCC(O)=O</td>\n",
       "      <td>172.2668</td>\n",
       "      <td>0.783947</td>\n",
       "      <td>0.216053</td>\n",
       "      <td>0.131180</td>\n",
       "      <td>0.135385</td>\n",
       "    </tr>\n",
       "    <tr>\n",
       "      <th>...</th>\n",
       "      <td>...</td>\n",
       "      <td>...</td>\n",
       "      <td>...</td>\n",
       "      <td>...</td>\n",
       "      <td>...</td>\n",
       "      <td>...</td>\n",
       "      <td>...</td>\n",
       "      <td>...</td>\n",
       "      <td>...</td>\n",
       "      <td>...</td>\n",
       "      <td>...</td>\n",
       "      <td>...</td>\n",
       "      <td>...</td>\n",
       "      <td>...</td>\n",
       "      <td>...</td>\n",
       "      <td>...</td>\n",
       "      <td>...</td>\n",
       "    </tr>\n",
       "    <tr>\n",
       "      <th>3048</th>\n",
       "      <td>undecane</td>\n",
       "      <td>tetradecanoic acid methyl ester</td>\n",
       "      <td>0.279504</td>\n",
       "      <td>0.648561</td>\n",
       "      <td>322.02</td>\n",
       "      <td>100000</td>\n",
       "      <td>0.1397</td>\n",
       "      <td>1120-21-4</td>\n",
       "      <td>CCCCCCCCCCC</td>\n",
       "      <td>156.3106</td>\n",
       "      <td>124-10-7</td>\n",
       "      <td>CCCCCCCCCCCCCC(=O)OC</td>\n",
       "      <td>242.4008</td>\n",
       "      <td>0.217467</td>\n",
       "      <td>0.782533</td>\n",
       "      <td>0.127575</td>\n",
       "      <td>0.136221</td>\n",
       "    </tr>\n",
       "    <tr>\n",
       "      <th>3049</th>\n",
       "      <td>undecane</td>\n",
       "      <td>tetradecanoic acid methyl ester</td>\n",
       "      <td>0.279504</td>\n",
       "      <td>0.648561</td>\n",
       "      <td>331.75</td>\n",
       "      <td>100000</td>\n",
       "      <td>0.1384</td>\n",
       "      <td>1120-21-4</td>\n",
       "      <td>CCCCCCCCCCC</td>\n",
       "      <td>156.3106</td>\n",
       "      <td>124-10-7</td>\n",
       "      <td>CCCCCCCCCCCCCC(=O)OC</td>\n",
       "      <td>242.4008</td>\n",
       "      <td>0.217467</td>\n",
       "      <td>0.782533</td>\n",
       "      <td>0.124880</td>\n",
       "      <td>0.136019</td>\n",
       "    </tr>\n",
       "    <tr>\n",
       "      <th>3050</th>\n",
       "      <td>undecane</td>\n",
       "      <td>tetradecanoic acid methyl ester</td>\n",
       "      <td>0.279504</td>\n",
       "      <td>0.648561</td>\n",
       "      <td>341.92</td>\n",
       "      <td>100000</td>\n",
       "      <td>0.1354</td>\n",
       "      <td>1120-21-4</td>\n",
       "      <td>CCCCCCCCCCC</td>\n",
       "      <td>156.3106</td>\n",
       "      <td>124-10-7</td>\n",
       "      <td>CCCCCCCCCCCCCC(=O)OC</td>\n",
       "      <td>242.4008</td>\n",
       "      <td>0.217467</td>\n",
       "      <td>0.782533</td>\n",
       "      <td>0.122233</td>\n",
       "      <td>0.135089</td>\n",
       "    </tr>\n",
       "    <tr>\n",
       "      <th>3051</th>\n",
       "      <td>undecane</td>\n",
       "      <td>tetradecanoic acid methyl ester</td>\n",
       "      <td>0.279504</td>\n",
       "      <td>0.648561</td>\n",
       "      <td>351.90</td>\n",
       "      <td>100000</td>\n",
       "      <td>0.1330</td>\n",
       "      <td>1120-21-4</td>\n",
       "      <td>CCCCCCCCCCC</td>\n",
       "      <td>156.3106</td>\n",
       "      <td>124-10-7</td>\n",
       "      <td>CCCCCCCCCCCCCC(=O)OC</td>\n",
       "      <td>242.4008</td>\n",
       "      <td>0.217467</td>\n",
       "      <td>0.782533</td>\n",
       "      <td>0.119316</td>\n",
       "      <td>0.133046</td>\n",
       "    </tr>\n",
       "    <tr>\n",
       "      <th>3052</th>\n",
       "      <td>undecane</td>\n",
       "      <td>tetradecanoic acid methyl ester</td>\n",
       "      <td>0.279504</td>\n",
       "      <td>0.648561</td>\n",
       "      <td>361.94</td>\n",
       "      <td>100000</td>\n",
       "      <td>0.1308</td>\n",
       "      <td>1120-21-4</td>\n",
       "      <td>CCCCCCCCCCC</td>\n",
       "      <td>156.3106</td>\n",
       "      <td>124-10-7</td>\n",
       "      <td>CCCCCCCCCCCCCC(=O)OC</td>\n",
       "      <td>242.4008</td>\n",
       "      <td>0.217467</td>\n",
       "      <td>0.782533</td>\n",
       "      <td>0.115658</td>\n",
       "      <td>0.129897</td>\n",
       "    </tr>\n",
       "  </tbody>\n",
       "</table>\n",
       "<p>3053 rows × 17 columns</p>\n",
       "</div>"
      ],
      "text/plain": [
       "                                                  compA  \\\n",
       "0     (1R-(1alpha,2beta,5alpha))-5-methyl-2-(1-methy...   \n",
       "1     (1R-(1alpha,2beta,5alpha))-5-methyl-2-(1-methy...   \n",
       "2     (1R-(1alpha,2beta,5alpha))-5-methyl-2-(1-methy...   \n",
       "3     (1R-(1alpha,2beta,5alpha))-5-methyl-2-(1-methy...   \n",
       "4     (1R-(1alpha,2beta,5alpha))-5-methyl-2-(1-methy...   \n",
       "...                                                 ...   \n",
       "3048                                           undecane   \n",
       "3049                                           undecane   \n",
       "3050                                           undecane   \n",
       "3051                                           undecane   \n",
       "3052                                           undecane   \n",
       "\n",
       "                                compB        XA        XB       T       P  \\\n",
       "0                       decanoic acid  0.800000  0.200000  304.01  100000   \n",
       "1                       decanoic acid  0.800000  0.200000  314.00  100000   \n",
       "2                       decanoic acid  0.800000  0.200000  324.01  100000   \n",
       "3                       decanoic acid  0.800000  0.200000  333.98  100000   \n",
       "4                       decanoic acid  0.800000  0.200000  344.15  100000   \n",
       "...                               ...       ...       ...     ...     ...   \n",
       "3048  tetradecanoic acid methyl ester  0.279504  0.648561  322.02  100000   \n",
       "3049  tetradecanoic acid methyl ester  0.279504  0.648561  331.75  100000   \n",
       "3050  tetradecanoic acid methyl ester  0.279504  0.648561  341.92  100000   \n",
       "3051  tetradecanoic acid methyl ester  0.279504  0.648561  351.90  100000   \n",
       "3052  tetradecanoic acid methyl ester  0.279504  0.648561  361.94  100000   \n",
       "\n",
       "           K      CAS_A                         SMILES_A      MW_A     CAS_B  \\\n",
       "0     0.1229  2216-51-5  CC(C)[C@@H]1CC[C@@H](C)C[C@H]1O  156.2674  334-48-5   \n",
       "1     0.1218  2216-51-5  CC(C)[C@@H]1CC[C@@H](C)C[C@H]1O  156.2674  334-48-5   \n",
       "2     0.1211  2216-51-5  CC(C)[C@@H]1CC[C@@H](C)C[C@H]1O  156.2674  334-48-5   \n",
       "3     0.1204  2216-51-5  CC(C)[C@@H]1CC[C@@H](C)C[C@H]1O  156.2674  334-48-5   \n",
       "4     0.1194  2216-51-5  CC(C)[C@@H]1CC[C@@H](C)C[C@H]1O  156.2674  334-48-5   \n",
       "...      ...        ...                              ...       ...       ...   \n",
       "3048  0.1397  1120-21-4                      CCCCCCCCCCC  156.3106  124-10-7   \n",
       "3049  0.1384  1120-21-4                      CCCCCCCCCCC  156.3106  124-10-7   \n",
       "3050  0.1354  1120-21-4                      CCCCCCCCCCC  156.3106  124-10-7   \n",
       "3051  0.1330  1120-21-4                      CCCCCCCCCCC  156.3106  124-10-7   \n",
       "3052  0.1308  1120-21-4                      CCCCCCCCCCC  156.3106  124-10-7   \n",
       "\n",
       "                  SMILES_B      MW_B        mA        mB        KA        KB  \n",
       "0          CCCCCCCCCC(O)=O  172.2668  0.783947  0.216053  0.141259  0.141919  \n",
       "1          CCCCCCCCCC(O)=O  172.2668  0.783947  0.216053  0.138925  0.140573  \n",
       "2          CCCCCCCCCC(O)=O  172.2668  0.783947  0.216053  0.136235  0.138746  \n",
       "3          CCCCCCCCCC(O)=O  172.2668  0.783947  0.216053  0.133638  0.136974  \n",
       "4          CCCCCCCCCC(O)=O  172.2668  0.783947  0.216053  0.131180  0.135385  \n",
       "...                    ...       ...       ...       ...       ...       ...  \n",
       "3048  CCCCCCCCCCCCCC(=O)OC  242.4008  0.217467  0.782533  0.127575  0.136221  \n",
       "3049  CCCCCCCCCCCCCC(=O)OC  242.4008  0.217467  0.782533  0.124880  0.136019  \n",
       "3050  CCCCCCCCCCCCCC(=O)OC  242.4008  0.217467  0.782533  0.122233  0.135089  \n",
       "3051  CCCCCCCCCCCCCC(=O)OC  242.4008  0.217467  0.782533  0.119316  0.133046  \n",
       "3052  CCCCCCCCCCCCCC(=O)OC  242.4008  0.217467  0.782533  0.115658  0.129897  \n",
       "\n",
       "[3053 rows x 17 columns]"
      ]
     },
     "execution_count": 55,
     "metadata": {},
     "output_type": "execute_result"
    }
   ],
   "source": [
    "df_merged"
   ]
  },
  {
   "cell_type": "code",
   "execution_count": 56,
   "id": "cd249580",
   "metadata": {},
   "outputs": [],
   "source": [
    "df_merged['mAKA'] = df_merged['mA'] * df_merged['KA']\n",
    "df_merged['mBKB'] = df_merged['mB'] * df_merged['KB']"
   ]
  },
  {
   "cell_type": "code",
   "execution_count": 57,
   "id": "60f0403e",
   "metadata": {},
   "outputs": [],
   "source": [
    "selected_columns = ['mA', 'mB', 'T', 'KA', 'KB', 'mAKA', 'mBKB']  # adjust as needed\n",
    "df_new = df_merged[selected_columns]\n",
    "y_true = df_merged['K']\n",
    "\n",
    "info_columns = ['compA', 'compB', 'SMILES_A', 'SMILES_B']\n",
    "df_info = df_merged[info_columns]"
   ]
  },
  {
   "cell_type": "markdown",
   "id": "b4eac73c",
   "metadata": {},
   "source": [
    "EVALUATE MODELS"
   ]
  },
  {
   "cell_type": "code",
   "execution_count": 58,
   "id": "23ccc51e",
   "metadata": {},
   "outputs": [
    {
     "name": "stdout",
     "output_type": "stream",
     "text": [
      "['../linux_outputs/10K/20250407_111454_B7bKDy', '../linux_outputs/10K/20250407_115912_M4dvpu', '../linux_outputs/10K/20250407_125503_3SEVTh', '../linux_outputs/10K/20250407_134306_L5ya7j', '../linux_outputs/10K/20250408_152854_qNpDzj', '../linux_outputs/10K/20250408_160226_7tuMuV', '../linux_outputs/10K/20250408_163850_vyfftu', '../linux_outputs/10K/20250408_171835_iJ6HKe', '../linux_outputs/10K/20250409_095336_s1iQOw', '../linux_outputs/10K/20250409_105247_yk2cuk', '../linux_outputs/10K/20250409_113752_Tc4GSi', '../linux_outputs/10K/20250409_120816_1fthha', '../linux_outputs/10K/20250410_100349_cCxrnR', '../linux_outputs/10K/20250410_142914_1Y9BD4', '../linux_outputs/10K/20250411_131629_9zMX4d', '../linux_outputs/10K/20250411_172421_Y9VWr1', '../linux_outputs/10K/20250430_161345_EP8N1d', '../linux_outputs/10K/20250430_161706_wdOpae', '../linux_outputs/10K/20250430_171549_KcqsQc', '../linux_outputs/10K/20250430_171656_5h8Eky', '../linux_outputs/10K/20250505_142752_2ftXh4', '../linux_outputs/10K/20250506_095737_xWpjxU']\n"
     ]
    }
   ],
   "source": [
    "# Path to the 'outputs' folder\n",
    "path = '../linux_outputs/10K'\n",
    "\n",
    "# Get a list of folder names inside the 'outputs' folder\n",
    "folder_names = [os.path.join(path,f).replace('\\\\', '/') for f in os.listdir(path) if os.path.isdir(os.path.join(path, f))]\n",
    "\n",
    "# Print the list of folder names\n",
    "print(folder_names)"
   ]
  },
  {
   "cell_type": "code",
   "execution_count": 59,
   "id": "b027371c",
   "metadata": {},
   "outputs": [
    {
     "name": "stderr",
     "output_type": "stream",
     "text": [
      "Attempting to load model from ..\\linux_outputs\\10K\\20250410_142914_1Y9BD4\\checkpoint.pkl...\n"
     ]
    }
   ],
   "source": [
    "folder_index = 14 - 1 #Change the first value to run number\n",
    "model = PySRRegressor.from_file(run_directory=folder_names[folder_index])"
   ]
  },
  {
   "cell_type": "code",
   "execution_count": 60,
   "id": "b0bd0e29",
   "metadata": {},
   "outputs": [],
   "source": [
    "# # Condition where KB > KA\n",
    "# swap_mask = df_new['KB'] > df_new['KA']\n",
    "\n",
    "# # Swap values where condition is met\n",
    "# df_new.loc[swap_mask, ['KA', 'KB']] = df_new.loc[swap_mask, ['KB', 'KA']].values\n",
    "# df_new.loc[swap_mask, ['mA', 'mB']] = df_new.loc[swap_mask, ['mB', 'mA']].values"
   ]
  },
  {
   "cell_type": "code",
   "execution_count": 61,
   "id": "dfa32bb7",
   "metadata": {},
   "outputs": [
    {
     "data": {
      "image/png": "[encoded data removed]",
      "text/plain": [
       "<Figure size 640x480 with 1 Axes>"
      ]
     },
     "metadata": {},
     "output_type": "display_data"
    }
   ],
   "source": [
    "# If the model is loaded, perform the calculations\n",
    "model.get_best().equation\n",
    "y_pred = model.predict(df_new)\n",
    "rmse = np.sqrt(mean_squared_error(y_true, y_pred))\n",
    "r2 = r2_score(y_true, y_pred)\n",
    "\n",
    "plt.scatter(y_true, y_pred)\n",
    "plt.xlabel('True Values')\n",
    "plt.ylabel('Predictions')\n",
    "plt.title('True vs Predicted Values')\n",
    "plt.show()"
   ]
  },
  {
   "cell_type": "code",
   "execution_count": 62,
   "id": "fa89fbee",
   "metadata": {},
   "outputs": [
    {
     "name": "stdout",
     "output_type": "stream",
     "text": [
      "RMSE: 0.005574876430243173\n",
      "R2 Score: 0.9313922217781747\n",
      "Precentage Error: 2.41%\n"
     ]
    }
   ],
   "source": [
    "print(f\"RMSE: {rmse}\")\n",
    "print(f\"R2 Score: {r2}\")\n",
    "print(f\"Precentage Error: {np.mean(np.abs((y_true - y_pred) / y_true)) * 100:.2f}%\")"
   ]
  },
  {
   "cell_type": "code",
   "execution_count": 63,
   "id": "23d05485",
   "metadata": {},
   "outputs": [
    {
     "data": {
      "image/png": "[encoded data removed]",
      "text/plain": [
       "<Figure size 640x480 with 1 Axes>"
      ]
     },
     "metadata": {},
     "output_type": "display_data"
    }
   ],
   "source": [
    "y_pred = df_new['KB']/(df_new['mB'] + df_new['KB']*df_new['mA']/df_new['KA'])\n",
    "rmse = np.sqrt(mean_squared_error(y_true, y_pred))\n",
    "r2 = r2_score(y_true, y_pred)\n",
    "\n",
    "plt.scatter(y_true, y_pred)\n",
    "plt.xlabel('Experimental Values')\n",
    "plt.ylabel('Predictions')\n",
    "plt.title('Experimental vs Predicted Values')\n",
    "plt.show()"
   ]
  },
  {
   "cell_type": "code",
   "execution_count": 64,
   "id": "00415bfb",
   "metadata": {},
   "outputs": [],
   "source": [
    "# # Export y_true and y_pred to excel\n",
    "# output_df = pd.DataFrame({'Experimental Values': y_true, 'Predictions': y_pred})\n",
    "\n",
    "# #Concate df_info, df_new and output_df\n",
    "# output_df = pd.concat([df_info.reset_index(drop=True), df_new.reset_index(drop=True), output_df.reset_index(drop=True)], axis=1)\n",
    "# output_df.to_excel('predictions_DB.xlsx', index=False)"
   ]
  },
  {
   "cell_type": "code",
   "execution_count": 65,
   "id": "02bf7099",
   "metadata": {},
   "outputs": [
    {
     "name": "stdout",
     "output_type": "stream",
     "text": [
      "RMSE: 0.005481466445743306\n",
      "R2 Score: 0.9336720790692885\n",
      "Precentage Error: 2.46%\n"
     ]
    }
   ],
   "source": [
    "print(f\"RMSE: {rmse}\")\n",
    "print(f\"R2 Score: {r2}\")\n",
    "print(f\"Precentage Error: {np.mean(np.abs((y_true - y_pred) / y_true)) * 100:.2f}%\")"
   ]
  },
  {
   "cell_type": "code",
   "execution_count": 75,
   "id": "46b990fe",
   "metadata": {},
   "outputs": [
    {
     "data": {
      "text/html": [
       "<div>\n",
       "<style scoped>\n",
       "    .dataframe tbody tr th:only-of-type {\n",
       "        vertical-align: middle;\n",
       "    }\n",
       "\n",
       "    .dataframe tbody tr th {\n",
       "        vertical-align: top;\n",
       "    }\n",
       "\n",
       "    .dataframe thead th {\n",
       "        text-align: right;\n",
       "    }\n",
       "</style>\n",
       "<table border=\"1\" class=\"dataframe\">\n",
       "  <thead>\n",
       "    <tr style=\"text-align: right;\">\n",
       "      <th></th>\n",
       "      <th>Experimental Value</th>\n",
       "      <th>XGB (Pred Only)</th>\n",
       "      <th>SVR (Pred Only)</th>\n",
       "      <th>Moreno (Pred Only)</th>\n",
       "      <th>XGB (Pred + Exp)</th>\n",
       "      <th>SVR (Pred + Exp)</th>\n",
       "      <th>Moreno (Pred +Exp)</th>\n",
       "    </tr>\n",
       "  </thead>\n",
       "  <tbody>\n",
       "    <tr>\n",
       "      <th>0</th>\n",
       "      <td>0.1229</td>\n",
       "      <td>0.135238</td>\n",
       "      <td>0.141401</td>\n",
       "      <td>0.123873</td>\n",
       "      <td>0.135238</td>\n",
       "      <td>0.141401</td>\n",
       "      <td>0.123873</td>\n",
       "    </tr>\n",
       "    <tr>\n",
       "      <th>1</th>\n",
       "      <td>0.1218</td>\n",
       "      <td>0.133458</td>\n",
       "      <td>0.139278</td>\n",
       "      <td>0.123090</td>\n",
       "      <td>0.133458</td>\n",
       "      <td>0.139278</td>\n",
       "      <td>0.123090</td>\n",
       "    </tr>\n",
       "    <tr>\n",
       "      <th>2</th>\n",
       "      <td>0.1211</td>\n",
       "      <td>0.132087</td>\n",
       "      <td>0.136770</td>\n",
       "      <td>0.122310</td>\n",
       "      <td>0.132087</td>\n",
       "      <td>0.136770</td>\n",
       "      <td>0.122310</td>\n",
       "    </tr>\n",
       "    <tr>\n",
       "      <th>3</th>\n",
       "      <td>0.1204</td>\n",
       "      <td>0.131434</td>\n",
       "      <td>0.134345</td>\n",
       "      <td>0.121538</td>\n",
       "      <td>0.131434</td>\n",
       "      <td>0.134345</td>\n",
       "      <td>0.121538</td>\n",
       "    </tr>\n",
       "    <tr>\n",
       "      <th>4</th>\n",
       "      <td>0.1194</td>\n",
       "      <td>0.128384</td>\n",
       "      <td>0.132066</td>\n",
       "      <td>0.120756</td>\n",
       "      <td>0.128384</td>\n",
       "      <td>0.132066</td>\n",
       "      <td>0.120756</td>\n",
       "    </tr>\n",
       "    <tr>\n",
       "      <th>...</th>\n",
       "      <td>...</td>\n",
       "      <td>...</td>\n",
       "      <td>...</td>\n",
       "      <td>...</td>\n",
       "      <td>...</td>\n",
       "      <td>...</td>\n",
       "      <td>...</td>\n",
       "    </tr>\n",
       "    <tr>\n",
       "      <th>3048</th>\n",
       "      <td>0.1397</td>\n",
       "      <td>0.137580</td>\n",
       "      <td>0.134242</td>\n",
       "      <td>0.126813</td>\n",
       "      <td>0.137580</td>\n",
       "      <td>0.134242</td>\n",
       "      <td>0.126813</td>\n",
       "    </tr>\n",
       "    <tr>\n",
       "      <th>3049</th>\n",
       "      <td>0.1384</td>\n",
       "      <td>0.135028</td>\n",
       "      <td>0.133430</td>\n",
       "      <td>0.124765</td>\n",
       "      <td>0.135028</td>\n",
       "      <td>0.133430</td>\n",
       "      <td>0.124765</td>\n",
       "    </tr>\n",
       "    <tr>\n",
       "      <th>3050</th>\n",
       "      <td>0.1354</td>\n",
       "      <td>0.133235</td>\n",
       "      <td>0.132068</td>\n",
       "      <td>0.122621</td>\n",
       "      <td>0.133235</td>\n",
       "      <td>0.132068</td>\n",
       "      <td>0.122621</td>\n",
       "    </tr>\n",
       "    <tr>\n",
       "      <th>3051</th>\n",
       "      <td>0.1330</td>\n",
       "      <td>0.134220</td>\n",
       "      <td>0.129798</td>\n",
       "      <td>0.120515</td>\n",
       "      <td>0.134220</td>\n",
       "      <td>0.129798</td>\n",
       "      <td>0.120515</td>\n",
       "    </tr>\n",
       "    <tr>\n",
       "      <th>3052</th>\n",
       "      <td>0.1308</td>\n",
       "      <td>0.130357</td>\n",
       "      <td>0.126510</td>\n",
       "      <td>0.118395</td>\n",
       "      <td>0.130357</td>\n",
       "      <td>0.126510</td>\n",
       "      <td>0.118395</td>\n",
       "    </tr>\n",
       "  </tbody>\n",
       "</table>\n",
       "<p>3053 rows × 7 columns</p>\n",
       "</div>"
      ],
      "text/plain": [
       "      Experimental Value  XGB (Pred Only)  SVR (Pred Only)  \\\n",
       "0                 0.1229         0.135238         0.141401   \n",
       "1                 0.1218         0.133458         0.139278   \n",
       "2                 0.1211         0.132087         0.136770   \n",
       "3                 0.1204         0.131434         0.134345   \n",
       "4                 0.1194         0.128384         0.132066   \n",
       "...                  ...              ...              ...   \n",
       "3048              0.1397         0.137580         0.134242   \n",
       "3049              0.1384         0.135028         0.133430   \n",
       "3050              0.1354         0.133235         0.132068   \n",
       "3051              0.1330         0.134220         0.129798   \n",
       "3052              0.1308         0.130357         0.126510   \n",
       "\n",
       "      Moreno (Pred Only)  XGB (Pred + Exp)  SVR (Pred + Exp)  \\\n",
       "0               0.123873          0.135238          0.141401   \n",
       "1               0.123090          0.133458          0.139278   \n",
       "2               0.122310          0.132087          0.136770   \n",
       "3               0.121538          0.131434          0.134345   \n",
       "4               0.120756          0.128384          0.132066   \n",
       "...                  ...               ...               ...   \n",
       "3048            0.126813          0.137580          0.134242   \n",
       "3049            0.124765          0.135028          0.133430   \n",
       "3050            0.122621          0.133235          0.132068   \n",
       "3051            0.120515          0.134220          0.129798   \n",
       "3052            0.118395          0.130357          0.126510   \n",
       "\n",
       "      Moreno (Pred +Exp)  \n",
       "0               0.123873  \n",
       "1               0.123090  \n",
       "2               0.122310  \n",
       "3               0.121538  \n",
       "4               0.120756  \n",
       "...                  ...  \n",
       "3048            0.126813  \n",
       "3049            0.124765  \n",
       "3050            0.122621  \n",
       "3051            0.120515  \n",
       "3052            0.118395  \n",
       "\n",
       "[3053 rows x 7 columns]"
      ]
     },
     "execution_count": 75,
     "metadata": {},
     "output_type": "execute_result"
    }
   ],
   "source": [
    "test_df = pd.read_excel('../report/results.xlsx', sheet_name=2)\n",
    "test_df"
   ]
  },
  {
   "cell_type": "code",
   "execution_count": 78,
   "id": "95b3e279",
   "metadata": {},
   "outputs": [
    {
     "name": "stdout",
     "output_type": "stream",
     "text": [
      "RMSE: 0.0055176012813844145\n",
      "R2 Score: 0.9327947049400371\n"
     ]
    }
   ],
   "source": [
    "rmse = np.sqrt(mean_squared_error(test_df['Experimental Value'], test_df['Moreno (Pred +Exp)']))\n",
    "r2 = r2_score(test_df['Experimental Value'], test_df['Moreno (Pred +Exp)'])\n",
    "print(f\"RMSE: {rmse}\")\n",
    "print(f\"R2 Score: {r2}\")"
   ]
  },
  {
   "cell_type": "code",
   "execution_count": 1579,
   "id": "3878bd53",
   "metadata": {},
   "outputs": [
    {
     "name": "stderr",
     "output_type": "stream",
     "text": [
      "C:\\Users\\leth\\AppData\\Local\\Temp\\ipykernel_22672\\367739937.py:3: SettingWithCopyWarning:\n",
      "\n",
      "\n",
      "A value is trying to be set on a copy of a slice from a DataFrame.\n",
      "Try using .loc[row_indexer,col_indexer] = value instead\n",
      "\n",
      "See the caveats in the documentation: https://pandas.pydata.org/pandas-docs/stable/user_guide/indexing.html#returning-a-view-versus-a-copy\n",
      "\n",
      "C:\\Users\\leth\\AppData\\Local\\Temp\\ipykernel_22672\\367739937.py:4: SettingWithCopyWarning:\n",
      "\n",
      "\n",
      "A value is trying to be set on a copy of a slice from a DataFrame.\n",
      "Try using .loc[row_indexer,col_indexer] = value instead\n",
      "\n",
      "See the caveats in the documentation: https://pandas.pydata.org/pandas-docs/stable/user_guide/indexing.html#returning-a-view-versus-a-copy\n",
      "\n"
     ]
    },
    {
     "data": {
      "application/vnd.plotly.v1+json": {
       "config": {
        "plotlyServerURL": "https://plot.ly"
       },
       "data": [
        {
         "customdata": {
          "bdata": "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",
          "dtype": "f8",
          "shape": "3053, 7"
         },
         "hovertemplate": "True Values=%{x}<br>Predictions=%{y}<br>mA=%{customdata[0]}<br>mB=%{customdata[1]}<br>T=%{customdata[2]}<br>KA=%{customdata[3]}<br>KB=%{customdata[4]}<br>mAKA=%{customdata[5]}<br>mBKB=%{customdata[6]}<extra></extra>",
         "legendgroup": "",
         "marker": {
          "color": "#636efa",
          "symbol": "circle"
         },
         "mode": "markers",
         "name": "",
         "showlegend": false,
         "type": "scattergl",
         "x": {
          "bdata": "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",
          "dtype": "f8"
         },
         "xaxis": "x",
         "y": {
          "bdata": "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",
          "dtype": "f8"
         },
         "yaxis": "y"
        }
       ],
       "layout": {
        "legend": {
         "tracegroupgap": 0
        },
        "template": {
         "data": {
          "bar": [
           {
            "error_x": {
             "color": "#2a3f5f"
            },
            "error_y": {
             "color": "#2a3f5f"
            },
            "marker": {
             "line": {
              "color": "#E5ECF6",
              "width": 0.5
             },
             "pattern": {
              "fillmode": "overlay",
              "size": 10,
              "solidity": 0.2
             }
            },
            "type": "bar"
           }
          ],
          "barpolar": [
           {
            "marker": {
             "line": {
              "color": "#E5ECF6",
              "width": 0.5
             },
             "pattern": {
              "fillmode": "overlay",
              "size": 10,
              "solidity": 0.2
             }
            },
            "type": "barpolar"
           }
          ],
          "carpet": [
           {
            "aaxis": {
             "endlinecolor": "#2a3f5f",
             "gridcolor": "white",
             "linecolor": "white",
             "minorgridcolor": "white",
             "startlinecolor": "#2a3f5f"
            },
            "baxis": {
             "endlinecolor": "#2a3f5f",
             "gridcolor": "white",
             "linecolor": "white",
             "minorgridcolor": "white",
             "startlinecolor": "#2a3f5f"
            },
            "type": "carpet"
           }
          ],
          "choropleth": [
           {
            "colorbar": {
             "outlinewidth": 0,
             "ticks": ""
            },
            "type": "choropleth"
           }
          ],
          "contour": [
           {
            "colorbar": {
             "outlinewidth": 0,
             "ticks": ""
            },
            "colorscale": [
             [
              0,
              "#0d0887"
             ],
             [
              0.1111111111111111,
              "#46039f"
             ],
             [
              0.2222222222222222,
              "#7201a8"
             ],
             [
              0.3333333333333333,
              "#9c179e"
             ],
             [
              0.4444444444444444,
              "#bd3786"
             ],
             [
              0.5555555555555556,
              "#d8576b"
             ],
             [
              0.6666666666666666,
              "#ed7953"
             ],
             [
              0.7777777777777778,
              "#fb9f3a"
             ],
             [
              0.8888888888888888,
              "#fdca26"
             ],
             [
              1,
              "#f0f921"
             ]
            ],
            "type": "contour"
           }
          ],
          "contourcarpet": [
           {
            "colorbar": {
             "outlinewidth": 0,
             "ticks": ""
            },
            "type": "contourcarpet"
           }
          ],
          "heatmap": [
           {
            "colorbar": {
             "outlinewidth": 0,
             "ticks": ""
            },
            "colorscale": [
             [
              0,
              "#0d0887"
             ],
             [
              0.1111111111111111,
              "#46039f"
             ],
             [
              0.2222222222222222,
              "#7201a8"
             ],
             [
              0.3333333333333333,
              "#9c179e"
             ],
             [
              0.4444444444444444,
              "#bd3786"
             ],
             [
              0.5555555555555556,
              "#d8576b"
             ],
             [
              0.6666666666666666,
              "#ed7953"
             ],
             [
              0.7777777777777778,
              "#fb9f3a"
             ],
             [
              0.8888888888888888,
              "#fdca26"
             ],
             [
              1,
              "#f0f921"
             ]
            ],
            "type": "heatmap"
           }
          ],
          "histogram": [
           {
            "marker": {
             "pattern": {
              "fillmode": "overlay",
              "size": 10,
              "solidity": 0.2
             }
            },
            "type": "histogram"
           }
          ],
          "histogram2d": [
           {
            "colorbar": {
             "outlinewidth": 0,
             "ticks": ""
            },
            "colorscale": [
             [
              0,
              "#0d0887"
             ],
             [
              0.1111111111111111,
              "#46039f"
             ],
             [
              0.2222222222222222,
              "#7201a8"
             ],
             [
              0.3333333333333333,
              "#9c179e"
             ],
             [
              0.4444444444444444,
              "#bd3786"
             ],
             [
              0.5555555555555556,
              "#d8576b"
             ],
             [
              0.6666666666666666,
              "#ed7953"
             ],
             [
              0.7777777777777778,
              "#fb9f3a"
             ],
             [
              0.8888888888888888,
              "#fdca26"
             ],
             [
              1,
              "#f0f921"
             ]
            ],
            "type": "histogram2d"
           }
          ],
          "histogram2dcontour": [
           {
            "colorbar": {
             "outlinewidth": 0,
             "ticks": ""
            },
            "colorscale": [
             [
              0,
              "#0d0887"
             ],
             [
              0.1111111111111111,
              "#46039f"
             ],
             [
              0.2222222222222222,
              "#7201a8"
             ],
             [
              0.3333333333333333,
              "#9c179e"
             ],
             [
              0.4444444444444444,
              "#bd3786"
             ],
             [
              0.5555555555555556,
              "#d8576b"
             ],
             [
              0.6666666666666666,
              "#ed7953"
             ],
             [
              0.7777777777777778,
              "#fb9f3a"
             ],
             [
              0.8888888888888888,
              "#fdca26"
             ],
             [
              1,
              "#f0f921"
             ]
            ],
            "type": "histogram2dcontour"
           }
          ],
          "mesh3d": [
           {
            "colorbar": {
             "outlinewidth": 0,
             "ticks": ""
            },
            "type": "mesh3d"
           }
          ],
          "parcoords": [
           {
            "line": {
             "colorbar": {
              "outlinewidth": 0,
              "ticks": ""
             }
            },
            "type": "parcoords"
           }
          ],
          "pie": [
           {
            "automargin": true,
            "type": "pie"
           }
          ],
          "scatter": [
           {
            "fillpattern": {
             "fillmode": "overlay",
             "size": 10,
             "solidity": 0.2
            },
            "type": "scatter"
           }
          ],
          "scatter3d": [
           {
            "line": {
             "colorbar": {
              "outlinewidth": 0,
              "ticks": ""
             }
            },
            "marker": {
             "colorbar": {
              "outlinewidth": 0,
              "ticks": ""
             }
            },
            "type": "scatter3d"
           }
          ],
          "scattercarpet": [
           {
            "marker": {
             "colorbar": {
              "outlinewidth": 0,
              "ticks": ""
             }
            },
            "type": "scattercarpet"
           }
          ],
          "scattergeo": [
           {
            "marker": {
             "colorbar": {
              "outlinewidth": 0,
              "ticks": ""
             }
            },
            "type": "scattergeo"
           }
          ],
          "scattergl": [
           {
            "marker": {
             "colorbar": {
              "outlinewidth": 0,
              "ticks": ""
             }
            },
            "type": "scattergl"
           }
          ],
          "scattermap": [
           {
            "marker": {
             "colorbar": {
              "outlinewidth": 0,
              "ticks": ""
             }
            },
            "type": "scattermap"
           }
          ],
          "scattermapbox": [
           {
            "marker": {
             "colorbar": {
              "outlinewidth": 0,
              "ticks": ""
             }
            },
            "type": "scattermapbox"
           }
          ],
          "scatterpolar": [
           {
            "marker": {
             "colorbar": {
              "outlinewidth": 0,
              "ticks": ""
             }
            },
            "type": "scatterpolar"
           }
          ],
          "scatterpolargl": [
           {
            "marker": {
             "colorbar": {
              "outlinewidth": 0,
              "ticks": ""
             }
            },
            "type": "scatterpolargl"
           }
          ],
          "scatterternary": [
           {
            "marker": {
             "colorbar": {
              "outlinewidth": 0,
              "ticks": ""
             }
            },
            "type": "scatterternary"
           }
          ],
          "surface": [
           {
            "colorbar": {
             "outlinewidth": 0,
             "ticks": ""
            },
            "colorscale": [
             [
              0,
              "#0d0887"
             ],
             [
              0.1111111111111111,
              "#46039f"
             ],
             [
              0.2222222222222222,
              "#7201a8"
             ],
             [
              0.3333333333333333,
              "#9c179e"
             ],
             [
              0.4444444444444444,
              "#bd3786"
             ],
             [
              0.5555555555555556,
              "#d8576b"
             ],
             [
              0.6666666666666666,
              "#ed7953"
             ],
             [
              0.7777777777777778,
              "#fb9f3a"
             ],
             [
              0.8888888888888888,
              "#fdca26"
             ],
             [
              1,
              "#f0f921"
             ]
            ],
            "type": "surface"
           }
          ],
          "table": [
           {
            "cells": {
             "fill": {
              "color": "#EBF0F8"
             },
             "line": {
              "color": "white"
             }
            },
            "header": {
             "fill": {
              "color": "#C8D4E3"
             },
             "line": {
              "color": "white"
             }
            },
            "type": "table"
           }
          ]
         },
         "layout": {
          "annotationdefaults": {
           "arrowcolor": "#2a3f5f",
           "arrowhead": 0,
           "arrowwidth": 1
          },
          "autotypenumbers": "strict",
          "coloraxis": {
           "colorbar": {
            "outlinewidth": 0,
            "ticks": ""
           }
          },
          "colorscale": {
           "diverging": [
            [
             0,
             "#8e0152"
            ],
            [
             0.1,
             "#c51b7d"
            ],
            [
             0.2,
             "#de77ae"
            ],
            [
             0.3,
             "#f1b6da"
            ],
            [
             0.4,
             "#fde0ef"
            ],
            [
             0.5,
             "#f7f7f7"
            ],
            [
             0.6,
             "#e6f5d0"
            ],
            [
             0.7,
             "#b8e186"
            ],
            [
             0.8,
             "#7fbc41"
            ],
            [
             0.9,
             "#4d9221"
            ],
            [
             1,
             "#276419"
            ]
           ],
           "sequential": [
            [
             0,
             "#0d0887"
            ],
            [
             0.1111111111111111,
             "#46039f"
            ],
            [
             0.2222222222222222,
             "#7201a8"
            ],
            [
             0.3333333333333333,
             "#9c179e"
            ],
            [
             0.4444444444444444,
             "#bd3786"
            ],
            [
             0.5555555555555556,
             "#d8576b"
            ],
            [
             0.6666666666666666,
             "#ed7953"
            ],
            [
             0.7777777777777778,
             "#fb9f3a"
            ],
            [
             0.8888888888888888,
             "#fdca26"
            ],
            [
             1,
             "#f0f921"
            ]
           ],
           "sequentialminus": [
            [
             0,
             "#0d0887"
            ],
            [
             0.1111111111111111,
             "#46039f"
            ],
            [
             0.2222222222222222,
             "#7201a8"
            ],
            [
             0.3333333333333333,
             "#9c179e"
            ],
            [
             0.4444444444444444,
             "#bd3786"
            ],
            [
             0.5555555555555556,
             "#d8576b"
            ],
            [
             0.6666666666666666,
             "#ed7953"
            ],
            [
             0.7777777777777778,
             "#fb9f3a"
            ],
            [
             0.8888888888888888,
             "#fdca26"
            ],
            [
             1,
             "#f0f921"
            ]
           ]
          },
          "colorway": [
           "#636efa",
           "#EF553B",
           "#00cc96",
           "#ab63fa",
           "#FFA15A",
           "#19d3f3",
           "#FF6692",
           "#B6E880",
           "#FF97FF",
           "#FECB52"
          ],
          "font": {
           "color": "#2a3f5f"
          },
          "geo": {
           "bgcolor": "white",
           "lakecolor": "white",
           "landcolor": "#E5ECF6",
           "showlakes": true,
           "showland": true,
           "subunitcolor": "white"
          },
          "hoverlabel": {
           "align": "left"
          },
          "hovermode": "closest",
          "mapbox": {
           "style": "light"
          },
          "paper_bgcolor": "white",
          "plot_bgcolor": "#E5ECF6",
          "polar": {
           "angularaxis": {
            "gridcolor": "white",
            "linecolor": "white",
            "ticks": ""
           },
           "bgcolor": "#E5ECF6",
           "radialaxis": {
            "gridcolor": "white",
            "linecolor": "white",
            "ticks": ""
           }
          },
          "scene": {
           "xaxis": {
            "backgroundcolor": "#E5ECF6",
            "gridcolor": "white",
            "gridwidth": 2,
            "linecolor": "white",
            "showbackground": true,
            "ticks": "",
            "zerolinecolor": "white"
           },
           "yaxis": {
            "backgroundcolor": "#E5ECF6",
            "gridcolor": "white",
            "gridwidth": 2,
            "linecolor": "white",
            "showbackground": true,
            "ticks": "",
            "zerolinecolor": "white"
           },
           "zaxis": {
            "backgroundcolor": "#E5ECF6",
            "gridcolor": "white",
            "gridwidth": 2,
            "linecolor": "white",
            "showbackground": true,
            "ticks": "",
            "zerolinecolor": "white"
           }
          },
          "shapedefaults": {
           "line": {
            "color": "#2a3f5f"
           }
          },
          "ternary": {
           "aaxis": {
            "gridcolor": "white",
            "linecolor": "white",
            "ticks": ""
           },
           "baxis": {
            "gridcolor": "white",
            "linecolor": "white",
            "ticks": ""
           },
           "bgcolor": "#E5ECF6",
           "caxis": {
            "gridcolor": "white",
            "linecolor": "white",
            "ticks": ""
           }
          },
          "title": {
           "x": 0.05
          },
          "xaxis": {
           "automargin": true,
           "gridcolor": "white",
           "linecolor": "white",
           "ticks": "",
           "title": {
            "standoff": 15
           },
           "zerolinecolor": "white",
           "zerolinewidth": 2
          },
          "yaxis": {
           "automargin": true,
           "gridcolor": "white",
           "linecolor": "white",
           "ticks": "",
           "title": {
            "standoff": 15
           },
           "zerolinecolor": "white",
           "zerolinewidth": 2
          }
         }
        },
        "title": {
         "text": "True vs Predicted Values"
        },
        "xaxis": {
         "anchor": "y",
         "domain": [
          0,
          1
         ],
         "title": {
          "text": "True Values"
         }
        },
        "yaxis": {
         "anchor": "x",
         "domain": [
          0,
          1
         ],
         "title": {
          "text": "Predictions"
         }
        }
       }
      }
     },
     "metadata": {},
     "output_type": "display_data"
    }
   ],
   "source": [
    "import plotly.express as px\n",
    "# Assuming df_new contains  dataset and y_true, y_pred are the true and predicted values\n",
    "df_new['y_true'] = y_true\n",
    "df_new['y_pred'] = y_pred\n",
    "\n",
    "# Create an interactive scatter plot\n",
    "fig = px.scatter(df_new, x='y_true', y='y_pred', title='True vs Predicted Values', \n",
    "                 labels={'y_true': 'True Values', 'y_pred': 'Predictions'},\n",
    "                 hover_data=df_new.columns)  # Hover over to see the details\n",
    "\n",
    "# Show the plot\n",
    "fig.show()"
   ]
  },
  {
   "cell_type": "code",
   "execution_count": 1580,
   "id": "90179191",
   "metadata": {},
   "outputs": [],
   "source": [
    "df_new.to_excel(output3, index=False)"
   ]
  },
  {
   "cell_type": "markdown",
   "id": "77582cc3",
   "metadata": {},
   "source": [
    "FILLIPOV"
   ]
  },
  {
   "cell_type": "code",
   "execution_count": 1385,
   "id": "778f38a2",
   "metadata": {},
   "outputs": [
    {
     "name": "stdout",
     "output_type": "stream",
     "text": [
      "MAE: 0.005807875333718016\n",
      "RMSE: 0.0076678977730131395\n",
      "R2 Score: 0.8702057380890723\n"
     ]
    }
   ],
   "source": [
    "C = 0.72\n",
    "y_pred = (C*df_new['mB']*df_new['mB'] + df_new['mB']*(1-C))*(df_new['KB']-df_new['KA'])+df_new['KA']\n",
    "rmse = np.sqrt(mean_squared_error(y_true, y_pred))\n",
    "r2 = r2_score(y_true, y_pred)\n",
    "mae = np.mean(np.abs(y_true - y_pred))\n",
    "print(f\"MAE: {mae}\")\n",
    "print(f\"RMSE: {rmse}\")\n",
    "print(f\"R2 Score: {r2}\")"
   ]
  },
  {
   "cell_type": "code",
   "execution_count": 1386,
   "id": "3c611eaa",
   "metadata": {},
   "outputs": [
    {
     "name": "stdout",
     "output_type": "stream",
     "text": [
      "MAE: 0.005543886898197789\n",
      "RMSE: 0.007235851957549709\n",
      "R2 Score: 0.8844201277545318\n"
     ]
    }
   ],
   "source": [
    "C = 0.5\n",
    "y_pred = (C*df_new['mB']*df_new['mB'] + df_new['mB']*(1-C))*(df_new['KB']-df_new['KA'])+df_new['KA']\n",
    "rmse = np.sqrt(mean_squared_error(y_true, y_pred))\n",
    "r2 = r2_score(y_true, y_pred)\n",
    "mae = np.mean(np.abs(y_true - y_pred))\n",
    "print(f\"MAE: {mae}\")\n",
    "print(f\"RMSE: {rmse}\")\n",
    "print(f\"R2 Score: {r2}\")"
   ]
  },
  {
   "cell_type": "markdown",
   "id": "eb3843b4",
   "metadata": {},
   "source": [
    "Jamieson and Irving "
   ]
  },
  {
   "cell_type": "code",
   "execution_count": 1387,
   "id": "855c7016",
   "metadata": {},
   "outputs": [
    {
     "name": "stdout",
     "output_type": "stream",
     "text": [
      "MAE: 0.005265272195847371\n",
      "RMSE: 0.0069456809047891595\n",
      "R2 Score: 0.8935041905048494\n"
     ]
    }
   ],
   "source": [
    "def calc_K(df):\n",
    "    if df['KA'] > df['KB']:\n",
    "        return df['KA'] * df['mA'] + df['KB'] * df['mB'] - (df['KA'] - df['KB']) * df['mA'] * (1 - np.sqrt(df['mA']))\n",
    "    else:\n",
    "        return df['KA'] * df['mA'] + df['KB'] * df['mB'] - (df['KB'] - df['KA']) * df['mB'] * (1 - np.sqrt(df['mB']))\n",
    "\n",
    "y_pred = df_new.apply(calc_K, axis=1)\n",
    "rmse = np.sqrt(mean_squared_error(y_true, y_pred))\n",
    "r2 = r2_score(y_true, y_pred)\n",
    "mae = np.mean(np.abs(y_true - y_pred))\n",
    "print(f\"MAE: {mae}\")\n",
    "print(f\"RMSE: {rmse}\")\n",
    "print(f\"R2 Score: {r2}\")"
   ]
  },
  {
   "cell_type": "markdown",
   "id": "4ff551e5",
   "metadata": {},
   "source": [
    "RED EQUATIONS"
   ]
  },
  {
   "cell_type": "code",
   "execution_count": 1388,
   "id": "55736b49",
   "metadata": {},
   "outputs": [],
   "source": [
    "# Path to the 'outputs' folder\n",
    "path = '../linux_outputs/10K_red'\n",
    "# Get a list of folder names inside the 'outputs' folder\n",
    "folder_names_red = [os.path.join(path,f).replace('\\\\', '/') for f in os.listdir(path) if os.path.isdir(os.path.join(path, f))]"
   ]
  },
  {
   "cell_type": "code",
   "execution_count": 1389,
   "id": "0458bdb1",
   "metadata": {},
   "outputs": [
    {
     "name": "stderr",
     "output_type": "stream",
     "text": [
      "Attempting to load model from ..\\linux_outputs\\10K_red\\20250430_103309_BV4HyP\\checkpoint.pkl...\n"
     ]
    }
   ],
   "source": [
    "folder_index = 17 - 1 #Change the first value to run number\n",
    "model = PySRRegressor.from_file(run_directory=folder_names_red[folder_index])"
   ]
  },
  {
   "cell_type": "code",
   "execution_count": 1390,
   "id": "ce2cb6d5",
   "metadata": {},
   "outputs": [
    {
     "data": {
      "text/plain": [
       "'(mB * mA) * ((abs((KB - KA) * (KB - 0.20966384)) / (0.20954196 - KB)) * -0.585045)'"
      ]
     },
     "execution_count": 1390,
     "metadata": {},
     "output_type": "execute_result"
    }
   ],
   "source": [
    "model.get_best().equation"
   ]
  },
  {
   "cell_type": "code",
   "execution_count": 1391,
   "id": "5e835d34",
   "metadata": {},
   "outputs": [
    {
     "data": {
      "image/png": "[encoded data removed]",
      "text/plain": [
       "<Figure size 640x480 with 1 Axes>"
      ]
     },
     "metadata": {},
     "output_type": "display_data"
    }
   ],
   "source": [
    "# If the model is loaded, perform the calculations\n",
    "y_pred = df_new['KA']*df_new['mA'] + df_new['KB']*df_new['mB'] - 0.585045*df_new['mB']*df_new['mA']*((abs(df_new['KB'] - df_new['KA'])*(df_new['KB']-0.20966384))/(0.20954196 - df_new['KB']))\n",
    "rmse = np.sqrt(mean_squared_error(y_true, y_pred))\n",
    "r2 = r2_score(y_true, y_pred)\n",
    "\n",
    "plt.scatter(y_true, y_pred)\n",
    "plt.xlabel('True Values')\n",
    "plt.ylabel('Predictions')\n",
    "plt.title('True vs Predicted Values')\n",
    "plt.show()"
   ]
  },
  {
   "cell_type": "markdown",
   "id": "2eabf6f4",
   "metadata": {},
   "source": [
    "ALL EQUATIONS PER CHECKPOINT"
   ]
  },
  {
   "cell_type": "code",
   "execution_count": 1392,
   "id": "5a5a8505",
   "metadata": {},
   "outputs": [
    {
     "data": {
      "text/html": [
       "<div>\n",
       "<style scoped>\n",
       "    .dataframe tbody tr th:only-of-type {\n",
       "        vertical-align: middle;\n",
       "    }\n",
       "\n",
       "    .dataframe tbody tr th {\n",
       "        vertical-align: top;\n",
       "    }\n",
       "\n",
       "    .dataframe thead th {\n",
       "        text-align: right;\n",
       "    }\n",
       "</style>\n",
       "<table border=\"1\" class=\"dataframe\">\n",
       "  <thead>\n",
       "    <tr style=\"text-align: right;\">\n",
       "      <th></th>\n",
       "      <th>complexity</th>\n",
       "      <th>loss</th>\n",
       "      <th>equation</th>\n",
       "      <th>score</th>\n",
       "      <th>sympy_format</th>\n",
       "      <th>lambda_format</th>\n",
       "    </tr>\n",
       "  </thead>\n",
       "  <tbody>\n",
       "    <tr>\n",
       "      <th>0</th>\n",
       "      <td>1</td>\n",
       "      <td>0.000266</td>\n",
       "      <td>KB</td>\n",
       "      <td>0.000000e+00</td>\n",
       "      <td>KB</td>\n",
       "      <td>PySRFunction(X=&gt;KB)</td>\n",
       "    </tr>\n",
       "    <tr>\n",
       "      <th>1</th>\n",
       "      <td>3</td>\n",
       "      <td>0.000169</td>\n",
       "      <td>KB / 0.9312176</td>\n",
       "      <td>2.282955e-01</td>\n",
       "      <td>1.07386286513485*KB</td>\n",
       "      <td>PySRFunction(X=&gt;1.07386286513485*KB)</td>\n",
       "    </tr>\n",
       "    <tr>\n",
       "      <th>2</th>\n",
       "      <td>4</td>\n",
       "      <td>0.000106</td>\n",
       "      <td>sqrt(KA * KB)</td>\n",
       "      <td>4.666669e-01</td>\n",
       "      <td>sqrt(KA*KB)</td>\n",
       "      <td>PySRFunction(X=&gt;sqrt(KA*KB))</td>\n",
       "    </tr>\n",
       "    <tr>\n",
       "      <th>3</th>\n",
       "      <td>6</td>\n",
       "      <td>0.000105</td>\n",
       "      <td>sqrt(KA * (KB + -0.0018817218))</td>\n",
       "      <td>4.990314e-03</td>\n",
       "      <td>sqrt(KA*(KB - 0.0018817218))</td>\n",
       "      <td>PySRFunction(X=&gt;sqrt(KA*(KB - 0.0018817218)))</td>\n",
       "    </tr>\n",
       "    <tr>\n",
       "      <th>4</th>\n",
       "      <td>7</td>\n",
       "      <td>0.000016</td>\n",
       "      <td>KA + (mB * (KB - KA))</td>\n",
       "      <td>1.886381e+00</td>\n",
       "      <td>KA + mB*(-KA + KB)</td>\n",
       "      <td>PySRFunction(X=&gt;KA + mB*(-KA + KB))</td>\n",
       "    </tr>\n",
       "    <tr>\n",
       "      <th>5</th>\n",
       "      <td>9</td>\n",
       "      <td>0.000013</td>\n",
       "      <td>KA - ((mB + 0.058679853) * (KA - KB))</td>\n",
       "      <td>1.065685e-01</td>\n",
       "      <td>KA - (KA - KB)*(mB + 0.058679853)</td>\n",
       "      <td>PySRFunction(X=&gt;KA - (KA - KB)*(mB + 0.0586798...</td>\n",
       "    </tr>\n",
       "    <tr>\n",
       "      <th>6</th>\n",
       "      <td>10</td>\n",
       "      <td>0.000012</td>\n",
       "      <td>((mA * sqrt(mA)) * (KA - KB)) + KB</td>\n",
       "      <td>4.039084e-02</td>\n",
       "      <td>KB + mA**(3/2)*(KA - KB)</td>\n",
       "      <td>PySRFunction(X=&gt;KB + mA**(3/2)*(KA - KB))</td>\n",
       "    </tr>\n",
       "    <tr>\n",
       "      <th>7</th>\n",
       "      <td>11</td>\n",
       "      <td>0.000012</td>\n",
       "      <td>KB - ((KB + ((mB * 0.011559093) - KA)) * mA)</td>\n",
       "      <td>1.450456e-02</td>\n",
       "      <td>KB - mA*(-KA + KB + 0.011559093*mB)</td>\n",
       "      <td>PySRFunction(X=&gt;KB - mA*(-KA + KB + 0.01155909...</td>\n",
       "    </tr>\n",
       "    <tr>\n",
       "      <th>8</th>\n",
       "      <td>12</td>\n",
       "      <td>0.000011</td>\n",
       "      <td>KA - ((KA - KB) * log(1.6532625 * (mB + 0.6133...</td>\n",
       "      <td>1.073147e-01</td>\n",
       "      <td>KA - (KA - KB)*log(1.6532625*mB + 1.014065587455)</td>\n",
       "      <td>PySRFunction(X=&gt;KA - (KA - KB)*log(1.6532625*m...</td>\n",
       "    </tr>\n",
       "    <tr>\n",
       "      <th>9</th>\n",
       "      <td>14</td>\n",
       "      <td>0.000011</td>\n",
       "      <td>KA - ((log((mB * 1.6304604) + 0.99842536) * (K...</td>\n",
       "      <td>6.104769e-03</td>\n",
       "      <td>KA - (KA - KB)*log(1.6304604*mB + 0.99842536) ...</td>\n",
       "      <td>PySRFunction(X=&gt;KA - (KA - KB)*log(1.6304604*m...</td>\n",
       "    </tr>\n",
       "    <tr>\n",
       "      <th>10</th>\n",
       "      <td>15</td>\n",
       "      <td>0.000010</td>\n",
       "      <td>KA - ((KB - KA) * (mA + ((-6.626319e-5 / (0.20...</td>\n",
       "      <td>1.249214e-01</td>\n",
       "      <td>KA - (-KA + KB)*(mA - 1.0787884 - 6.626319e-5/...</td>\n",
       "      <td>PySRFunction(X=&gt;KA - (-KA + KB)*(mA - 1.078788...</td>\n",
       "    </tr>\n",
       "    <tr>\n",
       "      <th>11</th>\n",
       "      <td>16</td>\n",
       "      <td>0.000008</td>\n",
       "      <td>(((sqrt(mA) * mA) + (6.400207e-5 / (KA - 0.209...</td>\n",
       "      <td>1.227145e-01</td>\n",
       "      <td>KB + (KA - KB)*(mA**(3/2) + 6.400207e-5/(KA - ...</td>\n",
       "      <td>PySRFunction(X=&gt;KB + (KA - KB)*(mA**(3/2) + 6....</td>\n",
       "    </tr>\n",
       "    <tr>\n",
       "      <th>12</th>\n",
       "      <td>17</td>\n",
       "      <td>0.000007</td>\n",
       "      <td>(mA * ((KA - KB) * abs((0.00010162177 / (KA - ...</td>\n",
       "      <td>2.141751e-01</td>\n",
       "      <td>KB + mA*(KA - KB)*Abs(sqrt(mA) + 0.00010162177...</td>\n",
       "      <td>PySRFunction(X=&gt;KB + mA*(KA - KB)*Abs(sqrt(mA)...</td>\n",
       "    </tr>\n",
       "    <tr>\n",
       "      <th>13</th>\n",
       "      <td>19</td>\n",
       "      <td>0.000007</td>\n",
       "      <td>KB + ((mA * ((KA + -0.0003239217) - KB)) * abs...</td>\n",
       "      <td>2.178190e-03</td>\n",
       "      <td>KB + mA*(KA - KB - 0.0003239217)*Abs(sqrt(mA) ...</td>\n",
       "      <td>PySRFunction(X=&gt;KB + mA*(KA - KB - 0.000323921...</td>\n",
       "    </tr>\n",
       "    <tr>\n",
       "      <th>14</th>\n",
       "      <td>21</td>\n",
       "      <td>0.000007</td>\n",
       "      <td>KA - ((((((KA - 0.21017282) / 1.7637879) * (mA...</td>\n",
       "      <td>7.338154e-03</td>\n",
       "      <td>KA - mB*(KA - KB)*(0.566961594418467*mA*(KA - ...</td>\n",
       "      <td>PySRFunction(X=&gt;KA - mB*(KA - KB)*(0.566961594...</td>\n",
       "    </tr>\n",
       "    <tr>\n",
       "      <th>15</th>\n",
       "      <td>23</td>\n",
       "      <td>0.000006</td>\n",
       "      <td>((KA - KB) * abs((mA * (sqrt(mA) + (0.00010134...</td>\n",
       "      <td>1.458654e-02</td>\n",
       "      <td>KB + (KA - KB)*Abs(mA*(sqrt(mA) + 0.0001013414...</td>\n",
       "      <td>PySRFunction(X=&gt;KB + (KA - KB)*Abs(mA*(sqrt(mA...</td>\n",
       "    </tr>\n",
       "    <tr>\n",
       "      <th>16</th>\n",
       "      <td>24</td>\n",
       "      <td>0.000006</td>\n",
       "      <td>KB + (((mA * abs(sqrt(mA) + (0.0001013226 / (K...</td>\n",
       "      <td>2.127176e-03</td>\n",
       "      <td>KB + (KA - KB)*(mA*Abs(sqrt(mA) + 0.0001013226...</td>\n",
       "      <td>PySRFunction(X=&gt;KB + (KA - KB)*(mA*Abs(sqrt(mA...</td>\n",
       "    </tr>\n",
       "    <tr>\n",
       "      <th>17</th>\n",
       "      <td>25</td>\n",
       "      <td>0.000006</td>\n",
       "      <td>((-0.00030656243 - (KB - KA)) * abs((-0.000164...</td>\n",
       "      <td>2.296860e-03</td>\n",
       "      <td>KB + (KA - KB - 0.00030656243)*Abs(mA*(sqrt(mA...</td>\n",
       "      <td>PySRFunction(X=&gt;KB + (KA - KB - 0.00030656243)...</td>\n",
       "    </tr>\n",
       "    <tr>\n",
       "      <th>18</th>\n",
       "      <td>26</td>\n",
       "      <td>0.000006</td>\n",
       "      <td>KB + ((-0.00036347457 - (KB - KA)) * (abs(-0.0...</td>\n",
       "      <td>3.721155e-03</td>\n",
       "      <td>KB + (mA*Abs(sqrt(mA) + 0.00010132736/(KA - 0....</td>\n",
       "      <td>PySRFunction(X=&gt;KB + (mA*Abs(sqrt(mA) + 0.0001...</td>\n",
       "    </tr>\n",
       "    <tr>\n",
       "      <th>19</th>\n",
       "      <td>27</td>\n",
       "      <td>0.000006</td>\n",
       "      <td>KA - ((0.99086624 + (((0.06955903 / (-0.183256...</td>\n",
       "      <td>8.057524e-03</td>\n",
       "      <td>KA - mB*(KA - KB)*(mA*(KA - 0.21026175)*(0.069...</td>\n",
       "      <td>PySRFunction(X=&gt;KA - mB*(KA - KB)*(mA*(KA - 0....</td>\n",
       "    </tr>\n",
       "    <tr>\n",
       "      <th>20</th>\n",
       "      <td>29</td>\n",
       "      <td>0.000006</td>\n",
       "      <td>KA - (((KA - KB) * (((KA - 0.21017282) * (((0....</td>\n",
       "      <td>1.435037e-02</td>\n",
       "      <td>KA - mB*(KA - KB)*(mA*(KA - 0.21017282)*(-0.04...</td>\n",
       "      <td>PySRFunction(X=&gt;KA - mB*(KA - KB)*(mA*(KA - 0....</td>\n",
       "    </tr>\n",
       "    <tr>\n",
       "      <th>21</th>\n",
       "      <td>31</td>\n",
       "      <td>0.000006</td>\n",
       "      <td>KA - ((((mA * ((0.5914169 / (KA - 0.20905314))...</td>\n",
       "      <td>1.369931e-02</td>\n",
       "      <td>KA - mB*(KA - KB)*(mA*(KA - 0.21017274)*(-0.10...</td>\n",
       "      <td>PySRFunction(X=&gt;KA - mB*(KA - KB)*(mA*(KA - 0....</td>\n",
       "    </tr>\n",
       "    <tr>\n",
       "      <th>22</th>\n",
       "      <td>33</td>\n",
       "      <td>0.000006</td>\n",
       "      <td>KA - (((((KA - 0.21021429) * mA) * ((0.5547303...</td>\n",
       "      <td>4.658380e-03</td>\n",
       "      <td>KA - mB*(KA - KB)*(mA*(KA - 0.21021429)*(-mA*(...</td>\n",
       "      <td>PySRFunction(X=&gt;KA - mB*(KA - KB)*(mA*(KA - 0....</td>\n",
       "    </tr>\n",
       "    <tr>\n",
       "      <th>23</th>\n",
       "      <td>35</td>\n",
       "      <td>0.000006</td>\n",
       "      <td>KA - (((0.99542445 + (mA * (((0.5537447 / (KA ...</td>\n",
       "      <td>4.006681e-03</td>\n",
       "      <td>KA - mB*(KA - KB)*(mA*(KA - 0.21021429)*(-mA**...</td>\n",
       "      <td>PySRFunction(X=&gt;KA - mB*(KA - KB)*(mA*(KA - 0....</td>\n",
       "    </tr>\n",
       "    <tr>\n",
       "      <th>24</th>\n",
       "      <td>36</td>\n",
       "      <td>0.000006</td>\n",
       "      <td>KA - (mB * ((0.9955383 + (mA * (((0.55308414 /...</td>\n",
       "      <td>8.031496e-04</td>\n",
       "      <td>KA - mB*(KA - KB)*(mA*(KA - 0.21021429)*(-(4.9...</td>\n",
       "      <td>PySRFunction(X=&gt;KA - mB*(KA - KB)*(mA*(KA - 0....</td>\n",
       "    </tr>\n",
       "    <tr>\n",
       "      <th>25</th>\n",
       "      <td>37</td>\n",
       "      <td>0.000006</td>\n",
       "      <td>KA - (((mA * ((KA - 0.2102387) * ((((mA / (KA ...</td>\n",
       "      <td>1.928170e-02</td>\n",
       "      <td>KA - mB*(KA - KB)*(mA*(KA - 0.2102387)*(-0.105...</td>\n",
       "      <td>PySRFunction(X=&gt;KA - mB*(KA - KB)*(mA*(KA - 0....</td>\n",
       "    </tr>\n",
       "    <tr>\n",
       "      <th>26</th>\n",
       "      <td>39</td>\n",
       "      <td>0.000006</td>\n",
       "      <td>KA - ((KA - KB) * ((((KA - 0.21026164) * (((0....</td>\n",
       "      <td>3.131705e-03</td>\n",
       "      <td>KA - mB*(KA - KB)*(mA*(KA - 0.21026164)*(0.174...</td>\n",
       "      <td>PySRFunction(X=&gt;KA - mB*(KA - KB)*(mA*(KA - 0....</td>\n",
       "    </tr>\n",
       "    <tr>\n",
       "      <th>27</th>\n",
       "      <td>40</td>\n",
       "      <td>0.000006</td>\n",
       "      <td>KA - ((KA - KB) * (((((KA - 0.21026164) * ((0....</td>\n",
       "      <td>1.040800e-07</td>\n",
       "      <td>KA - mB*(KA - KB)*(mA*(KA - 0.21026164)*(0.174...</td>\n",
       "      <td>PySRFunction(X=&gt;KA - mB*(KA - KB)*(mA*(KA - 0....</td>\n",
       "    </tr>\n",
       "  </tbody>\n",
       "</table>\n",
       "</div>"
      ],
      "text/plain": [
       "    complexity      loss                                           equation  \\\n",
       "0            1  0.000266                                                 KB   \n",
       "1            3  0.000169                                     KB / 0.9312176   \n",
       "2            4  0.000106                                      sqrt(KA * KB)   \n",
       "3            6  0.000105                    sqrt(KA * (KB + -0.0018817218))   \n",
       "4            7  0.000016                              KA + (mB * (KB - KA))   \n",
       "5            9  0.000013              KA - ((mB + 0.058679853) * (KA - KB))   \n",
       "6           10  0.000012                 ((mA * sqrt(mA)) * (KA - KB)) + KB   \n",
       "7           11  0.000012       KB - ((KB + ((mB * 0.011559093) - KA)) * mA)   \n",
       "8           12  0.000011  KA - ((KA - KB) * log(1.6532625 * (mB + 0.6133...   \n",
       "9           14  0.000011  KA - ((log((mB * 1.6304604) + 0.99842536) * (K...   \n",
       "10          15  0.000010  KA - ((KB - KA) * (mA + ((-6.626319e-5 / (0.20...   \n",
       "11          16  0.000008  (((sqrt(mA) * mA) + (6.400207e-5 / (KA - 0.209...   \n",
       "12          17  0.000007  (mA * ((KA - KB) * abs((0.00010162177 / (KA - ...   \n",
       "13          19  0.000007  KB + ((mA * ((KA + -0.0003239217) - KB)) * abs...   \n",
       "14          21  0.000007  KA - ((((((KA - 0.21017282) / 1.7637879) * (mA...   \n",
       "15          23  0.000006  ((KA - KB) * abs((mA * (sqrt(mA) + (0.00010134...   \n",
       "16          24  0.000006  KB + (((mA * abs(sqrt(mA) + (0.0001013226 / (K...   \n",
       "17          25  0.000006  ((-0.00030656243 - (KB - KA)) * abs((-0.000164...   \n",
       "18          26  0.000006  KB + ((-0.00036347457 - (KB - KA)) * (abs(-0.0...   \n",
       "19          27  0.000006  KA - ((0.99086624 + (((0.06955903 / (-0.183256...   \n",
       "20          29  0.000006  KA - (((KA - KB) * (((KA - 0.21017282) * (((0....   \n",
       "21          31  0.000006  KA - ((((mA * ((0.5914169 / (KA - 0.20905314))...   \n",
       "22          33  0.000006  KA - (((((KA - 0.21021429) * mA) * ((0.5547303...   \n",
       "23          35  0.000006  KA - (((0.99542445 + (mA * (((0.5537447 / (KA ...   \n",
       "24          36  0.000006  KA - (mB * ((0.9955383 + (mA * (((0.55308414 /...   \n",
       "25          37  0.000006  KA - (((mA * ((KA - 0.2102387) * ((((mA / (KA ...   \n",
       "26          39  0.000006  KA - ((KA - KB) * ((((KA - 0.21026164) * (((0....   \n",
       "27          40  0.000006  KA - ((KA - KB) * (((((KA - 0.21026164) * ((0....   \n",
       "\n",
       "           score                                       sympy_format  \\\n",
       "0   0.000000e+00                                                 KB   \n",
       "1   2.282955e-01                                1.07386286513485*KB   \n",
       "2   4.666669e-01                                        sqrt(KA*KB)   \n",
       "3   4.990314e-03                       sqrt(KA*(KB - 0.0018817218))   \n",
       "4   1.886381e+00                                 KA + mB*(-KA + KB)   \n",
       "5   1.065685e-01                  KA - (KA - KB)*(mB + 0.058679853)   \n",
       "6   4.039084e-02                           KB + mA**(3/2)*(KA - KB)   \n",
       "7   1.450456e-02                KB - mA*(-KA + KB + 0.011559093*mB)   \n",
       "8   1.073147e-01  KA - (KA - KB)*log(1.6532625*mB + 1.014065587455)   \n",
       "9   6.104769e-03  KA - (KA - KB)*log(1.6304604*mB + 0.99842536) ...   \n",
       "10  1.249214e-01  KA - (-KA + KB)*(mA - 1.0787884 - 6.626319e-5/...   \n",
       "11  1.227145e-01  KB + (KA - KB)*(mA**(3/2) + 6.400207e-5/(KA - ...   \n",
       "12  2.141751e-01  KB + mA*(KA - KB)*Abs(sqrt(mA) + 0.00010162177...   \n",
       "13  2.178190e-03  KB + mA*(KA - KB - 0.0003239217)*Abs(sqrt(mA) ...   \n",
       "14  7.338154e-03  KA - mB*(KA - KB)*(0.566961594418467*mA*(KA - ...   \n",
       "15  1.458654e-02  KB + (KA - KB)*Abs(mA*(sqrt(mA) + 0.0001013414...   \n",
       "16  2.127176e-03  KB + (KA - KB)*(mA*Abs(sqrt(mA) + 0.0001013226...   \n",
       "17  2.296860e-03  KB + (KA - KB - 0.00030656243)*Abs(mA*(sqrt(mA...   \n",
       "18  3.721155e-03  KB + (mA*Abs(sqrt(mA) + 0.00010132736/(KA - 0....   \n",
       "19  8.057524e-03  KA - mB*(KA - KB)*(mA*(KA - 0.21026175)*(0.069...   \n",
       "20  1.435037e-02  KA - mB*(KA - KB)*(mA*(KA - 0.21017282)*(-0.04...   \n",
       "21  1.369931e-02  KA - mB*(KA - KB)*(mA*(KA - 0.21017274)*(-0.10...   \n",
       "22  4.658380e-03  KA - mB*(KA - KB)*(mA*(KA - 0.21021429)*(-mA*(...   \n",
       "23  4.006681e-03  KA - mB*(KA - KB)*(mA*(KA - 0.21021429)*(-mA**...   \n",
       "24  8.031496e-04  KA - mB*(KA - KB)*(mA*(KA - 0.21021429)*(-(4.9...   \n",
       "25  1.928170e-02  KA - mB*(KA - KB)*(mA*(KA - 0.2102387)*(-0.105...   \n",
       "26  3.131705e-03  KA - mB*(KA - KB)*(mA*(KA - 0.21026164)*(0.174...   \n",
       "27  1.040800e-07  KA - mB*(KA - KB)*(mA*(KA - 0.21026164)*(0.174...   \n",
       "\n",
       "                                        lambda_format  \n",
       "0                                 PySRFunction(X=>KB)  \n",
       "1                PySRFunction(X=>1.07386286513485*KB)  \n",
       "2                        PySRFunction(X=>sqrt(KA*KB))  \n",
       "3       PySRFunction(X=>sqrt(KA*(KB - 0.0018817218)))  \n",
       "4                 PySRFunction(X=>KA + mB*(-KA + KB))  \n",
       "5   PySRFunction(X=>KA - (KA - KB)*(mB + 0.0586798...  \n",
       "6           PySRFunction(X=>KB + mA**(3/2)*(KA - KB))  \n",
       "7   PySRFunction(X=>KB - mA*(-KA + KB + 0.01155909...  \n",
       "8   PySRFunction(X=>KA - (KA - KB)*log(1.6532625*m...  \n",
       "9   PySRFunction(X=>KA - (KA - KB)*log(1.6304604*m...  \n",
       "10  PySRFunction(X=>KA - (-KA + KB)*(mA - 1.078788...  \n",
       "11  PySRFunction(X=>KB + (KA - KB)*(mA**(3/2) + 6....  \n",
       "12  PySRFunction(X=>KB + mA*(KA - KB)*Abs(sqrt(mA)...  \n",
       "13  PySRFunction(X=>KB + mA*(KA - KB - 0.000323921...  \n",
       "14  PySRFunction(X=>KA - mB*(KA - KB)*(0.566961594...  \n",
       "15  PySRFunction(X=>KB + (KA - KB)*Abs(mA*(sqrt(mA...  \n",
       "16  PySRFunction(X=>KB + (KA - KB)*(mA*Abs(sqrt(mA...  \n",
       "17  PySRFunction(X=>KB + (KA - KB - 0.00030656243)...  \n",
       "18  PySRFunction(X=>KB + (mA*Abs(sqrt(mA) + 0.0001...  \n",
       "19  PySRFunction(X=>KA - mB*(KA - KB)*(mA*(KA - 0....  \n",
       "20  PySRFunction(X=>KA - mB*(KA - KB)*(mA*(KA - 0....  \n",
       "21  PySRFunction(X=>KA - mB*(KA - KB)*(mA*(KA - 0....  \n",
       "22  PySRFunction(X=>KA - mB*(KA - KB)*(mA*(KA - 0....  \n",
       "23  PySRFunction(X=>KA - mB*(KA - KB)*(mA*(KA - 0....  \n",
       "24  PySRFunction(X=>KA - mB*(KA - KB)*(mA*(KA - 0....  \n",
       "25  PySRFunction(X=>KA - mB*(KA - KB)*(mA*(KA - 0....  \n",
       "26  PySRFunction(X=>KA - mB*(KA - KB)*(mA*(KA - 0....  \n",
       "27  PySRFunction(X=>KA - mB*(KA - KB)*(mA*(KA - 0....  "
      ]
     },
     "execution_count": 1392,
     "metadata": {},
     "output_type": "execute_result"
    }
   ],
   "source": [
    "with open('../linux_outputs/10K/20250506_095737_xWpjxU/checkpoint.pkl', 'rb') as f:\n",
    "     checkpoint = pickle.load(f)\n",
    "\n",
    "equations_df = checkpoint.equations_\n",
    "equations_df"
   ]
  },
  {
   "cell_type": "code",
   "execution_count": 1393,
   "id": "9aa1b1a8",
   "metadata": {},
   "outputs": [],
   "source": [
    "# results = []\n",
    "\n",
    "# for i, row in equations_df.iterrows():\n",
    "#     try:\n",
    "#         # Parse the sympy expression\n",
    "#         expr = sp.sympify(row['sympy_format'])\n",
    "\n",
    "#         # Extract all the symbols used in the equation\n",
    "#         variables = sorted(expr.free_symbols, key=lambda s: str(s))  # keep it deterministic\n",
    "\n",
    "#         # Convert sympy expression into a NumPy-compatible function\n",
    "#         f_lambdified = sp.lambdify(variables, expr, modules='numpy')\n",
    "\n",
    "#         # Prepare inputs: for each variable, get its column values from X_test\n",
    "#         input_arrays = [df_new[str(var)].values for var in variables]\n",
    "\n",
    "#         # Evaluate the expression\n",
    "#         y_pred = f_lambdified(*input_arrays)\n",
    "#         y_pred = np.asarray(y_pred).flatten()\n",
    "\n",
    "#         # Compute metrics\n",
    "#         rmse = np.sqrt(mean_squared_error(y_true, y_pred))\n",
    "#         r2 = r2_score(y_true, y_pred)\n",
    "\n",
    "#         results.append({\n",
    "#             'equation': str(expr),\n",
    "#             'rmse': rmse,\n",
    "#             'r2': r2,\n",
    "#             'loss': row.get('loss', None),\n",
    "#             'complexity': row.get('complexity', None)\n",
    "#         })\n",
    "\n",
    "#     except Exception as e:\n",
    "#         print(f\"Error evaluating equation {i}: {e}\")"
   ]
  },
  {
   "cell_type": "code",
   "execution_count": 1394,
   "id": "10f6debc",
   "metadata": {},
   "outputs": [],
   "source": [
    "# results_df = pd.DataFrame(results)\n",
    "# results_df.sort_values(by='rmse', inplace=True)  # or by 'r2' descending\n",
    "# results_df"
   ]
  },
  {
   "cell_type": "code",
   "execution_count": 1395,
   "id": "b56ba590",
   "metadata": {},
   "outputs": [],
   "source": [
    "df_new1 = df_new.copy()"
   ]
  },
  {
   "cell_type": "code",
   "execution_count": 1396,
   "id": "34c31101",
   "metadata": {},
   "outputs": [],
   "source": [
    "# # Apply to test set of SDB1 instead of whole DB\n",
    "# with open('../data/X_test_all_2.pkl', 'rb') as f:\n",
    "#     df_new1 = pickle.load(f)\n",
    "# with open('../data/y_test_all_2.pkl', 'rb') as f:\n",
    "#     y_true = pickle.load(f)"
   ]
  },
  {
   "cell_type": "code",
   "execution_count": 1397,
   "id": "c4debb58",
   "metadata": {},
   "outputs": [
    {
     "name": "stdout",
     "output_type": "stream",
     "text": [
      "Error evaluating equation 18 in batch 1: 'Tr_A'\n",
      "Error evaluating equation 19 in batch 1: 'Tr_A'\n",
      "Error evaluating equation 20 in batch 1: 'Tr_A'\n",
      "Error evaluating equation 21 in batch 1: 'Tr_A'\n",
      "Error evaluating equation 22 in batch 1: 'Tr_A'\n",
      "Error evaluating equation 23 in batch 1: 'Tr_A'\n",
      "Error evaluating equation 24 in batch 1: 'Tr_A'\n",
      "Error evaluating equation 25 in batch 1: 'Tr_A'\n",
      "Error evaluating equation 26 in batch 1: 'Tr_A'\n",
      "Error evaluating equation 20 in batch 2: 'Tr_B'\n",
      "Error evaluating equation 21 in batch 2: 'Tr_B'\n",
      "Error evaluating equation 22 in batch 2: 'Tr_B'\n",
      "Error evaluating equation 23 in batch 2: 'Tr_B'\n",
      "Error evaluating equation 24 in batch 2: 'Tr_B'\n",
      "Error evaluating equation 25 in batch 2: 'Tr_B'\n",
      "Error swapping Tr values in batch 3: \"None of [Index(['Tr_B', 'Tr_A'], dtype='object')] are in the [columns]\"\n",
      "Error evaluating equation 13 in batch 3: 'Tr_B'\n",
      "Error evaluating equation 14 in batch 3: 'Tr_B'\n",
      "Error evaluating equation 15 in batch 3: 'Tr_A'\n",
      "Error evaluating equation 16 in batch 3: 'Tr_A'\n",
      "Error evaluating equation 17 in batch 3: 'Tr_A'\n",
      "Error evaluating equation 18 in batch 3: 'Tr_A'\n",
      "Error evaluating equation 19 in batch 3: 'Tr_A'\n",
      "Error evaluating equation 20 in batch 3: 'Tr_A'\n",
      "Error evaluating equation 21 in batch 3: 'Tr_A'\n",
      "Error evaluating equation 22 in batch 3: 'Tr_A'\n",
      "Error evaluating equation 23 in batch 3: 'Tr_A'\n",
      "Error evaluating equation 24 in batch 3: 'Tr_A'\n",
      "Error evaluating equation 25 in batch 3: 'Tr_A'\n",
      "Error evaluating equation 26 in batch 3: 'Tr_A'\n",
      "Error evaluating equation 21 in batch 4: 'Tr_B'\n",
      "Error evaluating equation 9 in batch 5: 'Tr_B'\n",
      "Error evaluating equation 10 in batch 5: 'Tr_B'\n",
      "Error evaluating equation 11 in batch 5: 'Tr_B'\n",
      "Error evaluating equation 12 in batch 5: 'Tr_A'\n",
      "Error evaluating equation 13 in batch 5: 'Tr_A'\n",
      "Error evaluating equation 14 in batch 5: 'Tr_A'\n",
      "Error evaluating equation 15 in batch 5: 'Tr_A'\n",
      "Error evaluating equation 16 in batch 5: 'Tr_A'\n",
      "Error evaluating equation 17 in batch 5: 'Tr_A'\n",
      "Error evaluating equation 18 in batch 5: 'Tr_A'\n",
      "Error evaluating equation 19 in batch 5: 'Tr_A'\n",
      "Error evaluating equation 20 in batch 5: 'Tr_A'\n",
      "Error evaluating equation 21 in batch 5: 'Tr_A'\n",
      "Error evaluating equation 22 in batch 5: 'Tr_A'\n",
      "Error evaluating equation 23 in batch 5: 'Tr_A'\n",
      "Error evaluating equation 24 in batch 5: 'Tr_A'\n",
      "Error evaluating equation 25 in batch 5: 'Tr_A'\n",
      "Error evaluating equation 9 in batch 6: 'Tr_B'\n",
      "Error evaluating equation 10 in batch 6: 'Tr_B'\n",
      "Error evaluating equation 11 in batch 6: 'Tr_B'\n",
      "Error evaluating equation 12 in batch 6: 'Tr_A'\n",
      "Error evaluating equation 13 in batch 6: 'Tr_A'\n",
      "Error evaluating equation 14 in batch 6: 'Tr_A'\n",
      "Error evaluating equation 15 in batch 6: 'Tr_A'\n",
      "Error evaluating equation 16 in batch 6: 'Tr_A'\n",
      "Error evaluating equation 17 in batch 6: 'Tr_A'\n",
      "Error evaluating equation 18 in batch 6: 'Tr_A'\n",
      "Error evaluating equation 19 in batch 6: 'Tr_A'\n",
      "Error evaluating equation 20 in batch 6: 'Tr_A'\n",
      "Error evaluating equation 21 in batch 6: 'Tr_A'\n",
      "Error evaluating equation 22 in batch 6: 'Tr_A'\n",
      "Error evaluating equation 23 in batch 6: 'Tr_A'\n",
      "Error evaluating equation 24 in batch 6: 'Tr_A'\n",
      "Error evaluating equation 25 in batch 6: 'Tr_A'\n",
      "Error evaluating equation 18 in batch 7: 'Tr_B'\n",
      "Error evaluating equation 19 in batch 7: 'Tr_B'\n",
      "Error evaluating equation 20 in batch 7: 'Tr_B'\n",
      "Error evaluating equation 21 in batch 7: 'Tr_B'\n",
      "Error evaluating equation 22 in batch 7: 'Tr_B'\n",
      "Error evaluating equation 23 in batch 7: 'Tr_B'\n",
      "Error evaluating equation 24 in batch 7: 'Tr_B'\n",
      "Error evaluating equation 25 in batch 7: 'Tr_B'\n",
      "Error evaluating equation 18 in batch 8: 'Tr_B'\n",
      "Error evaluating equation 21 in batch 8: 'Tr_B'\n",
      "Error evaluating equation 23 in batch 8: 'Tr_B'\n",
      "Error evaluating equation 24 in batch 8: 'Tr_B'\n",
      "Error swapping Tr values in batch 9: \"None of [Index(['Tr_B', 'Tr_A'], dtype='object')] are in the [columns]\"\n",
      "Error evaluating equation 13 in batch 9: 'Tr_B'\n",
      "Error evaluating equation 14 in batch 9: 'Tr_B'\n",
      "Error evaluating equation 15 in batch 9: 'Tr_A'\n",
      "Error evaluating equation 16 in batch 9: 'Tr_A'\n",
      "Error evaluating equation 17 in batch 9: 'Tr_A'\n",
      "Error evaluating equation 18 in batch 9: 'Tr_A'\n",
      "Error evaluating equation 19 in batch 9: 'Tr_A'\n",
      "Error evaluating equation 20 in batch 9: 'Tr_A'\n",
      "Error evaluating equation 21 in batch 9: 'Tr_A'\n",
      "Error evaluating equation 22 in batch 9: 'Tr_A'\n",
      "Error evaluating equation 23 in batch 9: 'Tr_A'\n",
      "Error evaluating equation 24 in batch 9: 'Tr_A'\n",
      "Error evaluating equation 25 in batch 9: 'Tr_A'\n",
      "Error evaluating equation 26 in batch 9: 'Tr_A'\n",
      "Error evaluating equation 27 in batch 9: 'Tr_A'\n",
      "Error evaluating equation 28 in batch 9: 'Tr_A'\n",
      "Error evaluating equation 29 in batch 9: 'Tr_A'\n",
      "Error evaluating equation 30 in batch 9: 'Tr_A'\n",
      "Error swapping Tr values in batch 10: \"None of [Index(['Tr_B', 'Tr_A'], dtype='object')] are in the [columns]\"\n",
      "Error evaluating equation 13 in batch 10: 'Tr_B'\n",
      "Error evaluating equation 17 in batch 10: 'Tr_B'\n",
      "Error evaluating equation 18 in batch 10: 'Tr_B'\n",
      "Error evaluating equation 19 in batch 10: 'Tr_B'\n",
      "Error evaluating equation 20 in batch 10: 'Tr_B'\n",
      "Error evaluating equation 21 in batch 10: 'Tr_B'\n",
      "Error evaluating equation 22 in batch 10: 'Tr_B'\n",
      "Error evaluating equation 23 in batch 10: 'Tr_A'\n",
      "Error evaluating equation 24 in batch 10: 'Tr_B'\n",
      "Error evaluating equation 25 in batch 10: 'Tr_B'\n",
      "Error evaluating equation 26 in batch 10: 'Tr_B'\n",
      "Error evaluating equation 27 in batch 10: 'Tr_A'\n",
      "Error evaluating equation 28 in batch 10: 'Tr_A'\n",
      "Error evaluating equation 8 in batch 11: 'Tr_A'\n",
      "Error evaluating equation 10 in batch 11: 'Tr_B'\n",
      "Error evaluating equation 12 in batch 11: 'Tr_B'\n",
      "Error evaluating equation 13 in batch 11: 'Tr_B'\n",
      "Error evaluating equation 14 in batch 11: 'Tr_B'\n",
      "Error evaluating equation 15 in batch 11: 'Tr_B'\n",
      "Error evaluating equation 16 in batch 11: 'Tr_A'\n",
      "Error evaluating equation 17 in batch 11: 'Tr_A'\n",
      "Error evaluating equation 18 in batch 11: 'Tr_A'\n",
      "Error evaluating equation 19 in batch 11: 'Tr_A'\n",
      "Error evaluating equation 19 in batch 12: 'Tr_B'\n",
      "Error evaluating equation 20 in batch 12: 'Tr_A'\n",
      "Error evaluating equation 21 in batch 12: 'Tr_A'\n",
      "Error evaluating equation 22 in batch 12: 'Tr_A'\n",
      "Error evaluating equation 23 in batch 12: 'Tr_A'\n",
      "Error evaluating equation 24 in batch 12: 'Tr_A'\n",
      "Error swapping Tr values in batch 15: \"None of [Index(['Tr_B', 'Tr_A'], dtype='object')] are in the [columns]\"\n",
      "Error evaluating equation 14 in batch 17: 'Tr_B'\n",
      "Error evaluating equation 16 in batch 17: 'Tr_A'\n",
      "Error evaluating equation 17 in batch 17: 'Tr_A'\n",
      "Error evaluating equation 18 in batch 17: 'Tr_A'\n",
      "Error evaluating equation 19 in batch 17: 'Tr_A'\n",
      "Error evaluating equation 20 in batch 17: 'Tr_A'\n",
      "Error evaluating equation 21 in batch 17: 'Tr_A'\n",
      "Error evaluating equation 22 in batch 17: 'Tr_A'\n",
      "Error evaluating equation 18 in batch 18: 'Tr_A'\n",
      "Error evaluating equation 19 in batch 18: 'Tr_A'\n",
      "Error evaluating equation 20 in batch 18: 'Tr_A'\n",
      "Error evaluating equation 21 in batch 18: 'Tr_A'\n",
      "Error evaluating equation 22 in batch 18: 'Tr_A'\n",
      "Error evaluating equation 23 in batch 18: 'Tr_A'\n",
      "Error evaluating equation 24 in batch 18: 'Tr_A'\n",
      "Error evaluating equation 25 in batch 18: 'Tr_A'\n",
      "Error evaluating equation 17 in batch 19: 'Tr_A'\n",
      "Error evaluating equation 18 in batch 19: 'Tr_A'\n",
      "Error evaluating equation 19 in batch 19: 'Tr_A'\n",
      "Error evaluating equation 20 in batch 19: 'Tr_A'\n",
      "Error evaluating equation 21 in batch 19: 'Tr_A'\n",
      "Error evaluating equation 22 in batch 19: 'Tr_A'\n",
      "Error evaluating equation 23 in batch 19: 'Tr_A'\n",
      "Error evaluating equation 24 in batch 19: 'Tr_A'\n",
      "Error evaluating equation 18 in batch 20: 'Tr_A'\n",
      "Error evaluating equation 19 in batch 20: 'Tr_A'\n",
      "Error evaluating equation 20 in batch 20: 'Tr_A'\n",
      "Error evaluating equation 21 in batch 20: 'Tr_A'\n",
      "Error evaluating equation 22 in batch 20: 'Tr_A'\n",
      "Error evaluating equation 23 in batch 20: 'Tr_A'\n",
      "Error evaluating equation 24 in batch 20: 'Tr_A'\n",
      "Error swapping Tr values in batch 22: \"None of [Index(['Tr_B', 'Tr_A'], dtype='object')] are in the [columns]\"\n"
     ]
    }
   ],
   "source": [
    "# Root path to folders\n",
    "base_path = '../linux_outputs/10K'\n",
    "\n",
    "# Get folder paths\n",
    "folder_paths = sorted([\n",
    "    os.path.join(base_path, f).replace('\\\\', '/')\n",
    "    for f in os.listdir(base_path)\n",
    "    if os.path.isdir(os.path.join(base_path, f))\n",
    "])\n",
    "\n",
    "# Batches where KB > KA swap is needed\n",
    "swap_batches = {3, 9, 10, 15, 22}\n",
    "\n",
    "all_results = []\n",
    "\n",
    "for batch_num, folder in enumerate(folder_paths, start=1):\n",
    "    checkpoint_path = os.path.join(folder, 'checkpoint.pkl')\n",
    "\n",
    "    if not os.path.exists(checkpoint_path):\n",
    "        print(f\"Checkpoint not found in {folder}, skipping.\")\n",
    "        continue\n",
    "\n",
    "    try:\n",
    "        with open(checkpoint_path, 'rb') as f:\n",
    "            model = pickle.load(f)\n",
    "        equations_df = model.equations_\n",
    "\n",
    "        # Make a copy of the input data\n",
    "        df_new = df_new1.copy() #Change to df_new1 if using test set\n",
    "\n",
    "        # Apply swapping conditionally\n",
    "        if batch_num in swap_batches:\n",
    "            swap_mask = df_new['KB'] > df_new['KA']\n",
    "            df_new.loc[swap_mask, ['KA', 'KB']] = df_new.loc[swap_mask, ['KB', 'KA']].values\n",
    "            df_new.loc[swap_mask, ['mA', 'mB']] = df_new.loc[swap_mask, ['mB', 'mA']].values\n",
    "            try:\n",
    "                df_new.loc[swap_mask, ['Tr_A', 'Tr_B']] = df_new.loc[swap_mask, ['Tr_B', 'Tr_A']].values\n",
    "            \n",
    "            except Exception as e:\n",
    "                print(f\"Error swapping Tr values in batch {batch_num}: {e}\")\n",
    "\n",
    "        for i, row in equations_df.iterrows():\n",
    "            try:\n",
    "                expr = sp.sympify(row['sympy_format'])\n",
    "                variables = sorted(expr.free_symbols, key=lambda s: str(s))\n",
    "                f_lambdified = sp.lambdify(variables, expr, modules='numpy')\n",
    "                input_arrays = [df_new[str(var)].values for var in variables]\n",
    "                y_pred = np.asarray(f_lambdified(*input_arrays)).flatten()\n",
    "\n",
    "                r2 = r2_score(y_true, y_pred)\n",
    "                rmse = np.sqrt(mean_squared_error(y_true, y_pred))\n",
    "                mae = np.mean(np.abs(y_true - y_pred))\n",
    "                dev = np.mean(np.abs((y_true - y_pred) / y_true)) * 100\n",
    "\n",
    "                all_results.append({\n",
    "                    'batch': batch_num,\n",
    "                    'equation': str(expr),\n",
    "                    'r2': r2,\n",
    "                    'rmse': rmse,\n",
    "                    'mae': mae,\n",
    "                    'deviation': dev,\n",
    "                    'complexity': row.get('complexity', None),\n",
    "                    'loss': row.get('loss', None),\n",
    "                    'folder': folder\n",
    "                })\n",
    "\n",
    "            except Exception as e:\n",
    "                print(f\"Error evaluating equation {i} in batch {batch_num}: {e}\")\n",
    "\n",
    "    except Exception as e:\n",
    "        print(f\"Error loading checkpoint from {folder}: {e}\")\n"
   ]
  },
  {
   "cell_type": "code",
   "execution_count": 1398,
   "id": "3f112939",
   "metadata": {},
   "outputs": [
    {
     "data": {
      "text/html": [
       "<div>\n",
       "<style scoped>\n",
       "    .dataframe tbody tr th:only-of-type {\n",
       "        vertical-align: middle;\n",
       "    }\n",
       "\n",
       "    .dataframe tbody tr th {\n",
       "        vertical-align: top;\n",
       "    }\n",
       "\n",
       "    .dataframe thead th {\n",
       "        text-align: right;\n",
       "    }\n",
       "</style>\n",
       "<table border=\"1\" class=\"dataframe\">\n",
       "  <thead>\n",
       "    <tr style=\"text-align: right;\">\n",
       "      <th></th>\n",
       "      <th>batch</th>\n",
       "      <th>equation</th>\n",
       "      <th>r2</th>\n",
       "      <th>rmse</th>\n",
       "      <th>mae</th>\n",
       "      <th>deviation</th>\n",
       "      <th>complexity</th>\n",
       "      <th>loss</th>\n",
       "      <th>folder</th>\n",
       "    </tr>\n",
       "  </thead>\n",
       "  <tbody>\n",
       "    <tr>\n",
       "      <th>47</th>\n",
       "      <td>3</td>\n",
       "      <td>KB + mA*(KA - KB)/(mA*mB + 1.0079758)</td>\n",
       "      <td>0.903498</td>\n",
       "      <td>0.006612</td>\n",
       "      <td>0.005091</td>\n",
       "      <td>3.662638</td>\n",
       "      <td>13</td>\n",
       "      <td>0.000011</td>\n",
       "      <td>../linux_outputs/10K/20250407_125503_3SEVTh</td>\n",
       "    </tr>\n",
       "    <tr>\n",
       "      <th>153</th>\n",
       "      <td>10</td>\n",
       "      <td>KB - mA*(-KA + KB)/(mA*mB + 1.0079758)</td>\n",
       "      <td>0.903498</td>\n",
       "      <td>0.006612</td>\n",
       "      <td>0.005091</td>\n",
       "      <td>3.662638</td>\n",
       "      <td>13</td>\n",
       "      <td>0.000011</td>\n",
       "      <td>../linux_outputs/10K/20250409_105247_yk2cuk</td>\n",
       "    </tr>\n",
       "    <tr>\n",
       "      <th>257</th>\n",
       "      <td>15</td>\n",
       "      <td>KB + mA*(KA - KB)/(mA*mB + 1.007997)</td>\n",
       "      <td>0.903497</td>\n",
       "      <td>0.006612</td>\n",
       "      <td>0.005091</td>\n",
       "      <td>3.662642</td>\n",
       "      <td>13</td>\n",
       "      <td>0.000011</td>\n",
       "      <td>../linux_outputs/10K/20250411_131629_9zMX4d</td>\n",
       "    </tr>\n",
       "    <tr>\n",
       "      <th>140</th>\n",
       "      <td>9</td>\n",
       "      <td>KB - mA*(-KA + KB)/(mA*mB + 1.0079983)</td>\n",
       "      <td>0.903497</td>\n",
       "      <td>0.006612</td>\n",
       "      <td>0.005091</td>\n",
       "      <td>3.662643</td>\n",
       "      <td>13</td>\n",
       "      <td>0.000011</td>\n",
       "      <td>../linux_outputs/10K/20250409_095336_s1iQOw</td>\n",
       "    </tr>\n",
       "    <tr>\n",
       "      <th>149</th>\n",
       "      <td>10</td>\n",
       "      <td>KA/(KA*mB/KB + mA)</td>\n",
       "      <td>0.903364</td>\n",
       "      <td>0.006616</td>\n",
       "      <td>0.005059</td>\n",
       "      <td>3.636136</td>\n",
       "      <td>9</td>\n",
       "      <td>0.000012</td>\n",
       "      <td>../linux_outputs/10K/20250409_105247_yk2cuk</td>\n",
       "    </tr>\n",
       "    <tr>\n",
       "      <th>...</th>\n",
       "      <td>...</td>\n",
       "      <td>...</td>\n",
       "      <td>...</td>\n",
       "      <td>...</td>\n",
       "      <td>...</td>\n",
       "      <td>...</td>\n",
       "      <td>...</td>\n",
       "      <td>...</td>\n",
       "      <td>...</td>\n",
       "    </tr>\n",
       "    <tr>\n",
       "      <th>171</th>\n",
       "      <td>12</td>\n",
       "      <td>0.977524464260386*KA</td>\n",
       "      <td>0.345978</td>\n",
       "      <td>0.017213</td>\n",
       "      <td>0.013313</td>\n",
       "      <td>9.292859</td>\n",
       "      <td>3</td>\n",
       "      <td>0.000320</td>\n",
       "      <td>../linux_outputs/10K/20250409_120816_1fthha</td>\n",
       "    </tr>\n",
       "    <tr>\n",
       "      <th>312</th>\n",
       "      <td>17</td>\n",
       "      <td>14.709015*KB + KB/(mB + KB*mA/KA) + 14.709015*...</td>\n",
       "      <td>-0.004990</td>\n",
       "      <td>0.021337</td>\n",
       "      <td>0.005629</td>\n",
       "      <td>3.988305</td>\n",
       "      <td>20</td>\n",
       "      <td>0.000009</td>\n",
       "      <td>../linux_outputs/10K/20250430_161345_EP8N1d</td>\n",
       "    </tr>\n",
       "    <tr>\n",
       "      <th>199</th>\n",
       "      <td>13</td>\n",
       "      <td>-0.00037787252*mA*mB/Abs(KB - 0.18482287) + mA...</td>\n",
       "      <td>-1.067342</td>\n",
       "      <td>0.030602</td>\n",
       "      <td>0.006473</td>\n",
       "      <td>4.541933</td>\n",
       "      <td>14</td>\n",
       "      <td>0.000011</td>\n",
       "      <td>../linux_outputs/10K/20250410_100349_cCxrnR</td>\n",
       "    </tr>\n",
       "    <tr>\n",
       "      <th>209</th>\n",
       "      <td>13</td>\n",
       "      <td>mAKA + mBKB/(1.0037167 + 0.51716346*Abs(mA*(KA...</td>\n",
       "      <td>-17.033903</td>\n",
       "      <td>0.090384</td>\n",
       "      <td>0.007112</td>\n",
       "      <td>5.267588</td>\n",
       "      <td>28</td>\n",
       "      <td>0.000006</td>\n",
       "      <td>../linux_outputs/10K/20250410_100349_cCxrnR</td>\n",
       "    </tr>\n",
       "    <tr>\n",
       "      <th>299</th>\n",
       "      <td>16</td>\n",
       "      <td>KB*mB + mA*(KA - mB*(KA + KB - 0.3878954)*(KA ...</td>\n",
       "      <td>-8064.688412</td>\n",
       "      <td>1.911478</td>\n",
       "      <td>0.083222</td>\n",
       "      <td>47.292959</td>\n",
       "      <td>40</td>\n",
       "      <td>0.000008</td>\n",
       "      <td>../linux_outputs/10K/20250411_172421_Y9VWr1</td>\n",
       "    </tr>\n",
       "  </tbody>\n",
       "</table>\n",
       "<p>420 rows × 9 columns</p>\n",
       "</div>"
      ],
      "text/plain": [
       "     batch                                           equation           r2  \\\n",
       "47       3              KB + mA*(KA - KB)/(mA*mB + 1.0079758)     0.903498   \n",
       "153     10             KB - mA*(-KA + KB)/(mA*mB + 1.0079758)     0.903498   \n",
       "257     15               KB + mA*(KA - KB)/(mA*mB + 1.007997)     0.903497   \n",
       "140      9             KB - mA*(-KA + KB)/(mA*mB + 1.0079983)     0.903497   \n",
       "149     10                                 KA/(KA*mB/KB + mA)     0.903364   \n",
       "..     ...                                                ...          ...   \n",
       "171     12                               0.977524464260386*KA     0.345978   \n",
       "312     17  14.709015*KB + KB/(mB + KB*mA/KA) + 14.709015*...    -0.004990   \n",
       "199     13  -0.00037787252*mA*mB/Abs(KB - 0.18482287) + mA...    -1.067342   \n",
       "209     13  mAKA + mBKB/(1.0037167 + 0.51716346*Abs(mA*(KA...   -17.033903   \n",
       "299     16  KB*mB + mA*(KA - mB*(KA + KB - 0.3878954)*(KA ... -8064.688412   \n",
       "\n",
       "         rmse       mae  deviation  complexity      loss  \\\n",
       "47   0.006612  0.005091   3.662638          13  0.000011   \n",
       "153  0.006612  0.005091   3.662638          13  0.000011   \n",
       "257  0.006612  0.005091   3.662642          13  0.000011   \n",
       "140  0.006612  0.005091   3.662643          13  0.000011   \n",
       "149  0.006616  0.005059   3.636136           9  0.000012   \n",
       "..        ...       ...        ...         ...       ...   \n",
       "171  0.017213  0.013313   9.292859           3  0.000320   \n",
       "312  0.021337  0.005629   3.988305          20  0.000009   \n",
       "199  0.030602  0.006473   4.541933          14  0.000011   \n",
       "209  0.090384  0.007112   5.267588          28  0.000006   \n",
       "299  1.911478  0.083222  47.292959          40  0.000008   \n",
       "\n",
       "                                          folder  \n",
       "47   ../linux_outputs/10K/20250407_125503_3SEVTh  \n",
       "153  ../linux_outputs/10K/20250409_105247_yk2cuk  \n",
       "257  ../linux_outputs/10K/20250411_131629_9zMX4d  \n",
       "140  ../linux_outputs/10K/20250409_095336_s1iQOw  \n",
       "149  ../linux_outputs/10K/20250409_105247_yk2cuk  \n",
       "..                                           ...  \n",
       "171  ../linux_outputs/10K/20250409_120816_1fthha  \n",
       "312  ../linux_outputs/10K/20250430_161345_EP8N1d  \n",
       "199  ../linux_outputs/10K/20250410_100349_cCxrnR  \n",
       "209  ../linux_outputs/10K/20250410_100349_cCxrnR  \n",
       "299  ../linux_outputs/10K/20250411_172421_Y9VWr1  \n",
       "\n",
       "[420 rows x 9 columns]"
      ]
     },
     "execution_count": 1398,
     "metadata": {},
     "output_type": "execute_result"
    }
   ],
   "source": [
    "results_df = pd.DataFrame(all_results)\n",
    "results_df.sort_values(by=['rmse'], inplace=True)\n",
    "results_df"
   ]
  },
  {
   "cell_type": "code",
   "execution_count": 1399,
   "id": "fb0249bf",
   "metadata": {},
   "outputs": [],
   "source": [
    "results_df.to_excel(output2, index=False)"
   ]
  },
  {
   "cell_type": "markdown",
   "id": "e46b7877",
   "metadata": {},
   "source": [
    "3-comp and 4-comp"
   ]
  },
  {
   "cell_type": "code",
   "execution_count": 129,
   "id": "6479762f",
   "metadata": {},
   "outputs": [
    {
     "name": "stdout",
     "output_type": "stream",
     "text": [
      "R2_QSPR: 0.93852890840793\n",
      "RMSE_QSPR: 0.0048179064475474785\n",
      "MAE_QSPR: 0.004169187894508057\n"
     ]
    }
   ],
   "source": [
    "df3 = pd.read_excel('../report/results.xlsx', sheet_name=1)\n",
    "df3\n",
    "print('R2_QSPR:', r2_score(df3['K_real'], df3['K_pred_QSPR+SR']))\n",
    "print('RMSE_QSPR:', np.sqrt(mean_squared_error(df3['K_real'], df3['K_pred_QSPR+SR'])))\n",
    "print('MAE_QSPR:', np.mean(np.abs(df3['K_real'] - df3['K_pred_QSPR+SR'])))"
   ]
  },
  {
   "cell_type": "code",
   "execution_count": 130,
   "id": "e3673089",
   "metadata": {},
   "outputs": [
    {
     "data": {
      "image/png": "[encoded data removed]",
      "text/plain": [
       "<Figure size 800x600 with 1 Axes>"
      ]
     },
     "metadata": {},
     "output_type": "display_data"
    }
   ],
   "source": [
    "# Draw parity plot with trendline\n",
    "plt.figure(figsize=(8, 6))\n",
    "plt.scatter(df3['K_real'], df3['K_pred_QSPR+SR'])\n",
    "plt.xlabel('Experimental Values')\n",
    "plt.ylabel('QSPR + SR Predictions')\n",
    "plt.title('Experimental vs QSPR + SR Predictions')\n",
    "plt.plot([df3['K_real'].min(), df3['K_real'].max()],\n",
    "            [df3['K_real'].min(), df3['K_real'].max()], 'r--')  # Add a trendline\n",
    "plt.show()"
   ]
  },
  {
   "cell_type": "code",
   "execution_count": 131,
   "id": "8637821c",
   "metadata": {},
   "outputs": [
    {
     "name": "stdout",
     "output_type": "stream",
     "text": [
      "R2_SR: 0.8796360071320077\n",
      "RMSE_SR: 0.004149367360369955\n",
      "MAE_SR: 0.003678477239809669\n"
     ]
    }
   ],
   "source": [
    "df3_sr = df3.dropna()\n",
    "print('R2_SR:', r2_score(df3_sr['K_real'], df3_sr['K_pred_SR']))\n",
    "print('RMSE_SR:', np.sqrt(mean_squared_error(df3_sr['K_real'], df3_sr['K_pred_SR'])))\n",
    "print('MAE_SR:', np.mean(np.abs(df3_sr['K_real'] - df3_sr['K_pred_SR'])))"
   ]
  },
  {
   "cell_type": "code",
   "execution_count": 132,
   "id": "e24aaf37",
   "metadata": {},
   "outputs": [
    {
     "data": {
      "image/png": "[encoded data removed]",
      "text/plain": [
       "<Figure size 800x600 with 1 Axes>"
      ]
     },
     "metadata": {},
     "output_type": "display_data"
    }
   ],
   "source": [
    "# Draw parity plot with trendline\n",
    "plt.figure(figsize=(8, 6))\n",
    "plt.scatter(df3_sr['K_real'], df3_sr['K_pred_SR'])\n",
    "plt.xlabel('Experimental Values')\n",
    "plt.ylabel('SR Predictions')\n",
    "plt.plot([df3_sr['K_real'].min(), df3_sr['K_pred_SR'].max()], \n",
    "         [df3_sr['K_real'].min(), df3_sr['K_pred_SR'].max()], 'r--')  # Add a trendline\n",
    "plt.show()"
   ]
  },
  {
   "cell_type": "code",
   "execution_count": 133,
   "id": "c12134ef",
   "metadata": {},
   "outputs": [
    {
     "name": "stdout",
     "output_type": "stream",
     "text": [
      "R2_QSPR: 0.9520285752971747\n",
      "RMSE_QSPR: 0.005312771536636953\n",
      "MAE_QSPR: 0.0032628827810639023\n"
     ]
    }
   ],
   "source": [
    "df4 = pd.read_excel('../report/results.xlsx', sheet_name=2)\n",
    "print('R2_QSPR:', r2_score(df4['K_real'], df4['K_pred_QSPR+SR']))\n",
    "print('RMSE_QSPR:', np.sqrt(mean_squared_error(df4['K_real'], df4['K_pred_QSPR+SR'])))\n",
    "print('MAE_QSPR:', np.mean(np.abs(df4['K_real'] - df4['K_pred_QSPR+SR'])))"
   ]
  },
  {
   "cell_type": "code",
   "execution_count": 134,
   "id": "f8e7d0aa",
   "metadata": {},
   "outputs": [
    {
     "data": {
      "image/png": "[encoded data removed]",
      "text/plain": [
       "<Figure size 800x600 with 1 Axes>"
      ]
     },
     "metadata": {},
     "output_type": "display_data"
    }
   ],
   "source": [
    "# Draw parity plot with trendline for SR\n",
    "plt.figure(figsize=(8, 6))\n",
    "plt.scatter(df4['K_real'], df4['K_pred_QSPR+SR'])\n",
    "plt.xlabel('Experimental Values')\n",
    "plt.ylabel('QSPR + SR Predictions')\n",
    "plt.plot([df4['K_real'].min(), df4['K_pred_QSPR+SR'].max()],\n",
    "         [df4['K_real'].min(), df4['K_pred_QSPR+SR'].max()], 'r--')  # Add a trendline\n",
    "plt.show()"
   ]
  },
  {
   "cell_type": "code",
   "execution_count": null,
   "id": "83681364",
   "metadata": {},
   "outputs": [],
   "source": []
  }
 ],
 "metadata": {
  "kernelspec": {
   "display_name": "THERMO",
   "language": "python",
   "name": "python3"
  },
  "language_info": {
   "codemirror_mode": {
    "name": "ipython",
    "version": 3
   },
   "file_extension": ".py",
   "mimetype": "text/x-python",
   "name": "python",
   "nbconvert_exporter": "python",
   "pygments_lexer": "ipython3",
   "version": "3.12.9"
  }
 },
 "nbformat": 4,
 "nbformat_minor": 5
}
