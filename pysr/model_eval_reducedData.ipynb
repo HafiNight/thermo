{
 "cells": [
  {
   "cell_type": "code",
   "execution_count": 1,
   "metadata": {},
   "outputs": [
    {
     "name": "stdout",
     "output_type": "stream",
     "text": [
      "Detected IPython. Loading juliacall extension. See https://juliapy.github.io/PythonCall.jl/stable/compat/#IPython\n"
     ]
    }
   ],
   "source": [
    "#Data\n",
    "import pandas as pd\n",
    "import numpy as np\n",
    "import os\n",
    "import pickle\n",
    "\n",
    "#Plot\n",
    "import matplotlib.pyplot as plt\n",
    "\n",
    "#Model\n",
    "from pysr import PySRRegressor, TemplateExpressionSpec\n",
    "from sklearn.metrics import mean_squared_error, r2_score\n",
    "from sklearn.model_selection import train_test_split"
   ]
  },
  {
   "cell_type": "code",
   "execution_count": 466,
   "metadata": {},
   "outputs": [],
   "source": [
    "# # Import data\n",
    "# with open('data/df_tc.pkl', 'rb') as f:\n",
    "#     df = pickle.load(f)\n",
    "# df['K_reduced'] = df['K'] - df['mAKA'] - df['mBKB']"
   ]
  },
  {
   "cell_type": "code",
   "execution_count": 467,
   "metadata": {},
   "outputs": [],
   "source": [
    "# Import data without glyxerol-methanol, K_reduced\n",
    "with open('data/df_filtered_reduced.pkl', 'rb') as f:\n",
    "    df = pickle.load(f)"
   ]
  },
  {
   "cell_type": "code",
   "execution_count": 468,
   "metadata": {},
   "outputs": [],
   "source": [
    "# # Condition where KB > KA\n",
    "# swap_mask = df['KB'] > df['KA']\n",
    "\n",
    "# # Swap values where condition is met\n",
    "# df.loc[swap_mask, ['KA', 'KB']] = df.loc[swap_mask, ['KB', 'KA']].values\n",
    "# df.loc[swap_mask, ['mA', 'mB']] = df.loc[swap_mask, ['mB', 'mA']].values"
   ]
  },
  {
   "cell_type": "code",
   "execution_count": null,
   "metadata": {},
   "outputs": [],
   "source": [
    "# Condition where KB > KA\n",
    "swap_mask = df['KB'] > df['KA']\n",
    "\n",
    "# Swap values where condition is met\n",
    "df_new.loc[swap_mask, ['KA', 'KB']] = df_new.loc[swap_mask, ['KB', 'KA']].values\n",
    "df_new.loc[swap_mask, ['mA', 'mB']] = df_new.loc[swap_mask, ['mB', 'mA']].values\n",
    "df_new.loc[swap_mask, ['Tr_A', 'Tr_B']] = df_new.loc[swap_mask, ['Tr_B', 'Tr_A']].values"
   ]
  },
  {
   "cell_type": "code",
   "execution_count": 469,
   "metadata": {},
   "outputs": [],
   "source": [
    "df['mix'] = df['compA'] + df['compB']\n",
    "mixtures = df['mix'].unique()\n",
    "\n",
    "train_mix, test_mix = train_test_split(mixtures, test_size=0.3, random_state=42)\n",
    "\n",
    "df = df[df['P'] != 77000]\n",
    "X_columns = ['mA', 'mB', 'KA', 'KB', 'Tr_A', 'Tr_B', 'mAKA', 'mBKB', 'Tr_mix']\n",
    "X = df[X_columns]\n",
    "y = df['K_reduced']\n",
    "\n",
    "train_df = df[df['mix'].isin(train_mix)]\n",
    "test_df = df[df['mix'].isin(test_mix)]\n",
    "\n",
    "X_train = train_df[X_columns]\n",
    "y_train = train_df['K_reduced']\n",
    "X_test = test_df[X_columns]\n",
    "y_test = test_df['K_reduced']"
   ]
  },
  {
   "cell_type": "code",
   "execution_count": 470,
   "metadata": {},
   "outputs": [],
   "source": [
    "# # Path to the 'outputs' folder\n",
    "# path_ref = 'logs'\n",
    "\n",
    "# # Get a list of folder names inside the 'outputs' folder (only from 100 onwards)\n",
    "# folder_names_ref = os.listdir(path_ref)\n",
    "\n",
    "# runtotal = len(folder_names_ref) - 1\n",
    "# red_runs = runtotal - 99\n",
    "\n",
    "# # Path to the 'outputs' folder\n",
    "# path = 'outputs'\n",
    "\n",
    "# # Get a list of folder names inside the 'outputs' folder\n",
    "# folder_names = [os.path.join(path,f).replace('\\\\', '/') for f in os.listdir(path) if os.path.isdir(os.path.join(path, f))]\n",
    "# folder_names_red = folder_names[-red_runs:]\n",
    "# folder_names_red"
   ]
  },
  {
   "cell_type": "code",
   "execution_count": 471,
   "metadata": {},
   "outputs": [
    {
     "data": {
      "text/plain": [
       "['linux_outputs/10K_red/20250407_145313_33rUrV',\n",
       " 'linux_outputs/10K_red/20250407_154456_WxKJnd',\n",
       " 'linux_outputs/10K_red/20250407_163101_ATxW33',\n",
       " 'linux_outputs/10K_red/20250407_170632_zSlYa0',\n",
       " 'linux_outputs/10K_red/20250408_100608_0qGS3E',\n",
       " 'linux_outputs/10K_red/20250408_104259_Hh5m06',\n",
       " 'linux_outputs/10K_red/20250408_112111_0YVijh',\n",
       " 'linux_outputs/10K_red/20250408_120046_xi7TEt',\n",
       " 'linux_outputs/10K_red/20250408_130140_ZcCakH',\n",
       " 'linux_outputs/10K_red/20250408_133735_bx1il9',\n",
       " 'linux_outputs/10K_red/20250408_141618_TDnkvh',\n",
       " 'linux_outputs/10K_red/20250408_144919_gGolrq',\n",
       " 'linux_outputs/10K_red/20250414_101045_fleC2F',\n",
       " 'linux_outputs/10K_red/20250414_165657_5ZjeOo',\n",
       " 'linux_outputs/10K_red/20250415_095251_v7OogZ',\n",
       " 'linux_outputs/10K_red/20250415_142840_1aNxVf',\n",
       " 'linux_outputs/10K_red/20250430_103309_BV4HyP',\n",
       " 'linux_outputs/10K_red/20250430_140015_S3Eqqh',\n",
       " 'linux_outputs/10K_red/20250430_150532_fKSsHs',\n",
       " 'linux_outputs/10K_red/20250430_152609_b3zCLN',\n",
       " 'linux_outputs/10K_red/20250506_172713_tvJdDy']"
      ]
     },
     "execution_count": 471,
     "metadata": {},
     "output_type": "execute_result"
    }
   ],
   "source": [
    "# Read linux outputs\n",
    "# Path to the 'outputs' folder\n",
    "path = 'linux_outputs/10K_red'\n",
    "# Get a list of folder names inside the 'outputs' folder\n",
    "folder_names = [os.path.join(path,f).replace('\\\\', '/') for f in os.listdir(path) if os.path.isdir(os.path.join(path, f))]\n",
    "folder_names_red = folder_names\n",
    "folder_names_red"
   ]
  },
  {
   "cell_type": "code",
   "execution_count": 472,
   "metadata": {},
   "outputs": [
    {
     "name": "stderr",
     "output_type": "stream",
     "text": [
      "Attempting to load model from linux_outputs\\10K_red\\20250407_145313_33rUrV\\checkpoint.pkl...\n",
      "Attempting to load model from linux_outputs\\10K_red\\20250407_154456_WxKJnd\\checkpoint.pkl...\n",
      "Attempting to load model from linux_outputs\\10K_red\\20250407_163101_ATxW33\\checkpoint.pkl...\n",
      "Attempting to load model from linux_outputs\\10K_red\\20250407_170632_zSlYa0\\checkpoint.pkl...\n",
      "Attempting to load model from linux_outputs\\10K_red\\20250408_100608_0qGS3E\\checkpoint.pkl...\n",
      "Attempting to load model from linux_outputs\\10K_red\\20250408_104259_Hh5m06\\checkpoint.pkl...\n",
      "Attempting to load model from linux_outputs\\10K_red\\20250408_112111_0YVijh\\checkpoint.pkl...\n",
      "Attempting to load model from linux_outputs\\10K_red\\20250408_120046_xi7TEt\\checkpoint.pkl...\n",
      "Attempting to load model from linux_outputs\\10K_red\\20250408_130140_ZcCakH\\checkpoint.pkl...\n",
      "Attempting to load model from linux_outputs\\10K_red\\20250408_133735_bx1il9\\checkpoint.pkl...\n",
      "Attempting to load model from linux_outputs\\10K_red\\20250408_141618_TDnkvh\\checkpoint.pkl...\n",
      "Attempting to load model from linux_outputs\\10K_red\\20250408_144919_gGolrq\\checkpoint.pkl...\n",
      "Attempting to load model from linux_outputs\\10K_red\\20250414_101045_fleC2F\\checkpoint.pkl...\n",
      "Attempting to load model from linux_outputs\\10K_red\\20250414_165657_5ZjeOo\\checkpoint.pkl...\n",
      "Attempting to load model from linux_outputs\\10K_red\\20250415_095251_v7OogZ\\checkpoint.pkl...\n",
      "Attempting to load model from linux_outputs\\10K_red\\20250415_142840_1aNxVf\\checkpoint.pkl...\n",
      "Attempting to load model from linux_outputs\\10K_red\\20250430_103309_BV4HyP\\checkpoint.pkl...\n",
      "Attempting to load model from linux_outputs\\10K_red\\20250430_140015_S3Eqqh\\checkpoint.pkl...\n",
      "Attempting to load model from linux_outputs\\10K_red\\20250430_150532_fKSsHs\\checkpoint.pkl...\n",
      "Attempting to load model from linux_outputs\\10K_red\\20250430_152609_b3zCLN\\checkpoint.pkl...\n",
      "Attempting to load model from linux_outputs\\10K_red\\20250506_172713_tvJdDy\\checkpoint.pkl...\n"
     ]
    }
   ],
   "source": [
    "equations = []\n",
    "y_preds = []\n",
    "rmses = []\n",
    "r2_scores = []\n",
    "failed_folders = []  # To keep track of folders that fail to load or produce predictions\n",
    "error_messages = []  # To store error messages\n",
    "\n",
    "for folder in folder_names_red:\n",
    "    try:\n",
    "        # Attempt to load the model from the specified folder\n",
    "        model = PySRRegressor.from_file(run_directory=folder)\n",
    "        \n",
    "        # If the model is loaded, perform the calculations\n",
    "        best_equation = model.get_best().equation\n",
    "        equations.append(best_equation)\n",
    "        \n",
    "        y_pred = model.predict(X_test) #Switch between X_train and X_test\n",
    "        y_preds.append(y_pred)\n",
    "        \n",
    "        rmse = np.sqrt(mean_squared_error(y_test, y_pred)) # Switch between y_train and y_test\n",
    "        rmses.append(rmse)\n",
    "        \n",
    "        r2 = r2_score(y_test, y_pred) # Switch between y_train and y_test\n",
    "        r2_scores.append(r2)\n",
    "    \n",
    "    except Exception as e:\n",
    "        # If an error occurs, store the folder and the error message\n",
    "        failed_folders.append(folder)\n",
    "        error_message = str(e)\n",
    "        error_messages.append(error_message)\n",
    "        print(f\"Error in folder {folder}: {error_message}\")\n",
    "        \n",
    "        # Append custom message based on the error\n",
    "        if \"Ran out of input\" in error_message:\n",
    "            equations.append(\"Ran out of input\")\n",
    "        else:\n",
    "            equations.append(\"Run failed\")\n",
    "        \n",
    "        # Append default values when the process fails\n",
    "        rmses.append(1)\n",
    "        r2_scores.append(0)\n",
    "        y_preds.append(1)"
   ]
  },
  {
   "cell_type": "code",
   "execution_count": 473,
   "metadata": {},
   "outputs": [
    {
     "data": {
      "text/plain": [
       "[]"
      ]
     },
     "execution_count": 473,
     "metadata": {},
     "output_type": "execute_result"
    }
   ],
   "source": [
    "error_messages"
   ]
  },
  {
   "cell_type": "code",
   "execution_count": 474,
   "metadata": {},
   "outputs": [],
   "source": [
    "# # Single model inspect\n",
    "# model = PySRRegressor.from_file(run_directory=folder_names[-1]) # last run\n",
    "# best_equation = model.get_best().equation\n",
    "# y_pred = model.predict(X_test)\n",
    "# rmse = np.sqrt(mean_squared_error(y_test, y_pred))\n",
    "# r2 = r2_score(y_test, y_pred)\n",
    "# print(f\"RMSE: {rmse}\")\n",
    "# print(f\"R2 Score: {r2}\")"
   ]
  },
  {
   "cell_type": "code",
   "execution_count": 475,
   "metadata": {},
   "outputs": [],
   "source": [
    "# model.get_best().equation"
   ]
  },
  {
   "cell_type": "code",
   "execution_count": 476,
   "metadata": {},
   "outputs": [
    {
     "name": "stderr",
     "output_type": "stream",
     "text": [
      "C:\\Users\\leth\\AppData\\Local\\Temp\\ipykernel_24580\\423734697.py:5: SettingWithCopyWarning: \n",
      "A value is trying to be set on a copy of a slice from a DataFrame.\n",
      "Try using .loc[row_indexer,col_indexer] = value instead\n",
      "\n",
      "See the caveats in the documentation: https://pandas.pydata.org/pandas-docs/stable/user_guide/indexing.html#returning-a-view-versus-a-copy\n",
      "  test_df.loc[:, 'mAKA+mBKB'] = test_df['mA'] * test_df['KA'] + test_df['mB'] * test_df['KB']\n"
     ]
    }
   ],
   "source": [
    "# Change y_test to original K instead of K_reduced\n",
    "y_test = test_df['K']\n",
    "\n",
    "# Calculate additive term\n",
    "test_df.loc[:, 'mAKA+mBKB'] = test_df['mA'] * test_df['KA'] + test_df['mB'] * test_df['KB']\n",
    "term = test_df['mAKA+mBKB'].to_numpy()\n",
    "\n",
    "# # For using train to evaluate the model\n",
    "# y_train = train_df['K']\n",
    "# train_df.loc[:, 'mAKA+mBKB'] = train_df['mA'] * train_df['KA'] + train_df['mB'] * train_df['KB']\n",
    "# term = train_df['mAKA+mBKB'].to_numpy()"
   ]
  },
  {
   "cell_type": "code",
   "execution_count": 477,
   "metadata": {},
   "outputs": [],
   "source": [
    "# Calculate whole equation errors\n",
    "true_y_preds = []\n",
    "for y_pred in y_preds:\n",
    "    true_y_pred = y_pred + term\n",
    "    true_y_preds.append(true_y_pred)"
   ]
  },
  {
   "cell_type": "code",
   "execution_count": 478,
   "metadata": {},
   "outputs": [
    {
     "name": "stdout",
     "output_type": "stream",
     "text": [
      "Equation 1: ((mBKB * ((KB - (KA * 0.9046222)) * (abs((Tr_mix * 0.301831) - KB) - 0.035186045))) * mA) * 128.88832\n",
      "Equation 2: ((sqrt(abs((KA * KA) - ((Tr_A / KB) * 0.010006066))) * -0.7621054) + sqrt(abs((0.006022795 / KB) - (KA * KA)))) * (KA * ((mA * abs(mB * (KB - KA))) * -93.397415))\n",
      "Equation 3: (mA * (mB * (KB - KA))) * (0.5418495 - (0.010028673 / ((Tr_A * -1.362892) + (KA * 3.5067956))))\n",
      "Equation 4: ((mB * mA) * -0.6605629) * abs(abs(KA + -0.17922655) - abs(KB + -0.17922774))\n",
      "Equation 5: (mBKB * mA) * -0.08055717\n",
      "Equation 6: (mBKB * -17.971628) * (sqrt(0.20960015 - KB) * abs((mAKA + mBKB) - KB))\n",
      "Equation 7: abs(KA - KB) * ((((9.41914e-5 / (KA + -0.20952305)) + -0.58187085) * mA) * mB)\n",
      "Equation 8: sqrt(abs(mA * ((KA - KB) * ((0.2096026 - KA) * ((0.12978531 - KA) * mB))))) * -1.5901082\n",
      "Equation 9: (-0.6781911 - (0.0045934073 / (KA + (KB - 0.35398537)))) * abs((mA * (KB - KA)) * mB)\n",
      "Equation 10: (mA * (abs(KB - KA) * mB)) * -0.4322214\n",
      "Equation 11: ((mA * mB) / log(sqrt(abs(KA + (-0.1116908 / Tr_A))) * 49.205006)) * (KB - KA)\n",
      "Equation 12: mA * (mB * ((((KA - 0.21010044) * 0.5620762) * (KB - KA)) / (KA - 0.20914946)))\n",
      "Equation 13: (mBKB * ((0.3532681 - (-0.03412288 / (KB - 0.20956247))) * (0.20963304 - KB))) * (mA / KA)\n",
      "Equation 14: (KB + -0.14086412) * ((mB * abs((KB - KA) * mA)) * (0.47813085 / (0.13909857 - KB)))\n",
      "Equation 15: ((KB - KA) * (((mA / (KA + -0.20911534)) * (KA + -0.21014714)) * mB)) * 0.55679554\n",
      "Equation 16: mB * (((-0.0041289935 / ((KB + KA) + -0.3535854)) + -0.66945875) * (mA * abs(KB - KA)))\n",
      "Equation 17: (mB * mA) * ((abs((KB - KA) * (KB - 0.20966384)) / (0.20954196 - KB)) * -0.585045)\n",
      "Equation 18: abs((KB - 0.20962204) * (((mA * (KB - KA)) * mB) * -0.5910566)) / (KB - 0.20957974)\n",
      "Equation 19: abs(mA * (KB - KA)) * ((mB / ((0.20958355 - KB) * 1.6900644)) * (KB - 0.20961791))\n",
      "Equation 20: ((KB - 0.20964462) * 0.5878449) * ((mB * mA) * (abs(KB - KA) / (0.20955919 - KB)))\n",
      "Equation 21: abs(KA - KB) * ((mA * mB) / (((0.20915876 - KA) * -1.8249446) / (0.21011937 - KA)))\n"
     ]
    }
   ],
   "source": [
    "for i,e in enumerate(equations, start=1):\n",
    "    print(f\"Equation {i}: {e}\")"
   ]
  },
  {
   "cell_type": "code",
   "execution_count": 479,
   "metadata": {},
   "outputs": [],
   "source": [
    "# #Screen laptop outputs\n",
    "# true_rmses = []\n",
    "# true_r2 = []\n",
    "# for i, y in enumerate(true_y_preds, start=100):  # Start numbering from 100\n",
    "#     rmse = np.sqrt(mean_squared_error(y_test, y))\n",
    "#     r2 = r2_score(y_test, y)\n",
    "#     true_rmses.append(rmse)\n",
    "#     true_r2.append(r2)\n",
    "    \n",
    "#     print(f\"Run {i}:\")\n",
    "#     print(f\"RMSE: {rmse}\")\n",
    "#     print(f\"R2 Score: {r2}\")\n",
    "#     print(\"______________\")  # Separator line"
   ]
  },
  {
   "cell_type": "code",
   "execution_count": 480,
   "metadata": {},
   "outputs": [
    {
     "name": "stdout",
     "output_type": "stream",
     "text": [
      "Run 1:\n",
      "RMSE: 0.0058220555066541705\n",
      "R2 Score: 0.9305644162009947\n",
      "______________\n",
      "Run 2:\n",
      "RMSE: 0.0037296870167878578\n",
      "R2 Score: 0.9715046375391101\n",
      "______________\n",
      "Run 3:\n",
      "RMSE: 0.00345402395324348\n",
      "R2 Score: 0.9755611875727052\n",
      "______________\n",
      "Run 4:\n",
      "RMSE: 0.003531994641959527\n",
      "R2 Score: 0.974445376888162\n",
      "______________\n",
      "Run 5:\n",
      "RMSE: 0.005671790970600173\n",
      "R2 Score: 0.9341023629740723\n",
      "______________\n",
      "Run 6:\n",
      "RMSE: 0.009281205131288111\n",
      "R2 Score: 0.8235433008263453\n",
      "______________\n",
      "Run 7:\n",
      "RMSE: 0.0033774818238249903\n",
      "R2 Score: 0.9766323279440675\n",
      "______________\n",
      "Run 8:\n",
      "RMSE: 0.0034977287658158503\n",
      "R2 Score: 0.9749388113598975\n",
      "______________\n",
      "Run 9:\n",
      "RMSE: 0.0035019996378337684\n",
      "R2 Score: 0.9748775724918112\n",
      "______________\n",
      "Run 10:\n",
      "RMSE: 0.0034174972780574653\n",
      "R2 Score: 0.9760753406546754\n",
      "______________\n",
      "Run 11:\n",
      "RMSE: 0.003460794040993702\n",
      "R2 Score: 0.9754652906967473\n",
      "______________\n",
      "Run 12:\n",
      "RMSE: 0.0033956246979257618\n",
      "R2 Score: 0.9763806046531941\n",
      "______________\n",
      "Run 13:\n",
      "RMSE: 0.00501537022507756\n",
      "R2 Score: 0.9484729353415027\n",
      "______________\n",
      "Run 14:\n",
      "RMSE: 0.003697287123219792\n",
      "R2 Score: 0.9719975671452724\n",
      "______________\n",
      "Run 15:\n",
      "RMSE: 0.003396504873477867\n",
      "R2 Score: 0.9763683583594707\n",
      "______________\n",
      "Run 16:\n",
      "RMSE: 0.003490804021071905\n",
      "R2 Score: 0.9750379445733734\n",
      "______________\n",
      "Run 17:\n",
      "RMSE: 0.003374168856227867\n",
      "R2 Score: 0.9766781480997829\n",
      "______________\n",
      "Run 18:\n",
      "RMSE: 0.003376675934979215\n",
      "R2 Score: 0.9766434779668098\n",
      "______________\n",
      "Run 19:\n",
      "RMSE: 0.0033769581643099695\n",
      "R2 Score: 0.976639573433955\n",
      "______________\n",
      "Run 20:\n",
      "RMSE: 0.0033753056773413535\n",
      "R2 Score: 0.9766624303090603\n",
      "______________\n",
      "Run 21:\n",
      "RMSE: 0.0033914252629651783\n",
      "R2 Score: 0.976438989657105\n",
      "______________\n"
     ]
    }
   ],
   "source": [
    "# Screen linux outputs\n",
    "true_rmses = []\n",
    "true_r2 = []\n",
    "for i, y in enumerate(true_y_preds, start=1):  # Start numbering from 100 for laptop; 0 for linux\n",
    "    rmse = np.sqrt(mean_squared_error(y_test, y)) # Change to y_train for training set\n",
    "    r2 = r2_score(y_test, y) # Change to y_train for training set\n",
    "    true_rmses.append(rmse)\n",
    "    true_r2.append(r2)\n",
    "    \n",
    "    print(f\"Run {i}:\")\n",
    "    print(f\"RMSE: {rmse}\")\n",
    "    print(f\"R2 Score: {r2}\")\n",
    "    print(\"______________\")  # Separator line"
   ]
  },
  {
   "cell_type": "code",
   "execution_count": 481,
   "metadata": {},
   "outputs": [
    {
     "name": "stdout",
     "output_type": "stream",
     "text": [
      "Run 1: 0.9305644162009947\n",
      "Run 2: 0.9715046375391101\n",
      "Run 3: 0.9755611875727052\n",
      "Run 4: 0.974445376888162\n",
      "Run 5: 0.9341023629740723\n",
      "Run 6: 0.8235433008263453\n",
      "Run 7: 0.9766323279440675\n",
      "Run 8: 0.9749388113598975\n",
      "Run 9: 0.9748775724918112\n",
      "Run 10: 0.9760753406546754\n",
      "Run 11: 0.9754652906967473\n",
      "Run 12: 0.9763806046531941\n",
      "Run 13: 0.9484729353415027\n",
      "Run 14: 0.9719975671452724\n",
      "Run 15: 0.9763683583594707\n",
      "Run 16: 0.9750379445733734\n",
      "Run 17: 0.9766781480997829\n",
      "Run 18: 0.9766434779668098\n",
      "Run 19: 0.976639573433955\n",
      "Run 20: 0.9766624303090603\n",
      "Run 21: 0.976438989657105\n"
     ]
    }
   ],
   "source": [
    "run_r2 = []\n",
    "for i, e in enumerate(true_r2, start=1):\n",
    "    run_number = i + 1\n",
    "    run_r2.append([run_number,e])\n",
    "    print(f\"Run {i}: {e}\")"
   ]
  },
  {
   "cell_type": "code",
   "execution_count": 482,
   "metadata": {},
   "outputs": [
    {
     "name": "stdout",
     "output_type": "stream",
     "text": [
      "Run 17: 0.9766781480997829\n",
      "Run 20: 0.9766624303090603\n",
      "Run 18: 0.9766434779668098\n",
      "Run 19: 0.976639573433955\n",
      "Run 7: 0.9766323279440675\n",
      "Run 21: 0.976438989657105\n",
      "Run 12: 0.9763806046531941\n",
      "Run 15: 0.9763683583594707\n",
      "Run 10: 0.9760753406546754\n",
      "Run 3: 0.9755611875727052\n"
     ]
    }
   ],
   "source": [
    "top10_r2 = sorted(run_r2, key=lambda x: x[1], reverse=True)[:10]\n",
    "for i, e in top10_r2:\n",
    "    print(f\"Run {i-1}: {e}\")"
   ]
  },
  {
   "cell_type": "code",
   "execution_count": 483,
   "metadata": {},
   "outputs": [
    {
     "name": "stdout",
     "output_type": "stream",
     "text": [
      "Best Run: 17\n",
      "Highest R2 Score: 0.9766781480997829\n",
      "Corresponding RMSE: 0.003374168856227867\n",
      "Equation: (mB * mA) * ((abs((KB - KA) * (KB - 0.20966384)) / (0.20954196 - KB)) * -0.585045) \n"
     ]
    }
   ],
   "source": [
    "# Finding the index and value of the highest R2 score\n",
    "best_index = np.argmax(true_r2)  # Gets index of the max R2 score\n",
    "best_r2 = true_r2[best_index]\n",
    "best_rmse = true_rmses[best_index]\n",
    "best_run = best_index + 1  # Adjusting index to match run number (+100 if laptop run, +1 if linux run)\n",
    "\n",
    "print(f\"Best Run: {best_run}\")\n",
    "print(f\"Highest R2 Score: {best_r2}\")\n",
    "print(f\"Corresponding RMSE: {best_rmse}\")\n",
    "print(f\"Equation: {equations[best_index]} \")"
   ]
  },
  {
   "cell_type": "code",
   "execution_count": 484,
   "metadata": {},
   "outputs": [
    {
     "ename": "RuntimeError",
     "evalue": "Couldn't find equation file! The equation search likely exited before a single iteration completed.",
     "output_type": "error",
     "traceback": [
      "\u001b[31m---------------------------------------------------------------------------\u001b[39m",
      "\u001b[31mFileNotFoundError\u001b[39m                         Traceback (most recent call last)",
      "\u001b[36mFile \u001b[39m\u001b[32mc:\\Users\\leth\\AppData\\Local\\anaconda3\\envs\\THERMO2\\Lib\\site-packages\\pysr\\sr.py:2584\u001b[39m, in \u001b[36mPySRRegressor._read_equation_file\u001b[39m\u001b[34m(self)\u001b[39m\n\u001b[32m   2583\u001b[39m     filename = \u001b[38;5;28mstr\u001b[39m(\u001b[38;5;28mself\u001b[39m.get_equation_file())\n\u001b[32m-> \u001b[39m\u001b[32m2584\u001b[39m \u001b[38;5;28;01mwith\u001b[39;00m \u001b[38;5;28;43mopen\u001b[39;49m\u001b[43m(\u001b[49m\u001b[43mfilename\u001b[49m\u001b[43m,\u001b[49m\u001b[43m \u001b[49m\u001b[33;43m\"\u001b[39;49m\u001b[33;43mr\u001b[39;49m\u001b[33;43m\"\u001b[39;49m\u001b[43m,\u001b[49m\u001b[43m \u001b[49m\u001b[43mencoding\u001b[49m\u001b[43m=\u001b[49m\u001b[33;43m\"\u001b[39;49m\u001b[33;43mutf-8\u001b[39;49m\u001b[33;43m\"\u001b[39;49m\u001b[43m)\u001b[49m \u001b[38;5;28;01mas\u001b[39;00m f:\n\u001b[32m   2585\u001b[39m     buf = f.read()\n",
      "\u001b[31mFileNotFoundError\u001b[39m: [Errno 2] No such file or directory: 'outputs\\\\20250506_172713_tvJdDy\\\\hall_of_fame.csv'",
      "\nDuring handling of the above exception, another exception occurred:\n",
      "\u001b[31mRuntimeError\u001b[39m                              Traceback (most recent call last)",
      "\u001b[36mCell\u001b[39m\u001b[36m \u001b[39m\u001b[32mIn[484]\u001b[39m\u001b[32m, line 10\u001b[39m\n\u001b[32m      7\u001b[39m     \u001b[38;5;28;01mreturn\u001b[39;00m \u001b[32m0\u001b[39m\n\u001b[32m      9\u001b[39m \u001b[38;5;66;03m# Extract the first symbolic equation found by PySR\u001b[39;00m\n\u001b[32m---> \u001b[39m\u001b[32m10\u001b[39m best_equation = \u001b[43mmodel\u001b[49m\u001b[43m.\u001b[49m\u001b[43msympy\u001b[49m\u001b[43m(\u001b[49m\u001b[43m)\u001b[49m  \u001b[38;5;66;03m# This is a list of SymPy expressions\u001b[39;00m\n\u001b[32m     12\u001b[39m \u001b[38;5;66;03m# Calculate its depth\u001b[39;00m\n\u001b[32m     13\u001b[39m depth = get_depth(best_equation)\n",
      "\u001b[36mFile \u001b[39m\u001b[32mc:\\Users\\leth\\AppData\\Local\\anaconda3\\envs\\THERMO2\\Lib\\site-packages\\pysr\\sr.py:2438\u001b[39m, in \u001b[36mPySRRegressor.sympy\u001b[39m\u001b[34m(self, index)\u001b[39m\n\u001b[32m   2434\u001b[39m \u001b[38;5;28;01mif\u001b[39;00m \u001b[38;5;129;01mnot\u001b[39;00m \u001b[38;5;28mself\u001b[39m.expression_spec_.supports_sympy:\n\u001b[32m   2435\u001b[39m     \u001b[38;5;28;01mraise\u001b[39;00m \u001b[38;5;167;01mValueError\u001b[39;00m(\n\u001b[32m   2436\u001b[39m         \u001b[33mf\u001b[39m\u001b[33m\"\u001b[39m\u001b[33m`expression_spec=\u001b[39m\u001b[38;5;132;01m{\u001b[39;00m\u001b[38;5;28mself\u001b[39m.expression_spec_\u001b[38;5;132;01m}\u001b[39;00m\u001b[33m` does not support sympy export.\u001b[39m\u001b[33m\"\u001b[39m\n\u001b[32m   2437\u001b[39m     )\n\u001b[32m-> \u001b[39m\u001b[32m2438\u001b[39m \u001b[38;5;28;43mself\u001b[39;49m\u001b[43m.\u001b[49m\u001b[43mrefresh\u001b[49m\u001b[43m(\u001b[49m\u001b[43m)\u001b[49m\n\u001b[32m   2439\u001b[39m best_equation = \u001b[38;5;28mself\u001b[39m.get_best(index=index)\n\u001b[32m   2440\u001b[39m \u001b[38;5;28;01mif\u001b[39;00m \u001b[38;5;28misinstance\u001b[39m(best_equation, \u001b[38;5;28mlist\u001b[39m):\n",
      "\u001b[36mFile \u001b[39m\u001b[32mc:\\Users\\leth\\AppData\\Local\\anaconda3\\envs\\THERMO2\\Lib\\site-packages\\pysr\\sr.py:2314\u001b[39m, in \u001b[36mPySRRegressor.refresh\u001b[39m\u001b[34m(self, run_directory)\u001b[39m\n\u001b[32m   2312\u001b[39m     \u001b[38;5;28mself\u001b[39m._clear_equation_file_contents()\n\u001b[32m   2313\u001b[39m check_is_fitted(\u001b[38;5;28mself\u001b[39m, attributes=[\u001b[33m\"\u001b[39m\u001b[33mrun_id_\u001b[39m\u001b[33m\"\u001b[39m, \u001b[33m\"\u001b[39m\u001b[33moutput_directory_\u001b[39m\u001b[33m\"\u001b[39m])\n\u001b[32m-> \u001b[39m\u001b[32m2314\u001b[39m \u001b[38;5;28mself\u001b[39m.equations_ = \u001b[38;5;28;43mself\u001b[39;49m\u001b[43m.\u001b[49m\u001b[43mget_hof\u001b[49m\u001b[43m(\u001b[49m\u001b[43m)\u001b[49m\n",
      "\u001b[36mFile \u001b[39m\u001b[32mc:\\Users\\leth\\AppData\\Local\\anaconda3\\envs\\THERMO2\\Lib\\site-packages\\pysr\\sr.py:2628\u001b[39m, in \u001b[36mPySRRegressor.get_hof\u001b[39m\u001b[34m(self, search_output)\u001b[39m\n\u001b[32m   2623\u001b[39m should_read_from_file = (\n\u001b[32m   2624\u001b[39m     \u001b[38;5;129;01mnot\u001b[39;00m \u001b[38;5;28mhasattr\u001b[39m(\u001b[38;5;28mself\u001b[39m, \u001b[33m\"\u001b[39m\u001b[33mequation_file_contents_\u001b[39m\u001b[33m\"\u001b[39m)\n\u001b[32m   2625\u001b[39m     \u001b[38;5;129;01mor\u001b[39;00m \u001b[38;5;28mself\u001b[39m.equation_file_contents_ \u001b[38;5;129;01mis\u001b[39;00m \u001b[38;5;28;01mNone\u001b[39;00m\n\u001b[32m   2626\u001b[39m )\n\u001b[32m   2627\u001b[39m \u001b[38;5;28;01mif\u001b[39;00m should_read_from_file:\n\u001b[32m-> \u001b[39m\u001b[32m2628\u001b[39m     \u001b[38;5;28mself\u001b[39m.equation_file_contents_ = \u001b[38;5;28;43mself\u001b[39;49m\u001b[43m.\u001b[49m\u001b[43m_read_equation_file\u001b[49m\u001b[43m(\u001b[49m\u001b[43m)\u001b[49m\n\u001b[32m   2630\u001b[39m _validate_export_mappings(\u001b[38;5;28mself\u001b[39m.extra_jax_mappings, \u001b[38;5;28mself\u001b[39m.extra_torch_mappings)\n\u001b[32m   2632\u001b[39m equation_file_contents = cast(\u001b[38;5;28mlist\u001b[39m[pd.DataFrame], \u001b[38;5;28mself\u001b[39m.equation_file_contents_)\n",
      "\u001b[36mFile \u001b[39m\u001b[32mc:\\Users\\leth\\AppData\\Local\\anaconda3\\envs\\THERMO2\\Lib\\site-packages\\pysr\\sr.py:2590\u001b[39m, in \u001b[36mPySRRegressor._read_equation_file\u001b[39m\u001b[34m(self)\u001b[39m\n\u001b[32m   2587\u001b[39m         all_outputs = [\u001b[38;5;28mself\u001b[39m._postprocess_dataframe(pd.read_csv(StringIO(buf)))]\n\u001b[32m   2589\u001b[39m \u001b[38;5;28;01mexcept\u001b[39;00m \u001b[38;5;167;01mFileNotFoundError\u001b[39;00m:\n\u001b[32m-> \u001b[39m\u001b[32m2590\u001b[39m     \u001b[38;5;28;01mraise\u001b[39;00m \u001b[38;5;167;01mRuntimeError\u001b[39;00m(\n\u001b[32m   2591\u001b[39m         \u001b[33m\"\u001b[39m\u001b[33mCouldn\u001b[39m\u001b[33m'\u001b[39m\u001b[33mt find equation file! The equation search likely exited \u001b[39m\u001b[33m\"\u001b[39m\n\u001b[32m   2592\u001b[39m         \u001b[33m\"\u001b[39m\u001b[33mbefore a single iteration completed.\u001b[39m\u001b[33m\"\u001b[39m\n\u001b[32m   2593\u001b[39m     )\n\u001b[32m   2594\u001b[39m \u001b[38;5;28;01mreturn\u001b[39;00m all_outputs\n",
      "\u001b[31mRuntimeError\u001b[39m: Couldn't find equation file! The equation search likely exited before a single iteration completed."
     ]
    }
   ],
   "source": [
    "import sympy\n",
    "\n",
    "# Function to calculate the depth of the symbolic expression\n",
    "def get_depth(expr):\n",
    "    if isinstance(expr, sympy.Basic):\n",
    "        return 1 + max([get_depth(arg) for arg in expr.args], default=0)\n",
    "    return 0\n",
    "\n",
    "# Extract the first symbolic equation found by PySR\n",
    "best_equation = model.sympy()  # This is a list of SymPy expressions\n",
    "\n",
    "# Calculate its depth\n",
    "depth = get_depth(best_equation)\n",
    "print(f\"The depth of the equation is: {depth}\")"
   ]
  },
  {
   "cell_type": "markdown",
   "metadata": {},
   "source": [
    "MISC"
   ]
  },
  {
   "cell_type": "code",
   "execution_count": null,
   "metadata": {},
   "outputs": [],
   "source": [
    "# X_all = df[X_columns]\n",
    "# y_all = df['K']\n",
    "\n",
    "# # Calculate additive term\n",
    "# df.loc[:, 'mAKA+mBKB'] = df['mA'] * df['KA'] + df['mB'] * df['KB']\n",
    "# term_all = df['mAKA+mBKB'].to_numpy()\n",
    "# term_all"
   ]
  },
  {
   "cell_type": "code",
   "execution_count": null,
   "metadata": {},
   "outputs": [],
   "source": [
    "# model = PySRRegressor.from_file(run_directory=folder_names_red[6])\n",
    "# y_pred_all = model.predict(X_all)\n",
    "# y_pred_all = np.array(y_pred_all)\n",
    "# y_pred_all"
   ]
  },
  {
   "cell_type": "code",
   "execution_count": null,
   "metadata": {},
   "outputs": [],
   "source": [
    "# true_y_pred_all = y_pred_all + term_all"
   ]
  },
  {
   "cell_type": "code",
   "execution_count": null,
   "metadata": {},
   "outputs": [],
   "source": [
    "# rmse_all = np.sqrt(mean_squared_error(true_y_pred_all, y_all))\n",
    "# r2_all = r2_score(true_y_pred_all, y_all)\n",
    "# print(f\"RMSE: {rmse_all}\")\n",
    "# print(f\"R2 Score: {r2_all}\")"
   ]
  },
  {
   "cell_type": "code",
   "execution_count": null,
   "metadata": {},
   "outputs": [],
   "source": [
    "# true_y_pred_all = pd.Series(true_y_pred_all, name='true_y_pred_all')\n",
    "# # Save X_all to a CSV file\n",
    "# X_all.to_csv('data_exports/X_all.csv', index=False)\n",
    "\n",
    "# # Save y_all to a CSV file\n",
    "# y_all.to_csv('data_exports/y_all.csv', index=False)\n",
    "\n",
    "# # Save true_y_pred_all to a CSV file\n",
    "# true_y_pred_all.to_csv('data_exports/true_y_pred_all.csv', index=False)"
   ]
  },
  {
   "cell_type": "code",
   "execution_count": null,
   "metadata": {},
   "outputs": [],
   "source": [
    "# df_all = pd.concat([X_all, y_all], axis=1)\n",
    "# # Save df_all to a CSV file\n",
    "# df_all.to_csv('data_exports/df_all.csv', index=False)"
   ]
  },
  {
   "cell_type": "markdown",
   "metadata": {},
   "source": [
    "Filippov and Novoselova (Optimized C)"
   ]
  },
  {
   "cell_type": "code",
   "execution_count": null,
   "metadata": {},
   "outputs": [],
   "source": [
    "# y_fan = X_all['KA']*X_all['mA'] + X_all['KB']*X_all['mB'] - 0.5*abs(X_all['KA'] - X_all['KB'])*X_all['mA']*X_all['mB']"
   ]
  },
  {
   "cell_type": "code",
   "execution_count": null,
   "metadata": {},
   "outputs": [],
   "source": [
    "# # Save y_fan to a CSV file\n",
    "# y_fan.to_csv('data_exports/y_fan.csv', index=False)"
   ]
  },
  {
   "cell_type": "markdown",
   "metadata": {},
   "source": [
    "Jamieson and Irving "
   ]
  },
  {
   "cell_type": "code",
   "execution_count": null,
   "metadata": {},
   "outputs": [],
   "source": [
    "# def calc_K(df):\n",
    "#     if df['KA'] > df['KB']:\n",
    "#         return df['KA'] * df['mA'] + df['KB'] * df['mB'] - (df['KA'] - df['KB']) * df['mA'] * (1 - np.sqrt(df['mA']))\n",
    "#     else:\n",
    "#         return df['KA'] * df['mA'] + df['KB'] * df['mB'] - (df['KB'] - df['KA']) * df['mB'] * (1 - np.sqrt(df['mB']))\n",
    "\n",
    "# y_jai = X_all.apply(calc_K, axis=1)"
   ]
  },
  {
   "cell_type": "code",
   "execution_count": null,
   "metadata": {},
   "outputs": [],
   "source": [
    "# # Save y_jai to a CSV file\n",
    "# y_jai.to_csv('data_exports/y_jai.csv', index=False)"
   ]
  }
 ],
 "metadata": {
  "kernelspec": {
   "display_name": "THERMO2",
   "language": "python",
   "name": "python3"
  },
  "language_info": {
   "codemirror_mode": {
    "name": "ipython",
    "version": 3
   },
   "file_extension": ".py",
   "mimetype": "text/x-python",
   "name": "python",
   "nbconvert_exporter": "python",
   "pygments_lexer": "ipython3",
   "version": "3.12.9"
  }
 },
 "nbformat": 4,
 "nbformat_minor": 2
}
